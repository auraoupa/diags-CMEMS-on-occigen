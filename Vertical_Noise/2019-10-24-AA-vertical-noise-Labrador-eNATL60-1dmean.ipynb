{
 "cells": [
  {
   "cell_type": "code",
   "execution_count": 2,
   "metadata": {},
   "outputs": [
    {
     "name": "stderr",
     "output_type": "stream",
     "text": [
      "/scratch/cnt0024/hmg2840/albert7a/anaconda3/lib/python3.7/site-packages/dask/config.py:168: YAMLLoadWarning: calling yaml.load() without Loader=... is deprecated, as the default Loader is unsafe. Please read https://msg.pyyaml.org/load for full details.\n",
      "  data = yaml.load(f.read()) or {}\n",
      "/scratch/cnt0024/hmg2840/albert7a/anaconda3/lib/python3.7/site-packages/distributed/bokeh/core.py:74: UserWarning: \n",
      "Failed to start diagnostics server on port 8787. [Errno 13] Permission denied\n",
      "  warnings.warn(\"\\n\" + msg)\n"
     ]
    }
   ],
   "source": [
    "from dask_jobqueue import SLURMCluster \n",
    "from dask.distributed import Client \n",
    "  \n",
    "cluster = SLURMCluster(cores=28,name='make_profiles',walltime='00:30:00',job_extra=['--constraint=HSW24','--exclusive','--nodes=1'],memory='120GB',interface='ib0') \n",
    "\n",
    "cluster.scale(102)   "
   ]
  },
  {
   "cell_type": "code",
   "execution_count": 3,
   "metadata": {},
   "outputs": [
    {
     "data": {
      "text/html": [
       "<table style=\"border: 2px solid white;\">\n",
       "<tr>\n",
       "<td style=\"vertical-align: top; border: 0px solid white\">\n",
       "<h3>Client</h3>\n",
       "<ul>\n",
       "  <li><b>Scheduler: </b>tcp://172.30.100.2:40427\n",
       "  <li><b>Dashboard: </b><a href='http://172.30.100.2:44887/status' target='_blank'>http://172.30.100.2:44887/status</a>\n",
       "</ul>\n",
       "</td>\n",
       "<td style=\"vertical-align: top; border: 0px solid white\">\n",
       "<h3>Cluster</h3>\n",
       "<ul>\n",
       "  <li><b>Workers: </b>0</li>\n",
       "  <li><b>Cores: </b>0</li>\n",
       "  <li><b>Memory: </b>0 B</li>\n",
       "</ul>\n",
       "</td>\n",
       "</tr>\n",
       "</table>"
      ],
      "text/plain": [
       "<Client: scheduler='tcp://172.30.100.2:40427' processes=0 cores=0>"
      ]
     },
     "execution_count": 3,
     "metadata": {},
     "output_type": "execute_result"
    }
   ],
   "source": [
    "from dask.distributed import Client\n",
    "client = Client(cluster)\n",
    "client"
   ]
  },
  {
   "cell_type": "code",
   "execution_count": 4,
   "metadata": {},
   "outputs": [
    {
     "name": "stdout",
     "output_type": "stream",
     "text": [
      "             JOBID PARTITION     NAME     USER ST       TIME  NODES NODELIST(REASON)\r\n",
      "           7562459      allc make_pro albert7a PD       0:00      1 (None)\r\n",
      "           7562460      allc make_pro albert7a PD       0:00      1 (None)\r\n",
      "           7562461      allc make_pro albert7a PD       0:00      1 (None)\r\n",
      "           7562462      allc make_pro albert7a PD       0:00      1 (None)\r\n",
      "           7562183       all nemo_occ albert7a PD       0:00     49 (Resources)\r\n"
     ]
    }
   ],
   "source": [
    "!squeue -u albert7a"
   ]
  },
  {
   "cell_type": "code",
   "execution_count": 5,
   "metadata": {},
   "outputs": [
    {
     "name": "stderr",
     "output_type": "stream",
     "text": [
      "/scratch/cnt0024/hmg2840/albert7a/anaconda3/lib/python3.7/site-packages/xarray/core/merge.py:16: FutureWarning: The Panel class is removed from pandas. Accessing it from the top-level namespace will also be removed in the next version\n",
      "  PANDAS_TYPES = (pd.Series, pd.DataFrame, pd.Panel)\n"
     ]
    },
    {
     "data": {
      "application/javascript": [
       "IPython.notebook.set_autosave_interval(60000)"
      ]
     },
     "metadata": {},
     "output_type": "display_data"
    },
    {
     "name": "stdout",
     "output_type": "stream",
     "text": [
      "Autosaving every 60 seconds\n"
     ]
    }
   ],
   "source": [
    "from matplotlib import pyplot as plt\n",
    "import matplotlib.cm as cm\n",
    "import numpy.ma as ma\n",
    "import numpy as np\n",
    "import netCDF4 as nc4\n",
    "import xarray as xr\n",
    "import sys\n",
    "sys.path.insert(0,\"/home/albert7a/lib/python/pypago\")\n",
    "import os\n",
    "import matplotlib\n",
    "import pylab as plt\n",
    "import numpy as np\n",
    "import pyproj\n",
    "\n",
    "%matplotlib inline\n",
    "%autosave 60"
   ]
  },
  {
   "cell_type": "code",
   "execution_count": 6,
   "metadata": {},
   "outputs": [],
   "source": [
    "#data and grid\n",
    "gridname='/store/CT1/hmg2840/lbrodeau/eNATL60/eNATL60-I/eNATL60_coordinates_v3.nc4'\n",
    "dgrid=xr.open_dataset(gridname)\n",
    "navlon=dgrid['nav_lon']\n",
    "navlat=dgrid['nav_lat']\n",
    "\n",
    "wname='/store/CT1/hmg2840/lbrodeau/eNATL60/eNATL60-BLBT02-S/00529201-00540000/eNATL60-BLBT02_1h_20090903_20090907_gridW_20090907-20090907.nc'\n",
    "dw=xr.open_dataset(wname,chunks={'x':1000,'y':1000,'time_counter':1,'depthw':1})\n",
    "w=dw['vovecrtz']\n",
    "depthw=dw['depthw']"
   ]
  },
  {
   "cell_type": "code",
   "execution_count": 7,
   "metadata": {},
   "outputs": [],
   "source": [
    "ee = pyproj.Geod(ellps='GRS80')"
   ]
  },
  {
   "cell_type": "code",
   "execution_count": 8,
   "metadata": {},
   "outputs": [],
   "source": [
    "def section_from_debut_fin_points(lon_ar7w_debut,lat_ar7w_debut,lon_ar7w_fin,lat_ar7w_fin,navlon,navlat,var):\n",
    "    \n",
    "    ee = pyproj.Geod(ellps='GRS80') # ellipsoid used for distance calculation\n",
    "    \n",
    "    def distance(lat1,lon1,lat2,lon2,geoid):\n",
    "        az12,az21,dist = geoid.inv(lon1,lat1,lon2,lat2)\n",
    "        return dist\n",
    "\n",
    "    def loclatlon(navlon,navlat,lon,lat):\n",
    "        ind_debut=np.where((navlon>lon-0.1)&(navlon<lon+0.1)&(navlat>lat-0.1)&(navlat<lat+0.1))\n",
    "        dis=np.empty(len(ind_debut[0]))\n",
    "        for ii in range(0,len(ind_debut[0])):\n",
    "            dis[ii]=np.abs(distance(lat,lon,navlat[ind_debut[0][ii],ind_debut[1][ii]],navlon[ind_debut[0][ii],ind_debut[1][ii]],ee))\n",
    "        ind=np.argmin(dis)\n",
    "        i_debut=ind_debut[0][ind]\n",
    "        j_debut=ind_debut[1][ind]\n",
    "    \n",
    "        return i_debut,j_debut\n",
    " \n",
    "    def secfromdebuttofin(i_debut,j_debut,i_fin,j_fin):\n",
    "        off=1\n",
    "        fromi=np.atleast_1d(i_debut)+off\n",
    "        fromj=np.atleast_1d(j_debut)+off\n",
    "        toi=np.atleast_1d(i_fin)+off\n",
    "        toj=np.atleast_1d(j_fin)+off\n",
    "\n",
    "        veci=fromi\n",
    "        vecj=fromj\n",
    "\n",
    "        a=(toj-fromj)/((toi-fromi).astype(np.float))\n",
    "        b=toj-toi*a\n",
    "\n",
    "        while not((veci[-1]==toi) & (vecj[-1]==toj)):\n",
    "            newi=veci[-1]+np.sign(toi-fromi)\n",
    "            newj=vecj[-1]+np.sign(toj-fromj)\n",
    "            y=a*newi+b\n",
    "            x=(newj-b)/(a.astype(np.float))\n",
    "\n",
    "            if ((np.abs(x-veci[-1]))>=(np.abs(y-vecj[-1]))):\n",
    "                veci=np.append(veci,newi)\n",
    "                vecj=np.append(vecj,vecj[-1])\n",
    "            else:\n",
    "                veci=np.append(veci,veci[-1])\n",
    "                vecj=np.append(vecj,newj)\n",
    "\n",
    "        veci=veci.astype(np.int)-off\n",
    "        vecj=vecj.astype(np.int)-off\n",
    "\n",
    "        dis=np.empty(len(veci))\n",
    "        for ii in range(0,len(veci)):\n",
    "            dis[ii]=np.abs(distance(navlat[veci[0],vecj[0]],navlon[veci[0],vecj[0]],navlat[veci[ii],vecj[ii]],navlon[veci[ii],vecj[ii]],ee))\n",
    "    \n",
    "        return veci,vecj,dis\n",
    "            \n",
    "    i_debut,j_debut=loclatlon(navlon,navlat,lon_ar7w_debut,lat_ar7w_debut)\n",
    "    i_fin,j_fin=loclatlon(navlon,navlat,lon_ar7w_fin,lat_ar7w_fin)\n",
    "\n",
    "    veci,vecj,dis=secfromdebuttofin(i_debut,j_debut,i_fin,j_fin)\n",
    "\n",
    "    if np.ndim(var) == 4:\n",
    "        [nt,nk,nj,ni]=var.shape\n",
    "        var_sec=np.empty([nt,nk,len(veci)])\n",
    "        for ii in range(0,len(veci)):\n",
    "            var_sec[:,:,ii]=var[:,:,veci[ii],vecj[ii]]\n",
    "    if np.ndim(var) == 3:\n",
    "        [nt,nj,ni]=var.shape\n",
    "        var_sec=np.empty([nt,len(veci)])\n",
    "        for ii in range(0,len(veci)):\n",
    "            var_sec[:,ii]=var[:,veci[ii],vecj[ii]]\n",
    "    \n",
    "    return veci,vecj,dis,var_sec"
   ]
  },
  {
   "cell_type": "code",
   "execution_count": null,
   "metadata": {},
   "outputs": [
    {
     "name": "stderr",
     "output_type": "stream",
     "text": [
      "distributed.utils_perf - WARNING - full garbage collections took 10% CPU time recently (threshold: 10%)\n",
      "distributed.utils_perf - WARNING - full garbage collections took 10% CPU time recently (threshold: 10%)\n"
     ]
    }
   ],
   "source": [
    "#Labrador section beginning and end point\n",
    "\n",
    "lon_ar7w_debut=np.array(-56).astype(np.float)\n",
    "lon_ar7w_fin=np.array(-48).astype(np.float)\n",
    "\n",
    "lat_ar7w_debut=np.array(53.5).astype(np.float)\n",
    "lat_ar7w_fin=np.array(60.5).astype(np.float)\n",
    "\n",
    "veci,vecj,dis,wlabrador=section_from_debut_fin_points(lon_ar7w_debut,lat_ar7w_debut,lon_ar7w_fin,lat_ar7w_fin,navlon,navlat,w.mean(dim='time_counter'))\n",
    "wlabrador_smooth=np.ones(wlabrador.shape)\n",
    "wlabrador_vert_variance=np.ones(wlabrador.shape)\n",
    "\n",
    "delta=1e-6\n",
    "for ii in range(len(veci)):\n",
    "    profil=wlabrador[:,ii]\n",
    "    window_len=3\n",
    "    s=np.r_[profil[window_len-1:0:-1],profil,profil[-2:-window_len-1:-1]]\n",
    "    whanning=np.hanning(window_len)\n",
    "    yhanning=np.convolve(whanning/whanning.sum(),s,mode='valid')\n",
    "    wlabrador_smooth[:,ii]=yhanning[0:300]\n",
    "    wlabrador_vert_variance[:,ii]=np.sqrt(((wlabrador[:,ii]-wlabrador_smooth[:,ii])**2)/((wlabrador[:,ii]+delta)**2))\n",
    "\n",
    "\n",
    "ma_wlabrador = np.ma.array (wlabrador, mask=np.isnan(wlabrador))\n",
    "ma_wlabrador_smooth = np.ma.array (wlabrador_smooth, mask=np.isnan(wlabrador_smooth))\n",
    "ma_wlabrador_vert_variance = np.ma.array (wlabrador_vert_variance, mask=np.isnan(wlabrador_vert_variance))\n",
    "matplotlib.rcParams.update({'font.size': 22})\n",
    "\n",
    "plt.figure(figsize=(30,40))\n",
    "\n",
    "ax=plt.subplot(3,1,1)\n",
    "cmap2 = plt.cm.seismic\n",
    "cmap2.set_under('b')\n",
    "cmap2.set_over('r')\n",
    "pcolor=plt.pcolor(1e-3*dis,depthw,86400*ma_wlabrador[:,:],cmap=cmap2,vmin=-10,vmax=10)\n",
    "plt.gca().invert_yaxis()\n",
    "cbar = plt.colorbar(pcolor,orientation='horizontal',shrink=0.75,label='m/day')\n",
    "ax.set_ylim(3800,0)\n",
    "#ax.set_xlim(100,900)\n",
    "plt.xlabel('distance to Canadian land in km')\n",
    "plt.ylabel('depth in m')\n",
    "plt.title('Vertical Velocity Labrador cross-section')\n",
    "\n",
    "ax=plt.subplot(3,1,2)\n",
    "cmap2 = plt.cm.seismic\n",
    "cmap2.set_under('b')\n",
    "cmap2.set_over('r')\n",
    "pcolor=plt.pcolor(1e-3*dis,depthw,86400*(ma_wlabrador[:,:]-ma_wlabrador_smooth[:,:]),cmap=cmap2,vmin=-10,vmax=10)\n",
    "plt.gca().invert_yaxis()\n",
    "cbar = plt.colorbar(pcolor,orientation='horizontal',shrink=0.75,label='m/day')\n",
    "ax.set_ylim(3800,0)\n",
    "#ax.set_xlim(100,900)\n",
    "plt.xlabel('distance to Canadian land in km')\n",
    "plt.ylabel('depth in m')\n",
    "plt.title('De-smoothed Vertical Velocity Labrador cross-section')\n",
    "\n",
    "ax=plt.subplot(3,1,3)\n",
    "cmap2 = plt.cm.seismic\n",
    "cmap2.set_under('b')\n",
    "cmap2.set_over('r')\n",
    "pcolor=plt.pcolor(1e-3*dis,depthw,86400*np.abs(ma_wlabrador[:,:]-ma_wlabrador_smooth[:,:]),cmap='YlOrBr',vmin=0,vmax=10)\n",
    "plt.gca().invert_yaxis()\n",
    "cbar = plt.colorbar(pcolor,orientation='horizontal',shrink=0.75,label='rms')\n",
    "ax.set_ylim(3800,0)\n",
    "#ax.set_xlim(100,900)\n",
    "plt.xlabel('distance to Canadian land in km')\n",
    "plt.ylabel('depth in m')\n",
    "plt.title('Vertical variance Labrador cross-section')"
   ]
  },
  {
   "cell_type": "code",
   "execution_count": null,
   "metadata": {},
   "outputs": [],
   "source": [
    "#icescotland section beginning and end point\n",
    "\n",
    "lon_icescotland_debut=np.array(-14.205).astype(np.float)\n",
    "lon_icescotland_fin=np.array(-3.319).astype(np.float)\n",
    "\n",
    "lat_icescotland_debut=np.array(64.72).astype(np.float)\n",
    "lat_icescotland_fin=np.array(58.988).astype(np.float)\n",
    "\n",
    "veci,vecj,dis,wicescotland=section_from_debut_fin_points(lon_icescotland_debut,lat_icescotland_debut,lon_icescotland_fin,lat_icescotland_fin,navlon,navlat,w)\n",
    "wicescotland_smooth=np.ones(wicescotland.shape)\n",
    "\n",
    "for ii in range(len(veci)):\n",
    "    profil=wicescotland[0,:,ii]\n",
    "    window_len=3\n",
    "    s=np.r_[profil[window_len-1:0:-1],profil,profil[-2:-window_len-1:-1]]\n",
    "    whanning=np.hanning(window_len)\n",
    "    yhanning=np.convolve(whanning/whanning.sum(),s,mode='valid')\n",
    "    wicescotland_smooth[0,:,ii]=yhanning[0:75]\n",
    "\n",
    "ma_wicescotland = np.ma.array (wicescotland, mask=np.isnan(wicescotland))\n",
    "ma_wicescotland_smooth = np.ma.array (wicescotland_smooth, mask=np.isnan(wicescotland_smooth))\n",
    "\n",
    "matplotlib.rcParams.update({'font.size': 22})\n",
    "\n",
    "plt.figure(figsize=(30,25))\n",
    "\n",
    "ax=plt.subplot(2,1,1)\n",
    "cmap2 = plt.cm.seismic\n",
    "cmap2.set_under('b')\n",
    "cmap2.set_over('r')\n",
    "pcolor=plt.pcolor(1e-3*dis,depthw,86400*ma_wicescotland[0,:,:],cmap=cmap2,vmin=-10,vmax=10)\n",
    "plt.gca().invert_yaxis()\n",
    "cbar = plt.colorbar(pcolor,orientation='horizontal',shrink=0.75,label='m/day')\n",
    "ax.set_ylim(1500,0)\n",
    "#ax.set_xlim(100,900)\n",
    "plt.xlabel('distance to Iceland in km')\n",
    "plt.ylabel('depth in m')\n",
    "plt.title('Vertical Velocity cross-section');\n",
    "\n",
    "ax=plt.subplot(2,1,2)\n",
    "cmap2 = plt.cm.seismic\n",
    "cmap2.set_under('b')\n",
    "cmap2.set_over('r')\n",
    "pcolor=plt.pcolor(1e-3*dis,depthw,86400*np.abs(ma_wicescotland[0,:,:]-ma_wicescotland_smooth[0,:,:]),cmap='YlOrBr',vmin=0,vmax=10)\n",
    "plt.gca().invert_yaxis()\n",
    "cbar = plt.colorbar(pcolor,orientation='horizontal',shrink=0.75,label='rms')\n",
    "ax.set_ylim(1500,0)\n",
    "#ax.set_xlim(100,900)\n",
    "plt.xlabel('distance to Iceland in km')\n",
    "plt.ylabel('depth in m')\n",
    "plt.title('Indicator for grid noise in Vertical velocities cross-section');"
   ]
  },
  {
   "cell_type": "code",
   "execution_count": null,
   "metadata": {},
   "outputs": [],
   "source": []
  }
 ],
 "metadata": {
  "kernelspec": {
   "display_name": "Python 3",
   "language": "python",
   "name": "python3"
  },
  "language_info": {
   "codemirror_mode": {
    "name": "ipython",
    "version": 3
   },
   "file_extension": ".py",
   "mimetype": "text/x-python",
   "name": "python",
   "nbconvert_exporter": "python",
   "pygments_lexer": "ipython3",
   "version": "3.7.3"
  }
 },
 "nbformat": 4,
 "nbformat_minor": 1
}
