{
 "cells": [
  {
   "cell_type": "code",
   "execution_count": null,
   "metadata": {},
   "outputs": [],
   "source": [
    "!montage EU36-MPC001_y2012m03_fine_scale_variance_vorticity.png  EU36-MPC002_y2012m03_fine_scale_variance_vorticity.png EU36-MPC003_y2012m03_fine_scale_variance_vorticity.png NATL60EU-CJM165_y2013m03_fine_scale_variance_vorticity.png EU36-MPC001_y2012m09_fine_scale_variance_vorticity.png  EU36-MPC002_y2012m09_fine_scale_variance_vorticity.png EU36-MPC003_y2012m09_fine_scale_variance_vorticity.png NATL60EU-CJM165_y2013m09_fine_scale_variance_vorticity.png -geometry 800x900 -tile 4x2 -quality 100 EU36-MPC001_MPC002_MPC003_NATL60_y2012_fine_scale_variance_vorticity.png\n",
    "\n",
    "!convert EU36-MPC001_MPC002_MPC003_NATL60_y2012_fine_scale_variance_vorticity.png -trim -bordercolor White -border 20x10 +repage EU36-MPC001_MPC002_MPC003_NATL60_y2012_fine_scale_variance_vorticity.png\n",
    "\n"
   ]
  },
  {
   "cell_type": "code",
   "execution_count": 2,
   "metadata": {},
   "outputs": [],
   "source": [
    "!montage EU36-MPC001_y2012m03_fine_scale_variance_vorticity.png  EU36-MPC002_y2012m03_fine_scale_variance_vorticity.png EU36-MPC003_y2012m03_fine_scale_variance_vorticity.png NATL60EU-CJM165_y2013m03_fine_scale_variance_vorticity.png EU36-MPC001_y2012m09_fine_scale_variance_vorticity.png  EU36-MPC002_y2012m09_fine_scale_variance_vorticity.png EU36-MPC003_y2012m09_fine_scale_variance_vorticity.png NATL60EU-CJM165_y2013m09_fine_scale_variance_vorticity.png -geometry 1400x900 -tile 4x2 -quality 100 EU36-MPC001_MPC002_MPC003_NATL60_y2012_fine_scale_variance_vorticity.png\n",
    "\n",
    "!convert EU36-MPC001_MPC002_MPC003_NATL60_y2012_fine_scale_variance_vorticity.png -trim -bordercolor White -border 20x10 +repage EU36-MPC001_MPC002_MPC003_NATL60_y2012_fine_scale_variance_vorticity.png\n",
    "\n"
   ]
  },
  {
   "cell_type": "code",
   "execution_count": null,
   "metadata": {},
   "outputs": [],
   "source": []
  }
 ],
 "metadata": {
  "kernelspec": {
   "display_name": "Python 3",
   "language": "python",
   "name": "python3"
  },
  "language_info": {
   "codemirror_mode": {
    "name": "ipython",
    "version": 3
   },
   "file_extension": ".py",
   "mimetype": "text/x-python",
   "name": "python",
   "nbconvert_exporter": "python",
   "pygments_lexer": "ipython3",
   "version": "3.7.3"
  }
 },
 "nbformat": 4,
 "nbformat_minor": 2
}
