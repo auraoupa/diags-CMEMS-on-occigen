{
 "cells": [
  {
   "cell_type": "code",
   "execution_count": 10,
   "metadata": {},
   "outputs": [],
   "source": [
    "for file in ['EU36-MPC001_y2012m03_fine_scale_variance_vorticity.png','EU36-MPC003_y2012m03_fine_scale_variance_vorticity.png','EU36-MPC002_y2012m03_fine_scale_variance_vorticity.png','NATL60EU-CJM165_y2013m03_fine_scale_variance_vorticity.png','EU36-MPC001_y2012m09_fine_scale_variance_vorticity.png','EU36-MPC003_y2012m09_fine_scale_variance_vorticity.png','EU36-MPC002_y2012m09_fine_scale_variance_vorticity.png','NATL60EU-CJM165_y2013m09_fine_scale_variance_vorticity.png']:\n",
    "    !convert $file -trim -bordercolor White -border 20x10 +repage $file"
   ]
  },
  {
   "cell_type": "code",
   "execution_count": 11,
   "metadata": {},
   "outputs": [],
   "source": [
    "!montage EU36-MPC001_y2012m03_fine_scale_variance_vorticity.png  EU36-MPC003_y2012m03_fine_scale_variance_vorticity.png EU36-MPC002_y2012m03_fine_scale_variance_vorticity.png NATL60EU-CJM165_y2013m03_fine_scale_variance_vorticity.png EU36-MPC001_y2012m09_fine_scale_variance_vorticity.png  EU36-MPC003_y2012m09_fine_scale_variance_vorticity.png EU36-MPC002_y2012m09_fine_scale_variance_vorticity.png NATL60EU-CJM165_y2013m09_fine_scale_variance_vorticity.png -geometry 800x900 -tile 4x2 -quality 100 EU36-MPC001_MPC002_MPC003_NATL60_y2012_fine_scale_variance_vorticity.png\n",
    "\n",
    "!convert EU36-MPC001_MPC002_MPC003_NATL60_y2012_fine_scale_variance_vorticity.png -trim -bordercolor White -border 20x10 +repage EU36-MPC001_MPC002_MPC003_NATL60_y2012_fine_scale_variance_vorticity.png\n",
    "\n"
   ]
  },
  {
   "cell_type": "code",
   "execution_count": 12,
   "metadata": {},
   "outputs": [],
   "source": [
    "for file in ['GS36-MPC001_y2012m03_fine_scale_variance_vorticity.png','GS36-MPC003_y2012m03_fine_scale_variance_vorticity.png','GS36-MPC002_y2012m03_fine_scale_variance_vorticity.png','NATL60GS-CJM165_y2013m03_fine_scale_variance_vorticity.png','GS36-MPC001_y2012m09_fine_scale_variance_vorticity.png','GS36-MPC003_y2012m09_fine_scale_variance_vorticity.png','GS36-MPC002_y2012m09_fine_scale_variance_vorticity.png','NATL60GS-CJM165_y2013m09_fine_scale_variance_vorticity.png']:\n",
    "    !convert $file -trim -bordercolor White -border 20x10 +repage $file"
   ]
  },
  {
   "cell_type": "code",
   "execution_count": 13,
   "metadata": {},
   "outputs": [],
   "source": [
    "!montage GS36-MPC001_y2012m03_fine_scale_variance_vorticity.png  GS36-MPC003_y2012m03_fine_scale_variance_vorticity.png GS36-MPC002_y2012m03_fine_scale_variance_vorticity.png NATL60GS-CJM165_y2013m03_fine_scale_variance_vorticity.png GS36-MPC001_y2012m09_fine_scale_variance_vorticity.png  GS36-MPC003_y2012m09_fine_scale_variance_vorticity.png GS36-MPC002_y2012m09_fine_scale_variance_vorticity.png NATL60GS-CJM165_y2013m09_fine_scale_variance_vorticity.png -geometry 1400x900 -tile 4x2 -quality 100 GS36-MPC001_MPC002_MPC003_NATL60_y2012_fine_scale_variance_vorticity.png\n",
    "\n",
    "!convert GS36-MPC001_MPC002_MPC003_NATL60_y2012_fine_scale_variance_vorticity.png -trim -bordercolor White -border 20x10 +repage GS36-MPC001_MPC002_MPC003_NATL60_y2012_fine_scale_variance_vorticity.png\n",
    "\n"
   ]
  },
  {
   "cell_type": "code",
   "execution_count": null,
   "metadata": {},
   "outputs": [],
   "source": []
  }
 ],
 "metadata": {
  "kernelspec": {
   "display_name": "Python 3",
   "language": "python",
   "name": "python3"
  },
  "language_info": {
   "codemirror_mode": {
    "name": "ipython",
    "version": 3
   },
   "file_extension": ".py",
   "mimetype": "text/x-python",
   "name": "python",
   "nbconvert_exporter": "python",
   "pygments_lexer": "ipython3",
   "version": "3.7.3"
  }
 },
 "nbformat": 4,
 "nbformat_minor": 2
}
