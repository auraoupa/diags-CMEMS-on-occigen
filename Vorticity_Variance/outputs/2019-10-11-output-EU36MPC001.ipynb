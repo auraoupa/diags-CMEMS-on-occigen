{
 "cells": [
  {
   "cell_type": "code",
   "execution_count": 1,
   "metadata": {
    "papermill": {
     "duration": 0.015876,
     "end_time": "2019-12-11T12:43:35.086226",
     "exception": false,
     "start_time": "2019-12-11T12:43:35.070350",
     "status": "completed"
    },
    "tags": [
     "parameters"
    ]
   },
   "outputs": [],
   "source": [
    "config='EU36'\n",
    "case='MPC001'\n",
    "freq='1d'\n",
    "\n",
    "year='2012'\n"
   ]
  },
  {
   "cell_type": "code",
   "execution_count": 2,
   "metadata": {
    "papermill": {
     "duration": 0.01272,
     "end_time": "2019-12-11T12:43:35.108723",
     "exception": false,
     "start_time": "2019-12-11T12:43:35.096003",
     "status": "completed"
    },
    "tags": [
     "injected-parameters"
    ]
   },
   "outputs": [],
   "source": [
    "# Parameters\n",
    "config = \"EU36\"\n",
    "case = \"MPC001\"\n"
   ]
  },
  {
   "cell_type": "code",
   "execution_count": 3,
   "metadata": {
    "papermill": {
     "duration": 23.720047,
     "end_time": "2019-12-11T12:43:58.836691",
     "exception": false,
     "start_time": "2019-12-11T12:43:35.116644",
     "status": "completed"
    },
    "tags": []
   },
   "outputs": [
    {
     "name": "stderr",
     "output_type": "stream",
     "text": [
      "/scratch/cnt0024/hmg2840/albert7a/anaconda3/lib/python3.7/site-packages/dask/config.py:168: YAMLLoadWarning: calling yaml.load() without Loader=... is deprecated, as the default Loader is unsafe. Please read https://msg.pyyaml.org/load for full details.\n",
      "  data = yaml.load(f.read()) or {}\n"
     ]
    },
    {
     "name": "stderr",
     "output_type": "stream",
     "text": [
      "/scratch/cnt0024/hmg2840/albert7a/anaconda3/lib/python3.7/site-packages/distributed/bokeh/core.py:74: UserWarning: \n",
      "Failed to start diagnostics server on port 8787. [Errno 13] Permission denied\n",
      "  warnings.warn(\"\\n\" + msg)\n"
     ]
    },
    {
     "data": {
      "text/html": [
       "<table style=\"border: 2px solid white;\">\n",
       "<tr>\n",
       "<td style=\"vertical-align: top; border: 0px solid white\">\n",
       "<h3>Client</h3>\n",
       "<ul>\n",
       "  <li><b>Scheduler: </b>tcp://127.0.0.1:38034\n",
       "  <li><b>Dashboard: </b><a href='http://127.0.0.1:40757/status' target='_blank'>http://127.0.0.1:40757/status</a>\n",
       "</ul>\n",
       "</td>\n",
       "<td style=\"vertical-align: top; border: 0px solid white\">\n",
       "<h3>Cluster</h3>\n",
       "<ul>\n",
       "  <li><b>Workers: </b>8</li>\n",
       "  <li><b>Cores: </b>48</li>\n",
       "  <li><b>Memory: </b>134.91 GB</li>\n",
       "</ul>\n",
       "</td>\n",
       "</tr>\n",
       "</table>"
      ],
      "text/plain": [
       "<Client: scheduler='tcp://127.0.0.1:38034' processes=8 cores=48>"
      ]
     },
     "execution_count": 3,
     "metadata": {},
     "output_type": "execute_result"
    }
   ],
   "source": [
    "import dask\n",
    "import dask.threaded\n",
    "import dask.multiprocessing\n",
    "from dask.distributed import Client\n",
    "\n",
    "c = Client()\n",
    "c"
   ]
  },
  {
   "cell_type": "code",
   "execution_count": 4,
   "metadata": {
    "papermill": {
     "duration": 21.128164,
     "end_time": "2019-12-11T12:44:19.975541",
     "exception": false,
     "start_time": "2019-12-11T12:43:58.847377",
     "status": "completed"
    },
    "tags": []
   },
   "outputs": [
    {
     "name": "stderr",
     "output_type": "stream",
     "text": [
      "/scratch/cnt0024/hmg2840/albert7a/anaconda3/lib/python3.7/site-packages/xarray/core/merge.py:16: FutureWarning: The Panel class is removed from pandas. Accessing it from the top-level namespace will also be removed in the next version\n",
      "  PANDAS_TYPES = (pd.Series, pd.DataFrame, pd.Panel)\n"
     ]
    }
   ],
   "source": [
    "## path for mdules\n",
    "\n",
    "import sys\n",
    "sys.path.insert(0,\"/scratch/cnt0024/hmg2840/albert7a/DEV/git/xscale\")\n",
    "import xscale\n",
    "\n",
    "sys.path.insert(0,\"/scratch/cnt0024/hmg2840/albert7a/DEV/git/diags-CMEMS-on-occigen/Vorticity_Variance/\")\n",
    "import GriddedData\n",
    "\n",
    "## imports\n",
    "\n",
    "import numpy as np\n",
    "import numpy.ma as ma\n",
    "import xarray as xr\n",
    "import time\n",
    "\n",
    "import cartopy.crs as ccrs\n",
    "import cartopy.feature as cfeature\n",
    "from cartopy.mpl.gridliner import LONGITUDE_FORMATTER, LATITUDE_FORMATTER\n",
    "\n",
    "import matplotlib.cm as mplcm\n",
    "seq_cmap = mplcm.Blues\n",
    "div_cmap = mplcm.seismic\n",
    "\n",
    "### quick plot\n",
    "import matplotlib.pyplot as plt\n",
    "\n",
    "import glob\n",
    "import os \n",
    "\n",
    "%matplotlib inline"
   ]
  },
  {
   "cell_type": "code",
   "execution_count": 5,
   "metadata": {
    "papermill": {
     "duration": 0.020163,
     "end_time": "2019-12-11T12:44:20.007525",
     "exception": false,
     "start_time": "2019-12-11T12:44:19.987362",
     "status": "completed"
    },
    "tags": []
   },
   "outputs": [],
   "source": [
    "if case == 'MPC001':\n",
    "    if config == 'EU36':\n",
    "        gridfile='/scratch/cnt0024/hmg2840/colombo/'+config+'/'+config+'-I/coordinates_'+config+'.nc'\n",
    "        maskfile='/scratch/cnt0024/hmg2840/colombo/'+config+'/'+config+'-I/'+config+'.L75_mesh_mask.nc'\n",
    "    if config == 'GS36':\n",
    "        gridfile='/scratch/cnt0024/hmg2840/albert7a/GS36.L75/GS36.L75-I/GS36_coordinates.nc'\n",
    "        maskfile='/scratch/cnt0024/hmg2840/albert7a/GS36.L75/GS36.L75-I/GS36.L75-MAA007_mesh_mask.nc'\n",
    "if case == 'MPC002':\n",
    "    if config == 'EU36':\n",
    "        gridfile='/scratch/cnt0024/hmg2840/colombo/EU36/EU36-I.L150_1/coordinates_EU36.nc'\n",
    "        maskfile='/scratch/cnt0024/hmg2840/colombo/EU36/EU36-I.L150_1/EU36.L150_1_mesh_mask.nc'\n",
    "    if config == 'GS36':\n",
    "        gridfile='/scratch/cnt0024/hmg2840/colombo/GS36/GS36-I.L150_1/GS36_coordinates.nc'\n",
    "        maskfile='/scratch/cnt0024/hmg2840/colombo/GS36/GS36-I.L150_1/GS36.L150_1_mesh_mask.nc'\n",
    "if case == 'MPC003':\n",
    "    if config == 'EU36':\n",
    "        gridfile='/scratch/cnt0024/hmg2840/colombo/EU36/EU36-I.L150_2/coordinates_EU36.nc'\n",
    "        maskfile='/scratch/cnt0024/hmg2840/colombo/EU36/EU36-I.L150_2/EU36.L150_2_mesh_mask.nc'\n",
    "    if config == 'GS36':\n",
    "        gridfile='/scratch/cnt0024/hmg2840/colombo/GS36/GS36-I.L150_2/GS36_coordinates.nc'\n",
    "        maskfile='/scratch/cnt0024/hmg2840/colombo/GS36/GS36-I.L150_2/GS36.L150_2_mesh_mask.nc'\n",
    " "
   ]
  },
  {
   "cell_type": "code",
   "execution_count": 6,
   "metadata": {
    "papermill": {
     "duration": 0.01469,
     "end_time": "2019-12-11T12:44:20.031771",
     "exception": false,
     "start_time": "2019-12-11T12:44:20.017081",
     "status": "completed"
    },
    "tags": []
   },
   "outputs": [],
   "source": [
    "## Dataset\n",
    "\n",
    "dirs=\"/scratch/cnt0024/hmg2840/colombo/GS36/GS36-MPC001-S/1d/2010/\"\n",
    "dirin=\"/scratch/cnt0024/hmg2840/colombo/GS36/GS36-I-Aur/\"\n"
   ]
  },
  {
   "cell_type": "code",
   "execution_count": 7,
   "metadata": {
    "papermill": {
     "duration": 1.448564,
     "end_time": "2019-12-11T12:44:21.490145",
     "exception": false,
     "start_time": "2019-12-11T12:44:20.041581",
     "status": "completed"
    },
    "tags": []
   },
   "outputs": [],
   "source": [
    "grid=xr.open_dataset(gridfile)\n",
    "navlat= grid['nav_lat']\n",
    "navlon= grid['nav_lon']\n"
   ]
  },
  {
   "cell_type": "code",
   "execution_count": 8,
   "metadata": {
    "papermill": {
     "duration": 0.017037,
     "end_time": "2019-12-11T12:44:21.518390",
     "exception": false,
     "start_time": "2019-12-11T12:44:21.501353",
     "status": "completed"
    },
    "tags": []
   },
   "outputs": [],
   "source": [
    "def filt(w):\n",
    "    win_box2D = w.window\n",
    "    win_box2D.set(window='hanning', cutoff=12, dim=['x', 'y'], n=[18, 18])\n",
    "    bw = win_box2D.boundary_weights(drop_dims=[])\n",
    "    w_LS = win_box2D.convolve(weights=bw)\n",
    "    w_SS=w-w_LS\n",
    "    return w_SS\n"
   ]
  },
  {
   "cell_type": "code",
   "execution_count": 9,
   "metadata": {
    "papermill": {
     "duration": 0.020687,
     "end_time": "2019-12-11T12:44:21.548499",
     "exception": false,
     "start_time": "2019-12-11T12:44:21.527812",
     "status": "completed"
    },
    "tags": []
   },
   "outputs": [],
   "source": [
    "def plot_fine_scale_variance(var,loncrs,latcrs,lon,lat,hpvarm,month,m,config,case):\n",
    "    ''' map of the averaged fine scale variance\n",
    "    '''\n",
    "    if config == 'EU36':\n",
    "        fig, ax = plt.subplots(1,1,figsize=(10,15))\n",
    "    if config == 'GS36':\n",
    "        fig, ax = plt.subplots(1,1,figsize=(15,10))\n",
    "    ax = plt.subplot(111,projection=ccrs.PlateCarree(central_longitude=0))\n",
    "    ax.autoscale(tight=True)\n",
    "    cont=np.isnan(hpvarm)\n",
    "    gl = ax.gridlines(draw_labels=True, linestyle=':', color='black',\n",
    "                      alpha=0.5)\n",
    "    gl.xformatter = LONGITUDE_FORMATTER\n",
    "    gl.yformatter = LATITUDE_FORMATTER\n",
    "    gl.xlabel_style = {'size': 25, 'color': 'gray'}\n",
    "    gl.ylabel_style = {'size': 25, 'color': 'gray'}\n",
    "    \n",
    "    ax.tick_params('both',labelsize=25)\n",
    "\n",
    "    pcolor = ax.pcolormesh(loncrs,latcrs,ma.masked_invalid(var),cmap=seq_cmap,vmin=0,vmax=0.1,alpha=1)\n",
    "    ax.contour(lon,lat,cont,alpha=0.5,linewidth=0.000001,antialiased=True,colors='black')\n",
    "    cbar = plt.colorbar(pcolor,orientation='horizontal',pad=0.1)\n",
    "    cbar.ax.tick_params(labelsize=35)\n",
    "    cbar.ax.tick_params(labelsize=25)\n",
    "    cbar.set_label('Small scales surface vorticity variance in '+month+' for '+config+'-'+case,fontsize=15)\n",
    "    plt.savefig('Plots/'+config+'-'+case+'_y'+year+'m'+m+'_fine_scale_variance_vorticity.png')\n",
    "  "
   ]
  },
  {
   "cell_type": "code",
   "execution_count": 10,
   "metadata": {
    "papermill": {
     "duration": 0.058934,
     "end_time": "2019-12-11T12:44:21.616548",
     "exception": false,
     "start_time": "2019-12-11T12:44:21.557614",
     "status": "completed"
    },
    "tags": []
   },
   "outputs": [],
   "source": [
    "def plot_vorticity_variance(month):\n",
    "    date_list=[]\n",
    "    if month == '03':\n",
    "        dayf=31\n",
    "    if month == '09':\n",
    "        dayf=30\n",
    "    for day in np.arange(1,dayf+1):\n",
    "        if day < 10:\n",
    "            date='y'+str(year)+'m'+str(month)+'d0'+str(day)\n",
    "        else:\n",
    "            date='y'+str(year)+'m'+str(month)+'d'+str(day)\n",
    "        date_list.append(date)\n",
    "    datadir='/scratch/cnt0024/hmg2840/colombo/'+str(config)+'/'+str(config)+'-'+str(case)+'-S/'+str(freq)+'/'\n",
    "    for date in date_list:\n",
    "        fileU=datadir+'*/'+str(config)+'-'+str(case)+'_'+str(date)+'.'+str(freq)+'_gridU.nc'\n",
    "        fileV=datadir+'*/'+str(config)+'-'+str(case)+'_'+str(date)+'.'+str(freq)+'_gridV.nc'\n",
    "        filecurl='/scratch/cnt0024/hmg2840/albert7a/tmp/'+str(config)+'-'+str(case)+'_'+str(date)+'.'+str(freq)+'_socurloverf.nc'\n",
    "        if not os.path.exists(filecurl):\n",
    "            print('Computing '+str(filecurl))\n",
    "            !ln -sf $maskfile mesh_hgr.nc\n",
    "            !ln -sf $maskfile mesh_zgr.nc\n",
    "            !cdfcurl -u $fileU vozocrtx -v $fileV vomecrty -l 1 -surf -overf -o $filecurl\n",
    "            !rm mesh*\n",
    "    filescurl='/scratch/cnt0024/hmg2840/albert7a/tmp/'+str(config)+'-'+str(case)+'_y'+str(year)+'m'+str(month)+'d??.'+str(freq)+'_socurloverf.nc'\n",
    "    dscurl=xr.open_mfdataset(filescurl,chunks={'time_counter':1,'y':700,'x':1000})\n",
    "    curl=dscurl.socurloverf\n",
    "    curl_SS=filt(curl)\n",
    "    curl_LS=curl-curl_SS\n",
    "    hpcurl=curl_SS\n",
    "    hpcurl2 = hpcurl ** 2\n",
    "    hpcurl2m = hpcurl2.mean(axis=0,keep_attrs=True)\n",
    "    navlat2=np.array(navlat).squeeze()\n",
    "    navlon2=np.array(navlon).squeeze()\n",
    "    mgrd = GriddedData.grid2D(navlat=navlat2, navlon=navlon2)\n",
    "    crs = GriddedData.grdCoarsener(mgrd,crs_factor=36)\n",
    "    hpcurl2mc = crs.return_ravel(np.asarray(hpcurl2m))\n",
    "    hpcurl2mcm = np.mean(hpcurl2mc,axis=-3)\n",
    "    latcrs=crs.return_ravel(np.asarray(navlat2))\n",
    "    loncrs=crs.return_ravel(np.asarray(navlon2))\n",
    "    latcrsm=np.mean(latcrs,axis=-3)\n",
    "    loncrsm=np.mean(loncrs,axis=-3)\n",
    "    if month == '03':\n",
    "        plot_fine_scale_variance(hpcurl2mcm,loncrsm, latcrsm,navlon,navlat,hpcurl2m,'March',month,config,case)\n",
    "    if month == '09':\n",
    "        plot_fine_scale_variance(hpcurl2mcm,loncrsm, latcrsm,navlon,navlat,hpcurl2m,'September',month,config,case)\n",
    "        "
   ]
  },
  {
   "cell_type": "code",
   "execution_count": 11,
   "metadata": {
    "papermill": {
     "duration": 273.939158,
     "end_time": "2019-12-11T12:48:55.566114",
     "exception": false,
     "start_time": "2019-12-11T12:44:21.626956",
     "status": "completed"
    },
    "scrolled": false,
    "tags": []
   },
   "outputs": [
    {
     "name": "stdout",
     "output_type": "stream",
     "text": [
      "Computing /scratch/cnt0024/hmg2840/albert7a/tmp/EU36-MPC001_y2012m03d01.1d_socurloverf.nc\n"
     ]
    },
    {
     "name": "stdout",
     "output_type": "stream",
     "text": [
      " npiglo =          732\r\n",
      " npjglo =         1718\r\n",
      " npk    =           75\r\n",
      " npt    =            1\r\n",
      " nlev   =            1\r\n",
      " NLEV           1\r\n"
     ]
    },
    {
     "name": "stdout",
     "output_type": "stream",
     "text": [
      " /scratch/cnt0024/hmg2840/colombo/EU36/EU36-MPC001-S/1d/2012/EU36-MPC001_y2012m0\r\n",
      " 3d01.1d_gridU.nc vozocrtx            1           1         732        1718\r\n",
      "           1\r\n"
     ]
    },
    {
     "name": "stdout",
     "output_type": "stream",
     "text": [
      "Computing /scratch/cnt0024/hmg2840/albert7a/tmp/EU36-MPC001_y2012m03d02.1d_socurloverf.nc\n"
     ]
    },
    {
     "name": "stdout",
     "output_type": "stream",
     "text": [
      " npiglo =          732\r\n",
      " npjglo =         1718\r\n",
      " npk    =           75\r\n",
      " npt    =            1\r\n",
      " nlev   =            1\r\n",
      " NLEV           1\r\n"
     ]
    },
    {
     "name": "stdout",
     "output_type": "stream",
     "text": [
      " /scratch/cnt0024/hmg2840/colombo/EU36/EU36-MPC001-S/1d/2012/EU36-MPC001_y2012m0\r\n",
      " 3d02.1d_gridU.nc vozocrtx            1           1         732        1718\r\n",
      "           1\r\n"
     ]
    },
    {
     "name": "stdout",
     "output_type": "stream",
     "text": [
      "Computing /scratch/cnt0024/hmg2840/albert7a/tmp/EU36-MPC001_y2012m03d03.1d_socurloverf.nc\n"
     ]
    },
    {
     "name": "stdout",
     "output_type": "stream",
     "text": [
      " npiglo =          732\r\n",
      " npjglo =         1718\r\n",
      " npk    =           75\r\n",
      " npt    =            1\r\n",
      " nlev   =            1\r\n",
      " NLEV           1\r\n"
     ]
    },
    {
     "name": "stdout",
     "output_type": "stream",
     "text": [
      " /scratch/cnt0024/hmg2840/colombo/EU36/EU36-MPC001-S/1d/2012/EU36-MPC001_y2012m0\r\n",
      " 3d03.1d_gridU.nc vozocrtx            1           1         732        1718\r\n",
      "           1\r\n"
     ]
    },
    {
     "name": "stdout",
     "output_type": "stream",
     "text": [
      "Computing /scratch/cnt0024/hmg2840/albert7a/tmp/EU36-MPC001_y2012m03d04.1d_socurloverf.nc\n"
     ]
    },
    {
     "name": "stdout",
     "output_type": "stream",
     "text": [
      " npiglo =          732\r\n",
      " npjglo =         1718\r\n",
      " npk    =           75\r\n",
      " npt    =            1\r\n",
      " nlev   =            1\r\n",
      " NLEV           1\r\n"
     ]
    },
    {
     "name": "stdout",
     "output_type": "stream",
     "text": [
      " /scratch/cnt0024/hmg2840/colombo/EU36/EU36-MPC001-S/1d/2012/EU36-MPC001_y2012m0\r\n",
      " 3d04.1d_gridU.nc vozocrtx            1           1         732        1718\r\n",
      "           1\r\n"
     ]
    },
    {
     "name": "stdout",
     "output_type": "stream",
     "text": [
      "Computing /scratch/cnt0024/hmg2840/albert7a/tmp/EU36-MPC001_y2012m03d05.1d_socurloverf.nc\n"
     ]
    },
    {
     "name": "stdout",
     "output_type": "stream",
     "text": [
      " npiglo =          732\r\n",
      " npjglo =         1718\r\n",
      " npk    =           75\r\n",
      " npt    =            1\r\n",
      " nlev   =            1\r\n",
      " NLEV           1\r\n"
     ]
    },
    {
     "name": "stdout",
     "output_type": "stream",
     "text": [
      " /scratch/cnt0024/hmg2840/colombo/EU36/EU36-MPC001-S/1d/2012/EU36-MPC001_y2012m0\r\n",
      " 3d05.1d_gridU.nc vozocrtx            1           1         732        1718\r\n",
      "           1\r\n"
     ]
    },
    {
     "name": "stdout",
     "output_type": "stream",
     "text": [
      "Computing /scratch/cnt0024/hmg2840/albert7a/tmp/EU36-MPC001_y2012m03d06.1d_socurloverf.nc\n"
     ]
    },
    {
     "name": "stdout",
     "output_type": "stream",
     "text": [
      " npiglo =          732\r\n",
      " npjglo =         1718\r\n",
      " npk    =           75\r\n",
      " npt    =            1\r\n",
      " nlev   =            1\r\n",
      " NLEV           1\r\n"
     ]
    },
    {
     "name": "stdout",
     "output_type": "stream",
     "text": [
      " /scratch/cnt0024/hmg2840/colombo/EU36/EU36-MPC001-S/1d/2012/EU36-MPC001_y2012m0\r\n",
      " 3d06.1d_gridU.nc vozocrtx            1           1         732        1718\r\n",
      "           1\r\n"
     ]
    },
    {
     "name": "stdout",
     "output_type": "stream",
     "text": [
      "Computing /scratch/cnt0024/hmg2840/albert7a/tmp/EU36-MPC001_y2012m03d07.1d_socurloverf.nc\n"
     ]
    },
    {
     "name": "stdout",
     "output_type": "stream",
     "text": [
      " npiglo =          732\r\n",
      " npjglo =         1718\r\n",
      " npk    =           75\r\n",
      " npt    =            1\r\n",
      " nlev   =            1\r\n",
      " NLEV           1\r\n"
     ]
    },
    {
     "name": "stdout",
     "output_type": "stream",
     "text": [
      " /scratch/cnt0024/hmg2840/colombo/EU36/EU36-MPC001-S/1d/2012/EU36-MPC001_y2012m0\r\n",
      " 3d07.1d_gridU.nc vozocrtx            1           1         732        1718\r\n",
      "           1\r\n"
     ]
    },
    {
     "name": "stdout",
     "output_type": "stream",
     "text": [
      "Computing /scratch/cnt0024/hmg2840/albert7a/tmp/EU36-MPC001_y2012m03d08.1d_socurloverf.nc\n"
     ]
    },
    {
     "name": "stdout",
     "output_type": "stream",
     "text": [
      " npiglo =          732\r\n",
      " npjglo =         1718\r\n",
      " npk    =           75\r\n",
      " npt    =            1\r\n",
      " nlev   =            1\r\n",
      " NLEV           1\r\n"
     ]
    },
    {
     "name": "stdout",
     "output_type": "stream",
     "text": [
      " /scratch/cnt0024/hmg2840/colombo/EU36/EU36-MPC001-S/1d/2012/EU36-MPC001_y2012m0\r\n",
      " 3d08.1d_gridU.nc vozocrtx            1           1         732        1718\r\n",
      "           1\r\n"
     ]
    },
    {
     "name": "stdout",
     "output_type": "stream",
     "text": [
      "Computing /scratch/cnt0024/hmg2840/albert7a/tmp/EU36-MPC001_y2012m03d09.1d_socurloverf.nc\n"
     ]
    },
    {
     "name": "stdout",
     "output_type": "stream",
     "text": [
      " npiglo =          732\r\n",
      " npjglo =         1718\r\n",
      " npk    =           75\r\n",
      " npt    =            1\r\n",
      " nlev   =            1\r\n",
      " NLEV           1\r\n"
     ]
    },
    {
     "name": "stdout",
     "output_type": "stream",
     "text": [
      " /scratch/cnt0024/hmg2840/colombo/EU36/EU36-MPC001-S/1d/2012/EU36-MPC001_y2012m0\r\n",
      " 3d09.1d_gridU.nc vozocrtx            1           1         732        1718\r\n",
      "           1\r\n"
     ]
    },
    {
     "name": "stdout",
     "output_type": "stream",
     "text": [
      "Computing /scratch/cnt0024/hmg2840/albert7a/tmp/EU36-MPC001_y2012m03d10.1d_socurloverf.nc\n"
     ]
    },
    {
     "name": "stdout",
     "output_type": "stream",
     "text": [
      " npiglo =          732\r\n",
      " npjglo =         1718\r\n",
      " npk    =           75\r\n",
      " npt    =            1\r\n",
      " nlev   =            1\r\n",
      " NLEV           1\r\n"
     ]
    },
    {
     "name": "stdout",
     "output_type": "stream",
     "text": [
      " /scratch/cnt0024/hmg2840/colombo/EU36/EU36-MPC001-S/1d/2012/EU36-MPC001_y2012m0\r\n",
      " 3d10.1d_gridU.nc vozocrtx            1           1         732        1718\r\n",
      "           1\r\n"
     ]
    },
    {
     "name": "stdout",
     "output_type": "stream",
     "text": [
      "Computing /scratch/cnt0024/hmg2840/albert7a/tmp/EU36-MPC001_y2012m03d11.1d_socurloverf.nc\n"
     ]
    },
    {
     "name": "stdout",
     "output_type": "stream",
     "text": [
      " npiglo =          732\r\n",
      " npjglo =         1718\r\n",
      " npk    =           75\r\n",
      " npt    =            1\r\n",
      " nlev   =            1\r\n",
      " NLEV           1\r\n"
     ]
    },
    {
     "name": "stdout",
     "output_type": "stream",
     "text": [
      " /scratch/cnt0024/hmg2840/colombo/EU36/EU36-MPC001-S/1d/2012/EU36-MPC001_y2012m0\r\n",
      " 3d11.1d_gridU.nc vozocrtx            1           1         732        1718\r\n",
      "           1\r\n"
     ]
    },
    {
     "name": "stdout",
     "output_type": "stream",
     "text": [
      "Computing /scratch/cnt0024/hmg2840/albert7a/tmp/EU36-MPC001_y2012m03d12.1d_socurloverf.nc\n"
     ]
    },
    {
     "name": "stdout",
     "output_type": "stream",
     "text": [
      " npiglo =          732\r\n",
      " npjglo =         1718\r\n",
      " npk    =           75\r\n",
      " npt    =            1\r\n",
      " nlev   =            1\r\n",
      " NLEV           1\r\n"
     ]
    },
    {
     "name": "stdout",
     "output_type": "stream",
     "text": [
      " /scratch/cnt0024/hmg2840/colombo/EU36/EU36-MPC001-S/1d/2012/EU36-MPC001_y2012m0\r\n",
      " 3d12.1d_gridU.nc vozocrtx            1           1         732        1718\r\n",
      "           1\r\n"
     ]
    },
    {
     "name": "stdout",
     "output_type": "stream",
     "text": [
      "Computing /scratch/cnt0024/hmg2840/albert7a/tmp/EU36-MPC001_y2012m03d13.1d_socurloverf.nc\n"
     ]
    },
    {
     "name": "stdout",
     "output_type": "stream",
     "text": [
      " npiglo =          732\r\n",
      " npjglo =         1718\r\n",
      " npk    =           75\r\n",
      " npt    =            1\r\n",
      " nlev   =            1\r\n",
      " NLEV           1\r\n"
     ]
    },
    {
     "name": "stdout",
     "output_type": "stream",
     "text": [
      " /scratch/cnt0024/hmg2840/colombo/EU36/EU36-MPC001-S/1d/2012/EU36-MPC001_y2012m0\r\n",
      " 3d13.1d_gridU.nc vozocrtx            1           1         732        1718\r\n",
      "           1\r\n"
     ]
    },
    {
     "name": "stdout",
     "output_type": "stream",
     "text": [
      "Computing /scratch/cnt0024/hmg2840/albert7a/tmp/EU36-MPC001_y2012m03d14.1d_socurloverf.nc\n"
     ]
    },
    {
     "name": "stdout",
     "output_type": "stream",
     "text": [
      " npiglo =          732\r\n",
      " npjglo =         1718\r\n",
      " npk    =           75\r\n",
      " npt    =            1\r\n",
      " nlev   =            1\r\n",
      " NLEV           1\r\n"
     ]
    },
    {
     "name": "stdout",
     "output_type": "stream",
     "text": [
      " /scratch/cnt0024/hmg2840/colombo/EU36/EU36-MPC001-S/1d/2012/EU36-MPC001_y2012m0\r\n",
      " 3d14.1d_gridU.nc vozocrtx            1           1         732        1718\r\n",
      "           1\r\n"
     ]
    },
    {
     "name": "stdout",
     "output_type": "stream",
     "text": [
      "Computing /scratch/cnt0024/hmg2840/albert7a/tmp/EU36-MPC001_y2012m03d15.1d_socurloverf.nc\n"
     ]
    },
    {
     "name": "stdout",
     "output_type": "stream",
     "text": [
      " npiglo =          732\r\n",
      " npjglo =         1718\r\n",
      " npk    =           75\r\n",
      " npt    =            1\r\n",
      " nlev   =            1\r\n",
      " NLEV           1\r\n"
     ]
    },
    {
     "name": "stdout",
     "output_type": "stream",
     "text": [
      " /scratch/cnt0024/hmg2840/colombo/EU36/EU36-MPC001-S/1d/2012/EU36-MPC001_y2012m0\r\n",
      " 3d15.1d_gridU.nc vozocrtx            1           1         732        1718\r\n",
      "           1\r\n"
     ]
    },
    {
     "name": "stdout",
     "output_type": "stream",
     "text": [
      "Computing /scratch/cnt0024/hmg2840/albert7a/tmp/EU36-MPC001_y2012m03d16.1d_socurloverf.nc\n"
     ]
    },
    {
     "name": "stdout",
     "output_type": "stream",
     "text": [
      " npiglo =          732\r\n",
      " npjglo =         1718\r\n",
      " npk    =           75\r\n",
      " npt    =            1\r\n",
      " nlev   =            1\r\n",
      " NLEV           1\r\n"
     ]
    },
    {
     "name": "stdout",
     "output_type": "stream",
     "text": [
      " /scratch/cnt0024/hmg2840/colombo/EU36/EU36-MPC001-S/1d/2012/EU36-MPC001_y2012m0\r\n",
      " 3d16.1d_gridU.nc vozocrtx            1           1         732        1718\r\n",
      "           1\r\n"
     ]
    },
    {
     "name": "stdout",
     "output_type": "stream",
     "text": [
      "Computing /scratch/cnt0024/hmg2840/albert7a/tmp/EU36-MPC001_y2012m03d17.1d_socurloverf.nc\n"
     ]
    },
    {
     "name": "stdout",
     "output_type": "stream",
     "text": [
      " npiglo =          732\r\n",
      " npjglo =         1718\r\n",
      " npk    =           75\r\n",
      " npt    =            1\r\n",
      " nlev   =            1\r\n",
      " NLEV           1\r\n"
     ]
    },
    {
     "name": "stdout",
     "output_type": "stream",
     "text": [
      " /scratch/cnt0024/hmg2840/colombo/EU36/EU36-MPC001-S/1d/2012/EU36-MPC001_y2012m0\r\n",
      " 3d17.1d_gridU.nc vozocrtx            1           1         732        1718\r\n",
      "           1\r\n"
     ]
    },
    {
     "name": "stdout",
     "output_type": "stream",
     "text": [
      "Computing /scratch/cnt0024/hmg2840/albert7a/tmp/EU36-MPC001_y2012m03d18.1d_socurloverf.nc\n"
     ]
    },
    {
     "name": "stdout",
     "output_type": "stream",
     "text": [
      " npiglo =          732\r\n",
      " npjglo =         1718\r\n",
      " npk    =           75\r\n",
      " npt    =            1\r\n",
      " nlev   =            1\r\n",
      " NLEV           1\r\n"
     ]
    },
    {
     "name": "stdout",
     "output_type": "stream",
     "text": [
      " /scratch/cnt0024/hmg2840/colombo/EU36/EU36-MPC001-S/1d/2012/EU36-MPC001_y2012m0\r\n",
      " 3d18.1d_gridU.nc vozocrtx            1           1         732        1718\r\n",
      "           1\r\n"
     ]
    },
    {
     "name": "stdout",
     "output_type": "stream",
     "text": [
      "Computing /scratch/cnt0024/hmg2840/albert7a/tmp/EU36-MPC001_y2012m03d19.1d_socurloverf.nc\n"
     ]
    },
    {
     "name": "stdout",
     "output_type": "stream",
     "text": [
      " npiglo =          732\r\n",
      " npjglo =         1718\r\n",
      " npk    =           75\r\n",
      " npt    =            1\r\n",
      " nlev   =            1\r\n",
      " NLEV           1\r\n"
     ]
    },
    {
     "name": "stdout",
     "output_type": "stream",
     "text": [
      " /scratch/cnt0024/hmg2840/colombo/EU36/EU36-MPC001-S/1d/2012/EU36-MPC001_y2012m0\r\n",
      " 3d19.1d_gridU.nc vozocrtx            1           1         732        1718\r\n",
      "           1\r\n"
     ]
    },
    {
     "name": "stdout",
     "output_type": "stream",
     "text": [
      "Computing /scratch/cnt0024/hmg2840/albert7a/tmp/EU36-MPC001_y2012m03d20.1d_socurloverf.nc\n"
     ]
    },
    {
     "name": "stdout",
     "output_type": "stream",
     "text": [
      " npiglo =          732\r\n",
      " npjglo =         1718\r\n",
      " npk    =           75\r\n",
      " npt    =            1\r\n",
      " nlev   =            1\r\n",
      " NLEV           1\r\n"
     ]
    },
    {
     "name": "stdout",
     "output_type": "stream",
     "text": [
      " /scratch/cnt0024/hmg2840/colombo/EU36/EU36-MPC001-S/1d/2012/EU36-MPC001_y2012m0\r\n",
      " 3d20.1d_gridU.nc vozocrtx            1           1         732        1718\r\n",
      "           1\r\n"
     ]
    },
    {
     "name": "stdout",
     "output_type": "stream",
     "text": [
      "Computing /scratch/cnt0024/hmg2840/albert7a/tmp/EU36-MPC001_y2012m03d21.1d_socurloverf.nc\n"
     ]
    },
    {
     "name": "stdout",
     "output_type": "stream",
     "text": [
      " npiglo =          732\r\n",
      " npjglo =         1718\r\n",
      " npk    =           75\r\n",
      " npt    =            1\r\n",
      " nlev   =            1\r\n",
      " NLEV           1\r\n"
     ]
    },
    {
     "name": "stdout",
     "output_type": "stream",
     "text": [
      " /scratch/cnt0024/hmg2840/colombo/EU36/EU36-MPC001-S/1d/2012/EU36-MPC001_y2012m0\r\n",
      " 3d21.1d_gridU.nc vozocrtx            1           1         732        1718\r\n",
      "           1\r\n"
     ]
    },
    {
     "name": "stdout",
     "output_type": "stream",
     "text": [
      "Computing /scratch/cnt0024/hmg2840/albert7a/tmp/EU36-MPC001_y2012m03d22.1d_socurloverf.nc\n"
     ]
    },
    {
     "name": "stdout",
     "output_type": "stream",
     "text": [
      " npiglo =          732\r\n",
      " npjglo =         1718\r\n",
      " npk    =           75\r\n",
      " npt    =            1\r\n",
      " nlev   =            1\r\n",
      " NLEV           1\r\n"
     ]
    },
    {
     "name": "stdout",
     "output_type": "stream",
     "text": [
      " /scratch/cnt0024/hmg2840/colombo/EU36/EU36-MPC001-S/1d/2012/EU36-MPC001_y2012m0\r\n",
      " 3d22.1d_gridU.nc vozocrtx            1           1         732        1718\r\n",
      "           1\r\n"
     ]
    },
    {
     "name": "stdout",
     "output_type": "stream",
     "text": [
      "Computing /scratch/cnt0024/hmg2840/albert7a/tmp/EU36-MPC001_y2012m03d23.1d_socurloverf.nc\n"
     ]
    },
    {
     "name": "stdout",
     "output_type": "stream",
     "text": [
      " npiglo =          732\r\n",
      " npjglo =         1718\r\n",
      " npk    =           75\r\n",
      " npt    =            1\r\n",
      " nlev   =            1\r\n",
      " NLEV           1\r\n"
     ]
    },
    {
     "name": "stdout",
     "output_type": "stream",
     "text": [
      " /scratch/cnt0024/hmg2840/colombo/EU36/EU36-MPC001-S/1d/2012/EU36-MPC001_y2012m0\r\n",
      " 3d23.1d_gridU.nc vozocrtx            1           1         732        1718\r\n",
      "           1\r\n"
     ]
    },
    {
     "name": "stdout",
     "output_type": "stream",
     "text": [
      "Computing /scratch/cnt0024/hmg2840/albert7a/tmp/EU36-MPC001_y2012m03d24.1d_socurloverf.nc\n"
     ]
    },
    {
     "name": "stdout",
     "output_type": "stream",
     "text": [
      " npiglo =          732\r\n",
      " npjglo =         1718\r\n",
      " npk    =           75\r\n",
      " npt    =            1\r\n",
      " nlev   =            1\r\n",
      " NLEV           1\r\n"
     ]
    },
    {
     "name": "stdout",
     "output_type": "stream",
     "text": [
      " /scratch/cnt0024/hmg2840/colombo/EU36/EU36-MPC001-S/1d/2012/EU36-MPC001_y2012m0\r\n",
      " 3d24.1d_gridU.nc vozocrtx            1           1         732        1718\r\n",
      "           1\r\n"
     ]
    },
    {
     "name": "stdout",
     "output_type": "stream",
     "text": [
      "Computing /scratch/cnt0024/hmg2840/albert7a/tmp/EU36-MPC001_y2012m03d25.1d_socurloverf.nc\n"
     ]
    },
    {
     "name": "stdout",
     "output_type": "stream",
     "text": [
      " npiglo =          732\r\n",
      " npjglo =         1718\r\n",
      " npk    =           75\r\n",
      " npt    =            1\r\n",
      " nlev   =            1\r\n",
      " NLEV           1\r\n"
     ]
    },
    {
     "name": "stdout",
     "output_type": "stream",
     "text": [
      " /scratch/cnt0024/hmg2840/colombo/EU36/EU36-MPC001-S/1d/2012/EU36-MPC001_y2012m0\r\n",
      " 3d25.1d_gridU.nc vozocrtx            1           1         732        1718\r\n",
      "           1\r\n"
     ]
    },
    {
     "name": "stdout",
     "output_type": "stream",
     "text": [
      "Computing /scratch/cnt0024/hmg2840/albert7a/tmp/EU36-MPC001_y2012m03d26.1d_socurloverf.nc\n"
     ]
    },
    {
     "name": "stdout",
     "output_type": "stream",
     "text": [
      " npiglo =          732\r\n",
      " npjglo =         1718\r\n",
      " npk    =           75\r\n",
      " npt    =            1\r\n",
      " nlev   =            1\r\n",
      " NLEV           1\r\n"
     ]
    },
    {
     "name": "stdout",
     "output_type": "stream",
     "text": [
      " /scratch/cnt0024/hmg2840/colombo/EU36/EU36-MPC001-S/1d/2012/EU36-MPC001_y2012m0\r\n",
      " 3d26.1d_gridU.nc vozocrtx            1           1         732        1718\r\n",
      "           1\r\n"
     ]
    },
    {
     "name": "stdout",
     "output_type": "stream",
     "text": [
      "Computing /scratch/cnt0024/hmg2840/albert7a/tmp/EU36-MPC001_y2012m03d27.1d_socurloverf.nc\n"
     ]
    },
    {
     "name": "stdout",
     "output_type": "stream",
     "text": [
      " npiglo =          732\r\n",
      " npjglo =         1718\r\n",
      " npk    =           75\r\n",
      " npt    =            1\r\n",
      " nlev   =            1\r\n",
      " NLEV           1\r\n"
     ]
    },
    {
     "name": "stdout",
     "output_type": "stream",
     "text": [
      " /scratch/cnt0024/hmg2840/colombo/EU36/EU36-MPC001-S/1d/2012/EU36-MPC001_y2012m0\r\n",
      " 3d27.1d_gridU.nc vozocrtx            1           1         732        1718\r\n",
      "           1\r\n"
     ]
    },
    {
     "name": "stdout",
     "output_type": "stream",
     "text": [
      "Computing /scratch/cnt0024/hmg2840/albert7a/tmp/EU36-MPC001_y2012m03d28.1d_socurloverf.nc\n"
     ]
    },
    {
     "name": "stdout",
     "output_type": "stream",
     "text": [
      " npiglo =          732\r\n",
      " npjglo =         1718\r\n",
      " npk    =           75\r\n",
      " npt    =            1\r\n",
      " nlev   =            1\r\n",
      " NLEV           1\r\n"
     ]
    },
    {
     "name": "stdout",
     "output_type": "stream",
     "text": [
      " /scratch/cnt0024/hmg2840/colombo/EU36/EU36-MPC001-S/1d/2012/EU36-MPC001_y2012m0\r\n",
      " 3d28.1d_gridU.nc vozocrtx            1           1         732        1718\r\n",
      "           1\r\n"
     ]
    },
    {
     "name": "stdout",
     "output_type": "stream",
     "text": [
      "Computing /scratch/cnt0024/hmg2840/albert7a/tmp/EU36-MPC001_y2012m03d29.1d_socurloverf.nc\n"
     ]
    },
    {
     "name": "stdout",
     "output_type": "stream",
     "text": [
      " npiglo =          732\r\n",
      " npjglo =         1718\r\n",
      " npk    =           75\r\n",
      " npt    =            1\r\n",
      " nlev   =            1\r\n",
      " NLEV           1\r\n"
     ]
    },
    {
     "name": "stdout",
     "output_type": "stream",
     "text": [
      " /scratch/cnt0024/hmg2840/colombo/EU36/EU36-MPC001-S/1d/2012/EU36-MPC001_y2012m0\r\n",
      " 3d29.1d_gridU.nc vozocrtx            1           1         732        1718\r\n",
      "           1\r\n"
     ]
    },
    {
     "name": "stdout",
     "output_type": "stream",
     "text": [
      "Computing /scratch/cnt0024/hmg2840/albert7a/tmp/EU36-MPC001_y2012m03d30.1d_socurloverf.nc\n"
     ]
    },
    {
     "name": "stdout",
     "output_type": "stream",
     "text": [
      " npiglo =          732\r\n",
      " npjglo =         1718\r\n",
      " npk    =           75\r\n",
      " npt    =            1\r\n",
      " nlev   =            1\r\n",
      " NLEV           1\r\n"
     ]
    },
    {
     "name": "stdout",
     "output_type": "stream",
     "text": [
      " /scratch/cnt0024/hmg2840/colombo/EU36/EU36-MPC001-S/1d/2012/EU36-MPC001_y2012m0\r\n",
      " 3d30.1d_gridU.nc vozocrtx            1           1         732        1718\r\n",
      "           1\r\n"
     ]
    },
    {
     "name": "stdout",
     "output_type": "stream",
     "text": [
      "Computing /scratch/cnt0024/hmg2840/albert7a/tmp/EU36-MPC001_y2012m03d31.1d_socurloverf.nc\n"
     ]
    },
    {
     "name": "stdout",
     "output_type": "stream",
     "text": [
      " npiglo =          732\r\n",
      " npjglo =         1718\r\n",
      " npk    =           75\r\n",
      " npt    =            1\r\n",
      " nlev   =            1\r\n",
      " NLEV           1\r\n"
     ]
    },
    {
     "name": "stdout",
     "output_type": "stream",
     "text": [
      " /scratch/cnt0024/hmg2840/colombo/EU36/EU36-MPC001-S/1d/2012/EU36-MPC001_y2012m0\r\n",
      " 3d31.1d_gridU.nc vozocrtx            1           1         732        1718\r\n",
      "           1\r\n"
     ]
    },
    {
     "name": "stderr",
     "output_type": "stream",
     "text": [
      "/scratch/cnt0024/hmg2840/albert7a/anaconda3/lib/python3.7/site-packages/xarray/core/dataarray.py:218: FutureWarning: The Panel class is removed from pandas. Accessing it from the top-level namespace will also be removed in the next version\n",
      "  elif isinstance(data, pd.Panel):\n"
     ]
    },
    {
     "name": "stderr",
     "output_type": "stream",
     "text": [
      "/scratch/cnt0024/hmg2840/albert7a/anaconda3/lib/python3.7/site-packages/cartopy/mpl/geoaxes.py:1366: UserWarning: The following kwargs were not used by contour: 'linewidth'\n",
      "  result = matplotlib.axes.Axes.contour(self, *args, **kwargs)\n"
     ]
    },
    {
     "name": "stdout",
     "output_type": "stream",
     "text": [
      "Computing /scratch/cnt0024/hmg2840/albert7a/tmp/EU36-MPC001_y2012m09d01.1d_socurloverf.nc\n"
     ]
    },
    {
     "name": "stdout",
     "output_type": "stream",
     "text": [
      " npiglo =          732\r\n",
      " npjglo =         1718\r\n",
      " npk    =           75\r\n",
      " npt    =            1\r\n",
      " nlev   =            1\r\n",
      " NLEV           1\r\n"
     ]
    },
    {
     "name": "stdout",
     "output_type": "stream",
     "text": [
      " /scratch/cnt0024/hmg2840/colombo/EU36/EU36-MPC001-S/1d/2012/EU36-MPC001_y2012m0\r\n",
      " 9d01.1d_gridU.nc vozocrtx            1           1         732        1718\r\n",
      "           1\r\n"
     ]
    },
    {
     "name": "stdout",
     "output_type": "stream",
     "text": [
      "Computing /scratch/cnt0024/hmg2840/albert7a/tmp/EU36-MPC001_y2012m09d02.1d_socurloverf.nc\n"
     ]
    },
    {
     "name": "stdout",
     "output_type": "stream",
     "text": [
      " npiglo =          732\r\n",
      " npjglo =         1718\r\n",
      " npk    =           75\r\n",
      " npt    =            1\r\n",
      " nlev   =            1\r\n",
      " NLEV           1\r\n"
     ]
    },
    {
     "name": "stdout",
     "output_type": "stream",
     "text": [
      " /scratch/cnt0024/hmg2840/colombo/EU36/EU36-MPC001-S/1d/2012/EU36-MPC001_y2012m0\r\n",
      " 9d02.1d_gridU.nc vozocrtx            1           1         732        1718\r\n",
      "           1\r\n"
     ]
    },
    {
     "name": "stdout",
     "output_type": "stream",
     "text": [
      "Computing /scratch/cnt0024/hmg2840/albert7a/tmp/EU36-MPC001_y2012m09d03.1d_socurloverf.nc\n"
     ]
    },
    {
     "name": "stdout",
     "output_type": "stream",
     "text": [
      " npiglo =          732\r\n",
      " npjglo =         1718\r\n",
      " npk    =           75\r\n",
      " npt    =            1\r\n",
      " nlev   =            1\r\n",
      " NLEV           1\r\n"
     ]
    },
    {
     "name": "stdout",
     "output_type": "stream",
     "text": [
      " /scratch/cnt0024/hmg2840/colombo/EU36/EU36-MPC001-S/1d/2012/EU36-MPC001_y2012m0\r\n",
      " 9d03.1d_gridU.nc vozocrtx            1           1         732        1718\r\n",
      "           1\r\n"
     ]
    },
    {
     "name": "stdout",
     "output_type": "stream",
     "text": [
      "Computing /scratch/cnt0024/hmg2840/albert7a/tmp/EU36-MPC001_y2012m09d04.1d_socurloverf.nc\n"
     ]
    },
    {
     "name": "stdout",
     "output_type": "stream",
     "text": [
      " npiglo =          732\r\n",
      " npjglo =         1718\r\n",
      " npk    =           75\r\n",
      " npt    =            1\r\n",
      " nlev   =            1\r\n",
      " NLEV           1\r\n"
     ]
    },
    {
     "name": "stdout",
     "output_type": "stream",
     "text": [
      " /scratch/cnt0024/hmg2840/colombo/EU36/EU36-MPC001-S/1d/2012/EU36-MPC001_y2012m0\r\n",
      " 9d04.1d_gridU.nc vozocrtx            1           1         732        1718\r\n",
      "           1\r\n"
     ]
    },
    {
     "name": "stdout",
     "output_type": "stream",
     "text": [
      "Computing /scratch/cnt0024/hmg2840/albert7a/tmp/EU36-MPC001_y2012m09d05.1d_socurloverf.nc\n"
     ]
    },
    {
     "name": "stdout",
     "output_type": "stream",
     "text": [
      " npiglo =          732\r\n",
      " npjglo =         1718\r\n",
      " npk    =           75\r\n",
      " npt    =            1\r\n",
      " nlev   =            1\r\n",
      " NLEV           1\r\n"
     ]
    },
    {
     "name": "stdout",
     "output_type": "stream",
     "text": [
      " /scratch/cnt0024/hmg2840/colombo/EU36/EU36-MPC001-S/1d/2012/EU36-MPC001_y2012m0\r\n",
      " 9d05.1d_gridU.nc vozocrtx            1           1         732        1718\r\n",
      "           1\r\n"
     ]
    },
    {
     "name": "stdout",
     "output_type": "stream",
     "text": [
      "Computing /scratch/cnt0024/hmg2840/albert7a/tmp/EU36-MPC001_y2012m09d06.1d_socurloverf.nc\n"
     ]
    },
    {
     "name": "stdout",
     "output_type": "stream",
     "text": [
      " npiglo =          732\r\n",
      " npjglo =         1718\r\n",
      " npk    =           75\r\n",
      " npt    =            1\r\n",
      " nlev   =            1\r\n",
      " NLEV           1\r\n"
     ]
    },
    {
     "name": "stdout",
     "output_type": "stream",
     "text": [
      " /scratch/cnt0024/hmg2840/colombo/EU36/EU36-MPC001-S/1d/2012/EU36-MPC001_y2012m0\r\n",
      " 9d06.1d_gridU.nc vozocrtx            1           1         732        1718\r\n",
      "           1\r\n"
     ]
    },
    {
     "name": "stdout",
     "output_type": "stream",
     "text": [
      "Computing /scratch/cnt0024/hmg2840/albert7a/tmp/EU36-MPC001_y2012m09d07.1d_socurloverf.nc\n"
     ]
    },
    {
     "name": "stdout",
     "output_type": "stream",
     "text": [
      " npiglo =          732\r\n",
      " npjglo =         1718\r\n",
      " npk    =           75\r\n",
      " npt    =            1\r\n",
      " nlev   =            1\r\n",
      " NLEV           1\r\n"
     ]
    },
    {
     "name": "stdout",
     "output_type": "stream",
     "text": [
      " /scratch/cnt0024/hmg2840/colombo/EU36/EU36-MPC001-S/1d/2012/EU36-MPC001_y2012m0\r\n",
      " 9d07.1d_gridU.nc vozocrtx            1           1         732        1718\r\n",
      "           1\r\n"
     ]
    },
    {
     "name": "stdout",
     "output_type": "stream",
     "text": [
      "Computing /scratch/cnt0024/hmg2840/albert7a/tmp/EU36-MPC001_y2012m09d08.1d_socurloverf.nc\n"
     ]
    },
    {
     "name": "stdout",
     "output_type": "stream",
     "text": [
      " npiglo =          732\r\n",
      " npjglo =         1718\r\n",
      " npk    =           75\r\n",
      " npt    =            1\r\n",
      " nlev   =            1\r\n",
      " NLEV           1\r\n"
     ]
    },
    {
     "name": "stdout",
     "output_type": "stream",
     "text": [
      " /scratch/cnt0024/hmg2840/colombo/EU36/EU36-MPC001-S/1d/2012/EU36-MPC001_y2012m0\r\n",
      " 9d08.1d_gridU.nc vozocrtx            1           1         732        1718\r\n",
      "           1\r\n"
     ]
    },
    {
     "name": "stdout",
     "output_type": "stream",
     "text": [
      "Computing /scratch/cnt0024/hmg2840/albert7a/tmp/EU36-MPC001_y2012m09d09.1d_socurloverf.nc\n"
     ]
    },
    {
     "name": "stdout",
     "output_type": "stream",
     "text": [
      " npiglo =          732\r\n",
      " npjglo =         1718\r\n",
      " npk    =           75\r\n",
      " npt    =            1\r\n",
      " nlev   =            1\r\n",
      " NLEV           1\r\n"
     ]
    },
    {
     "name": "stdout",
     "output_type": "stream",
     "text": [
      " /scratch/cnt0024/hmg2840/colombo/EU36/EU36-MPC001-S/1d/2012/EU36-MPC001_y2012m0\r\n",
      " 9d09.1d_gridU.nc vozocrtx            1           1         732        1718\r\n",
      "           1\r\n"
     ]
    },
    {
     "name": "stdout",
     "output_type": "stream",
     "text": [
      "Computing /scratch/cnt0024/hmg2840/albert7a/tmp/EU36-MPC001_y2012m09d10.1d_socurloverf.nc\n"
     ]
    },
    {
     "name": "stdout",
     "output_type": "stream",
     "text": [
      " npiglo =          732\r\n",
      " npjglo =         1718\r\n",
      " npk    =           75\r\n",
      " npt    =            1\r\n",
      " nlev   =            1\r\n",
      " NLEV           1\r\n"
     ]
    },
    {
     "name": "stdout",
     "output_type": "stream",
     "text": [
      " /scratch/cnt0024/hmg2840/colombo/EU36/EU36-MPC001-S/1d/2012/EU36-MPC001_y2012m0\r\n",
      " 9d10.1d_gridU.nc vozocrtx            1           1         732        1718\r\n",
      "           1\r\n"
     ]
    },
    {
     "name": "stdout",
     "output_type": "stream",
     "text": [
      "Computing /scratch/cnt0024/hmg2840/albert7a/tmp/EU36-MPC001_y2012m09d11.1d_socurloverf.nc\n"
     ]
    },
    {
     "name": "stdout",
     "output_type": "stream",
     "text": [
      " npiglo =          732\r\n",
      " npjglo =         1718\r\n",
      " npk    =           75\r\n",
      " npt    =            1\r\n",
      " nlev   =            1\r\n",
      " NLEV           1\r\n"
     ]
    },
    {
     "name": "stdout",
     "output_type": "stream",
     "text": [
      " /scratch/cnt0024/hmg2840/colombo/EU36/EU36-MPC001-S/1d/2012/EU36-MPC001_y2012m0\r\n",
      " 9d11.1d_gridU.nc vozocrtx            1           1         732        1718\r\n",
      "           1\r\n"
     ]
    },
    {
     "name": "stdout",
     "output_type": "stream",
     "text": [
      "Computing /scratch/cnt0024/hmg2840/albert7a/tmp/EU36-MPC001_y2012m09d12.1d_socurloverf.nc\n"
     ]
    },
    {
     "name": "stdout",
     "output_type": "stream",
     "text": [
      " npiglo =          732\r\n",
      " npjglo =         1718\r\n",
      " npk    =           75\r\n",
      " npt    =            1\r\n",
      " nlev   =            1\r\n",
      " NLEV           1\r\n"
     ]
    },
    {
     "name": "stdout",
     "output_type": "stream",
     "text": [
      " /scratch/cnt0024/hmg2840/colombo/EU36/EU36-MPC001-S/1d/2012/EU36-MPC001_y2012m0\r\n",
      " 9d12.1d_gridU.nc vozocrtx            1           1         732        1718\r\n",
      "           1\r\n"
     ]
    },
    {
     "name": "stdout",
     "output_type": "stream",
     "text": [
      "Computing /scratch/cnt0024/hmg2840/albert7a/tmp/EU36-MPC001_y2012m09d13.1d_socurloverf.nc\n"
     ]
    },
    {
     "name": "stdout",
     "output_type": "stream",
     "text": [
      " npiglo =          732\r\n",
      " npjglo =         1718\r\n",
      " npk    =           75\r\n",
      " npt    =            1\r\n",
      " nlev   =            1\r\n",
      " NLEV           1\r\n"
     ]
    },
    {
     "name": "stdout",
     "output_type": "stream",
     "text": [
      " /scratch/cnt0024/hmg2840/colombo/EU36/EU36-MPC001-S/1d/2012/EU36-MPC001_y2012m0\r\n",
      " 9d13.1d_gridU.nc vozocrtx            1           1         732        1718\r\n",
      "           1\r\n"
     ]
    },
    {
     "name": "stdout",
     "output_type": "stream",
     "text": [
      "Computing /scratch/cnt0024/hmg2840/albert7a/tmp/EU36-MPC001_y2012m09d14.1d_socurloverf.nc\n"
     ]
    },
    {
     "name": "stdout",
     "output_type": "stream",
     "text": [
      " npiglo =          732\r\n",
      " npjglo =         1718\r\n",
      " npk    =           75\r\n",
      " npt    =            1\r\n",
      " nlev   =            1\r\n",
      " NLEV           1\r\n"
     ]
    },
    {
     "name": "stdout",
     "output_type": "stream",
     "text": [
      " /scratch/cnt0024/hmg2840/colombo/EU36/EU36-MPC001-S/1d/2012/EU36-MPC001_y2012m0\r\n",
      " 9d14.1d_gridU.nc vozocrtx            1           1         732        1718\r\n",
      "           1\r\n"
     ]
    },
    {
     "name": "stdout",
     "output_type": "stream",
     "text": [
      "Computing /scratch/cnt0024/hmg2840/albert7a/tmp/EU36-MPC001_y2012m09d15.1d_socurloverf.nc\n"
     ]
    },
    {
     "name": "stdout",
     "output_type": "stream",
     "text": [
      " npiglo =          732\r\n",
      " npjglo =         1718\r\n",
      " npk    =           75\r\n",
      " npt    =            1\r\n",
      " nlev   =            1\r\n",
      " NLEV           1\r\n"
     ]
    },
    {
     "name": "stdout",
     "output_type": "stream",
     "text": [
      " /scratch/cnt0024/hmg2840/colombo/EU36/EU36-MPC001-S/1d/2012/EU36-MPC001_y2012m0\r\n",
      " 9d15.1d_gridU.nc vozocrtx            1           1         732        1718\r\n",
      "           1\r\n"
     ]
    },
    {
     "name": "stdout",
     "output_type": "stream",
     "text": [
      "Computing /scratch/cnt0024/hmg2840/albert7a/tmp/EU36-MPC001_y2012m09d16.1d_socurloverf.nc\n"
     ]
    },
    {
     "name": "stdout",
     "output_type": "stream",
     "text": [
      " npiglo =          732\r\n",
      " npjglo =         1718\r\n",
      " npk    =           75\r\n",
      " npt    =            1\r\n",
      " nlev   =            1\r\n",
      " NLEV           1\r\n"
     ]
    },
    {
     "name": "stdout",
     "output_type": "stream",
     "text": [
      " /scratch/cnt0024/hmg2840/colombo/EU36/EU36-MPC001-S/1d/2012/EU36-MPC001_y2012m0\r\n",
      " 9d16.1d_gridU.nc vozocrtx            1           1         732        1718\r\n",
      "           1\r\n"
     ]
    },
    {
     "name": "stdout",
     "output_type": "stream",
     "text": [
      "Computing /scratch/cnt0024/hmg2840/albert7a/tmp/EU36-MPC001_y2012m09d17.1d_socurloverf.nc\n"
     ]
    },
    {
     "name": "stdout",
     "output_type": "stream",
     "text": [
      " npiglo =          732\r\n",
      " npjglo =         1718\r\n",
      " npk    =           75\r\n",
      " npt    =            1\r\n",
      " nlev   =            1\r\n",
      " NLEV           1\r\n"
     ]
    },
    {
     "name": "stdout",
     "output_type": "stream",
     "text": [
      " /scratch/cnt0024/hmg2840/colombo/EU36/EU36-MPC001-S/1d/2012/EU36-MPC001_y2012m0\r\n",
      " 9d17.1d_gridU.nc vozocrtx            1           1         732        1718\r\n",
      "           1\r\n"
     ]
    },
    {
     "name": "stdout",
     "output_type": "stream",
     "text": [
      "Computing /scratch/cnt0024/hmg2840/albert7a/tmp/EU36-MPC001_y2012m09d18.1d_socurloverf.nc\n"
     ]
    },
    {
     "name": "stdout",
     "output_type": "stream",
     "text": [
      " npiglo =          732\r\n",
      " npjglo =         1718\r\n",
      " npk    =           75\r\n",
      " npt    =            1\r\n",
      " nlev   =            1\r\n",
      " NLEV           1\r\n"
     ]
    },
    {
     "name": "stdout",
     "output_type": "stream",
     "text": [
      " /scratch/cnt0024/hmg2840/colombo/EU36/EU36-MPC001-S/1d/2012/EU36-MPC001_y2012m0\r\n",
      " 9d18.1d_gridU.nc vozocrtx            1           1         732        1718\r\n",
      "           1\r\n"
     ]
    },
    {
     "name": "stdout",
     "output_type": "stream",
     "text": [
      "Computing /scratch/cnt0024/hmg2840/albert7a/tmp/EU36-MPC001_y2012m09d19.1d_socurloverf.nc\n"
     ]
    },
    {
     "name": "stdout",
     "output_type": "stream",
     "text": [
      " npiglo =          732\r\n",
      " npjglo =         1718\r\n",
      " npk    =           75\r\n",
      " npt    =            1\r\n",
      " nlev   =            1\r\n",
      " NLEV           1\r\n"
     ]
    },
    {
     "name": "stdout",
     "output_type": "stream",
     "text": [
      " /scratch/cnt0024/hmg2840/colombo/EU36/EU36-MPC001-S/1d/2012/EU36-MPC001_y2012m0\r\n",
      " 9d19.1d_gridU.nc vozocrtx            1           1         732        1718\r\n",
      "           1\r\n"
     ]
    },
    {
     "name": "stdout",
     "output_type": "stream",
     "text": [
      "Computing /scratch/cnt0024/hmg2840/albert7a/tmp/EU36-MPC001_y2012m09d20.1d_socurloverf.nc\n"
     ]
    },
    {
     "name": "stdout",
     "output_type": "stream",
     "text": [
      " npiglo =          732\r\n",
      " npjglo =         1718\r\n",
      " npk    =           75\r\n",
      " npt    =            1\r\n",
      " nlev   =            1\r\n",
      " NLEV           1\r\n"
     ]
    },
    {
     "name": "stdout",
     "output_type": "stream",
     "text": [
      " /scratch/cnt0024/hmg2840/colombo/EU36/EU36-MPC001-S/1d/2012/EU36-MPC001_y2012m0\r\n",
      " 9d20.1d_gridU.nc vozocrtx            1           1         732        1718\r\n",
      "           1\r\n"
     ]
    },
    {
     "name": "stdout",
     "output_type": "stream",
     "text": [
      "Computing /scratch/cnt0024/hmg2840/albert7a/tmp/EU36-MPC001_y2012m09d21.1d_socurloverf.nc\n"
     ]
    },
    {
     "name": "stdout",
     "output_type": "stream",
     "text": [
      " npiglo =          732\r\n",
      " npjglo =         1718\r\n",
      " npk    =           75\r\n",
      " npt    =            1\r\n",
      " nlev   =            1\r\n",
      " NLEV           1\r\n"
     ]
    },
    {
     "name": "stdout",
     "output_type": "stream",
     "text": [
      " /scratch/cnt0024/hmg2840/colombo/EU36/EU36-MPC001-S/1d/2012/EU36-MPC001_y2012m0\r\n",
      " 9d21.1d_gridU.nc vozocrtx            1           1         732        1718\r\n",
      "           1\r\n"
     ]
    },
    {
     "name": "stdout",
     "output_type": "stream",
     "text": [
      "Computing /scratch/cnt0024/hmg2840/albert7a/tmp/EU36-MPC001_y2012m09d22.1d_socurloverf.nc\n"
     ]
    },
    {
     "name": "stdout",
     "output_type": "stream",
     "text": [
      " npiglo =          732\r\n",
      " npjglo =         1718\r\n",
      " npk    =           75\r\n",
      " npt    =            1\r\n",
      " nlev   =            1\r\n",
      " NLEV           1\r\n"
     ]
    },
    {
     "name": "stdout",
     "output_type": "stream",
     "text": [
      " /scratch/cnt0024/hmg2840/colombo/EU36/EU36-MPC001-S/1d/2012/EU36-MPC001_y2012m0\r\n",
      " 9d22.1d_gridU.nc vozocrtx            1           1         732        1718\r\n",
      "           1\r\n"
     ]
    },
    {
     "name": "stdout",
     "output_type": "stream",
     "text": [
      "Computing /scratch/cnt0024/hmg2840/albert7a/tmp/EU36-MPC001_y2012m09d23.1d_socurloverf.nc\n"
     ]
    },
    {
     "name": "stdout",
     "output_type": "stream",
     "text": [
      " npiglo =          732\r\n",
      " npjglo =         1718\r\n",
      " npk    =           75\r\n",
      " npt    =            1\r\n",
      " nlev   =            1\r\n",
      " NLEV           1\r\n"
     ]
    },
    {
     "name": "stdout",
     "output_type": "stream",
     "text": [
      " /scratch/cnt0024/hmg2840/colombo/EU36/EU36-MPC001-S/1d/2012/EU36-MPC001_y2012m0\r\n",
      " 9d23.1d_gridU.nc vozocrtx            1           1         732        1718\r\n",
      "           1\r\n"
     ]
    },
    {
     "name": "stdout",
     "output_type": "stream",
     "text": [
      "Computing /scratch/cnt0024/hmg2840/albert7a/tmp/EU36-MPC001_y2012m09d24.1d_socurloverf.nc\n"
     ]
    },
    {
     "name": "stdout",
     "output_type": "stream",
     "text": [
      " npiglo =          732\r\n",
      " npjglo =         1718\r\n",
      " npk    =           75\r\n",
      " npt    =            1\r\n",
      " nlev   =            1\r\n",
      " NLEV           1\r\n"
     ]
    },
    {
     "name": "stdout",
     "output_type": "stream",
     "text": [
      " /scratch/cnt0024/hmg2840/colombo/EU36/EU36-MPC001-S/1d/2012/EU36-MPC001_y2012m0\r\n",
      " 9d24.1d_gridU.nc vozocrtx            1           1         732        1718\r\n",
      "           1\r\n"
     ]
    },
    {
     "name": "stdout",
     "output_type": "stream",
     "text": [
      "Computing /scratch/cnt0024/hmg2840/albert7a/tmp/EU36-MPC001_y2012m09d25.1d_socurloverf.nc\n"
     ]
    },
    {
     "name": "stdout",
     "output_type": "stream",
     "text": [
      " npiglo =          732\r\n",
      " npjglo =         1718\r\n",
      " npk    =           75\r\n",
      " npt    =            1\r\n",
      " nlev   =            1\r\n",
      " NLEV           1\r\n"
     ]
    },
    {
     "name": "stdout",
     "output_type": "stream",
     "text": [
      " /scratch/cnt0024/hmg2840/colombo/EU36/EU36-MPC001-S/1d/2012/EU36-MPC001_y2012m0\r\n",
      " 9d25.1d_gridU.nc vozocrtx            1           1         732        1718\r\n",
      "           1\r\n"
     ]
    },
    {
     "name": "stdout",
     "output_type": "stream",
     "text": [
      "Computing /scratch/cnt0024/hmg2840/albert7a/tmp/EU36-MPC001_y2012m09d26.1d_socurloverf.nc\n"
     ]
    },
    {
     "name": "stdout",
     "output_type": "stream",
     "text": [
      " npiglo =          732\r\n",
      " npjglo =         1718\r\n",
      " npk    =           75\r\n",
      " npt    =            1\r\n",
      " nlev   =            1\r\n",
      " NLEV           1\r\n"
     ]
    },
    {
     "name": "stdout",
     "output_type": "stream",
     "text": [
      " /scratch/cnt0024/hmg2840/colombo/EU36/EU36-MPC001-S/1d/2012/EU36-MPC001_y2012m0\r\n",
      " 9d26.1d_gridU.nc vozocrtx            1           1         732        1718\r\n",
      "           1\r\n"
     ]
    },
    {
     "name": "stdout",
     "output_type": "stream",
     "text": [
      "Computing /scratch/cnt0024/hmg2840/albert7a/tmp/EU36-MPC001_y2012m09d27.1d_socurloverf.nc\n"
     ]
    },
    {
     "name": "stdout",
     "output_type": "stream",
     "text": [
      " npiglo =          732\r\n",
      " npjglo =         1718\r\n",
      " npk    =           75\r\n",
      " npt    =            1\r\n",
      " nlev   =            1\r\n",
      " NLEV           1\r\n"
     ]
    },
    {
     "name": "stdout",
     "output_type": "stream",
     "text": [
      " /scratch/cnt0024/hmg2840/colombo/EU36/EU36-MPC001-S/1d/2012/EU36-MPC001_y2012m0\r\n",
      " 9d27.1d_gridU.nc vozocrtx            1           1         732        1718\r\n",
      "           1\r\n"
     ]
    },
    {
     "name": "stdout",
     "output_type": "stream",
     "text": [
      "Computing /scratch/cnt0024/hmg2840/albert7a/tmp/EU36-MPC001_y2012m09d28.1d_socurloverf.nc\n"
     ]
    },
    {
     "name": "stdout",
     "output_type": "stream",
     "text": [
      " npiglo =          732\r\n",
      " npjglo =         1718\r\n",
      " npk    =           75\r\n",
      " npt    =            1\r\n",
      " nlev   =            1\r\n",
      " NLEV           1\r\n"
     ]
    },
    {
     "name": "stdout",
     "output_type": "stream",
     "text": [
      " /scratch/cnt0024/hmg2840/colombo/EU36/EU36-MPC001-S/1d/2012/EU36-MPC001_y2012m0\r\n",
      " 9d28.1d_gridU.nc vozocrtx            1           1         732        1718\r\n",
      "           1\r\n"
     ]
    },
    {
     "name": "stdout",
     "output_type": "stream",
     "text": [
      "Computing /scratch/cnt0024/hmg2840/albert7a/tmp/EU36-MPC001_y2012m09d29.1d_socurloverf.nc\n"
     ]
    },
    {
     "name": "stdout",
     "output_type": "stream",
     "text": [
      " npiglo =          732\r\n",
      " npjglo =         1718\r\n",
      " npk    =           75\r\n",
      " npt    =            1\r\n",
      " nlev   =            1\r\n",
      " NLEV           1\r\n"
     ]
    },
    {
     "name": "stdout",
     "output_type": "stream",
     "text": [
      " /scratch/cnt0024/hmg2840/colombo/EU36/EU36-MPC001-S/1d/2012/EU36-MPC001_y2012m0\r\n",
      " 9d29.1d_gridU.nc vozocrtx            1           1         732        1718\r\n",
      "           1\r\n"
     ]
    },
    {
     "name": "stdout",
     "output_type": "stream",
     "text": [
      "Computing /scratch/cnt0024/hmg2840/albert7a/tmp/EU36-MPC001_y2012m09d30.1d_socurloverf.nc\n"
     ]
    },
    {
     "name": "stdout",
     "output_type": "stream",
     "text": [
      " npiglo =          732\r\n",
      " npjglo =         1718\r\n",
      " npk    =           75\r\n",
      " npt    =            1\r\n",
      " nlev   =            1\r\n",
      " NLEV           1\r\n"
     ]
    },
    {
     "name": "stdout",
     "output_type": "stream",
     "text": [
      " /scratch/cnt0024/hmg2840/colombo/EU36/EU36-MPC001-S/1d/2012/EU36-MPC001_y2012m0\r\n",
      " 9d30.1d_gridU.nc vozocrtx            1           1         732        1718\r\n",
      "           1\r\n"
     ]
    },
    {
     "name": "stderr",
     "output_type": "stream",
     "text": [
      "/scratch/cnt0024/hmg2840/albert7a/anaconda3/lib/python3.7/site-packages/xarray/core/dataarray.py:218: FutureWarning: The Panel class is removed from pandas. Accessing it from the top-level namespace will also be removed in the next version\n",
      "  elif isinstance(data, pd.Panel):\n"
     ]
    },
    {
     "name": "stderr",
     "output_type": "stream",
     "text": [
      "/scratch/cnt0024/hmg2840/albert7a/anaconda3/lib/python3.7/site-packages/cartopy/mpl/geoaxes.py:1366: UserWarning: The following kwargs were not used by contour: 'linewidth'\n",
      "  result = matplotlib.axes.Axes.contour(self, *args, **kwargs)\n"
     ]
    },
    {
     "data": {
      "image/png": "[encoded data removed]",
      "text/plain": [
       "<Figure size 720x1080 with 2 Axes>"
      ]
     },
     "metadata": {
      "needs_background": "light"
     },
     "output_type": "display_data"
    },
    {
     "data": {
      "image/png": "[encoded data removed]",
      "text/plain": [
       "<Figure size 720x1080 with 2 Axes>"
      ]
     },
     "metadata": {
      "needs_background": "light"
     },
     "output_type": "display_data"
    }
   ],
   "source": [
    "month_list=['03','09']\n",
    "\n",
    "for month in month_list:\n",
    "    if not os.path.exists('Plots/'+config+'-'+case+'_y'+year+'m'+month+'_fine_scale_variance_vorticity.png'):\n",
    "        plot_vorticity_variance(month)"
   ]
  },
  {
   "cell_type": "code",
   "execution_count": null,
   "metadata": {
    "papermill": {
     "duration": 0.058667,
     "end_time": "2019-12-11T12:48:55.684126",
     "exception": false,
     "start_time": "2019-12-11T12:48:55.625459",
     "status": "completed"
    },
    "tags": []
   },
   "outputs": [],
   "source": []
  }
 ],
 "metadata": {
  "celltoolbar": "Tags",
  "kernelspec": {
   "display_name": "Python 3",
   "language": "python",
   "name": "python3"
  },
  "language_info": {
   "codemirror_mode": {
    "name": "ipython",
    "version": 3
   },
   "file_extension": ".py",
   "mimetype": "text/x-python",
   "name": "python",
   "nbconvert_exporter": "python",
   "pygments_lexer": "ipython3",
   "version": "3.7.3"
  },
  "papermill": {
   "duration": 332.422048,
   "end_time": "2019-12-11T12:49:00.800114",
   "environment_variables": {},
   "exception": null,
   "input_path": "/scratch/cnt0024/hmg2840/albert7a/DEV/git/diags-CMEMS-on-occigen/Vorticity_Variance/2019-12-09-AA-vorticity-variance-regional-all-simus-36.ipynb",
   "output_path": "/scratch/cnt0024/hmg2840/albert7a/DEV/git/diags-CMEMS-on-occigen/Vorticity_Variance/2019-10-11-output-EU36MPC001.ipynb",
   "parameters": {
    "case": "MPC001",
    "config": "EU36"
   },
   "start_time": "2019-12-11T12:43:28.378066",
   "version": "1.2.1"
  }
 },
 "nbformat": 4,
 "nbformat_minor": 1
}