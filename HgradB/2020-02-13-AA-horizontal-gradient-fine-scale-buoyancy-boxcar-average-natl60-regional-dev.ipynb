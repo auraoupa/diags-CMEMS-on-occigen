{
 "cells": [
  {
   "cell_type": "code",
   "execution_count": 1,
   "metadata": {
    "tags": [
     "parameters"
    ]
   },
   "outputs": [],
   "source": [
    "config='NATL60'\n",
    "case='CJM165'\n",
    "freq='1d'\n",
    "region='GS'\n",
    "\n",
    "year='2013'\n"
   ]
  },
  {
   "cell_type": "code",
   "execution_count": 2,
   "metadata": {},
   "outputs": [
    {
     "name": "stderr",
     "output_type": "stream",
     "text": [
      "/scratch/cnt0024/hmg2840/albert7a/anaconda3/lib/python3.7/site-packages/dask/config.py:168: YAMLLoadWarning: calling yaml.load() without Loader=... is deprecated, as the default Loader is unsafe. Please read https://msg.pyyaml.org/load for full details.\n",
      "  data = yaml.load(f.read()) or {}\n",
      "/scratch/cnt0024/hmg2840/albert7a/anaconda3/lib/python3.7/site-packages/distributed/bokeh/core.py:74: UserWarning: \n",
      "Failed to start diagnostics server on port 8787. [Errno 13] Permission denied\n",
      "  warnings.warn(\"\\n\" + msg)\n"
     ]
    },
    {
     "data": {
      "text/html": [
       "<table style=\"border: 2px solid white;\">\n",
       "<tr>\n",
       "<td style=\"vertical-align: top; border: 0px solid white\">\n",
       "<h3>Client</h3>\n",
       "<ul>\n",
       "  <li><b>Scheduler: </b>tcp://127.0.0.1:36499\n",
       "  <li><b>Dashboard: </b><a href='http://127.0.0.1:41245/status' target='_blank'>http://127.0.0.1:41245/status</a>\n",
       "</ul>\n",
       "</td>\n",
       "<td style=\"vertical-align: top; border: 0px solid white\">\n",
       "<h3>Cluster</h3>\n",
       "<ul>\n",
       "  <li><b>Workers: </b>8</li>\n",
       "  <li><b>Cores: </b>48</li>\n",
       "  <li><b>Memory: </b>134.91 GB</li>\n",
       "</ul>\n",
       "</td>\n",
       "</tr>\n",
       "</table>"
      ],
      "text/plain": [
       "<Client: scheduler='tcp://127.0.0.1:36499' processes=8 cores=48>"
      ]
     },
     "execution_count": 2,
     "metadata": {},
     "output_type": "execute_result"
    }
   ],
   "source": [
    "import dask\n",
    "import dask.threaded\n",
    "import dask.multiprocessing\n",
    "from dask.distributed import Client\n",
    "\n",
    "c = Client()\n",
    "c"
   ]
  },
  {
   "cell_type": "code",
   "execution_count": 2,
   "metadata": {},
   "outputs": [
    {
     "name": "stderr",
     "output_type": "stream",
     "text": [
      "/scratch/cnt0024/hmg2840/albert7a/anaconda3/lib/python3.7/site-packages/dask/config.py:168: YAMLLoadWarning: calling yaml.load() without Loader=... is deprecated, as the default Loader is unsafe. Please read https://msg.pyyaml.org/load for full details.\n",
      "  data = yaml.load(f.read()) or {}\n"
     ]
    }
   ],
   "source": [
    "## path for mdules\n",
    "\n",
    "import sys\n",
    "sys.path.insert(0,\"/scratch/cnt0024/hmg2840/albert7a/DEV/git/xscale\")\n",
    "import xscale\n",
    "\n",
    "sys.path.insert(0,\"/scratch/cnt0024/hmg2840/albert7a/DEV/git/diags-CMEMS-on-occigen/common-lib/\")\n",
    "import GriddedData\n",
    "\n",
    "## imports\n",
    "\n",
    "import numpy as np\n",
    "import numpy.ma as ma\n",
    "import xarray as xr\n",
    "import time\n",
    "\n",
    "import cartopy.crs as ccrs\n",
    "import cartopy.feature as cfeature\n",
    "from cartopy.mpl.gridliner import LONGITUDE_FORMATTER, LATITUDE_FORMATTER\n",
    "\n",
    "import matplotlib.cm as mplcm\n",
    "seq_cmap = mplcm.Blues\n",
    "div_cmap = mplcm.seismic\n",
    "\n",
    "### quick plot\n",
    "import matplotlib.pyplot as plt\n",
    "\n",
    "import glob\n",
    "import os \n",
    "\n",
    "%matplotlib inline"
   ]
  },
  {
   "cell_type": "code",
   "execution_count": 3,
   "metadata": {},
   "outputs": [],
   "source": [
    "if region == 'EU':\n",
    "    imin=3858\n",
    "    imax=5076\n",
    "    jmin=424\n",
    "    jmax=3286\n",
    "    \n",
    "#cdffindij -w -80.418  -40.000   26.991   47.986 -c /store/molines/NATL60/NATL60-I/NATL60_coordinates_v4.nc\n",
    "if region == 'GS':\n",
    "    imin=63\n",
    "    imax=2507\n",
    "    jmin=29\n",
    "    jmax=1611"
   ]
  },
  {
   "cell_type": "code",
   "execution_count": 4,
   "metadata": {},
   "outputs": [],
   "source": [
    "## Dataset\n",
    "\n",
    "gridfile='/store/molines/NATL60/NATL60-I/NATL60_coordinates_v4.nc'\n",
    "maskfile='/store/molines/NATL60/NATL60-I/NATL60_v4.1_cdf_byte_mask.nc'\n",
    "meshhgrfile='/store/molines/NATL60/NATL60-I/NATL60_v4.1_cdf_mesh_hgr.nc'\n",
    "meshzgrfile='/store/molines/NATL60/NATL60-I/NATL60_v4.1_cdf_mesh_zgr.nc'"
   ]
  },
  {
   "cell_type": "code",
   "execution_count": 5,
   "metadata": {},
   "outputs": [],
   "source": [
    "grid=xr.open_dataset(gridfile)\n",
    "navlat= grid['nav_lat'][jmin:jmax,imin:imax]\n",
    "navlon= grid['nav_lon'][jmin:jmax,imin:imax]\n"
   ]
  },
  {
   "cell_type": "code",
   "execution_count": 6,
   "metadata": {},
   "outputs": [],
   "source": [
    "def filt(w):\n",
    "    win_box2D = w.window\n",
    "    win_box2D.set(window='hanning', cutoff=90, dim=['x', 'y'], n=[90, 90])\n",
    "    bw = win_box2D.boundary_weights(drop_dims=[])\n",
    "    w_LS = win_box2D.convolve(weights=bw)\n",
    "    w_SS=w-w_LS\n",
    "    return w_SS\n"
   ]
  },
  {
   "cell_type": "code",
   "execution_count": 7,
   "metadata": {},
   "outputs": [],
   "source": [
    "def plot_fine_scale_hgradb(var,loncrs,latcrs,lon,lat,hpvarm,month,m,config,case):\n",
    "    ''' map of the averaged fine scale variance\n",
    "    '''\n",
    "    if region == 'EU':\n",
    "        fig, ax = plt.subplots(1,1,figsize=(10,15))\n",
    "    if region == 'GS':\n",
    "        fig, ax = plt.subplots(1,1,figsize=(15,10))\n",
    "    ax = plt.subplot(111,projection=ccrs.PlateCarree(central_longitude=0))\n",
    "    ax.autoscale(tight=True)\n",
    "    cont=np.isnan(hpvarm)\n",
    "    gl = ax.gridlines(draw_labels=True, linestyle=':', color='black',\n",
    "                      alpha=0.5)\n",
    "    gl.xformatter = LONGITUDE_FORMATTER\n",
    "    gl.yformatter = LATITUDE_FORMATTER\n",
    "    gl.xlabel_style = {'size': 25, 'color': 'gray'}\n",
    "    gl.ylabel_style = {'size': 25, 'color': 'gray'}\n",
    "    \n",
    "    ax.tick_params('both',labelsize=25)\n",
    "\n",
    "    pcolor = ax.pcolormesh(loncrs,latcrs,ma.masked_invalid(var),cmap=seq_cmap,vmin=0,vmax=0.1,alpha=1)\n",
    "    ax.contour(lon,lat,cont,alpha=0.5,linewidth=0.000001,antialiased=True,colors='black')\n",
    "    cbar = plt.colorbar(pcolor,orientation='horizontal',pad=0.1)\n",
    "    cbar.ax.tick_params(labelsize=35)\n",
    "    cbar.ax.tick_params(labelsize=25)\n",
    "    cbar.set_label('Small scales surface buoyancy horizontal gradient in '+month+' for '+config+'-'+case,fontsize=15)\n",
    "    plt.savefig('Plots/'+config+region+'-'+case+'_y'+year+'m'+m+'_fine_scale_horizontal_gradient_buoyancy.png')\n",
    "  "
   ]
  },
  {
   "cell_type": "code",
   "execution_count": 8,
   "metadata": {},
   "outputs": [],
   "source": [
    "month='03'"
   ]
  },
  {
   "cell_type": "code",
   "execution_count": 9,
   "metadata": {},
   "outputs": [],
   "source": [
    "    date_list=[]\n",
    "    if month == '03':\n",
    "        dayf=31\n",
    "    if month == '09':\n",
    "        dayf=30\n",
    "    for day in np.arange(1,dayf+1):\n",
    "        if day < 10:\n",
    "            date='y'+str(year)+'m'+str(month)+'d0'+str(day)\n",
    "        else:\n",
    "            date='y'+str(year)+'m'+str(month)+'d'+str(day)\n",
    "        date_list.append(date)\n",
    "    datadir='/store/molines/'+str(config)+'/'+str(config)+'-'+str(case)+'-S/'+str(freq)+'/'\n"
   ]
  },
  {
   "cell_type": "code",
   "execution_count": 11,
   "metadata": {},
   "outputs": [
    {
     "name": "stdout",
     "output_type": "stream",
     "text": [
      "['y2013m03d01', 'y2013m03d02', 'y2013m03d03', 'y2013m03d04', 'y2013m03d05', 'y2013m03d06', 'y2013m03d07', 'y2013m03d08', 'y2013m03d09', 'y2013m03d10', 'y2013m03d11', 'y2013m03d12', 'y2013m03d13', 'y2013m03d14', 'y2013m03d15', 'y2013m03d16', 'y2013m03d17', 'y2013m03d18', 'y2013m03d19', 'y2013m03d20', 'y2013m03d21', 'y2013m03d22', 'y2013m03d23', 'y2013m03d24', 'y2013m03d25', 'y2013m03d26', 'y2013m03d27', 'y2013m03d28', 'y2013m03d29', 'y2013m03d30', 'y2013m03d31']\n"
     ]
    }
   ],
   "source": [
    "print(date_list)"
   ]
  },
  {
   "cell_type": "code",
   "execution_count": 12,
   "metadata": {},
   "outputs": [],
   "source": [
    "date='y2013m03d01'"
   ]
  },
  {
   "cell_type": "code",
   "execution_count": 13,
   "metadata": {},
   "outputs": [],
   "source": [
    "        fileT=datadir+'*/'+str(config)+'-'+str(case)+'_'+str(date)+'.'+str(freq)+'_gridT.nc'\n",
    "        filebuoy='/scratch/cnt0024/hmg2840/albert7a/tmp/'+str(config)+'-'+str(case)+'_'+str(date)+'.'+str(freq)+'_buoyancy.nc'\n"
   ]
  },
  {
   "cell_type": "code",
   "execution_count": 14,
   "metadata": {},
   "outputs": [
    {
     "name": "stdout",
     "output_type": "stream",
     "text": [
      "/store/molines/NATL60/NATL60-CJM165-S/1d/2013/NATL60-CJM165_y2013m03d01.1d_gridT.nc\r\n"
     ]
    }
   ],
   "source": [
    "!ls $fileT"
   ]
  },
  {
   "cell_type": "code",
   "execution_count": 15,
   "metadata": {},
   "outputs": [
    {
     "name": "stdout",
     "output_type": "stream",
     "text": [
      "ls: impossible d'accéder à /scratch/cnt0024/hmg2840/albert7a/tmp/NATL60-CJM165_y2013m03d01.1d_buoyancy.nc: Aucun fichier ou dossier de ce type\r\n"
     ]
    }
   ],
   "source": [
    "!ls $filebuoy\n"
   ]
  },
  {
   "cell_type": "code",
   "execution_count": 16,
   "metadata": {},
   "outputs": [
    {
     "name": "stdout",
     "output_type": "stream",
     "text": [
      "Computing /scratch/cnt0024/hmg2840/albert7a/tmp/NATL60-CJM165_y2013m03d01.1d_buoyancy.nc\n",
      " npiglo =         5422\n",
      " npjglo =         3454\n",
      " npk    =          300\n",
      " npt    =            1\n",
      " nlev   =            1\n"
     ]
    }
   ],
   "source": [
    "            print('Computing '+str(filebuoy))\n",
    "            !ln -sf $meshhgrfile mesh_hgr.nc\n",
    "            !ln -sf $meshzgrfile mesh_zgr.nc\n",
    "            !ulimit -s unlimited; cdfbuoy -t $fileT votemper -s $fileT vosaline -l 1 -o $filebuoy\n",
    "            !rm mesh*\n"
   ]
  },
  {
   "cell_type": "code",
   "execution_count": 17,
   "metadata": {},
   "outputs": [
    {
     "name": "stdout",
     "output_type": "stream",
     "text": [
      "/scratch/cnt0024/hmg2840/albert7a/tmp/NATL60-CJM165_y2013m03d01.1d_buoyancy.nc\r\n"
     ]
    }
   ],
   "source": [
    "!ls $filebuoy"
   ]
  },
  {
   "cell_type": "code",
   "execution_count": 18,
   "metadata": {},
   "outputs": [
    {
     "name": "stdout",
     "output_type": "stream",
     "text": [
      "netcdf NATL60-CJM165_y2013m03d01.1d_buoyancy {\r\n",
      "dimensions:\r\n",
      "\tx = 5422 ;\r\n",
      "\ty = 3454 ;\r\n",
      "\tdeptht = 1 ;\r\n",
      "\ttime_counter = UNLIMITED ; // (1 currently)\r\n",
      "variables:\r\n",
      "\tfloat nav_lon(y, x) ;\r\n",
      "\t\tnav_lon:standard_name = \"longitude\" ;\r\n",
      "\t\tnav_lon:long_name = \"Longitude\" ;\r\n",
      "\t\tnav_lon:units = \"degrees_east\" ;\r\n",
      "\t\tnav_lon:nav_model = \"grid_T\" ;\r\n",
      "\tfloat nav_lat(y, x) ;\r\n",
      "\t\tnav_lat:standard_name = \"latitude\" ;\r\n",
      "\t\tnav_lat:long_name = \"Latitude\" ;\r\n",
      "\t\tnav_lat:units = \"degrees_north\" ;\r\n",
      "\t\tnav_lat:nav_model = \"grid_T\" ;\r\n",
      "\tfloat deptht(deptht) ;\r\n",
      "\t\tdeptht:long_name = \"Vertical T levels\" ;\r\n",
      "\t\tdeptht:units = \"m\" ;\r\n",
      "\t\tdeptht:axis = \"Z\" ;\r\n",
      "\t\tdeptht:positive = \"down\" ;\r\n",
      "\t\tdeptht:bounds = \"deptht_bounds\" ;\r\n",
      "\tfloat time_counter(time_counter) ;\r\n",
      "\t\ttime_counter:axis = \"T\" ;\r\n",
      "\t\ttime_counter:standard_name = \"time\" ;\r\n",
      "\t\ttime_counter:long_name = \"Time axis\" ;\r\n",
      "\t\ttime_counter:calendar = \"gregorian\" ;\r\n",
      "\t\ttime_counter:units = \"seconds since 1958-01-01 00:00:00\" ;\r\n",
      "\t\ttime_counter:time_origin = \"1958-01-01 00:00:00\" ;\r\n",
      "\t\ttime_counter:bounds = \"time_counter_bounds\" ;\r\n",
      "\tfloat sobuoy(time_counter, y, x) ;\r\n",
      "\t\tsobuoy:units = \"ms-2\" ;\r\n",
      "\t\tsobuoy:_FillValue = 0.f ;\r\n",
      "\t\tsobuoy:valid_min = -1000.f ;\r\n",
      "\t\tsobuoy:valid_max = 1000.f ;\r\n",
      "\t\tsobuoy:long_name = \"Buoyancy\" ;\r\n",
      "\t\tsobuoy:short_name = \"sobuoy\" ;\r\n",
      "\t\tsobuoy:iweight = 1 ;\r\n",
      "\t\tsobuoy:online_operation = \"N/A\" ;\r\n",
      "\t\tsobuoy:axis = \"TYX\" ;\r\n",
      "\t\tsobuoy:scale_factor = 1.f ;\r\n",
      "\t\tsobuoy:add_offset = 0.f ;\r\n",
      "\t\tsobuoy:savelog10 = 0.f ;\r\n",
      "\r\n",
      "// global attributes:\r\n",
      "\t\t:start_date = 20120301 ;\r\n",
      "\t\t:output_frequency = \"1d\" ;\r\n",
      "\t\t:CONFIG = \"NATL60\" ;\r\n",
      "\t\t:CASE = \"CJM165\" ;\r\n",
      "}\r\n"
     ]
    }
   ],
   "source": [
    "!ncdump -h $filebuoy"
   ]
  },
  {
   "cell_type": "code",
   "execution_count": 19,
   "metadata": {},
   "outputs": [],
   "source": [
    "        filegradb='/scratch/cnt0024/hmg2840/albert7a/tmp/'+str(config)+'-'+str(case)+'_'+str(date)+'.'+str(freq)+'_hgradb.nc'\n"
   ]
  },
  {
   "cell_type": "code",
   "execution_count": 20,
   "metadata": {},
   "outputs": [
    {
     "name": "stdout",
     "output_type": "stream",
     "text": [
      "ls: impossible d'accéder à /scratch/cnt0024/hmg2840/albert7a/tmp/NATL60-CJM165_y2013m03d01.1d_hgradb.nc: Aucun fichier ou dossier de ce type\r\n"
     ]
    }
   ],
   "source": [
    "!ls $filegradb"
   ]
  },
  {
   "cell_type": "code",
   "execution_count": 24,
   "metadata": {},
   "outputs": [
    {
     "name": "stdout",
     "output_type": "stream",
     "text": [
      "Computing /scratch/cnt0024/hmg2840/albert7a/tmp/NATL60-CJM165_y2013m03d01.1d_hgradb.nc\n",
      "  mesh_zgr version is v3.0\n",
      " npiglo =         5422\n",
      " npjglo =         3454\n",
      " npk    =            1\n",
      " npt    =            1\n",
      " level            1\n"
     ]
    }
   ],
   "source": [
    "            print('Computing '+str(filegradb))\n",
    "            !ln -sf $maskfile mask.nc\n",
    "            !ln -sf $meshhgrfile mesh_hgr.nc\n",
    "            !ln -sf $meshzgrfile mesh_zgr.nc\n",
    "            !ulimit -s unlimited; /scratch/cnt0024/hmg2840/albert7a/DEV/CDFTOOLS/bin/cdfhgrad -b $filebuoy -buoy sobuoy -o $filegradb\n",
    "            !rm mesh*\n"
   ]
  },
  {
   "cell_type": "code",
   "execution_count": 26,
   "metadata": {},
   "outputs": [
    {
     "name": "stdout",
     "output_type": "stream",
     "text": [
      "/scratch/cnt0024/hmg2840/albert7a/tmp/NATL60-CJM165_y2013m03d01.1d_hgradb.nc\r\n"
     ]
    }
   ],
   "source": [
    "!ls $filegradb"
   ]
  },
  {
   "cell_type": "code",
   "execution_count": 27,
   "metadata": {},
   "outputs": [
    {
     "name": "stdout",
     "output_type": "stream",
     "text": [
      "netcdf NATL60-CJM165_y2013m03d01.1d_hgradb {\r\n",
      "dimensions:\r\n",
      "\tx = 5422 ;\r\n",
      "\ty = 3454 ;\r\n",
      "\tdeptht = 1 ;\r\n",
      "\ttime_counter = UNLIMITED ; // (1 currently)\r\n",
      "variables:\r\n",
      "\tfloat nav_lon(y, x) ;\r\n",
      "\t\tnav_lon:standard_name = \"longitude\" ;\r\n",
      "\t\tnav_lon:long_name = \"Longitude\" ;\r\n",
      "\t\tnav_lon:units = \"degrees_east\" ;\r\n",
      "\t\tnav_lon:nav_model = \"grid_T\" ;\r\n",
      "\tfloat nav_lat(y, x) ;\r\n",
      "\t\tnav_lat:standard_name = \"latitude\" ;\r\n",
      "\t\tnav_lat:long_name = \"Latitude\" ;\r\n",
      "\t\tnav_lat:units = \"degrees_north\" ;\r\n",
      "\t\tnav_lat:nav_model = \"grid_T\" ;\r\n",
      "\tfloat deptht(deptht) ;\r\n",
      "\t\tdeptht:long_name = \"Vertical T levels\" ;\r\n",
      "\t\tdeptht:units = \"m\" ;\r\n",
      "\t\tdeptht:axis = \"Z\" ;\r\n",
      "\t\tdeptht:positive = \"down\" ;\r\n",
      "\t\tdeptht:bounds = \"deptht_bounds\" ;\r\n",
      "\tfloat time_counter(time_counter) ;\r\n",
      "\t\ttime_counter:axis = \"T\" ;\r\n",
      "\t\ttime_counter:standard_name = \"time\" ;\r\n",
      "\t\ttime_counter:long_name = \"Time axis\" ;\r\n",
      "\t\ttime_counter:calendar = \"gregorian\" ;\r\n",
      "\t\ttime_counter:units = \"seconds since 1958-01-01 00:00:00\" ;\r\n",
      "\t\ttime_counter:time_origin = \"1958-01-01 00:00:00\" ;\r\n",
      "\t\ttime_counter:bounds = \"time_counter_bounds\" ;\r\n",
      "\tfloat vohgradb(time_counter, y, x) ;\r\n",
      "\t\tvohgradb:units = \"s^{-2}\" ;\r\n",
      "\t\tvohgradb:_FillValue = -1000.f ;\r\n",
      "\t\tvohgradb:valid_min = -1.f ;\r\n",
      "\t\tvohgradb:valid_max = 1.f ;\r\n",
      "\t\tvohgradb:long_name = \"Horizontal gradient of buoyancy.\" ;\r\n",
      "\t\tvohgradb:short_name = \"vohgradb\" ;\r\n",
      "\t\tvohgradb:iweight = 1 ;\r\n",
      "\t\tvohgradb:online_operation = \"N/A\" ;\r\n",
      "\t\tvohgradb:axis = \"\" ;\r\n",
      "\t\tvohgradb:scale_factor = 1.f ;\r\n",
      "\t\tvohgradb:add_offset = 0.f ;\r\n",
      "\t\tvohgradb:savelog10 = 0.f ;\r\n",
      "\r\n",
      "// global attributes:\r\n",
      "\t\t:start_date = 20120301 ;\r\n",
      "\t\t:output_frequency = \"1d\" ;\r\n",
      "\t\t:CONFIG = \"NATL60\" ;\r\n",
      "\t\t:CASE = \"CJM165\" ;\r\n",
      "}\r\n"
     ]
    }
   ],
   "source": [
    "!ncdump -h $filegradb"
   ]
  },
  {
   "cell_type": "code",
   "execution_count": null,
   "metadata": {},
   "outputs": [],
   "source": []
  },
  {
   "cell_type": "code",
   "execution_count": 9,
   "metadata": {},
   "outputs": [],
   "source": [
    "def plot_hgradb(month):\n",
    "    date_list=[]\n",
    "    if month == '03':\n",
    "        dayf=31\n",
    "    if month == '09':\n",
    "        dayf=30\n",
    "    for day in np.arange(1,dayf+1):\n",
    "        if day < 10:\n",
    "            date='y'+str(year)+'m'+str(month)+'d0'+str(day)\n",
    "        else:\n",
    "            date='y'+str(year)+'m'+str(month)+'d'+str(day)\n",
    "        date_list.append(date)\n",
    "    datadir='/store/molines/'+str(config)+'/'+str(config)+'-'+str(case)+'-S/'+str(freq)+'/'\n",
    "    for date in date_list:\n",
    "        fileT=datadir+'*/'+str(config)+'-'+str(case)+'_'+str(date)+'.'+str(freq)+'_gridT.nc'\n",
    "        filebuoy='/scratch/cnt0024/hmg2840/albert7a/tmp/'+str(config)+'-'+str(case)+'_'+str(date)+'.'+str(freq)+'_buoyancy.nc'\n",
    "        if not os.path.exists(filebuoy):\n",
    "            print('Computing '+str(filebuoy))\n",
    "            !ln -sf $meshhgrfile mesh_hgr.nc\n",
    "            !ln -sf $meshzgrfile mesh_zgr.nc\n",
    "            !ulimit -s unlimited; cdfbuoy -t $fileT votemper -s $fileT vosaline -l 1 -o $filebuoy\n",
    "            !rm mesh*\n",
    "        filegradb='/scratch/cnt0024/hmg2840/albert7a/tmp/'+str(config)+'-'+str(case)+'_'+str(date)+'.'+str(freq)+'_hgradb.nc'\n",
    "        if not os.path.exists(filegradb):\n",
    "            print('Computing '+str(filegradb))\n",
    "            !ln -sf $maskfile mask.nc\n",
    "            !ln -sf $meshhgrfile mesh_hgr.nc\n",
    "            !ln -sf $meshzgrfile mesh_zgr.nc\n",
    "            !ulimit -s unlimited; /scratch/cnt0024/hmg2840/albert7a/DEV/CDFTOOLS/bin/cdfhgrad -b $filebuoy -buoy sobuoy -o $filegradb\n",
    "            !rm mesh*\n",
    "    fileshgradb='/scratch/cnt0024/hmg2840/albert7a/tmp/'+str(config)+'-'+str(case)+'_y'+str(year)+'m'+str(month)+'d??.'+str(freq)+'_hgradb.nc'\n",
    "    dshgradb=xr.open_mfdataset(fileshgradb,chunks={'time_counter':1,'y':700,'x':1000})\n",
    "    hgradb=dshgradb.vohgradb[:,jmin:jmax,imin:imax]\n",
    "    hgradb_SS=filt(hgradb)\n",
    "    hgradb_LS=hgradb-hgradb_SS\n",
    "    hphgradb=hgradb_SS\n",
    "    hphgradb2 = hphgradb ** 2\n",
    "    hphgradb2m = hphgradb2.mean(axis=0,keep_attrs=True)\n",
    "    navlat2=np.array(navlat).squeeze()\n",
    "    navlon2=np.array(navlon).squeeze()\n",
    "    mgrd = GriddedData.grid2D(navlat=navlat2, navlon=navlon2)\n",
    "    crs = GriddedData.grdCoarsener(mgrd,crs_factor=60)\n",
    "    hphgradb2mc = crs.return_ravel(np.asarray(hphgradb2m))\n",
    "    hphgradb2mcm = np.mean(hphgradb2mc,axis=-3)\n",
    "    latcrs=crs.return_ravel(np.asarray(navlat2))\n",
    "    loncrs=crs.return_ravel(np.asarray(navlon2))\n",
    "    latcrsm=np.mean(latcrs,axis=-3)\n",
    "    loncrsm=np.mean(loncrs,axis=-3)\n",
    "    if month == '03':\n",
    "        plot_fine_scale_variance(hphgradb2mcm,loncrsm, latcrsm,navlon,navlat,hphgradb2m,'March',month,config,case)\n",
    "    if month == '09':\n",
    "        plot_fine_scale_variance(hphgradb2mcm,loncrsm, latcrsm,navlon,navlat,hphgradb2m,'September',month,config,case)\n",
    "        "
   ]
  },
  {
   "cell_type": "code",
   "execution_count": 10,
   "metadata": {
    "scrolled": false
   },
   "outputs": [
    {
     "name": "stderr",
     "output_type": "stream",
     "text": [
      "/scratch/cnt0024/hmg2840/albert7a/anaconda3/lib/python3.7/site-packages/xarray/core/dataarray.py:218: FutureWarning: The Panel class is removed from pandas. Accessing it from the top-level namespace will also be removed in the next version\n",
      "  elif isinstance(data, pd.Panel):\n",
      "/scratch/cnt0024/hmg2840/albert7a/anaconda3/lib/python3.7/site-packages/cartopy/mpl/geoaxes.py:1366: UserWarning: The following kwargs were not used by contour: 'linewidth'\n",
      "  result = matplotlib.axes.Axes.contour(self, *args, **kwargs)\n"
     ]
    },
    {
     "data": {
      "image/png": "[encoded data removed]",
      "text/plain": [
       "<Figure size 1080x720 with 2 Axes>"
      ]
     },
     "metadata": {
      "needs_background": "light"
     },
     "output_type": "display_data"
    },
    {
     "name": "stderr",
     "output_type": "stream",
     "text": [
      "distributed.nanny - WARNING - Worker process 61578 was killed by signal 9\n",
      "distributed.nanny - WARNING - Worker process 61576 was killed by signal 9\n",
      "distributed.nanny - WARNING - Worker process 61580 was killed by signal 9\n",
      "distributed.nanny - WARNING - Worker process 61582 was killed by signal 9\n",
      "distributed.nanny - WARNING - Worker process 61586 was killed by signal 9\n",
      "distributed.nanny - WARNING - Worker process 61588 was killed by signal 9\n",
      "distributed.nanny - WARNING - Worker process 61590 was killed by signal 9\n",
      "distributed.nanny - WARNING - Restarting worker\n",
      "distributed.nanny - WARNING - Restarting worker\n",
      "distributed.nanny - WARNING - Restarting worker\n",
      "distributed.nanny - WARNING - Restarting worker\n",
      "distributed.nanny - WARNING - Restarting worker\n",
      "distributed.nanny - WARNING - Restarting worker\n",
      "distributed.nanny - WARNING - Restarting worker\n"
     ]
    }
   ],
   "source": [
    "month_list=['03','09']\n",
    "\n",
    "for month in month_list:\n",
    "    if not os.path.exists('Plots/'+config+region+'-'+case+'_y'+year+'m'+month+'_fine_scale_horizontal_gradient_buoyancy.png'):\n",
    "        plot_vorticity_variance(month)"
   ]
  },
  {
   "cell_type": "code",
   "execution_count": null,
   "metadata": {},
   "outputs": [],
   "source": []
  }
 ],
 "metadata": {
  "celltoolbar": "Tags",
  "kernelspec": {
   "display_name": "Python 3",
   "language": "python",
   "name": "python3"
  },
  "language_info": {
   "codemirror_mode": {
    "name": "ipython",
    "version": 3
   },
   "file_extension": ".py",
   "mimetype": "text/x-python",
   "name": "python",
   "nbconvert_exporter": "python",
   "pygments_lexer": "ipython3",
   "version": "3.7.3"
  }
 },
 "nbformat": 4,
 "nbformat_minor": 1
}
