{
 "cells": [
  {
   "cell_type": "code",
   "execution_count": 2,
   "metadata": {},
   "outputs": [],
   "source": [
    "import papermill as pm"
   ]
  },
  {
   "cell_type": "code",
   "execution_count": null,
   "metadata": {},
   "outputs": [
    {
     "name": "stdout",
     "output_type": "stream",
     "text": [
      "region : GS case : MPC001\n"
     ]
    },
    {
     "data": {
      "application/vnd.jupyter.widget-view+json": {
       "model_id": "54e3dce05e074881bf8c24f2d8e04cb1",
       "version_major": 2,
       "version_minor": 0
      },
      "text/plain": [
       "HBox(children=(IntProgress(value=0, description='Executing', max=17, style=ProgressStyle(description_width='in…"
      ]
     },
     "metadata": {},
     "output_type": "display_data"
    }
   ],
   "source": [
    "freq='1d'\n",
    "for region in ['GS']:\n",
    "    for case in ['MPC001','MPC002','MPC003']:\n",
    "        print('region : '+str(region)+' case : '+str(case))\n",
    "        pm.execute_notebook('/scratch/cnt0024/hmg2840/albert7a/DEV/git/diags-CMEMS-on-occigen/Kinetic-energy/2020-01-13-AA-ratio-total-small-scale-kinetic-energy-march-september.ipynb','/scratch/cnt0024/hmg2840/albert7a/DEV/git/diags-CMEMS-on-occigen/Kinetic-energy/outputs/output.ipynb',parameters=dict(region=region,case=case,freq='1d'))"
   ]
  },
  {
   "cell_type": "code",
   "execution_count": null,
   "metadata": {},
   "outputs": [],
   "source": [
    "freq='1d'\n",
    "for region in ['EU']:\n",
    "    for case in ['MPC003']:\n",
    "        print('region : '+str(region)+' case : '+str(case))\n",
    "        pm.execute_notebook('/scratch/cnt0024/hmg2840/albert7a/DEV/git/diags-CMEMS-on-occigen/Kinetic-energy/2020-01-13-AA-ratio-total-small-scale-kinetic-energy-march-september.ipynb','/scratch/cnt0024/hmg2840/albert7a/DEV/git/diags-CMEMS-on-occigen/Kinetic-energy/outputs/output.ipynb',parameters=dict(region=region,case=case,freq='1d'))"
   ]
  }
 ],
 "metadata": {
  "kernelspec": {
   "display_name": "Python 3",
   "language": "python",
   "name": "python3"
  },
  "language_info": {
   "codemirror_mode": {
    "name": "ipython",
    "version": 3
   },
   "file_extension": ".py",
   "mimetype": "text/x-python",
   "name": "python",
   "nbconvert_exporter": "python",
   "pygments_lexer": "ipython3",
   "version": "3.7.3"
  }
 },
 "nbformat": 4,
 "nbformat_minor": 2
}
