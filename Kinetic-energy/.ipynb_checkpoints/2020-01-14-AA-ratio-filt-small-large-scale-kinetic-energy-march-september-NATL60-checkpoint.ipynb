{
 "cells": [
  {
   "cell_type": "code",
   "execution_count": 1,
   "metadata": {
    "tags": [
     "parameters"
    ]
   },
   "outputs": [],
   "source": [
    "config='NATL60'\n",
    "case='CJM165'\n",
    "freq='1d'\n",
    "region='EU'\n",
    "\n",
    "year='2013'\n"
   ]
  },
  {
   "cell_type": "code",
   "execution_count": 2,
   "metadata": {},
   "outputs": [
    {
     "name": "stderr",
     "output_type": "stream",
     "text": [
      "/scratch/cnt0024/hmg2840/albert7a/anaconda3/lib/python3.7/site-packages/dask/config.py:168: YAMLLoadWarning: calling yaml.load() without Loader=... is deprecated, as the default Loader is unsafe. Please read https://msg.pyyaml.org/load for full details.\n",
      "  data = yaml.load(f.read()) or {}\n",
      "/scratch/cnt0024/hmg2840/albert7a/anaconda3/lib/python3.7/site-packages/distributed/bokeh/core.py:74: UserWarning: \n",
      "Failed to start diagnostics server on port 8787. [Errno 13] Permission denied\n",
      "  warnings.warn(\"\\n\" + msg)\n"
     ]
    },
    {
     "data": {
      "application/vnd.jupyter.widget-view+json": {
       "model_id": "cf25b8b57d26428db6b502d413778aec",
       "version_major": 2,
       "version_minor": 0
      },
      "text/plain": [
       "VBox(children=(HTML(value='<h2>SLURMCluster</h2>'), HBox(children=(HTML(value='\\n<div>\\n  <style scoped>\\n    …"
      ]
     },
     "metadata": {},
     "output_type": "display_data"
    }
   ],
   "source": [
    "from dask_jobqueue import SLURMCluster \n",
    "from dask.distributed import Client \n",
    "  \n",
    "cluster = SLURMCluster(cores=28,name='make_profiles',walltime='00:30:00',job_extra=['--constraint=HSW24','--exclusive','--nodes=1'],memory='120GB',interface='ib0') \n",
    "cluster.scale(280)\n",
    "cluster"
   ]
  },
  {
   "cell_type": "code",
   "execution_count": 3,
   "metadata": {},
   "outputs": [
    {
     "data": {
      "text/html": [
       "<table style=\"border: 2px solid white;\">\n",
       "<tr>\n",
       "<td style=\"vertical-align: top; border: 0px solid white\">\n",
       "<h3>Client</h3>\n",
       "<ul>\n",
       "  <li><b>Scheduler: </b>tcp://172.30.100.1:35111\n",
       "  <li><b>Dashboard: </b><a href='http://172.30.100.1:34500/status' target='_blank'>http://172.30.100.1:34500/status</a>\n",
       "</ul>\n",
       "</td>\n",
       "<td style=\"vertical-align: top; border: 0px solid white\">\n",
       "<h3>Cluster</h3>\n",
       "<ul>\n",
       "  <li><b>Workers: </b>0</li>\n",
       "  <li><b>Cores: </b>0</li>\n",
       "  <li><b>Memory: </b>0 B</li>\n",
       "</ul>\n",
       "</td>\n",
       "</tr>\n",
       "</table>"
      ],
      "text/plain": [
       "<Client: scheduler='tcp://172.30.100.1:35111' processes=0 cores=0>"
      ]
     },
     "execution_count": 3,
     "metadata": {},
     "output_type": "execute_result"
    }
   ],
   "source": [
    "from dask.distributed import Client\n",
    "client = Client(cluster)\n",
    "client"
   ]
  },
  {
   "cell_type": "code",
   "execution_count": 4,
   "metadata": {},
   "outputs": [
    {
     "name": "stdout",
     "output_type": "stream",
     "text": [
      "             JOBID PARTITION     NAME     USER ST       TIME  NODES NODELIST(REASON)\r\n",
      "           8987230     hsw24 make_pro albert7a  R       0:01      1 n2916\r\n",
      "           8987231     hsw24 make_pro albert7a  R       0:01      1 n2987\r\n",
      "           8987232     hsw24 make_pro albert7a  R       0:01      1 n2652\r\n",
      "           8987233     hsw24 make_pro albert7a  R       0:01      1 n2653\r\n",
      "           8987234     hsw24 make_pro albert7a  R       0:01      1 n2676\r\n",
      "           8987235     hsw24 make_pro albert7a  R       0:01      1 n2677\r\n",
      "           8987236     hsw24 make_pro albert7a  R       0:01      1 n2267\r\n",
      "           8987237     hsw24 make_pro albert7a  R       0:01      1 n2270\r\n",
      "           8987238     hsw24 make_pro albert7a  R       0:01      1 n2275\r\n",
      "           8987239     hsw24 make_pro albert7a  R       0:01      1 n2388\r\n"
     ]
    }
   ],
   "source": [
    "!squeue -u albert7a"
   ]
  },
  {
   "cell_type": "code",
   "execution_count": 5,
   "metadata": {},
   "outputs": [
    {
     "name": "stdout",
     "output_type": "stream",
     "text": [
      "123\n"
     ]
    }
   ],
   "source": [
    "import time\n",
    "nb_workers = 0\n",
    "while True:\n",
    "    nb_workers = len(client.scheduler_info()[\"workers\"])\n",
    "    if nb_workers >= 2:\n",
    "        break\n",
    "    time.sleep(1)\n",
    "print(nb_workers)"
   ]
  },
  {
   "cell_type": "code",
   "execution_count": 6,
   "metadata": {},
   "outputs": [],
   "source": [
    "## path for mdules\n",
    "\n",
    "import sys\n",
    "sys.path.insert(0,\"/scratch/cnt0024/hmg2840/albert7a/DEV/git/xscale\")\n",
    "import xscale\n",
    "\n",
    "sys.path.insert(0,\"/scratch/cnt0024/hmg2840/albert7a/DEV/git/diags-CMEMS-on-occigen/common-lib/\")\n",
    "import GriddedData\n",
    "\n",
    "import os\n",
    "import sys\n",
    "import numpy as np\n",
    "import numpy.ma as ma\n",
    "import xarray as xr\n",
    "import matplotlib.pyplot as plt\n",
    "import matplotlib.ticker as mticker\n",
    "import cartopy.crs as ccrs\n",
    "from cartopy.mpl.gridliner import LONGITUDE_FORMATTER, LATITUDE_FORMATTER\n",
    "import cartopy.feature as cfeature\n",
    "import cmocean\n",
    "import glob\n",
    "import time\n",
    "\n",
    "%matplotlib inline\n"
   ]
  },
  {
   "cell_type": "code",
   "execution_count": 7,
   "metadata": {},
   "outputs": [],
   "source": [
    "if region == 'EU':\n",
    "    imin=3858\n",
    "    imax=5076\n",
    "    jmin=424\n",
    "    jmax=3286\n",
    "    \n",
    "#cdffindij -w -80.418  -40.000   26.991   47.986 -c /store/molines/NATL60/NATL60-I/NATL60_coordinates_v4.nc\n",
    "if region == 'GS':\n",
    "    imin=63\n",
    "    imax=2507\n",
    "    jmin=29\n",
    "    jmax=1611"
   ]
  },
  {
   "cell_type": "code",
   "execution_count": 8,
   "metadata": {},
   "outputs": [],
   "source": [
    "## Dataset\n",
    "\n",
    "gridfile='/store/molines/NATL60/NATL60-I/NATL60_coordinates_v4.nc'\n",
    "maskfile='/store/molines/NATL60/NATL60-I/NATL60_v4.1_cdf_byte_mask.nc'\n",
    "meshhgrfile='/store/molines/NATL60/NATL60-I/NATL60_v4.1_cdf_mesh_hgr.nc'\n",
    "meshzgrfile='/store/molines/NATL60/NATL60-I/NATL60_v4.1_cdf_mesh_zgr.nc'"
   ]
  },
  {
   "cell_type": "code",
   "execution_count": 9,
   "metadata": {},
   "outputs": [],
   "source": [
    "grid=xr.open_dataset(gridfile)\n",
    "navlat= grid['nav_lat'][jmin:jmax,imin:imax]\n",
    "navlon= grid['nav_lon'][jmin:jmax,imin:imax]"
   ]
  },
  {
   "cell_type": "code",
   "execution_count": 10,
   "metadata": {},
   "outputs": [],
   "source": [
    "def compute_TKE(u2mean,v2mean):\n",
    "    ua=0.5*(u2mean+u2mean.shift(x=1))\n",
    "    va=0.5*(v2mean+v2mean.shift(y=1))\n",
    "    uat=ua.rename({'depthu':'deptht'})\n",
    "    vat=va.rename({'depthv':'deptht'})\n",
    "    tke=0.5*(uat+vat)\n",
    "    return tke\n"
   ]
  },
  {
   "cell_type": "code",
   "execution_count": 11,
   "metadata": {},
   "outputs": [],
   "source": [
    "def compute_EKE(u2,v2,u2mean,v2mean):\n",
    "    ua=0.5*((-1*u2+u2mean)+(-1*u2.shift(x=1)+u2mean.shift(x=1)))\n",
    "    va=0.5*((-1*v2+v2mean)+(-1*v2.shift(y=1)+v2mean.shift(y=1)))\n",
    "    uat=ua.rename({'depthu':'deptht'})\n",
    "    vat=va.rename({'depthv':'deptht'})\n",
    "    eke=0.5*(uat+vat)\n",
    "    return eke\n"
   ]
  },
  {
   "cell_type": "code",
   "execution_count": 12,
   "metadata": {},
   "outputs": [],
   "source": [
    "def filt(w):\n",
    "    win_box2D = w.window\n",
    "    win_box2D.set(window='hanning', cutoff=90, dim=['x', 'y'], n=[90, 90])\n",
    "    bw = win_box2D.boundary_weights(drop_dims=[])\n",
    "    w_LS = win_box2D.convolve(weights=bw)\n",
    "    w_SS=w-w_LS\n",
    "    return w_SS\n"
   ]
  },
  {
   "cell_type": "code",
   "execution_count": 17,
   "metadata": {},
   "outputs": [],
   "source": [
    "month_name={1:'January',2:'February',3:'March',4:'April',5:'May',6:'June',7:'July',8:'August',9:'September',10:'October',11:'November',12:'December'}\n",
    "def plot_ratio_eke_tke_monthly(var,loncrs,latcrs,lon,lat,hpvarm,m,mm,config,case):\n",
    "    if region == 'EU':\n",
    "        fig, ax = plt.subplots(1,1,figsize=(10,15))\n",
    "    if region == 'GS':\n",
    "        fig, ax = plt.subplots(1,1,figsize=(15,10))\n",
    "    ax = plt.subplot(111,projection=ccrs.PlateCarree(central_longitude=0))\n",
    "    ax.autoscale(tight=True)\n",
    "    cont=np.isnan(hpvarm)\n",
    "    gl = ax.gridlines(draw_labels=True, linestyle=':', color='black',\n",
    "                      alpha=0.5)\n",
    "    gl.xformatter = LONGITUDE_FORMATTER\n",
    "    gl.yformatter = LATITUDE_FORMATTER\n",
    "    gl.xlabel_style = {'size': 25, 'color': 'gray'}\n",
    "    gl.ylabel_style = {'size': 25, 'color': 'gray'}\n",
    "    \n",
    "    ax.tick_params('both',labelsize=25)\n",
    "\n",
    "    pcolor = ax.pcolormesh(loncrs,latcrs,ma.masked_invalid(var),cmap='rainbow',vmin=0,vmax=2,alpha=1)\n",
    "    ax.contour(lon,lat,cont,alpha=0.5,linewidth=0.000001,antialiased=True,colors='black')\n",
    "    cbar = plt.colorbar(pcolor,orientation='horizontal',pad=0.1)\n",
    "    cbar.ax.tick_params(labelsize=35)\n",
    "    cbar.ax.tick_params(labelsize=25)\n",
    "    cbar.set_label('Ratio of eke over tke in '+str(month_name[m])+' for '+config+'-'+case,fontsize=15)\n",
    "    plt.savefig('Plots/'+config+region+'-'+case+'_y'+year+'m'+mm+'_ratio_eke_tke.png')\n",
    "  "
   ]
  },
  {
   "cell_type": "code",
   "execution_count": 18,
   "metadata": {},
   "outputs": [],
   "source": [
    "def plot_ratio(month,year):\n",
    "    mm = \"{:02d}\".format(month)\n",
    "    datadir='/store/molines/'+str(config)+'/'+str(config)+'-'+str(case)+'-S/'+str(freq)+'/'+str(year)+'/'\n",
    "    filesU=sorted(glob.glob(datadir+'/'+str(config)+'-'+str(case)+'_y'+str(year)+'m'+str(mm)+'d??.'+str(freq)+'_gridU.nc'))\n",
    "    filesV=sorted(glob.glob(datadir+'/'+str(config)+'-'+str(case)+'_y'+str(year)+'m'+str(mm)+'d??.'+str(freq)+'_gridV.nc'))\n",
    "    dsU=xr.open_mfdataset(filesU, chunks={'x':700,'y':1000,'time_counter':10,'depthu':1})\n",
    "    dsV=xr.open_mfdataset(filesV, chunks={'x':700,'y':1000,'time_counter':10,'depthv':1})\n",
    "    u=dsU.vozocrtx\n",
    "    v=dsV.vomecrty\n",
    "    u_SS=filt(u)\n",
    "    u_LS=u-u_SS\n",
    "    v_SS=filt(v)\n",
    "    v_LS=v-v_SS\n",
    "    u2_SS=u_SS[:,0,jmin:jmax,imin:imax]*u_SS[:,0,jmin:jmax,imin:imax]\n",
    "    v2_SS=v_SS[:,0,jmin:jmax,imin:imax]*v_SS[:,0,jmin:jmax,imin:imax]\n",
    "    tke_SS=compute_TKE(u2_SS,v2_SS)\n",
    "    u2_LS=u_LS[:,0,jmin:jmax,imin:imax]*u_LS[:,0,jmin:jmax,imin:imax]\n",
    "    v2_LS=v_LS[:,0,jmin:jmax,imin:imax]*v_LS[:,0,jmin:jmax,imin:imax]\n",
    "    tke_LS=compute_TKE(u2_LS,v2_LS)\n",
    "    ratio=tke_SS.mean(dim='time_counter')/tke_LS.mean(dim='time_counter')\n",
    "    hpcurl=ratio\n",
    "    hpcurl2 = hpcurl ** 2\n",
    "    navlat2=np.array(navlat).squeeze()\n",
    "    navlon2=np.array(navlon).squeeze()\n",
    "    mgrd = GriddedData.grid2D(navlat=navlat2, navlon=navlon2)\n",
    "    crs = GriddedData.grdCoarsener(mgrd,crs_factor=60)\n",
    "    hpcurl2mc = crs.return_ravel(np.asarray(hpcurl2))\n",
    "    hpcurl2mcm = np.mean(hpcurl2mc,axis=-3)\n",
    "    latcrs=crs.return_ravel(np.asarray(navlat2))\n",
    "    loncrs=crs.return_ravel(np.asarray(navlon2))\n",
    "    latcrsm=np.mean(latcrs,axis=-3)\n",
    "    loncrsm=np.mean(loncrs,axis=-3)\n",
    "    plot_ratio_eke_tke_monthly(hpcurl2mcm,loncrsm,latcrsm,navlon,navlat,ratio,month,mm,config,case)\n"
   ]
  },
  {
   "cell_type": "code",
   "execution_count": null,
   "metadata": {},
   "outputs": [
    {
     "name": "stderr",
     "output_type": "stream",
     "text": [
      "/scratch/cnt0024/hmg2840/albert7a/anaconda3/lib/python3.7/site-packages/ipykernel_launcher.py:6: FutureWarning: In xarray version 0.15 the default behaviour of `open_mfdataset`\n",
      "will change. To retain the existing behavior, pass\n",
      "combine='nested'. To use future default behavior, pass\n",
      "combine='by_coords'. See\n",
      "http://xarray.pydata.org/en/stable/combining.html#combining-multi\n",
      "\n",
      "  \n",
      "/scratch/cnt0024/hmg2840/albert7a/anaconda3/lib/python3.7/site-packages/xarray/backends/api.py:933: FutureWarning: The datasets supplied have global dimension coordinates. You may want\n",
      "to use the new `combine_by_coords` function (or the\n",
      "`combine='by_coords'` option to `open_mfdataset`) to order the datasets\n",
      "before concatenation. Alternatively, to continue concatenating based\n",
      "on the order the datasets are supplied in future, please use the new\n",
      "`combine_nested` function (or the `combine='nested'` option to\n",
      "open_mfdataset).\n",
      "  from_openmfds=True,\n",
      "/scratch/cnt0024/hmg2840/albert7a/anaconda3/lib/python3.7/site-packages/ipykernel_launcher.py:7: FutureWarning: In xarray version 0.15 the default behaviour of `open_mfdataset`\n",
      "will change. To retain the existing behavior, pass\n",
      "combine='nested'. To use future default behavior, pass\n",
      "combine='by_coords'. See\n",
      "http://xarray.pydata.org/en/stable/combining.html#combining-multi\n",
      "\n",
      "  import sys\n",
      "/scratch/cnt0024/hmg2840/albert7a/anaconda3/lib/python3.7/site-packages/xarray/backends/api.py:933: FutureWarning: The datasets supplied have global dimension coordinates. You may want\n",
      "to use the new `combine_by_coords` function (or the\n",
      "`combine='by_coords'` option to `open_mfdataset`) to order the datasets\n",
      "before concatenation. Alternatively, to continue concatenating based\n",
      "on the order the datasets are supplied in future, please use the new\n",
      "`combine_nested` function (or the `combine='nested'` option to\n",
      "open_mfdataset).\n",
      "  from_openmfds=True,\n",
      "distributed.utils_perf - WARNING - full garbage collections took 27% CPU time recently (threshold: 10%)\n",
      "distributed.comm.tcp - WARNING - Closing dangling stream in <TCP  local=tcp://172.30.100.1:53792 remote=tcp://172.30.100.1:35111>\n",
      "distributed.comm.tcp - WARNING - Closing dangling stream in <TCP  local=tcp://172.30.100.1:53638 remote=tcp://172.30.100.1:35111>\n",
      "distributed.utils_perf - WARNING - full garbage collections took 29% CPU time recently (threshold: 10%)\n",
      "distributed.comm.tcp - WARNING - Closing dangling stream in <TCP  local=tcp://172.30.100.1:54048 remote=tcp://172.30.100.1:35111>\n",
      "distributed.comm.tcp - WARNING - Closing dangling stream in <TCP  local=tcp://172.30.100.1:33846 remote=tcp://172.30.100.1:35111>\n",
      "distributed.utils_perf - WARNING - full garbage collections took 31% CPU time recently (threshold: 10%)\n"
     ]
    }
   ],
   "source": [
    "for month in [3,9]:\n",
    "    plot_ratio(month,year)"
   ]
  },
  {
   "cell_type": "code",
   "execution_count": 16,
   "metadata": {},
   "outputs": [
    {
     "name": "stderr",
     "output_type": "stream",
     "text": [
      "distributed.utils_perf - WARNING - full garbage collections took 31% CPU time recently (threshold: 10%)\n"
     ]
    },
    {
     "name": "stdout",
     "output_type": "stream",
     "text": [
      "276\n"
     ]
    }
   ],
   "source": [
    "#test if workers still active\n",
    "print(len(client.scheduler_info()[\"workers\"]))"
   ]
  },
  {
   "cell_type": "code",
   "execution_count": null,
   "metadata": {},
   "outputs": [],
   "source": []
  }
 ],
 "metadata": {
  "celltoolbar": "Tags",
  "kernelspec": {
   "display_name": "Python 3",
   "language": "python",
   "name": "python3"
  },
  "language_info": {
   "codemirror_mode": {
    "name": "ipython",
    "version": 3
   },
   "file_extension": ".py",
   "mimetype": "text/x-python",
   "name": "python",
   "nbconvert_exporter": "python",
   "pygments_lexer": "ipython3",
   "version": "3.7.3"
  }
 },
 "nbformat": 4,
 "nbformat_minor": 2
}
