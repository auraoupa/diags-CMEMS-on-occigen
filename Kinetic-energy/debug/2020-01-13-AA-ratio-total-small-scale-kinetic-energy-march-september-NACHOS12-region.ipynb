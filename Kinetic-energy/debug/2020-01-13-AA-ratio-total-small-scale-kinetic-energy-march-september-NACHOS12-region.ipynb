{
 "cells": [
  {
   "cell_type": "code",
   "execution_count": 1,
   "metadata": {},
   "outputs": [],
   "source": [
    "#params\n",
    "\n",
    "region='GS'\n"
   ]
  },
  {
   "cell_type": "code",
   "execution_count": 2,
   "metadata": {},
   "outputs": [
    {
     "name": "stderr",
     "output_type": "stream",
     "text": [
      "/scratch/cnt0024/hmg2840/albert7a/anaconda3/lib/python3.7/site-packages/dask/config.py:168: YAMLLoadWarning: calling yaml.load() without Loader=... is deprecated, as the default Loader is unsafe. Please read https://msg.pyyaml.org/load for full details.\n",
      "  data = yaml.load(f.read()) or {}\n",
      "/scratch/cnt0024/hmg2840/albert7a/anaconda3/lib/python3.7/site-packages/distributed/bokeh/core.py:74: UserWarning: \n",
      "Failed to start diagnostics server on port 8787. [Errno 13] Permission denied\n",
      "  warnings.warn(\"\\n\" + msg)\n"
     ]
    },
    {
     "data": {
      "application/vnd.jupyter.widget-view+json": {
       "model_id": "edbea9938896450aacc7e30754595a50",
       "version_major": 2,
       "version_minor": 0
      },
      "text/plain": [
       "VBox(children=(HTML(value='<h2>SLURMCluster</h2>'), HBox(children=(HTML(value='\\n<div>\\n  <style scoped>\\n    …"
      ]
     },
     "metadata": {},
     "output_type": "display_data"
    }
   ],
   "source": [
    "from dask_jobqueue import SLURMCluster \n",
    "from dask.distributed import Client \n",
    "  \n",
    "cluster = SLURMCluster(cores=28,name='make_profiles',walltime='00:30:00',job_extra=['--constraint=HSW24','--exclusive','--nodes=1'],memory='120GB',interface='ib0') \n",
    "cluster.scale(280)\n",
    "cluster"
   ]
  },
  {
   "cell_type": "code",
   "execution_count": 3,
   "metadata": {},
   "outputs": [
    {
     "data": {
      "text/html": [
       "<table style=\"border: 2px solid white;\">\n",
       "<tr>\n",
       "<td style=\"vertical-align: top; border: 0px solid white\">\n",
       "<h3>Client</h3>\n",
       "<ul>\n",
       "  <li><b>Scheduler: </b>tcp://172.30.100.2:36269\n",
       "  <li><b>Dashboard: </b><a href='http://172.30.100.2:33209/status' target='_blank'>http://172.30.100.2:33209/status</a>\n",
       "</ul>\n",
       "</td>\n",
       "<td style=\"vertical-align: top; border: 0px solid white\">\n",
       "<h3>Cluster</h3>\n",
       "<ul>\n",
       "  <li><b>Workers: </b>0</li>\n",
       "  <li><b>Cores: </b>0</li>\n",
       "  <li><b>Memory: </b>0 B</li>\n",
       "</ul>\n",
       "</td>\n",
       "</tr>\n",
       "</table>"
      ],
      "text/plain": [
       "<Client: scheduler='tcp://172.30.100.2:36269' processes=0 cores=0>"
      ]
     },
     "execution_count": 3,
     "metadata": {},
     "output_type": "execute_result"
    }
   ],
   "source": [
    "from dask.distributed import Client\n",
    "client = Client(cluster)\n",
    "client"
   ]
  },
  {
   "cell_type": "code",
   "execution_count": 4,
   "metadata": {},
   "outputs": [
    {
     "name": "stdout",
     "output_type": "stream",
     "text": [
      "             JOBID PARTITION     NAME     USER ST       TIME  NODES NODELIST(REASON)\r\n",
      "           8606550     hsw24 make_pro albert7a PD       0:00      1 (Resources)\r\n",
      "           8606551     hsw24 make_pro albert7a PD       0:00      1 (Priority)\r\n",
      "           8606552     hsw24 make_pro albert7a PD       0:00      1 (Priority)\r\n",
      "           8606553     hsw24 make_pro albert7a PD       0:00      1 (Priority)\r\n",
      "           8606554     hsw24 make_pro albert7a PD       0:00      1 (Resources)\r\n",
      "           8606555     hsw24 make_pro albert7a PD       0:00      1 (Resources)\r\n",
      "           8606546     hsw24 make_pro albert7a  R       0:07      1 n2501\r\n",
      "           8606547     hsw24 make_pro albert7a  R       0:07      1 n2173\r\n",
      "           8606548     hsw24 make_pro albert7a  R       0:07      1 n2178\r\n",
      "           8606549     hsw24 make_pro albert7a  R       0:07      1 n2187\r\n"
     ]
    }
   ],
   "source": [
    "!squeue -u albert7a"
   ]
  },
  {
   "cell_type": "code",
   "execution_count": 5,
   "metadata": {},
   "outputs": [
    {
     "name": "stdout",
     "output_type": "stream",
     "text": [
      "112\n"
     ]
    }
   ],
   "source": [
    "import time\n",
    "nb_workers = 0\n",
    "while True:\n",
    "    nb_workers = len(client.scheduler_info()[\"workers\"])\n",
    "    if nb_workers >= 2:\n",
    "        break\n",
    "    time.sleep(1)\n",
    "print(nb_workers)"
   ]
  },
  {
   "cell_type": "code",
   "execution_count": 6,
   "metadata": {},
   "outputs": [
    {
     "name": "stderr",
     "output_type": "stream",
     "text": [
      "/scratch/cnt0024/hmg2840/albert7a/anaconda3/lib/python3.7/site-packages/xarray/core/merge.py:16: FutureWarning: The Panel class is removed from pandas. Accessing it from the top-level namespace will also be removed in the next version\n",
      "  PANDAS_TYPES = (pd.Series, pd.DataFrame, pd.Panel)\n"
     ]
    }
   ],
   "source": [
    "## path for mdules\n",
    "\n",
    "import sys\n",
    "sys.path.insert(0,\"/scratch/cnt0024/hmg2840/albert7a/DEV/git/xscale\")\n",
    "import xscale\n",
    "\n",
    "sys.path.insert(0,\"/scratch/cnt0024/hmg2840/albert7a/DEV/git/diags-CMEMS-on-occigen/common-lib/\")\n",
    "import GriddedData\n",
    "\n",
    "import os\n",
    "import sys\n",
    "import numpy as np\n",
    "import numpy.ma as ma\n",
    "import xarray as xr\n",
    "import matplotlib.pyplot as plt\n",
    "import matplotlib.ticker as mticker\n",
    "import cartopy.crs as ccrs\n",
    "from cartopy.mpl.gridliner import LONGITUDE_FORMATTER, LATITUDE_FORMATTER\n",
    "import cartopy.feature as cfeature\n",
    "import cmocean\n",
    "import glob\n",
    "import time\n",
    "\n",
    "%matplotlib inline\n"
   ]
  },
  {
   "cell_type": "code",
   "execution_count": 7,
   "metadata": {},
   "outputs": [],
   "source": [
    "if region == 'EU':\n",
    "    imin=970\n",
    "    imax=1213\n",
    "    jmin=651\n",
    "    jmax=1224\n",
    "if region == 'GS':\n",
    "    imin=195\n",
    "    imax=699\n",
    "    jmin=572\n",
    "    jmax=889"
   ]
  },
  {
   "cell_type": "code",
   "execution_count": 8,
   "metadata": {},
   "outputs": [],
   "source": [
    "config='NACHOS12.L75'\n",
    "freq='1d'\n",
    "\n",
    "#!ls $datadir\n",
    "gridfile='/scratch/cnt0024/hmg2840/albert7a/NACHOS12.L75/NACHOS12.L75-I/NACHOS12.L75_coordinates.nc'\n",
    "maskfile='/scratch/cnt0024/hmg2840/albert7a/NACHOS12.L75/NACHOS12.L75-I/NACHOS12.L75_MAA40_mesh_mask.nc'"
   ]
  },
  {
   "cell_type": "code",
   "execution_count": 11,
   "metadata": {},
   "outputs": [],
   "source": [
    "dsgrid=xr.open_dataset(gridfile)\n",
    "dsmask=xr.open_dataset(maskfile)\n",
    "navlat= dsgrid['gphit']\n",
    "navlon= dsgrid['glamt']\n"
   ]
  },
  {
   "cell_type": "code",
   "execution_count": 12,
   "metadata": {},
   "outputs": [],
   "source": [
    "def compute_TKE(u2mean,v2mean):\n",
    "    ua=0.5*(u2mean+u2mean.shift(x=1))\n",
    "    va=0.5*(v2mean+v2mean.shift(y=1))\n",
    "    uat=ua.rename({'depthu':'deptht'})\n",
    "    vat=va.rename({'depthv':'deptht'})\n",
    "    tke=0.5*(uat+vat)\n",
    "    return tke\n"
   ]
  },
  {
   "cell_type": "code",
   "execution_count": 13,
   "metadata": {},
   "outputs": [],
   "source": [
    "def compute_EKE(u2,v2,u2mean,v2mean):\n",
    "    ua=0.5*((-1*u2+u2mean)+(-1*u2.shift(x=1)+u2mean.shift(x=1)))\n",
    "    va=0.5*((-1*v2+v2mean)+(-1*v2.shift(y=1)+v2mean.shift(y=1)))\n",
    "    uat=ua.rename({'depthu':'deptht'})\n",
    "    vat=va.rename({'depthv':'deptht'})\n",
    "    eke=0.5*(uat+vat)\n",
    "    return eke\n"
   ]
  },
  {
   "cell_type": "code",
   "execution_count": 14,
   "metadata": {},
   "outputs": [],
   "source": [
    "month_name={1:'January',2:'February',3:'March',4:'April',5:'May',6:'June',7:'July',8:'August',9:'September',10:'October',11:'November',12:'December'}\n",
    "def plot_ratio_eke_tke_monthly(var,loncrs,latcrs,lon,lat,hpvarm,m,mm,config,case):\n",
    "    if region == 'EU':\n",
    "        fig, ax = plt.subplots(1,1,figsize=(10,15))\n",
    "    if region == 'GS':\n",
    "        fig, ax = plt.subplots(1,1,figsize=(15,10))\n",
    "    ax = plt.subplot(111,projection=ccrs.PlateCarree(central_longitude=0))\n",
    "    ax.autoscale(tight=True)\n",
    "    cont=np.isnan(hpvarm)\n",
    "    gl = ax.gridlines(draw_labels=True, linestyle=':', color='black',\n",
    "                      alpha=0.5)\n",
    "    gl.xformatter = LONGITUDE_FORMATTER\n",
    "    gl.yformatter = LATITUDE_FORMATTER\n",
    "    gl.xlabel_style = {'size': 25, 'color': 'gray'}\n",
    "    gl.ylabel_style = {'size': 25, 'color': 'gray'}\n",
    "    \n",
    "    ax.tick_params('both',labelsize=25)\n",
    "\n",
    "    pcolor = ax.pcolormesh(loncrs,latcrs,ma.masked_invalid(var),cmap='rainbow',vmin=0,vmax=1,alpha=1)\n",
    "    ax.contour(lon,lat,cont,alpha=0.5,linewidth=0.000001,antialiased=True,colors='black')\n",
    "    cbar = plt.colorbar(pcolor,orientation='horizontal',pad=0.1)\n",
    "    cbar.ax.tick_params(labelsize=35)\n",
    "    cbar.ax.tick_params(labelsize=25)\n",
    "    cbar.set_label('Ratio of eke over tke in '+str(month_name[m])+' for '+config+'-'+case,fontsize=15)\n",
    "    plt.savefig('Plots/'+config+'-'+case+'_y'+year+'m'+mm+'_ratio_eke_tke.png')\n",
    "  "
   ]
  },
  {
   "cell_type": "code",
   "execution_count": 15,
   "metadata": {},
   "outputs": [],
   "source": [
    "def plot_ratio(month,year):\n",
    "    if year == '2010':\n",
    "        case='MAA4001'\n",
    "    else:\n",
    "        case='MAA4002'\n",
    "    mm = \"{:02d}\".format(month)\n",
    "    datadir='/scratch/cnt0024/hmg2840/albert7a/'+str(config)+'/'+str(config)+'-'+str(case)+'-S/'+str(freq)+'/'\n",
    "    filesU=sorted(glob.glob(datadir+'/'+year+'/'+str(config)+'-'+str(case)+'_y'+str(year)+'m'+str(mm)+'d??.'+str(freq)+'_gridU.nc'))\n",
    "    filesV=sorted(glob.glob(datadir+'/'+year+'/'+str(config)+'-'+str(case)+'_y'+str(year)+'m'+str(mm)+'d??.'+str(freq)+'_gridV.nc'))\n",
    "    dsU=xr.open_mfdataset(filesU, chunks={'x':700,'y':1000,'time_counter':10,'depthu':1})\n",
    "    dsV=xr.open_mfdataset(filesV, chunks={'x':700,'y':1000,'time_counter':10,'depthv':1})\n",
    "    u=dsU.vozocrtx[:,:,jmin:jmax,imin:imax]\n",
    "    v=dsV.vomecrty[:,:,jmin:jmax,imin:imax]\n",
    "    mask=dsmask.tmask[0,:,jmin:jmax,imin:imax]\n",
    "    umean=u.mean(dim='time_counter')\n",
    "    vmean=v.mean(dim='time_counter')\n",
    "    umean2=umean*umean\n",
    "    vmean2=vmean*vmean\n",
    "    u2=u*u\n",
    "    v2=v*v\n",
    "    u2mean=u2.mean(dim='time_counter')\n",
    "    v2mean=v2.mean(dim='time_counter')\n",
    "    tke=compute_TKE(u2,v2)\n",
    "    eke=compute_EKE(umean2,vmean2,u2mean,v2mean)\n",
    "    tkemean=tke.mean(dim='time_counter')\n",
    "    ratio=eke/tkemean\n",
    "    hpcurl=ratio\n",
    "    hpcurl2 = hpcurl ** 2\n",
    "    hpcurl2m = hpcurl2.mean(axis=0,keep_attrs=True)\n",
    "    navlat2=np.array(navlat).squeeze()\n",
    "    navlon2=np.array(navlon).squeeze()\n",
    "    mgrd = GriddedData.grid2D(navlat=navlat2, navlon=navlon2)\n",
    "    crs = GriddedData.grdCoarsener(mgrd,crs_factor=12)\n",
    "    hpcurl2mc = crs.return_ravel(np.asarray(hpcurl2m))\n",
    "    hpcurl2mcm = np.mean(hpcurl2mc,axis=-3)\n",
    "    latcrs=crs.return_ravel(np.asarray(navlat2))\n",
    "    loncrs=crs.return_ravel(np.asarray(navlon2))\n",
    "    latcrsm=np.mean(latcrs,axis=-3)\n",
    "    loncrsm=np.mean(loncrs,axis=-3)\n",
    "    plot_ratio_eke_tke_monthly(ratio,loncrs,latcrs,lon,lat,hpvarm,mm,month,config,case)\n",
    "        "
   ]
  },
  {
   "cell_type": "code",
   "execution_count": 16,
   "metadata": {},
   "outputs": [
    {
     "name": "stdout",
     "output_type": "stream",
     "text": [
      "shape and coarsening factors are not compatible\n"
     ]
    },
    {
     "ename": "IndexError",
     "evalue": "tuple index out of range",
     "output_type": "error",
     "traceback": [
      "\u001b[0;31m---------------------------------------------------------------------------\u001b[0m",
      "\u001b[0;31mIndexError\u001b[0m                                Traceback (most recent call last)",
      "\u001b[0;32m<ipython-input-16-a56937995888>\u001b[0m in \u001b[0;36m<module>\u001b[0;34m\u001b[0m\n\u001b[1;32m      2\u001b[0m \u001b[0;31m#for month in [3,9]:\u001b[0m\u001b[0;34m\u001b[0m\u001b[0;34m\u001b[0m\u001b[0;34m\u001b[0m\u001b[0m\n\u001b[1;32m      3\u001b[0m \u001b[0;32mfor\u001b[0m \u001b[0mmonth\u001b[0m \u001b[0;32min\u001b[0m \u001b[0;34m[\u001b[0m\u001b[0;36m9\u001b[0m\u001b[0;34m]\u001b[0m\u001b[0;34m:\u001b[0m\u001b[0;34m\u001b[0m\u001b[0;34m\u001b[0m\u001b[0m\n\u001b[0;32m----> 4\u001b[0;31m     \u001b[0mplot_ratio\u001b[0m\u001b[0;34m(\u001b[0m\u001b[0mmonth\u001b[0m\u001b[0;34m,\u001b[0m\u001b[0myear\u001b[0m\u001b[0;34m)\u001b[0m\u001b[0;34m\u001b[0m\u001b[0;34m\u001b[0m\u001b[0m\n\u001b[0m",
      "\u001b[0;32m<ipython-input-15-52c3c71f1f80>\u001b[0m in \u001b[0;36mplot_ratio\u001b[0;34m(month, year)\u001b[0m\n\u001b[1;32m     33\u001b[0m     \u001b[0mcrs\u001b[0m \u001b[0;34m=\u001b[0m \u001b[0mGriddedData\u001b[0m\u001b[0;34m.\u001b[0m\u001b[0mgrdCoarsener\u001b[0m\u001b[0;34m(\u001b[0m\u001b[0mmgrd\u001b[0m\u001b[0;34m,\u001b[0m\u001b[0mcrs_factor\u001b[0m\u001b[0;34m=\u001b[0m\u001b[0;36m12\u001b[0m\u001b[0;34m)\u001b[0m\u001b[0;34m\u001b[0m\u001b[0;34m\u001b[0m\u001b[0m\n\u001b[1;32m     34\u001b[0m     \u001b[0mhpcurl2mc\u001b[0m \u001b[0;34m=\u001b[0m \u001b[0mcrs\u001b[0m\u001b[0;34m.\u001b[0m\u001b[0mreturn_ravel\u001b[0m\u001b[0;34m(\u001b[0m\u001b[0mnp\u001b[0m\u001b[0;34m.\u001b[0m\u001b[0masarray\u001b[0m\u001b[0;34m(\u001b[0m\u001b[0mhpcurl2m\u001b[0m\u001b[0;34m)\u001b[0m\u001b[0;34m)\u001b[0m\u001b[0;34m\u001b[0m\u001b[0;34m\u001b[0m\u001b[0m\n\u001b[0;32m---> 35\u001b[0;31m     \u001b[0mhpcurl2mcm\u001b[0m \u001b[0;34m=\u001b[0m \u001b[0mnp\u001b[0m\u001b[0;34m.\u001b[0m\u001b[0mmean\u001b[0m\u001b[0;34m(\u001b[0m\u001b[0mhpcurl2mc\u001b[0m\u001b[0;34m,\u001b[0m\u001b[0maxis\u001b[0m\u001b[0;34m=\u001b[0m\u001b[0;34m-\u001b[0m\u001b[0;36m3\u001b[0m\u001b[0;34m)\u001b[0m\u001b[0;34m\u001b[0m\u001b[0;34m\u001b[0m\u001b[0m\n\u001b[0m\u001b[1;32m     36\u001b[0m     \u001b[0mlatcrs\u001b[0m\u001b[0;34m=\u001b[0m\u001b[0mcrs\u001b[0m\u001b[0;34m.\u001b[0m\u001b[0mreturn_ravel\u001b[0m\u001b[0;34m(\u001b[0m\u001b[0mnp\u001b[0m\u001b[0;34m.\u001b[0m\u001b[0masarray\u001b[0m\u001b[0;34m(\u001b[0m\u001b[0mnavlat2\u001b[0m\u001b[0;34m)\u001b[0m\u001b[0;34m)\u001b[0m\u001b[0;34m\u001b[0m\u001b[0;34m\u001b[0m\u001b[0m\n\u001b[1;32m     37\u001b[0m     \u001b[0mloncrs\u001b[0m\u001b[0;34m=\u001b[0m\u001b[0mcrs\u001b[0m\u001b[0;34m.\u001b[0m\u001b[0mreturn_ravel\u001b[0m\u001b[0;34m(\u001b[0m\u001b[0mnp\u001b[0m\u001b[0;34m.\u001b[0m\u001b[0masarray\u001b[0m\u001b[0;34m(\u001b[0m\u001b[0mnavlon2\u001b[0m\u001b[0;34m)\u001b[0m\u001b[0;34m)\u001b[0m\u001b[0;34m\u001b[0m\u001b[0;34m\u001b[0m\u001b[0m\n",
      "\u001b[0;32m<__array_function__ internals>\u001b[0m in \u001b[0;36mmean\u001b[0;34m(*args, **kwargs)\u001b[0m\n",
      "\u001b[0;32m/scratch/cnt0024/hmg2840/albert7a/anaconda3/lib/python3.7/site-packages/numpy/core/fromnumeric.py\u001b[0m in \u001b[0;36mmean\u001b[0;34m(a, axis, dtype, out, keepdims)\u001b[0m\n\u001b[1;32m   3255\u001b[0m \u001b[0;34m\u001b[0m\u001b[0m\n\u001b[1;32m   3256\u001b[0m     return _methods._mean(a, axis=axis, dtype=dtype,\n\u001b[0;32m-> 3257\u001b[0;31m                           out=out, **kwargs)\n\u001b[0m\u001b[1;32m   3258\u001b[0m \u001b[0;34m\u001b[0m\u001b[0m\n\u001b[1;32m   3259\u001b[0m \u001b[0;34m\u001b[0m\u001b[0m\n",
      "\u001b[0;32m/scratch/cnt0024/hmg2840/albert7a/anaconda3/lib/python3.7/site-packages/numpy/core/_methods.py\u001b[0m in \u001b[0;36m_mean\u001b[0;34m(a, axis, dtype, out, keepdims)\u001b[0m\n\u001b[1;32m    136\u001b[0m \u001b[0;34m\u001b[0m\u001b[0m\n\u001b[1;32m    137\u001b[0m     \u001b[0mis_float16_result\u001b[0m \u001b[0;34m=\u001b[0m \u001b[0;32mFalse\u001b[0m\u001b[0;34m\u001b[0m\u001b[0;34m\u001b[0m\u001b[0m\n\u001b[0;32m--> 138\u001b[0;31m     \u001b[0mrcount\u001b[0m \u001b[0;34m=\u001b[0m \u001b[0m_count_reduce_items\u001b[0m\u001b[0;34m(\u001b[0m\u001b[0marr\u001b[0m\u001b[0;34m,\u001b[0m \u001b[0maxis\u001b[0m\u001b[0;34m)\u001b[0m\u001b[0;34m\u001b[0m\u001b[0;34m\u001b[0m\u001b[0m\n\u001b[0m\u001b[1;32m    139\u001b[0m     \u001b[0;31m# Make this warning show up first\u001b[0m\u001b[0;34m\u001b[0m\u001b[0;34m\u001b[0m\u001b[0;34m\u001b[0m\u001b[0m\n\u001b[1;32m    140\u001b[0m     \u001b[0;32mif\u001b[0m \u001b[0mrcount\u001b[0m \u001b[0;34m==\u001b[0m \u001b[0;36m0\u001b[0m\u001b[0;34m:\u001b[0m\u001b[0;34m\u001b[0m\u001b[0;34m\u001b[0m\u001b[0m\n",
      "\u001b[0;32m/scratch/cnt0024/hmg2840/albert7a/anaconda3/lib/python3.7/site-packages/numpy/core/_methods.py\u001b[0m in \u001b[0;36m_count_reduce_items\u001b[0;34m(arr, axis)\u001b[0m\n\u001b[1;32m     55\u001b[0m     \u001b[0mitems\u001b[0m \u001b[0;34m=\u001b[0m \u001b[0;36m1\u001b[0m\u001b[0;34m\u001b[0m\u001b[0;34m\u001b[0m\u001b[0m\n\u001b[1;32m     56\u001b[0m     \u001b[0;32mfor\u001b[0m \u001b[0max\u001b[0m \u001b[0;32min\u001b[0m \u001b[0maxis\u001b[0m\u001b[0;34m:\u001b[0m\u001b[0;34m\u001b[0m\u001b[0;34m\u001b[0m\u001b[0m\n\u001b[0;32m---> 57\u001b[0;31m         \u001b[0mitems\u001b[0m \u001b[0;34m*=\u001b[0m \u001b[0marr\u001b[0m\u001b[0;34m.\u001b[0m\u001b[0mshape\u001b[0m\u001b[0;34m[\u001b[0m\u001b[0max\u001b[0m\u001b[0;34m]\u001b[0m\u001b[0;34m\u001b[0m\u001b[0;34m\u001b[0m\u001b[0m\n\u001b[0m\u001b[1;32m     58\u001b[0m     \u001b[0;32mreturn\u001b[0m \u001b[0mitems\u001b[0m\u001b[0;34m\u001b[0m\u001b[0;34m\u001b[0m\u001b[0m\n\u001b[1;32m     59\u001b[0m \u001b[0;34m\u001b[0m\u001b[0m\n",
      "\u001b[0;31mIndexError\u001b[0m: tuple index out of range"
     ]
    }
   ],
   "source": [
    "year='2012'\n",
    "#for month in [3,9]:\n",
    "for month in [9]:\n",
    "    plot_ratio(month,year)"
   ]
  },
  {
   "cell_type": "code",
   "execution_count": null,
   "metadata": {},
   "outputs": [],
   "source": [
    "#test if workers still active\n",
    "print(len(client.scheduler_info()[\"workers\"]))"
   ]
  },
  {
   "cell_type": "code",
   "execution_count": null,
   "metadata": {},
   "outputs": [],
   "source": []
  }
 ],
 "metadata": {
  "kernelspec": {
   "display_name": "Python 3",
   "language": "python",
   "name": "python3"
  },
  "language_info": {
   "codemirror_mode": {
    "name": "ipython",
    "version": 3
   },
   "file_extension": ".py",
   "mimetype": "text/x-python",
   "name": "python",
   "nbconvert_exporter": "python",
   "pygments_lexer": "ipython3",
   "version": "3.7.3"
  }
 },
 "nbformat": 4,
 "nbformat_minor": 2
}
