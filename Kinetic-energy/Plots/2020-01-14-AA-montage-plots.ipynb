{
 "cells": [
  {
   "cell_type": "code",
   "execution_count": 1,
   "metadata": {},
   "outputs": [
    {
     "name": "stdout",
     "output_type": "stream",
     "text": [
      "convert: impossible d'ouvrir l'image `NATL60EU-CJM165_y2013m03_ratio_eke_tke.png': Aucun fichier ou dossier de ce type @ error/blob.c/OpenBlob/2643.\n",
      "convert: impossible d'ouvrir le fichier `NATL60EU-CJM165_y2013m03_ratio_eke_tke.png' @ error/png.c/ReadPNGImage/3733.\n",
      "convert: pas d'images définies `NATL60EU-CJM165_y2013m03_ratio_eke_tke.png' @ error/convert.c/ConvertImageCommand/3046.\n",
      "convert: impossible d'ouvrir l'image `NATL60EU-CJM165_y2013m09_ratio_eke_tke.png': Aucun fichier ou dossier de ce type @ error/blob.c/OpenBlob/2643.\n",
      "convert: impossible d'ouvrir le fichier `NATL60EU-CJM165_y2013m09_ratio_eke_tke.png' @ error/png.c/ReadPNGImage/3733.\n",
      "convert: pas d'images définies `NATL60EU-CJM165_y2013m09_ratio_eke_tke.png' @ error/convert.c/ConvertImageCommand/3046.\n"
     ]
    }
   ],
   "source": [
    "for file in ['EU36-MPC001_y2012m03_ratio_eke_tke.png','EU36-MPC003_y2012m03_ratio_eke_tke.png','EU36-MPC002_y2012m03_ratio_eke_tke.png','NATL60EU-CJM165_y2013m03_ratio_eke_tke.png','EU36-MPC001_y2012m09_ratio_eke_tke.png','EU36-MPC003_y2012m09_ratio_eke_tke.png','EU36-MPC002_y2012m09_ratio_eke_tke.png','NATL60EU-CJM165_y2013m09_ratio_eke_tke.png']:\n",
    "    !convert $file -trim -bordercolor White -border 20x10 +repage $file"
   ]
  },
  {
   "cell_type": "code",
   "execution_count": 2,
   "metadata": {},
   "outputs": [
    {
     "name": "stdout",
     "output_type": "stream",
     "text": [
      "montage: impossible d'ouvrir l'image `NATL60EU-CJM165_y2013m03_ratio_eke_tke.png': Aucun fichier ou dossier de ce type @ error/blob.c/OpenBlob/2643.\r\n",
      "montage: impossible d'ouvrir le fichier `NATL60EU-CJM165_y2013m03_ratio_eke_tke.png' @ error/png.c/ReadPNGImage/3733.\r\n",
      "montage: impossible d'ouvrir l'image `NATL60EU-CJM165_y2013m09_ratio_eke_tke.png': Aucun fichier ou dossier de ce type @ error/blob.c/OpenBlob/2643.\r\n",
      "montage: impossible d'ouvrir le fichier `NATL60EU-CJM165_y2013m09_ratio_eke_tke.png' @ error/png.c/ReadPNGImage/3733.\r\n"
     ]
    }
   ],
   "source": [
    "!montage EU36-MPC001_y2012m03_ratio_eke_tke.png  EU36-MPC003_y2012m03_ratio_eke_tke.png EU36-MPC002_y2012m03_ratio_eke_tke.png NATL60EU-CJM165_y2013m03_ratio_eke_tke.png EU36-MPC001_y2012m09_ratio_eke_tke.png  EU36-MPC003_y2012m09_ratio_eke_tke.png EU36-MPC002_y2012m09_ratio_eke_tke.png NATL60EU-CJM165_y2013m09_ratio_eke_tke.png -geometry 800x900 -tile 4x2 -quality 100 EU36-MPC001_MPC002_MPC003_NATL60_y2012_ratio_eke_tke.png\n",
    "\n",
    "!convert EU36-MPC001_MPC002_MPC003_NATL60_y2012_ratio_eke_tke.png -trim -bordercolor White -border 20x10 +repage EU36-MPC001_MPC002_MPC003_NATL60_y2012_ratio_eke_tke.png\n",
    "\n"
   ]
  },
  {
   "cell_type": "code",
   "execution_count": 3,
   "metadata": {},
   "outputs": [
    {
     "name": "stdout",
     "output_type": "stream",
     "text": [
      "convert: impossible d'ouvrir l'image `NATL60GS-CJM165_y2013m03_ratio_eke_tke.png': Aucun fichier ou dossier de ce type @ error/blob.c/OpenBlob/2643.\n",
      "convert: impossible d'ouvrir le fichier `NATL60GS-CJM165_y2013m03_ratio_eke_tke.png' @ error/png.c/ReadPNGImage/3733.\n",
      "convert: pas d'images définies `NATL60GS-CJM165_y2013m03_ratio_eke_tke.png' @ error/convert.c/ConvertImageCommand/3046.\n",
      "convert: impossible d'ouvrir l'image `NATL60GS-CJM165_y2013m09_ratio_eke_tke.png': Aucun fichier ou dossier de ce type @ error/blob.c/OpenBlob/2643.\n",
      "convert: impossible d'ouvrir le fichier `NATL60GS-CJM165_y2013m09_ratio_eke_tke.png' @ error/png.c/ReadPNGImage/3733.\n",
      "convert: pas d'images définies `NATL60GS-CJM165_y2013m09_ratio_eke_tke.png' @ error/convert.c/ConvertImageCommand/3046.\n"
     ]
    }
   ],
   "source": [
    "for file in ['GS36-MPC001_y2012m03_ratio_eke_tke.png','GS36-MPC003_y2012m03_ratio_eke_tke.png','GS36-MPC002_y2012m03_ratio_eke_tke.png','NATL60GS-CJM165_y2013m03_ratio_eke_tke.png','GS36-MPC001_y2012m09_ratio_eke_tke.png','GS36-MPC003_y2012m09_ratio_eke_tke.png','GS36-MPC002_y2012m09_ratio_eke_tke.png','NATL60GS-CJM165_y2013m09_ratio_eke_tke.png']:\n",
    "    !convert $file -trim -bordercolor White -border 20x10 +repage $file"
   ]
  },
  {
   "cell_type": "code",
   "execution_count": 4,
   "metadata": {},
   "outputs": [
    {
     "name": "stdout",
     "output_type": "stream",
     "text": [
      "montage: impossible d'ouvrir l'image `NATL60GS-CJM165_y2013m03_ratio_eke_tke.png': Aucun fichier ou dossier de ce type @ error/blob.c/OpenBlob/2643.\r\n",
      "montage: impossible d'ouvrir le fichier `NATL60GS-CJM165_y2013m03_ratio_eke_tke.png' @ error/png.c/ReadPNGImage/3733.\r\n",
      "montage: impossible d'ouvrir l'image `NATL60GS-CJM165_y2013m09_ratio_eke_tke.png': Aucun fichier ou dossier de ce type @ error/blob.c/OpenBlob/2643.\r\n",
      "montage: impossible d'ouvrir le fichier `NATL60GS-CJM165_y2013m09_ratio_eke_tke.png' @ error/png.c/ReadPNGImage/3733.\r\n"
     ]
    }
   ],
   "source": [
    "!montage GS36-MPC001_y2012m03_ratio_eke_tke.png  GS36-MPC003_y2012m03_ratio_eke_tke.png GS36-MPC002_y2012m03_ratio_eke_tke.png NATL60GS-CJM165_y2013m03_ratio_eke_tke.png GS36-MPC001_y2012m09_ratio_eke_tke.png  GS36-MPC003_y2012m09_ratio_eke_tke.png GS36-MPC002_y2012m09_ratio_eke_tke.png NATL60GS-CJM165_y2013m09_ratio_eke_tke.png -geometry 1400x900 -tile 4x2 -quality 100 GS36-MPC001_MPC002_MPC003_NATL60_y2012_ratio_eke_tke.png\n",
    "\n",
    "!convert GS36-MPC001_MPC002_MPC003_NATL60_y2012_ratio_eke_tke.png -trim -bordercolor White -border 20x10 +repage GS36-MPC001_MPC002_MPC003_NATL60_y2012_ratio_eke_tke.png\n",
    "\n"
   ]
  },
  {
   "cell_type": "code",
   "execution_count": null,
   "metadata": {},
   "outputs": [],
   "source": []
  }
 ],
 "metadata": {
  "kernelspec": {
   "display_name": "Python 3",
   "language": "python",
   "name": "python3"
  },
  "language_info": {
   "codemirror_mode": {
    "name": "ipython",
    "version": 3
   },
   "file_extension": ".py",
   "mimetype": "text/x-python",
   "name": "python",
   "nbconvert_exporter": "python",
   "pygments_lexer": "ipython3",
   "version": "3.7.3"
  }
 },
 "nbformat": 4,
 "nbformat_minor": 2
}
