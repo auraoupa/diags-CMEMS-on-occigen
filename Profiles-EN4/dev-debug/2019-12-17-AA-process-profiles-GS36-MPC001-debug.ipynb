{
 "cells": [
  {
   "cell_type": "code",
   "execution_count": 1,
   "metadata": {},
   "outputs": [
    {
     "name": "stderr",
     "output_type": "stream",
     "text": [
      "/scratch/cnt0024/hmg2840/albert7a/anaconda3/lib/python3.7/site-packages/dask/config.py:168: YAMLLoadWarning: calling yaml.load() without Loader=... is deprecated, as the default Loader is unsafe. Please read https://msg.pyyaml.org/load for full details.\n",
      "  data = yaml.load(f.read()) or {}\n",
      "/scratch/cnt0024/hmg2840/albert7a/anaconda3/lib/python3.7/site-packages/xarray/core/merge.py:16: FutureWarning: The Panel class is removed from pandas. Accessing it from the top-level namespace will also be removed in the next version\n",
      "  PANDAS_TYPES = (pd.Series, pd.DataFrame, pd.Panel)\n"
     ]
    }
   ],
   "source": [
    "import numpy as np\n",
    "import dask\n",
    "import xarray as xr\n",
    "from netCDF4 import Dataset\n",
    "import matplotlib.pyplot as plt\n",
    "import pandas as pd\n",
    "import datetime\n",
    "import glob as glob\n",
    "import time\n",
    "from dask.diagnostics import ProgressBar\n",
    "from datetime import date\n",
    "import json\n",
    "import os\n",
    "import warnings\n",
    "warnings.filterwarnings('ignore')\n"
   ]
  },
  {
   "cell_type": "code",
   "execution_count": 21,
   "metadata": {},
   "outputs": [],
   "source": [
    "def process(jsonfile,infos,prof,dsN,latN,lonN,timN):\n",
    "    ''' Make all the steps needed to create the final netcdf files for one profile\n",
    "    '''\n",
    "    list_profiles = infos.keys()\n",
    "    reference =  str(list(list_profiles)[prof])\n",
    "    print('Processing profile ', reference)\n",
    "    lat_prof = infos[list(list_profiles)[prof]]['latitude']\n",
    "    lon_prof = infos[list(list_profiles)[prof]]['longitude']\n",
    "    date_prof = infos[list(list_profiles)[prof]]['date']\n",
    "    file_prof = infos[list(list_profiles)[prof]]['file']\n",
    "    prof_prof = infos[list(list_profiles)[prof]]['profile no']\n",
    "\n",
    "    check=check_prof_GS36_boundaries(dsN,latN,lonN,timN,lat_prof,lon_prof,date_prof)\n",
    "    if check == 0.:\n",
    "        profil_temp_model_mean,profil_temp_model_percent10,profil_temp_model_percent90,profil_salt_model_mean,profil_salt_model_percent10,profil_salt_model_percent90,observation_dep,obsred_temp,obsred_salt,dep_level,model_dep,obsred_dep,observation_lat,observation_lon,observation_time = model_mean_percent_profile(file_prof,prof_prof,dsN,latN,lonN,timN)\n",
    "        create_netcdf_profile(jsonfile,reference,prof_prof,observation_lat,observation_lon,observation_time,profil_temp_model_mean,profil_temp_model_percent10,profil_temp_model_percent90,profil_salt_model_mean,profil_salt_model_percent10,profil_salt_model_percent90,observation_dep,obsred_temp,obsred_salt,dep_level,model_dep,obsred_dep)\n"
   ]
  },
  {
   "cell_type": "code",
   "execution_count": 3,
   "metadata": {},
   "outputs": [],
   "source": [
    "def open_gs36():\n",
    "    print('Opening GS36')\n",
    "    #NATL60\n",
    "    tfiles=\"/scratch/cnt0024/hmg2840/colombo/GS36/GS36-MPC001-S/1d/2012/GS36-MPC001_y20??m??d??.1d_gridT.nc\"\n",
    "\n",
    "    ##Open NATL60 files to get boundaries of domain\n",
    "\n",
    "    dsN = xr.open_mfdataset(tfiles,concat_dim='time_counter',decode_times=False, chunks={'deptht':1 ,'time_counter':10})\n",
    "\n",
    "    latN = dsN.nav_lat\n",
    "    lonN = dsN.nav_lon\n",
    "    timN = dsN.time_counter\n",
    "    return dsN,latN,lonN,timN\n"
   ]
  },
  {
   "cell_type": "code",
   "execution_count": 23,
   "metadata": {},
   "outputs": [],
   "source": [
    "def check_prof_GS36_boundaries(dsN,latN,lonN,timN,lat_prof,lon_prof,date_prof):\n",
    "    ''' Check if the selected profile falls within NATL60 boundaries\n",
    "    '''\n",
    "\n",
    "    lamin=np.nanmin(latN.values)\n",
    "    lamax=np.nanmax(latN.values)\n",
    "    lomin=np.nanmin(lonN.values)\n",
    "    lomax=np.nanmax(lonN.values)\n",
    "\n",
    "    if (lamin < lat_prof < lamax) & (lomin < lon_prof < lomax) :\n",
    "        check=0.\n",
    "        print(\"selected profile falls within GS36 boundaries, the program is proceeding\")\n",
    "    else:\n",
    "        check=1.\n",
    "        print(\"selected profile does not fall within GS36 boundaries, the program is stopping\")\n",
    "    return check\n"
   ]
  },
  {
   "cell_type": "code",
   "execution_count": 26,
   "metadata": {},
   "outputs": [
    {
     "name": "stdout",
     "output_type": "stream",
     "text": [
      "Processing profile  b' A20121001-03173'\n"
     ]
    }
   ],
   "source": [
    "    list_profiles = infos.keys()\n",
    "    reference =  str(list(list_profiles)[prof])\n",
    "    print('Processing profile ', reference)\n",
    "    lat_prof = infos[list(list_profiles)[prof]]['latitude']\n",
    "    lon_prof = infos[list(list_profiles)[prof]]['longitude']\n",
    "    date_prof = infos[list(list_profiles)[prof]]['date']\n",
    "    file_prof = infos[list(list_profiles)[prof]]['file']\n",
    "    prof_prof = infos[list(list_profiles)[prof]]['profile no']\n"
   ]
  },
  {
   "cell_type": "code",
   "execution_count": 27,
   "metadata": {},
   "outputs": [],
   "source": [
    "fileEN4=file_prof\n",
    "ref_prof=prof_prof\n"
   ]
  },
  {
   "cell_type": "code",
   "execution_count": 87,
   "metadata": {},
   "outputs": [],
   "source": [
    "    diren4=\"/scratch/cnt0024/hmg2840/albert7a/EN4/\"\n",
    "    tfileEN4=diren4+fileEN4\n",
    "\n",
    "    dsen4=xr.open_dataset(tfileEN4)\n",
    "\n",
    "    laten4=dsen4['LATITUDE'][ref_prof]\n",
    "    lonen4=dsen4['LONGITUDE'][ref_prof]\n",
    "    dayen4=dsen4['JULD'][ref_prof]\n",
    "\n",
    "    dateen4= pd.to_datetime(str(dayen4.values))\n",
    "    ten4 = datetime.datetime(int(dateen4.strftime('%Y')),int(dateen4.strftime('%m')),int(dateen4.strftime('%d')),int(dateen4.strftime('%H')),int(dateen4.strftime('%M')))\n",
    "    tsecen4=(ten4-datetime.datetime(1900,1,1,0,0)).total_seconds()\n",
    "\n",
    "    observation_lon=lonen4\n",
    "    observation_lat=laten4\n",
    "    observation_time=tsecen4\n",
    "\n",
    "    tempen4=dsen4['POTM_CORRECTED'][ref_prof]\n",
    "    salten4=dsen4['PSAL_CORRECTED'][ref_prof]\n",
    "    depen4=dsen4['DEPH_CORRECTED'][ref_prof]\n",
    "\n",
    "    observation_dep=depen4\n",
    "    observation_temp=tempen4\n",
    "    observation_salt=salten4\n",
    "\n",
    "    depN = dsN.deptht\n",
    "    tempN=dsN.votemper\n",
    "    saltN=dsN.vosaline\n",
    "\n",
    "    #get the number of useful levels in EN4 profile\n",
    "    dep_level=np.zeros(1)\n"
   ]
  },
  {
   "cell_type": "code",
   "execution_count": 53,
   "metadata": {},
   "outputs": [],
   "source": [
    "    t01102012 = datetime.datetime(2012,10,1,0,0)\n",
    "    tsec01102012=(t01102012-datetime.datetime(1958,1,1,0,0)).total_seconds()\n",
    "    "
   ]
  },
  {
   "cell_type": "code",
   "execution_count": 72,
   "metadata": {},
   "outputs": [
    {
     "ename": "TypeError",
     "evalue": "unsupported operand type(s) for +: 'datetime.datetime' and 'datetime.datetime'",
     "output_type": "error",
     "traceback": [
      "\u001b[0;31m---------------------------------------------------------------------------\u001b[0m",
      "\u001b[0;31mTypeError\u001b[0m                                 Traceback (most recent call last)",
      "\u001b[0;32m<ipython-input-72-e2faeea5bc54>\u001b[0m in \u001b[0;36m<module>\u001b[0;34m\u001b[0m\n\u001b[0;32m----> 1\u001b[0;31m \u001b[0mprint\u001b[0m\u001b[0;34m(\u001b[0m\u001b[0mt01102012\u001b[0m\u001b[0;34m+\u001b[0m\u001b[0mdatetime\u001b[0m\u001b[0;34m.\u001b[0m\u001b[0mdatetime\u001b[0m\u001b[0;34m(\u001b[0m\u001b[0;36m1\u001b[0m\u001b[0;34m,\u001b[0m\u001b[0;36m1\u001b[0m\u001b[0;34m,\u001b[0m\u001b[0;36m1\u001b[0m\u001b[0;34m,\u001b[0m\u001b[0;36m0\u001b[0m\u001b[0;34m,\u001b[0m\u001b[0;36m0\u001b[0m\u001b[0;34m)\u001b[0m\u001b[0;34m)\u001b[0m\u001b[0;34m\u001b[0m\u001b[0;34m\u001b[0m\u001b[0m\n\u001b[0m",
      "\u001b[0;31mTypeError\u001b[0m: unsupported operand type(s) for +: 'datetime.datetime' and 'datetime.datetime'"
     ]
    }
   ],
   "source": [
    "print(t01102012+datetime.datetime(1,1,1,0,0))"
   ]
  },
  {
   "cell_type": "code",
   "execution_count": 67,
   "metadata": {},
   "outputs": [
    {
     "name": "stdout",
     "output_type": "stream",
     "text": [
      "19997 days, 0:00:00\n"
     ]
    }
   ],
   "source": [
    "print((t01102012-datetime.datetime(1958,1,1,0,0)))"
   ]
  },
  {
   "cell_type": "code",
   "execution_count": 29,
   "metadata": {},
   "outputs": [],
   "source": [
    "    for k in np.arange(len(observation_dep)):\n",
    "        if not np.isnan(observation_dep[k]):\n",
    "            dep_level[0]=k\n",
    "\n"
   ]
  },
  {
   "cell_type": "code",
   "execution_count": 30,
   "metadata": {},
   "outputs": [
    {
     "name": "stdout",
     "output_type": "stream",
     "text": [
      "[96.]\n"
     ]
    }
   ],
   "source": [
    "print(dep_level)"
   ]
  },
  {
   "cell_type": "code",
   "execution_count": 32,
   "metadata": {},
   "outputs": [],
   "source": [
    "    model_level=np.zeros(int(dep_level[0]))\n"
   ]
  },
  {
   "cell_type": "code",
   "execution_count": 33,
   "metadata": {},
   "outputs": [],
   "source": [
    "    model_dep=np.zeros(int(dep_level[0]))\n",
    "    obsred_dep=np.zeros(int(dep_level[0]))\n",
    "    obsred_temp=np.zeros(int(dep_level[0]))\n",
    "    obsred_salt=np.zeros(int(dep_level[0]))\n",
    "    for z in np.arange(int(dep_level[0])):\n",
    "        obsred_dep[int(z)]=observation_dep[int(z)]\n",
    "        obsred_temp[int(z)]=observation_temp[int(z)]\n",
    "        obsred_salt[int(z)]=observation_salt[int(z)]\n",
    "        diff_dep=0*depN.values\n",
    "        for k in np.arange(len(depN.values)):\n",
    "            diff_dep[k]=depN.values[k]-obsred_dep[int(z)]\n",
    "        lev=np.where(np.abs(diff_dep)==np.min(np.abs(diff_dep)))\n",
    "        model_level[z]=lev[0]\n",
    "        model_dep[z]=depN.values[lev[0]]\n"
   ]
  },
  {
   "cell_type": "code",
   "execution_count": 41,
   "metadata": {},
   "outputs": [
    {
     "name": "stdout",
     "output_type": "stream",
     "text": [
      "[3.4713360e+09 3.4714224e+09 3.4715088e+09 ... 3.5659440e+09 3.5660304e+09\n",
      " 3.5661168e+09]\n"
     ]
    }
   ],
   "source": [
    "print(timN.values)"
   ]
  },
  {
   "cell_type": "code",
   "execution_count": 69,
   "metadata": {},
   "outputs": [
    {
     "name": "stdout",
     "output_type": "stream",
     "text": [
      "19997 days, 19:53:00\n"
     ]
    }
   ],
   "source": [
    "print(datetime.timedelta(seconds=tsecen4))"
   ]
  },
  {
   "cell_type": "code",
   "execution_count": null,
   "metadata": {},
   "outputs": [],
   "source": [
    "print(datetime.)"
   ]
  },
  {
   "cell_type": "code",
   "execution_count": 59,
   "metadata": {},
   "outputs": [
    {
     "name": "stdout",
     "output_type": "stream",
     "text": [
      "2012-10-01 19:53:00\n"
     ]
    }
   ],
   "source": [
    "print(dateen4)"
   ]
  },
  {
   "cell_type": "code",
   "execution_count": 58,
   "metadata": {},
   "outputs": [
    {
     "name": "stdout",
     "output_type": "stream",
     "text": [
      "Tuesday, October 01, 2024 09:53\n"
     ]
    }
   ],
   "source": [
    "print(datetime.datetime.fromtimestamp(tsecen4).strftime(\"%A, %B %d, %Y %I:%M\"))"
   ]
  },
  {
   "cell_type": "code",
   "execution_count": 75,
   "metadata": {},
   "outputs": [
    {
     "name": "stdout",
     "output_type": "stream",
     "text": [
      "Sunday, October 01, 2023 09:53\n"
     ]
    }
   ],
   "source": [
    "print(datetime.datetime.fromtimestamp(tsecen4-366*24*3600).strftime(\"%A, %B %d, %Y %I:%M\"))"
   ]
  },
  {
   "cell_type": "code",
   "execution_count": null,
   "metadata": {},
   "outputs": [],
   "source": [
    "    if tsecen4 > tsec01012013:\n",
    "        print('annee 2013')\n",
    "        tsecen4=tsecen4-31536000\n",
    "        datetime.fromtimestamp(tsecen4).strftime(\"%A, %B %d, %Y %I:%M\")\n",
    "    else:\n",
    "        tsecen4=tsecen4\n"
   ]
  },
  {
   "cell_type": "code",
   "execution_count": 88,
   "metadata": {},
   "outputs": [],
   "source": [
    "    step=1\n",
    "    indxBOX=np.where((lonN>observation_lon-1)&(lonN<observation_lon+1)&(latN>observation_lat-1)&(latN<observation_lat+1))\n",
    "    model_lonBOX=lonN[np.min(indxBOX[0]):np.max(indxBOX[0]):step,np.min(indxBOX[1]):np.max(indxBOX[1]):step]\n",
    "    model_latBOX=latN[np.min(indxBOX[0]):np.max(indxBOX[0]):step,np.min(indxBOX[1]):np.max(indxBOX[1]):step]\n",
    "    model_lonBOX_array=model_lonBOX.values\n",
    "    model_latBOX_array=model_latBOX.values\n",
    "    t01012013 = datetime.datetime(2013,1,1,0,0)\n",
    "    tsec01012013=(t01012013-datetime.datetime(1900,1,1,0,0)).total_seconds()\n",
    "    if tsecen4 > tsec01012013:\n",
    "        tsecen4=tsecen4-365*24*3600\n",
    "    else:\n",
    "        tsecen4=tsecen4\n",
    "    indtBOX=np.where((timN.values < tsecen4 + 15*24*3600) & (timN.values > tsecen4 - 15*24*3600) )\n"
   ]
  },
  {
   "cell_type": "code",
   "execution_count": 89,
   "metadata": {},
   "outputs": [
    {
     "name": "stdout",
     "output_type": "stream",
     "text": [
      "3558109980.0\n"
     ]
    }
   ],
   "source": [
    "print(tsecen4)"
   ]
  },
  {
   "cell_type": "code",
   "execution_count": 85,
   "metadata": {},
   "outputs": [
    {
     "name": "stdout",
     "output_type": "stream",
     "text": [
      "3471336000.0\n"
     ]
    }
   ],
   "source": [
    "print(timN.values.min())"
   ]
  },
  {
   "cell_type": "code",
   "execution_count": 86,
   "metadata": {},
   "outputs": [
    {
     "name": "stdout",
     "output_type": "stream",
     "text": [
      "3566116800.0\n"
     ]
    }
   ],
   "source": [
    "print(timN.values.max())"
   ]
  },
  {
   "cell_type": "code",
   "execution_count": 90,
   "metadata": {},
   "outputs": [
    {
     "name": "stdout",
     "output_type": "stream",
     "text": [
      "(array([ 990,  991,  992,  993,  994,  995,  996,  997,  998,  999, 1000,\n",
      "       1001, 1002, 1003, 1004, 1005, 1006, 1007, 1008, 1009, 1010, 1011,\n",
      "       1012, 1013, 1014, 1015, 1016, 1017, 1018, 1019]),)\n"
     ]
    }
   ],
   "source": [
    "print(indtBOX)"
   ]
  },
  {
   "cell_type": "code",
   "execution_count": 91,
   "metadata": {},
   "outputs": [],
   "source": [
    "    model_tBOX=timN[indtBOX[0][0]:indtBOX[0][-1]]\n",
    "    t_dim=np.arange(len(model_tBOX))\n",
    "    x_dim=np.arange(model_lonBOX_array.shape[1])\n",
    "    y_dim=np.arange(model_lonBOX_array.shape[0])\n"
   ]
  },
  {
   "cell_type": "code",
   "execution_count": 76,
   "metadata": {},
   "outputs": [],
   "source": [
    "def model_mean_percent_profile(fileEN4,ref_prof,dsN,latN,lonN,timN):\n",
    "    #select NATL60 data at the closest depth and within 0.25 and 15days near the location and date of the ARGO profile\n",
    "    diren4=\"/scratch/cnt0024/hmg2840/albert7a/EN4/\"\n",
    "    tfileEN4=diren4+fileEN4\n",
    "\n",
    "    dsen4=xr.open_dataset(tfileEN4)\n",
    "\n",
    "    laten4=dsen4['LATITUDE'][ref_prof]\n",
    "    lonen4=dsen4['LONGITUDE'][ref_prof]\n",
    "    dayen4=dsen4['JULD'][ref_prof]\n",
    "\n",
    "    dateen4= pd.to_datetime(str(dayen4.values))\n",
    "    ten4 = datetime.datetime(int(dateen4.strftime('%Y')),int(dateen4.strftime('%m')),int(dateen4.strftime('%d')),int(dateen4.strftime('%H')),int(dateen4.strftime('%M')))\n",
    "    tsecen4=(ten4-datetime.datetime(1958,1,1,0,0)).total_seconds()\n",
    "\n",
    "    observation_lon=lonen4\n",
    "    observation_lat=laten4\n",
    "    observation_time=tsecen4\n",
    "\n",
    "    tempen4=dsen4['POTM_CORRECTED'][ref_prof]\n",
    "    salten4=dsen4['PSAL_CORRECTED'][ref_prof]\n",
    "    depen4=dsen4['DEPH_CORRECTED'][ref_prof]\n",
    "\n",
    "    observation_dep=depen4\n",
    "    observation_temp=tempen4\n",
    "    observation_salt=salten4\n",
    "\n",
    "    depN = dsN.deptht\n",
    "    tempN=dsN.votemper\n",
    "    saltN=dsN.vosaline\n",
    "\n",
    "    #get the number of useful levels in EN4 profile\n",
    "    dep_level=np.zeros(1)\n",
    "\n",
    "    for k in np.arange(len(observation_dep)):\n",
    "        if not np.isnan(observation_dep[k]):\n",
    "            dep_level[0]=k\n",
    "\n",
    "    #get the corresponding model level\n",
    "    model_level=np.zeros(int(dep_level[0]))\n",
    "    model_dep=np.zeros(int(dep_level[0]))\n",
    "    obsred_dep=np.zeros(int(dep_level[0]))\n",
    "    obsred_temp=np.zeros(int(dep_level[0]))\n",
    "    obsred_salt=np.zeros(int(dep_level[0]))\n",
    "    for z in np.arange(int(dep_level[0])):\n",
    "        obsred_dep[int(z)]=observation_dep[int(z)]\n",
    "        obsred_temp[int(z)]=observation_temp[int(z)]\n",
    "        obsred_salt[int(z)]=observation_salt[int(z)]\n",
    "        diff_dep=0*depN.values\n",
    "        for k in np.arange(len(depN.values)):\n",
    "            diff_dep[k]=depN.values[k]-obsred_dep[int(z)]\n",
    "        lev=np.where(np.abs(diff_dep)==np.min(np.abs(diff_dep)))\n",
    "        model_level[z]=lev[0]\n",
    "        model_dep[z]=depN.values[lev[0]]\n",
    "\n",
    "    #Coarse box in which EN4 profile is contained\n",
    "    step=1\n",
    "    indxBOX=np.where((lonN>observation_lon-1)&(lonN<observation_lon+1)&(latN>observation_lat-1)&(latN<observation_lat+1))\n",
    "    model_lonBOX=lonN[np.min(indxBOX[0]):np.max(indxBOX[0]):step,np.min(indxBOX[1]):np.max(indxBOX[1]):step]\n",
    "    model_latBOX=latN[np.min(indxBOX[0]):np.max(indxBOX[0]):step,np.min(indxBOX[1]):np.max(indxBOX[1]):step]\n",
    "    model_lonBOX_array=model_lonBOX.values\n",
    "    model_latBOX_array=model_latBOX.values\n",
    "    t01012013 = datetime.datetime(2013,1,1,0,0)\n",
    "    tsec01012013=(t01012013-datetime.datetime(1958,1,1,0,0)).total_seconds()\n",
    "    if tsecen4 > tsec01012013:\n",
    "        tsecen4=tsecen4-365*24*3600\n",
    "    else:\n",
    "        tsecen4=tsecen4\n",
    "    indtBOX=np.where((timNb.values < tsecen4 + 15*24*3600) & (timNb.values > tsecen4 - 15*24*3600) )\n",
    "    model_tBOX=timN[indtBOX[0][0]:indtBOX[0][-1]]\n",
    "    t_dim=np.arange(len(model_tBOX))\n",
    "    x_dim=np.arange(model_lonBOX_array.shape[1])\n",
    "    y_dim=np.arange(model_lonBOX_array.shape[0])\n",
    "\n",
    "    def profile_mean_percent(k):\n",
    "\n",
    "        #decoupage grossier autour de la position du profile ARGO pour un niveau vertical\n",
    "\n",
    "        model_tempBOX=tempN[indtBOX[0][0]:indtBOX[0][-1],k,np.min(indxBOX[0]):np.max(indxBOX[0]):step,np.min(indxBOX[1]):np.max(indxBOX[1]):step]\n",
    "        model_saltBOX=saltN[indtBOX[0][0]:indtBOX[0][-1],k,np.min(indxBOX[0]):np.max(indxBOX[0]):step,np.min(indxBOX[1]):np.max(indxBOX[1]):step]\n",
    "\n",
    "        model_tempBOX_array=model_tempBOX.values\n",
    "        model_saltBOX_array=model_saltBOX.values\n",
    "        model_tBOX_array=model_tBOX.values\n",
    "\n",
    "        # construction d'un nouveau xarray\n",
    "        d = {}\n",
    "        d['time_counter'] = ('time_counter',t_dim)\n",
    "        d['y'] = ('y',y_dim)\n",
    "        d['x'] = ('x',x_dim)\n",
    "        d['nav_lat'] = (['y','x'],model_latBOX_array)\n",
    "        d['nav_lon'] = (['y','x'],model_lonBOX_array)\n",
    "\n",
    "        d['votemper'] = (['time_counter','y','x'], model_tempBOX_array)\n",
    "        d['vosaline'] = (['time_counter','y','x'], model_saltBOX_array)\n",
    "        d['time_counter'] = (['time_counter'], model_tBOX_array)\n",
    "        dset = xr.Dataset(d)\n",
    "\n",
    "        latB = dset.nav_lat\n",
    "        lonB = dset.nav_lon\n",
    "        model_temperatureB = dset.votemper\n",
    "        model_salinityB = dset.vosaline\n",
    "        model_timeB = dset.time_counter\n",
    "\n",
    "        # selection plus fine des profils\n",
    "\n",
    "        lon_stacked = lonB.stack(profile=('x', 'y'))\n",
    "        lat_stacked = latB.stack(profile=('x', 'y'))\n",
    "\n",
    "        distance_threshold = 0.25\n",
    "        square_distance_to_observation = (lon_stacked - observation_lon)**2 + (lat_stacked-observation_lat)**2\n",
    "        is_close_to_observation = square_distance_to_observation < distance_threshold**2\n",
    "\n",
    "        model_temperature_stacked = model_temperatureB.stack(profile=('x', 'y'))\n",
    "        model_salinity_stacked = model_salinityB.stack(profile=('x', 'y'))\n",
    "\n",
    "        model_temperature_near_observation = model_temperature_stacked.where(is_close_to_observation,drop=True)\n",
    "        model_salinity_near_observation = model_salinity_stacked.where(is_close_to_observation, drop=True)\n",
    "        lat_near_observation = lat_stacked.where(is_close_to_observation, drop=True)\n",
    "        lon_near_observation = lon_stacked.where(is_close_to_observation, drop=True)\n",
    "\n",
    "        model_temp_dask=dask.array.from_array(model_temperature_near_observation,chunks=(100,100))\n",
    "        model_temp_dask_concat=dask.array.concatenate(model_temp_dask)\n",
    "        model_salt_dask=dask.array.from_array(model_salinity_near_observation,chunks=(100,100))\n",
    "        model_salt_dask_concat=dask.array.concatenate(model_salt_dask)\n",
    "        temp_model_mean = model_temp_dask_concat.mean().compute()\n",
    "        temp_percentile_10= np.percentile(model_temp_dask_concat,10)\n",
    "        temp_percentile_90= np.percentile(model_temp_dask_concat,90)\n",
    "        salt_model_mean = model_salt_dask_concat.mean().compute()\n",
    "        salt_percentile_10= np.percentile(model_salt_dask_concat,10)\n",
    "        salt_percentile_90= np.percentile(model_salt_dask_concat,90)\n",
    "\n",
    "        return lat_near_observation,lon_near_observation,temp_model_mean,temp_percentile_10,temp_percentile_90,salt_model_mean,salt_percentile_10,salt_percentile_90\n",
    "\n",
    "    profil_temp_model_mean=np.zeros(dep_level[0])\n",
    "    profil_temp_model_percent10=np.zeros(dep_level[0])\n",
    "    profil_temp_model_percent90=np.zeros(dep_level[0])\n",
    "    profil_salt_model_mean=np.zeros(dep_level[0])\n",
    "    profil_salt_model_percent10=np.zeros(dep_level[0])\n",
    "    profil_salt_model_percent90=np.zeros(dep_level[0])\n",
    "\n",
    "\n",
    "    for z in np.arange(dep_level[0]):\n",
    "        lat_near_observation,lon_near_observation,temp_model_mean,temp_percentile_10,temp_percentile_90,salt_model_mean,salt_percentile_10,salt_percentile_90=profile_mean_percent(model_level[z].astype(int))\n",
    "        profil_temp_model_mean[z]=temp_model_mean\n",
    "        profil_temp_model_percent10[z]=temp_percentile_10\n",
    "        profil_temp_model_percent90[z]=temp_percentile_90\n",
    "        profil_salt_model_mean[z]=salt_model_mean\n",
    "        profil_salt_model_percent10[z]=salt_percentile_10\n",
    "        profil_salt_model_percent90[z]=salt_percentile_90\n",
    "\n",
    "    return profil_temp_model_mean,profil_temp_model_percent10,profil_temp_model_percent90,profil_salt_model_mean,profil_salt_model_percent10,profil_salt_model_percent90,observation_dep,obsred_temp,obsred_salt,dep_level,model_dep,obsred_dep,observation_lat,observation_lon,observation_time\n"
   ]
  },
  {
   "cell_type": "code",
   "execution_count": 14,
   "metadata": {},
   "outputs": [],
   "source": [
    "def create_netcdf_profile(jsonfile,reference,ref_prof,observation_lat,observation_lon,observation_time,profil_temp_model_mean,profil_temp_model_percent10,profil_temp_model_percent90,profil_salt_model_mean,profil_salt_model_percent10,profil_salt_model_percent90,observation_dep,obsred_temp,obsred_salt,dep_level,model_dep,obsred_dep):\n",
    "\n",
    "    reference_profile=reference\n",
    "    namezone=jsonfile[0:-5]\n",
    "    dirname=\"/scratch/cnt0024/hmg2840/albert7a/EN4/profiles_files/\"+namezone\n",
    "    if not os.path.exists(dirname):\n",
    "        os.mkdir(dirname)\n",
    "    \n",
    "    outname=\"/scratch/cnt0024/hmg2840/albert7a/EN4/profiles_files/\"+namezone+\"/profiles_EN4-\"+reference_profile[1:]+\"_NATL60-CJM165_TS.nc\"\n",
    "    print('output file is '+outname)\n",
    "    dsout=Dataset(outname,'w')\n",
    "\n",
    "    today=date.today()\n",
    "    dsout.description = \"This file contains one profile of temperature and salinity from EN4 dataset and the mean and 10 and 90 percentile of NATL60-CJM165 data within a 0.25deg circle around the location of the profile and 15 days before and after it has been sampled. This file has been created \"+str(today.day)+\"/\"+str(today.month)+\"/\"+str(today.year)\n",
    "\n",
    "    depth=dsout.createDimension('depth',dep_level[0])\n",
    "    x=dsout.createDimension('x',1)\n",
    "    y=dsout.createDimension('y',1)\n",
    "    \n",
    "    lat = dsout.createVariable('latitude_profileEN4', 'f8', ('y','x'))\n",
    "    lat.standart_name=\"latitude_profileEN4\"\n",
    "    lat.long_name = \"Latitude of selected EN4 profile\" \n",
    "    lat.units = \"degrees_north\"\n",
    "\n",
    "    lon = dsout.createVariable('longitude_profileEN4', 'f8', ('y','x'))\n",
    "    lon.standart_name=\"longitude_profileEN4\"\n",
    "    lon.long_name = \"Longitude of selected EN4 profile\" \n",
    "    lon.units = \"degrees_east\"\n",
    "\n",
    "    time = dsout.createVariable('time_profileEN4', 'f8', ('y','x'))\n",
    "    time.standart_name=\"time_profileEN4\"\n",
    "    time.timeg_name = \"Time in seconds from 1-1-1958 of selected EN4 profile\" \n",
    "    time.units = \"seconds\"\n",
    "\n",
    "    depth_en4 = dsout.createVariable('depth_en4', 'f8', ('depth'),fill_value=0.)\n",
    "    depth_en4.units = \"m\" \n",
    "    depth_en4.valid_min = 0.\n",
    "    depth_en4.valid_max = 8000.\n",
    "    depth_en4.long_name = \"Depth\" \n",
    "\n",
    "    depth_model = dsout.createVariable('depth_model', 'f8', ('depth'),fill_value=0.)\n",
    "    depth_model.units = \"m\" \n",
    "    depth_model.valid_min = 0.\n",
    "    depth_model.valid_max = 8000.\n",
    "    depth_model.long_name = \"Depth\" \n",
    "\n",
    "    temp_en4 = dsout.createVariable('temp_profileEN4', 'f8', ('depth'),fill_value=0.)\n",
    "    temp_en4.units = \"degC\" \n",
    "    temp_en4.valid_min = -10.\n",
    "    temp_en4.valid_max = 40.\n",
    "    temp_en4.long_name = \"Temperature profile of the selected EN4 profile\" \n",
    "\n",
    "    salt_en4 = dsout.createVariable('salt_profileEN4', 'f8', ('depth'),fill_value=0.)\n",
    "    salt_en4.units = \"PSU\" \n",
    "    salt_en4.valid_min = 20.\n",
    "    salt_en4.valid_max = 40.\n",
    "    salt_en4.long_name = \"Salinity profile of the selected EN4 profile\" \n",
    "\n",
    "    mean_temp_model = dsout.createVariable('mean_temp_model', 'f8', ('depth'),fill_value=0.)\n",
    "    mean_temp_model.units = \"degC\" \n",
    "    mean_temp_model.valid_min = -10.\n",
    "    mean_temp_model.valid_max = 40.\n",
    "    mean_temp_model.long_name = \"Mean Temperature profile of the model\" \n",
    "\n",
    "    mean_salt_model = dsout.createVariable('mean_salt_model', 'f8', ('depth'),fill_value=0.)\n",
    "    mean_salt_model.units = \"PSU\" \n",
    "    mean_salt_model.valid_min = 20.\n",
    "    mean_salt_model.valid_max = 40.\n",
    "    mean_salt_model.long_name = \"Mean Salinity profile of the model\" \n",
    "\n",
    "    percent10_temp_model = dsout.createVariable('percent10_temp_model', 'f8', ('depth'),fill_value=0.)\n",
    "    percent10_temp_model.units = \"degC\" \n",
    "    percent10_temp_model.valid_min = -10.\n",
    "    percent10_temp_model.valid_max = 40.\n",
    "    percent10_temp_model.long_name = \"Percent 10 Temperature profile of the model\" \n",
    "\n",
    "    percent10_salt_model = dsout.createVariable('percent10_salt_model', 'f8', ('depth'),fill_value=0.)\n",
    "    percent10_salt_model.units = \"PSU\" \n",
    "    percent10_salt_model.valid_min = 20.\n",
    "    percent10_salt_model.valid_max = 40.\n",
    "    percent10_salt_model.long_name = \"Percent 10 Salinity profile of the model\" \n",
    "\n",
    "    percent90_temp_model = dsout.createVariable('percent90_temp_model', 'f8', ('depth'),fill_value=0.)\n",
    "    percent90_temp_model.units = \"degC\" \n",
    "    percent90_temp_model.valid_min = -90.\n",
    "    percent90_temp_model.valid_max = 40.\n",
    "    percent90_temp_model.long_name = \"Percent 90 Temperature profile of the model\" \n",
    "\n",
    "    percent90_salt_model = dsout.createVariable('percent90_salt_model', 'f8', ('depth'),fill_value=0.)\n",
    "    percent90_salt_model.units = \"PSU\" \n",
    "    percent90_salt_model.valid_min = 20.\n",
    "    percent90_salt_model.valid_max = 40.\n",
    "    percent90_salt_model.long_name = \"Percent 90 Salinity profile of the model\" \n",
    "\n",
    "\n",
    "    lat[:]=observation_lat\n",
    "    lon[:]=observation_lon\n",
    "    time[:]=observation_time\n",
    "    depth_en4[:]=obsred_dep\n",
    "    depth_model[:]=model_dep\n",
    "    temp_en4[:]=obsred_temp\n",
    "    salt_en4[:]=obsred_salt\n",
    "    mean_temp_model[:]=profil_temp_model_mean\n",
    "    mean_salt_model[:]=profil_salt_model_mean\n",
    "    percent10_temp_model[:]=profil_temp_model_percent10\n",
    "    percent10_salt_model[:]=profil_salt_model_percent10\n",
    "    percent90_temp_model[:]=profil_temp_model_percent90\n",
    "    percent90_salt_model[:]=profil_salt_model_percent90\n",
    "    dsout.close()  # close the new file\n"
   ]
  },
  {
   "cell_type": "code",
   "execution_count": 6,
   "metadata": {},
   "outputs": [],
   "source": [
    "jsonfile='NATL60-CJM165_GS_y2012-2013.json'"
   ]
  },
  {
   "cell_type": "code",
   "execution_count": 7,
   "metadata": {},
   "outputs": [
    {
     "name": "stdout",
     "output_type": "stream",
     "text": [
      "19/12/19 10:39\n",
      "Opening GS36\n",
      "19/12/19 10:45\n"
     ]
    }
   ],
   "source": [
    "sourcefile=open(jsonfile,'rU')\n",
    "infos=json.load(sourcefile)\n",
    "nb_profilesEN4=len(infos)\n",
    "\n",
    "print(time.strftime('%d/%m/%y %H:%M',time.localtime()))\n",
    "\n",
    "dsN,latN,lonN,timN = open_gs36()\n",
    "\n",
    "print(time.strftime('%d/%m/%y %H:%M',time.localtime()))\n"
   ]
  },
  {
   "cell_type": "code",
   "execution_count": 38,
   "metadata": {},
   "outputs": [
    {
     "name": "stdout",
     "output_type": "stream",
     "text": [
      "19/12/19 11:35\n",
      "Processing profile  b' A20121001-03173'\n",
      "selected profile falls within GS36 boundaries, the program is proceeding\n"
     ]
    },
    {
     "ename": "IndexError",
     "evalue": "index 0 is out of bounds for axis 0 with size 0",
     "output_type": "error",
     "traceback": [
      "\u001b[0;31m---------------------------------------------------------------------------\u001b[0m",
      "\u001b[0;31mIndexError\u001b[0m                                Traceback (most recent call last)",
      "\u001b[0;32m<ipython-input-38-15006d5f5131>\u001b[0m in \u001b[0;36m<module>\u001b[0;34m\u001b[0m\n\u001b[1;32m      1\u001b[0m \u001b[0mprint\u001b[0m\u001b[0;34m(\u001b[0m\u001b[0mtime\u001b[0m\u001b[0;34m.\u001b[0m\u001b[0mstrftime\u001b[0m\u001b[0;34m(\u001b[0m\u001b[0;34m'%d/%m/%y %H:%M'\u001b[0m\u001b[0;34m,\u001b[0m\u001b[0mtime\u001b[0m\u001b[0;34m.\u001b[0m\u001b[0mlocaltime\u001b[0m\u001b[0;34m(\u001b[0m\u001b[0;34m)\u001b[0m\u001b[0;34m)\u001b[0m\u001b[0;34m)\u001b[0m\u001b[0;34m\u001b[0m\u001b[0;34m\u001b[0m\u001b[0m\n\u001b[1;32m      2\u001b[0m \u001b[0mprof\u001b[0m\u001b[0;34m=\u001b[0m\u001b[0;36m0\u001b[0m\u001b[0;34m\u001b[0m\u001b[0;34m\u001b[0m\u001b[0m\n\u001b[0;32m----> 3\u001b[0;31m \u001b[0mprocess\u001b[0m\u001b[0;34m(\u001b[0m\u001b[0mjsonfile\u001b[0m\u001b[0;34m,\u001b[0m\u001b[0minfos\u001b[0m\u001b[0;34m,\u001b[0m\u001b[0mprof\u001b[0m\u001b[0;34m,\u001b[0m\u001b[0mdsN\u001b[0m\u001b[0;34m,\u001b[0m\u001b[0mlatN\u001b[0m\u001b[0;34m,\u001b[0m\u001b[0mlonN\u001b[0m\u001b[0;34m,\u001b[0m\u001b[0mtimN\u001b[0m\u001b[0;34m)\u001b[0m\u001b[0;34m\u001b[0m\u001b[0;34m\u001b[0m\u001b[0m\n\u001b[0m\u001b[1;32m      4\u001b[0m \u001b[0mprint\u001b[0m\u001b[0;34m(\u001b[0m\u001b[0mtime\u001b[0m\u001b[0;34m.\u001b[0m\u001b[0mstrftime\u001b[0m\u001b[0;34m(\u001b[0m\u001b[0;34m'%d/%m/%y %H:%M'\u001b[0m\u001b[0;34m,\u001b[0m\u001b[0mtime\u001b[0m\u001b[0;34m.\u001b[0m\u001b[0mlocaltime\u001b[0m\u001b[0;34m(\u001b[0m\u001b[0;34m)\u001b[0m\u001b[0;34m)\u001b[0m\u001b[0;34m)\u001b[0m\u001b[0;34m\u001b[0m\u001b[0;34m\u001b[0m\u001b[0m\n",
      "\u001b[0;32m<ipython-input-21-8a8705fc8b83>\u001b[0m in \u001b[0;36mprocess\u001b[0;34m(jsonfile, infos, prof, dsN, latN, lonN, timN)\u001b[0m\n\u001b[1;32m     13\u001b[0m     \u001b[0mcheck\u001b[0m\u001b[0;34m=\u001b[0m\u001b[0mcheck_prof_GS36_boundaries\u001b[0m\u001b[0;34m(\u001b[0m\u001b[0mdsN\u001b[0m\u001b[0;34m,\u001b[0m\u001b[0mlatN\u001b[0m\u001b[0;34m,\u001b[0m\u001b[0mlonN\u001b[0m\u001b[0;34m,\u001b[0m\u001b[0mtimN\u001b[0m\u001b[0;34m,\u001b[0m\u001b[0mlat_prof\u001b[0m\u001b[0;34m,\u001b[0m\u001b[0mlon_prof\u001b[0m\u001b[0;34m,\u001b[0m\u001b[0mdate_prof\u001b[0m\u001b[0;34m)\u001b[0m\u001b[0;34m\u001b[0m\u001b[0;34m\u001b[0m\u001b[0m\n\u001b[1;32m     14\u001b[0m     \u001b[0;32mif\u001b[0m \u001b[0mcheck\u001b[0m \u001b[0;34m==\u001b[0m \u001b[0;36m0.\u001b[0m\u001b[0;34m:\u001b[0m\u001b[0;34m\u001b[0m\u001b[0;34m\u001b[0m\u001b[0m\n\u001b[0;32m---> 15\u001b[0;31m         \u001b[0mprofil_temp_model_mean\u001b[0m\u001b[0;34m,\u001b[0m\u001b[0mprofil_temp_model_percent10\u001b[0m\u001b[0;34m,\u001b[0m\u001b[0mprofil_temp_model_percent90\u001b[0m\u001b[0;34m,\u001b[0m\u001b[0mprofil_salt_model_mean\u001b[0m\u001b[0;34m,\u001b[0m\u001b[0mprofil_salt_model_percent10\u001b[0m\u001b[0;34m,\u001b[0m\u001b[0mprofil_salt_model_percent90\u001b[0m\u001b[0;34m,\u001b[0m\u001b[0mobservation_dep\u001b[0m\u001b[0;34m,\u001b[0m\u001b[0mobsred_temp\u001b[0m\u001b[0;34m,\u001b[0m\u001b[0mobsred_salt\u001b[0m\u001b[0;34m,\u001b[0m\u001b[0mdep_level\u001b[0m\u001b[0;34m,\u001b[0m\u001b[0mmodel_dep\u001b[0m\u001b[0;34m,\u001b[0m\u001b[0mobsred_dep\u001b[0m\u001b[0;34m,\u001b[0m\u001b[0mobservation_lat\u001b[0m\u001b[0;34m,\u001b[0m\u001b[0mobservation_lon\u001b[0m\u001b[0;34m,\u001b[0m\u001b[0mobservation_time\u001b[0m \u001b[0;34m=\u001b[0m \u001b[0mmodel_mean_percent_profile\u001b[0m\u001b[0;34m(\u001b[0m\u001b[0mfile_prof\u001b[0m\u001b[0;34m,\u001b[0m\u001b[0mprof_prof\u001b[0m\u001b[0;34m,\u001b[0m\u001b[0mdsN\u001b[0m\u001b[0;34m,\u001b[0m\u001b[0mlatN\u001b[0m\u001b[0;34m,\u001b[0m\u001b[0mlonN\u001b[0m\u001b[0;34m,\u001b[0m\u001b[0mtimN\u001b[0m\u001b[0;34m)\u001b[0m\u001b[0;34m\u001b[0m\u001b[0;34m\u001b[0m\u001b[0m\n\u001b[0m\u001b[1;32m     16\u001b[0m         \u001b[0mcreate_netcdf_profile\u001b[0m\u001b[0;34m(\u001b[0m\u001b[0mjsonfile\u001b[0m\u001b[0;34m,\u001b[0m\u001b[0mreference\u001b[0m\u001b[0;34m,\u001b[0m\u001b[0mprof_prof\u001b[0m\u001b[0;34m,\u001b[0m\u001b[0mobservation_lat\u001b[0m\u001b[0;34m,\u001b[0m\u001b[0mobservation_lon\u001b[0m\u001b[0;34m,\u001b[0m\u001b[0mobservation_time\u001b[0m\u001b[0;34m,\u001b[0m\u001b[0mprofil_temp_model_mean\u001b[0m\u001b[0;34m,\u001b[0m\u001b[0mprofil_temp_model_percent10\u001b[0m\u001b[0;34m,\u001b[0m\u001b[0mprofil_temp_model_percent90\u001b[0m\u001b[0;34m,\u001b[0m\u001b[0mprofil_salt_model_mean\u001b[0m\u001b[0;34m,\u001b[0m\u001b[0mprofil_salt_model_percent10\u001b[0m\u001b[0;34m,\u001b[0m\u001b[0mprofil_salt_model_percent90\u001b[0m\u001b[0;34m,\u001b[0m\u001b[0mobservation_dep\u001b[0m\u001b[0;34m,\u001b[0m\u001b[0mobsred_temp\u001b[0m\u001b[0;34m,\u001b[0m\u001b[0mobsred_salt\u001b[0m\u001b[0;34m,\u001b[0m\u001b[0mdep_level\u001b[0m\u001b[0;34m,\u001b[0m\u001b[0mmodel_dep\u001b[0m\u001b[0;34m,\u001b[0m\u001b[0mobsred_dep\u001b[0m\u001b[0;34m)\u001b[0m\u001b[0;34m\u001b[0m\u001b[0;34m\u001b[0m\u001b[0m\n",
      "\u001b[0;32m<ipython-input-37-cbb2b479f976>\u001b[0m in \u001b[0;36mmodel_mean_percent_profile\u001b[0;34m(fileEN4, ref_prof, dsN, latN, lonN, timN)\u001b[0m\n\u001b[1;32m     62\u001b[0m     \u001b[0mmodel_latBOX_array\u001b[0m\u001b[0;34m=\u001b[0m\u001b[0mmodel_latBOX\u001b[0m\u001b[0;34m.\u001b[0m\u001b[0mvalues\u001b[0m\u001b[0;34m\u001b[0m\u001b[0;34m\u001b[0m\u001b[0m\n\u001b[1;32m     63\u001b[0m     \u001b[0mindtBOX\u001b[0m\u001b[0;34m=\u001b[0m\u001b[0mnp\u001b[0m\u001b[0;34m.\u001b[0m\u001b[0mwhere\u001b[0m\u001b[0;34m(\u001b[0m\u001b[0;34m(\u001b[0m\u001b[0mtimN\u001b[0m\u001b[0;34m.\u001b[0m\u001b[0mvalues\u001b[0m \u001b[0;34m<\u001b[0m \u001b[0mtsecen4\u001b[0m \u001b[0;34m+\u001b[0m \u001b[0;36m15\u001b[0m\u001b[0;34m*\u001b[0m\u001b[0;36m24\u001b[0m\u001b[0;34m*\u001b[0m\u001b[0;36m3600\u001b[0m\u001b[0;34m)\u001b[0m \u001b[0;34m&\u001b[0m \u001b[0;34m(\u001b[0m\u001b[0mtimN\u001b[0m\u001b[0;34m.\u001b[0m\u001b[0mvalues\u001b[0m \u001b[0;34m>\u001b[0m \u001b[0mtsecen4\u001b[0m \u001b[0;34m-\u001b[0m \u001b[0;36m15\u001b[0m\u001b[0;34m*\u001b[0m\u001b[0;36m24\u001b[0m\u001b[0;34m*\u001b[0m\u001b[0;36m3600\u001b[0m\u001b[0;34m)\u001b[0m \u001b[0;34m)\u001b[0m\u001b[0;34m\u001b[0m\u001b[0;34m\u001b[0m\u001b[0m\n\u001b[0;32m---> 64\u001b[0;31m     \u001b[0mmodel_tBOX\u001b[0m\u001b[0;34m=\u001b[0m\u001b[0mtimN\u001b[0m\u001b[0;34m[\u001b[0m\u001b[0mindtBOX\u001b[0m\u001b[0;34m[\u001b[0m\u001b[0;36m0\u001b[0m\u001b[0;34m]\u001b[0m\u001b[0;34m[\u001b[0m\u001b[0;36m0\u001b[0m\u001b[0;34m]\u001b[0m\u001b[0;34m:\u001b[0m\u001b[0mindtBOX\u001b[0m\u001b[0;34m[\u001b[0m\u001b[0;36m0\u001b[0m\u001b[0;34m]\u001b[0m\u001b[0;34m[\u001b[0m\u001b[0;34m-\u001b[0m\u001b[0;36m1\u001b[0m\u001b[0;34m]\u001b[0m\u001b[0;34m]\u001b[0m\u001b[0;34m\u001b[0m\u001b[0;34m\u001b[0m\u001b[0m\n\u001b[0m\u001b[1;32m     65\u001b[0m     \u001b[0mt_dim\u001b[0m\u001b[0;34m=\u001b[0m\u001b[0mnp\u001b[0m\u001b[0;34m.\u001b[0m\u001b[0marange\u001b[0m\u001b[0;34m(\u001b[0m\u001b[0mlen\u001b[0m\u001b[0;34m(\u001b[0m\u001b[0mmodel_tBOX\u001b[0m\u001b[0;34m)\u001b[0m\u001b[0;34m)\u001b[0m\u001b[0;34m\u001b[0m\u001b[0;34m\u001b[0m\u001b[0m\n\u001b[1;32m     66\u001b[0m     \u001b[0mx_dim\u001b[0m\u001b[0;34m=\u001b[0m\u001b[0mnp\u001b[0m\u001b[0;34m.\u001b[0m\u001b[0marange\u001b[0m\u001b[0;34m(\u001b[0m\u001b[0mmodel_lonBOX_array\u001b[0m\u001b[0;34m.\u001b[0m\u001b[0mshape\u001b[0m\u001b[0;34m[\u001b[0m\u001b[0;36m1\u001b[0m\u001b[0;34m]\u001b[0m\u001b[0;34m)\u001b[0m\u001b[0;34m\u001b[0m\u001b[0;34m\u001b[0m\u001b[0m\n",
      "\u001b[0;31mIndexError\u001b[0m: index 0 is out of bounds for axis 0 with size 0"
     ]
    }
   ],
   "source": [
    "print(time.strftime('%d/%m/%y %H:%M',time.localtime()))\n",
    "prof=0\n",
    "process(jsonfile,infos,prof,dsN,latN,lonN,timN)\n",
    "print(time.strftime('%d/%m/%y %H:%M',time.localtime()))\n"
   ]
  },
  {
   "cell_type": "code",
   "execution_count": null,
   "metadata": {},
   "outputs": [],
   "source": [
    "\n",
    "for prof in np.arange(nb_profilesEN4):\n",
    "    process(jsonfile,infos,prof,dsN,latN,lonN,timN)\n",
    "\n",
    "print time.strftime('%d/%m/%y %H:%M',time.localtime())\n"
   ]
  }
 ],
 "metadata": {
  "kernelspec": {
   "display_name": "Python 3",
   "language": "python",
   "name": "python3"
  },
  "language_info": {
   "codemirror_mode": {
    "name": "ipython",
    "version": 3
   },
   "file_extension": ".py",
   "mimetype": "text/x-python",
   "name": "python",
   "nbconvert_exporter": "python",
   "pygments_lexer": "ipython3",
   "version": "3.7.3"
  }
 },
 "nbformat": 4,
 "nbformat_minor": 2
}
