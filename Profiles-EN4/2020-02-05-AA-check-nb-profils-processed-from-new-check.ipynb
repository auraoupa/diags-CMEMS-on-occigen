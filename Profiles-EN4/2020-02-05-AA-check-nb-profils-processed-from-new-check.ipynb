{
 "cells": [
  {
   "cell_type": "code",
   "execution_count": 1,
   "metadata": {},
   "outputs": [],
   "source": [
    "## path for mdules\n",
    "import sys\n",
    "import warnings\n",
    "warnings.filterwarnings('ignore')\n",
    "\n",
    "\n",
    "## imports\n",
    "\n",
    "import numpy as np\n",
    "import dask\n",
    "import xarray as xr\n",
    "from netCDF4 import Dataset\n",
    "import matplotlib.pyplot as plt\n",
    "import pandas as pd\n",
    "import datetime\n",
    "import glob as glob\n",
    "import matplotlib.gridspec as gridspec\n",
    "import time\n",
    "from dask.diagnostics import ProgressBar\n",
    "from datetime import date\n",
    "import yaml\n",
    "import io\n",
    "import json\n",
    "import os\n"
   ]
  },
  {
   "cell_type": "code",
   "execution_count": 2,
   "metadata": {},
   "outputs": [],
   "source": [
    "def compter(config,case):\n",
    "    if config == 'EU36':\n",
    "        reg='EU'\n",
    "    if config == 'GS36':\n",
    "        reg='GS'\n",
    "    \n",
    "    jsonfile = 'NATL60-CJM165_'+str(reg)+'_y2012-2013_new.json'\n",
    "    dirn = '/scratch/cnt0024/hmg2840/albert7a/EN4/profiles_files/NATL60-CJM165_'+str(reg)+'_y2012-2013/'+config+'-'+case+'/'\n",
    "    namezone = 'NATL60-CJM165_'+str(reg)+'_y2012-2013'\n",
    "\n",
    "    sourcefile=open(jsonfile,'rU')\n",
    "    infos=json.load(sourcefile)\n",
    "    nb_profilesEN4=len(infos)\n",
    "\n",
    "    nb=0\n",
    "    for prof in np.arange(nb_profilesEN4):\n",
    "        list_profiles = infos.keys()\n",
    "        reference = str(list(list_profiles)[prof])\n",
    "        reference_profile=reference[-16:-1]\n",
    "        outname=dirn+\"/profiles_EN4-\"+reference_profile+\"_\"+config+\"-\"+case+\"_TS.nc\"\n",
    "        if os.path.exists(outname):\n",
    "            nb=nb+1\n",
    "        \n",
    "    return nb_profilesEN4,nb       "
   ]
  },
  {
   "cell_type": "code",
   "execution_count": 5,
   "metadata": {
    "scrolled": false
   },
   "outputs": [
    {
     "name": "stdout",
     "output_type": "stream",
     "text": [
      "55224 out of 56055\n"
     ]
    }
   ],
   "source": [
    "\n",
    "nb_profilesEN4,nb=compter('GS36','MPC001')\n",
    "print(str(nb)+' out of '+str(nb_profilesEN4))\n",
    "    "
   ]
  },
  {
   "cell_type": "code",
   "execution_count": 6,
   "metadata": {},
   "outputs": [
    {
     "name": "stdout",
     "output_type": "stream",
     "text": [
      "55060 out of 56055\n"
     ]
    }
   ],
   "source": [
    "\n",
    "nb_profilesEN4,nb=compter('GS36','MPC002')\n",
    "print(str(nb)+' out of '+str(nb_profilesEN4))\n",
    "    "
   ]
  },
  {
   "cell_type": "code",
   "execution_count": 7,
   "metadata": {},
   "outputs": [
    {
     "name": "stdout",
     "output_type": "stream",
     "text": [
      "55067 out of 56055\n"
     ]
    }
   ],
   "source": [
    "\n",
    "nb_profilesEN4,nb=compter('GS36','MPC003')\n",
    "print(str(nb)+' out of '+str(nb_profilesEN4))\n",
    "    "
   ]
  },
  {
   "cell_type": "code",
   "execution_count": 8,
   "metadata": {},
   "outputs": [
    {
     "name": "stdout",
     "output_type": "stream",
     "text": [
      "2959 out of 12401\n"
     ]
    }
   ],
   "source": [
    "\n",
    "nb_profilesEN4,nb=compter('EU36','MPC001')\n",
    "print(str(nb)+' out of '+str(nb_profilesEN4))\n",
    "    "
   ]
  },
  {
   "cell_type": "code",
   "execution_count": 9,
   "metadata": {},
   "outputs": [
    {
     "name": "stdout",
     "output_type": "stream",
     "text": [
      "2847 out of 12401\n"
     ]
    }
   ],
   "source": [
    "\n",
    "nb_profilesEN4,nb=compter('EU36','MPC002')\n",
    "print(str(nb)+' out of '+str(nb_profilesEN4))\n",
    "    "
   ]
  },
  {
   "cell_type": "code",
   "execution_count": 10,
   "metadata": {},
   "outputs": [
    {
     "name": "stdout",
     "output_type": "stream",
     "text": [
      "3071 out of 12401\n"
     ]
    }
   ],
   "source": [
    "\n",
    "nb_profilesEN4,nb=compter('EU36','MPC003')\n",
    "print(str(nb)+' out of '+str(nb_profilesEN4))\n",
    "    "
   ]
  },
  {
   "cell_type": "code",
   "execution_count": 18,
   "metadata": {},
   "outputs": [],
   "source": [
    "def compter(config,case,k):\n",
    "    if config == 'EU36':\n",
    "        reg='EU'\n",
    "    if config == 'GS36':\n",
    "        reg='GS'\n",
    "    \n",
    "    jsonfile = '/scratch/cnt0024/hmg2840/albert7a/EN4/profiles_files/NATL60-CJM165_'+str(reg)+'_y2012-2013/NATL60-CJM165_'+str(reg)+'_y2012-2013_'+str(k)+'_new.json'\n",
    "    dirn = '/scratch/cnt0024/hmg2840/albert7a/EN4/profiles_files/NATL60-CJM165_'+str(reg)+'_y2012-2013/'+config+'-'+case+'/'\n",
    "    namezone = 'NATL60-CJM165_'+str(reg)+'_y2012-2013'\n",
    "\n",
    "    sourcefile=open(jsonfile,'rU')\n",
    "    infos=json.load(sourcefile)\n",
    "    nb_profilesEN4=len(infos)\n",
    "\n",
    "    nb=0\n",
    "    for prof in np.arange(nb_profilesEN4):\n",
    "        list_profiles = infos.keys()\n",
    "        reference = str(list(list_profiles)[prof])\n",
    "        reference_profile=reference[-16:-1]\n",
    "        outname=dirn+\"/profiles_EN4-\"+reference_profile+\"_\"+config+\"-\"+case+\"_TS.nc\"\n",
    "        if os.path.exists(outname):\n",
    "            nb=nb+1\n",
    "        \n",
    "    return nb_profilesEN4,nb       "
   ]
  },
  {
   "cell_type": "code",
   "execution_count": 20,
   "metadata": {},
   "outputs": [
    {
     "name": "stdout",
     "output_type": "stream",
     "text": [
      "[7, 32, 39, 42, 169, 196, 197, 226, 227, 233, 234, 237, 255, 259, 260, 267, 271, 272, 273, 274, 275, 278, 279, 282, 283, 290, 308, 309, 325, 326, 338, 349, 352, 469]\n",
      "[81.0, 86.0, 73.0, 97.0, 68.0, 56.0, 47.0, 97.0, 86.0, 98.0, 95.0, 74.0, 83.0, 87.0, 62.0, 97.0, 23.0, 24.0, 87.0, 84.0, 90.0, 54.0, 90.0, 91.0, 90.0, 92.0, 55.0, 92.0, 10.0, 97.0, 97.0, 87.0, 69.0, 50.0]\n",
      "34 out of 561\n"
     ]
    }
   ],
   "source": [
    "njf=[]\n",
    "percent=[]\n",
    "for k in np.arange(1,561):\n",
    "    nb_profilesEN4,nb=compter('GS36','MPC001',k)\n",
    "    if nb < nb_profilesEN4:\n",
    "        njf.append(k)\n",
    "        percent.append(100*nb/nb_profilesEN4)\n",
    "\n",
    "print(njf)\n",
    "print(percent)\n",
    "print(str(len(njf))+' out of 561')"
   ]
  },
  {
   "cell_type": "code",
   "execution_count": 21,
   "metadata": {},
   "outputs": [
    {
     "name": "stdout",
     "output_type": "stream",
     "text": [
      "[7, 32, 39, 42, 105, 169, 195, 196, 197, 226, 227, 233, 234, 237, 255, 259, 260, 267, 271, 272, 273, 274, 275, 278, 279, 282, 283, 290, 308, 309, 320, 321, 325, 326, 338, 349, 352, 469]\n",
      "[81.0, 86.0, 70.0, 92.0, 35.0, 52.0, 97.0, 56.0, 47.0, 97.0, 78.0, 98.0, 95.0, 74.0, 83.0, 82.0, 62.0, 89.0, 23.0, 24.0, 87.0, 84.0, 90.0, 54.0, 90.0, 91.0, 90.0, 92.0, 55.0, 92.0, 58.0, 95.0, 10.0, 97.0, 93.0, 87.0, 69.0, 50.0]\n",
      "38 out of 561\n"
     ]
    }
   ],
   "source": [
    "njf=[]\n",
    "percent=[]\n",
    "for k in np.arange(1,561):\n",
    "    nb_profilesEN4,nb=compter('GS36','MPC002',k)\n",
    "    if nb < nb_profilesEN4:\n",
    "        njf.append(k)\n",
    "        percent.append(100*nb/nb_profilesEN4)\n",
    "\n",
    "print(njf)\n",
    "print(percent)\n",
    "print(str(len(njf))+' out of 561')"
   ]
  },
  {
   "cell_type": "code",
   "execution_count": 22,
   "metadata": {},
   "outputs": [
    {
     "name": "stdout",
     "output_type": "stream",
     "text": [
      "[7, 32, 39, 42, 74, 169, 195, 196, 197, 226, 227, 233, 234, 237, 255, 259, 260, 267, 271, 272, 273, 274, 275, 278, 279, 280, 282, 283, 290, 308, 309, 325, 326, 338, 349, 352, 469]\n",
      "[81.0, 86.0, 70.0, 93.0, 24.0, 57.0, 97.0, 56.0, 47.0, 97.0, 80.0, 98.0, 95.0, 74.0, 83.0, 83.0, 62.0, 90.0, 23.0, 24.0, 87.0, 84.0, 90.0, 54.0, 61.0, 90.0, 91.0, 90.0, 92.0, 55.0, 92.0, 10.0, 97.0, 93.0, 87.0, 69.0, 50.0]\n",
      "37 out of 561\n"
     ]
    }
   ],
   "source": [
    "njf=[]\n",
    "percent=[]\n",
    "for k in np.arange(1,561):\n",
    "    nb_profilesEN4,nb=compter('GS36','MPC003',k)\n",
    "    if nb < nb_profilesEN4:\n",
    "        njf.append(k)\n",
    "        percent.append(100*nb/nb_profilesEN4)\n",
    "\n",
    "print(njf)\n",
    "print(percent)\n",
    "print(str(len(njf))+' out of 561')"
   ]
  },
  {
   "cell_type": "code",
   "execution_count": 23,
   "metadata": {},
   "outputs": [
    {
     "name": "stdout",
     "output_type": "stream",
     "text": [
      "[1, 2, 3, 4, 5, 6, 7, 8, 9, 10, 11, 12, 13, 14, 15, 16, 17, 18, 19, 20, 21, 22, 23, 24, 25, 26, 27, 28, 29, 30, 31, 32, 33, 34, 35, 36, 37, 38, 39, 40, 41, 42, 43, 44, 45, 46, 47, 48, 49, 50, 51, 52, 53, 54, 55, 56, 57, 58, 59, 60, 61, 62, 63, 64, 65, 66, 67, 68, 69, 70, 71, 72, 73, 74, 75, 76, 77, 78, 79, 80, 81, 82, 83, 84, 85, 86, 87, 88, 89, 90, 91, 92, 93, 94, 95, 96, 97, 98, 99, 100, 101, 102, 103, 104, 105, 106, 107, 108, 109, 110, 111, 112, 113, 114, 115, 116, 117, 118, 119, 120, 121, 123]\n",
      "[62.0, 32.0, 79.0, 64.0, 78.0, 57.0, 33.0, 39.0, 33.0, 30.0, 12.0, 9.0, 16.0, 13.0, 13.0, 10.0, 22.0, 7.0, 2.0, 18.0, 0.0, 14.0, 1.0, 5.0, 35.0, 60.0, 19.0, 0.0, 0.0, 32.0, 0.0, 25.0, 9.0, 0.0, 28.0, 2.0, 10.0, 1.0, 11.0, 0.0, 0.0, 20.0, 20.0, 22.0, 12.0, 11.0, 0.0, 14.0, 6.0, 12.0, 16.0, 43.0, 13.0, 0.0, 19.0, 13.0, 2.0, 37.0, 20.0, 44.0, 40.0, 14.0, 17.0, 36.0, 15.0, 0.0, 0.0, 34.0, 18.0, 22.0, 18.0, 6.0, 21.0, 10.0, 7.0, 27.0, 3.0, 1.0, 47.0, 0.0, 12.0, 48.0, 7.0, 37.0, 45.0, 32.0, 87.0, 57.0, 39.0, 45.0, 16.0, 43.0, 21.0, 1.0, 16.0, 8.0, 56.0, 37.0, 6.0, 12.0, 6.0, 27.0, 24.0, 0.0, 29.0, 0.0, 15.0, 32.0, 1.0, 14.0, 16.0, 38.0, 39.0, 34.0, 0.0, 17.0, 0.0, 36.0, 82.0, 64.0, 94.0, 82.0]\n",
      "122 out of 124\n"
     ]
    }
   ],
   "source": [
    "njf=[]\n",
    "percent=[]\n",
    "for k in np.arange(1,124):\n",
    "    nb_profilesEN4,nb=compter('EU36','MPC001',k)\n",
    "    if nb < nb_profilesEN4:\n",
    "        njf.append(k)\n",
    "        percent.append(100*nb/nb_profilesEN4)\n",
    "\n",
    "print(njf)\n",
    "print(percent)\n",
    "print(str(len(njf))+' out of 124')"
   ]
  },
  {
   "cell_type": "code",
   "execution_count": 24,
   "metadata": {},
   "outputs": [
    {
     "name": "stdout",
     "output_type": "stream",
     "text": [
      "[1, 2, 3, 4, 5, 6, 7, 8, 9, 10, 11, 12, 13, 14, 15, 16, 17, 18, 19, 20, 21, 22, 23, 24, 25, 26, 27, 28, 29, 30, 31, 32, 33, 34, 35, 36, 37, 38, 39, 40, 41, 42, 43, 44, 45, 46, 47, 48, 49, 50, 51, 52, 53, 54, 55, 56, 57, 58, 59, 60, 61, 62, 63, 64, 65, 66, 67, 68, 69, 70, 71, 72, 73, 74, 75, 76, 77, 78, 79, 80, 81, 82, 83, 84, 85, 86, 87, 88, 89, 90, 91, 92, 93, 94, 95, 96, 97, 98, 99, 100, 101, 102, 103, 104, 105, 106, 107, 108, 109, 110, 111, 112, 113, 114, 115, 116, 117, 118, 119, 120, 121, 123]\n",
      "[62.0, 30.0, 79.0, 64.0, 78.0, 57.0, 33.0, 39.0, 33.0, 30.0, 12.0, 9.0, 16.0, 13.0, 13.0, 10.0, 22.0, 7.0, 2.0, 0.0, 0.0, 14.0, 0.0, 5.0, 35.0, 60.0, 19.0, 0.0, 0.0, 32.0, 0.0, 25.0, 9.0, 0.0, 28.0, 2.0, 10.0, 1.0, 11.0, 0.0, 0.0, 20.0, 20.0, 22.0, 12.0, 11.0, 0.0, 14.0, 6.0, 12.0, 16.0, 43.0, 13.0, 0.0, 5.0, 27.0, 13.0, 37.0, 20.0, 44.0, 40.0, 8.0, 17.0, 36.0, 15.0, 0.0, 0.0, 37.0, 18.0, 22.0, 18.0, 4.0, 0.0, 10.0, 7.0, 27.0, 3.0, 1.0, 47.0, 4.0, 12.0, 48.0, 7.0, 6.0, 45.0, 32.0, 87.0, 57.0, 39.0, 0.0, 16.0, 43.0, 21.0, 1.0, 16.0, 8.0, 56.0, 37.0, 6.0, 12.0, 6.0, 27.0, 24.0, 0.0, 29.0, 0.0, 15.0, 32.0, 1.0, 14.0, 16.0, 38.0, 39.0, 34.0, 0.0, 17.0, 0.0, 36.0, 82.0, 64.0, 94.0, 78.0]\n",
      "122 out of 124\n"
     ]
    }
   ],
   "source": [
    "njf=[]\n",
    "percent=[]\n",
    "for k in np.arange(1,124):\n",
    "    nb_profilesEN4,nb=compter('EU36','MPC002',k)\n",
    "    if nb < nb_profilesEN4:\n",
    "        njf.append(k)\n",
    "        percent.append(100*nb/nb_profilesEN4)\n",
    "\n",
    "print(njf)\n",
    "print(percent)\n",
    "print(str(len(njf))+' out of 124')"
   ]
  },
  {
   "cell_type": "code",
   "execution_count": 25,
   "metadata": {},
   "outputs": [
    {
     "name": "stdout",
     "output_type": "stream",
     "text": [
      "[1, 2, 3, 4, 5, 6, 7, 8, 9, 10, 11, 12, 13, 14, 15, 16, 17, 18, 19, 20, 21, 22, 23, 24, 25, 26, 27, 28, 29, 30, 31, 32, 33, 34, 35, 36, 37, 38, 39, 40, 41, 42, 43, 44, 45, 46, 47, 48, 49, 50, 51, 52, 53, 54, 55, 56, 57, 58, 59, 60, 61, 62, 63, 64, 65, 66, 67, 68, 69, 70, 71, 72, 73, 74, 75, 76, 77, 78, 79, 80, 81, 82, 83, 84, 85, 86, 87, 88, 89, 90, 91, 92, 93, 94, 95, 96, 97, 98, 99, 100, 101, 102, 103, 104, 105, 106, 107, 108, 109, 110, 111, 112, 113, 114, 115, 116, 117, 118, 119, 120, 121, 123]\n",
      "[62.0, 32.0, 79.0, 64.0, 78.0, 57.0, 33.0, 39.0, 33.0, 30.0, 12.0, 9.0, 16.0, 13.0, 13.0, 10.0, 22.0, 7.0, 2.0, 18.0, 0.0, 14.0, 0.0, 5.0, 35.0, 60.0, 19.0, 0.0, 0.0, 32.0, 0.0, 25.0, 9.0, 0.0, 28.0, 2.0, 10.0, 1.0, 11.0, 0.0, 0.0, 20.0, 20.0, 22.0, 12.0, 11.0, 0.0, 14.0, 6.0, 12.0, 16.0, 43.0, 1.0, 11.0, 19.0, 27.0, 13.0, 37.0, 20.0, 44.0, 31.0, 14.0, 34.0, 36.0, 15.0, 0.0, 0.0, 39.0, 18.0, 22.0, 18.0, 6.0, 21.0, 10.0, 7.0, 27.0, 3.0, 1.0, 47.0, 81.0, 12.0, 48.0, 7.0, 37.0, 45.0, 32.0, 87.0, 57.0, 39.0, 45.0, 16.0, 43.0, 25.0, 1.0, 16.0, 8.0, 56.0, 37.0, 6.0, 12.0, 28.0, 27.0, 24.0, 0.0, 29.0, 0.0, 1.0, 32.0, 0.0, 2.0, 16.0, 38.0, 39.0, 34.0, 0.0, 17.0, 0.0, 36.0, 82.0, 64.0, 94.0, 78.0]\n",
      "122 out of 124\n"
     ]
    }
   ],
   "source": [
    "njf=[]\n",
    "percent=[]\n",
    "for k in np.arange(1,124):\n",
    "    nb_profilesEN4,nb=compter('EU36','MPC003',k)\n",
    "    if nb < nb_profilesEN4:\n",
    "        njf.append(k)\n",
    "        percent.append(100*nb/nb_profilesEN4)\n",
    "\n",
    "print(njf)\n",
    "print(percent)\n",
    "print(str(len(njf))+' out of 124')"
   ]
  },
  {
   "cell_type": "code",
   "execution_count": null,
   "metadata": {},
   "outputs": [],
   "source": []
  }
 ],
 "metadata": {
  "kernelspec": {
   "display_name": "Python 3",
   "language": "python",
   "name": "python3"
  },
  "language_info": {
   "codemirror_mode": {
    "name": "ipython",
    "version": 3
   },
   "file_extension": ".py",
   "mimetype": "text/x-python",
   "name": "python",
   "nbconvert_exporter": "python",
   "pygments_lexer": "ipython3",
   "version": "3.7.3"
  }
 },
 "nbformat": 4,
 "nbformat_minor": 2
}
