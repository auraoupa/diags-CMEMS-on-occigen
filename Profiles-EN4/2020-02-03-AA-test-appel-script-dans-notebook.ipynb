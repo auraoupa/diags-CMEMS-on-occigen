{
 "cells": [
  {
   "cell_type": "code",
   "execution_count": 4,
   "metadata": {},
   "outputs": [],
   "source": [
    "import sys\n",
    "sys.path.insert(0,\"/scratch/cnt0024/hmg2840/albert7a/DEV/git/diags-CMEMS-on-occigen/Profiles-EN4/\")\n",
    "\n",
    "import ppnat"
   ]
  },
  {
   "cell_type": "code",
   "execution_count": 10,
   "metadata": {},
   "outputs": [],
   "source": [
    "import json\n",
    "import time\n",
    "import os\n",
    "import numpy as np"
   ]
  },
  {
   "cell_type": "code",
   "execution_count": null,
   "metadata": {},
   "outputs": [
    {
     "name": "stdout",
     "output_type": "stream",
     "text": [
      "03/02/20 15:14\n",
      "Opening data\n",
      "03/02/20 15:14\n",
      "dealing with profile A20121001-03180\n",
      "/scratch/cnt0024/hmg2840/albert7a/EN4/profiles_files/NATL60-CJM165_EU_y2012-2013/NATL60-CJM165//profiles_EN4-A20121001-03180_NATL60-CJM165_TS.nc does not exist; lets process\n",
      "Processing profile  b' A20121001-03180'\n",
      "selected profile falls within model boundaries, the program is proceeding\n",
      "output file is /scratch/cnt0024/hmg2840/albert7a/EN4/profiles_files/NATL60-CJM165_EU_y2012-2013/NATL60-CJM165/EU/profiles_EN4-A20121001-03180_NATL60-CJM165_TS.nc\n",
      "dealing with profile A20121001-03183\n",
      "/scratch/cnt0024/hmg2840/albert7a/EN4/profiles_files/NATL60-CJM165_EU_y2012-2013/NATL60-CJM165//profiles_EN4-A20121001-03183_NATL60-CJM165_TS.nc does not exist; lets process\n",
      "Processing profile  b' A20121001-03183'\n",
      "selected profile falls within model boundaries, the program is proceeding\n",
      "output file is /scratch/cnt0024/hmg2840/albert7a/EN4/profiles_files/NATL60-CJM165_EU_y2012-2013/NATL60-CJM165/EU/profiles_EN4-A20121001-03183_NATL60-CJM165_TS.nc\n",
      "dealing with profile A20121001-03275\n",
      "/scratch/cnt0024/hmg2840/albert7a/EN4/profiles_files/NATL60-CJM165_EU_y2012-2013/NATL60-CJM165//profiles_EN4-A20121001-03275_NATL60-CJM165_TS.nc does not exist; lets process\n",
      "Processing profile  b' A20121001-03275'\n",
      "selected profile falls within model boundaries, the program is proceeding\n"
     ]
    }
   ],
   "source": [
    "jsonfile = '/scratch/cnt0024/hmg2840/albert7a/EN4/profiles_files/NATL60-CJM165_EU_y2012-2013/NATL60-CJM165_EU_y2012-2013_1.json'\n",
    "dirn = '/scratch/cnt0024/hmg2840/albert7a/EN4/profiles_files/NATL60-CJM165_EU_y2012-2013/NATL60-CJM165/'\n",
    "region = 'EU'\n",
    "namezone = 'NATL60-CJM165_EU_y2012-2013'\n",
    "\n",
    "sourcefile=open(jsonfile,'rU')\n",
    "infos=json.load(sourcefile)\n",
    "nb_profilesEN4=len(infos)\n",
    "\n",
    "print(time.strftime('%d/%m/%y %H:%M',time.localtime()))\n",
    "dsN,latN,lonN,timN = ppnat.open_model(region)\n",
    "print(time.strftime('%d/%m/%y %H:%M',time.localtime()))\n",
    "\n",
    "for prof in np.arange(nb_profilesEN4):\n",
    "    list_profiles = infos.keys()\n",
    "    reference = str(list(list_profiles)[prof])\n",
    "    reference_profile=reference[-16:-1]\n",
    "    print(\"dealing with profile \"+reference_profile)\n",
    "    outname=dirn+\"/profiles_EN4-\"+reference_profile+\"_NATL60-CJM165_TS.nc\"\n",
    "\n",
    "    if not os.path.exists(outname):\n",
    "        print(outname+\" does not exist; lets process\")\n",
    "        ppnat.process(jsonfile,infos,prof,dsN,latN,lonN,timN,region,namezone)\n",
    "    else:\n",
    "        print(outname+\" already exists\")\n",
    "\n",
    "    \n",
    "print(time.strftime('%d/%m/%y %H:%M',time.localtime()))\n"
   ]
  },
  {
   "cell_type": "code",
   "execution_count": null,
   "metadata": {},
   "outputs": [],
   "source": []
  }
 ],
 "metadata": {
  "kernelspec": {
   "display_name": "Python 3",
   "language": "python",
   "name": "python3"
  },
  "language_info": {
   "codemirror_mode": {
    "name": "ipython",
    "version": 3
   },
   "file_extension": ".py",
   "mimetype": "text/x-python",
   "name": "python",
   "nbconvert_exporter": "python",
   "pygments_lexer": "ipython3",
   "version": "3.7.3"
  }
 },
 "nbformat": 4,
 "nbformat_minor": 2
}
