{
 "cells": [
  {
   "cell_type": "markdown",
   "metadata": {},
   "source": [
    "## Plot the locations of all profiles"
   ]
  },
  {
   "cell_type": "code",
   "execution_count": 1,
   "metadata": {},
   "outputs": [
    {
     "name": "stderr",
     "output_type": "stream",
     "text": [
      "/scratch/cnt0024/hmg2840/albert7a/anaconda3/lib/python3.7/site-packages/dask/config.py:168: YAMLLoadWarning: calling yaml.load() without Loader=... is deprecated, as the default Loader is unsafe. Please read https://msg.pyyaml.org/load for full details.\n",
      "  data = yaml.load(f.read()) or {}\n"
     ]
    }
   ],
   "source": [
    "import cartopy.crs as ccrs\n",
    "import cartopy.feature as cfeature\n",
    "from cartopy.mpl.gridliner import LONGITUDE_FORMATTER, LATITUDE_FORMATTER\n",
    "import json\n",
    "import numpy as np\n",
    "import xarray as xr\n",
    "import os\n",
    "\n",
    "import numpy as np\n",
    "import dask\n",
    "import xarray as xr\n",
    "import matplotlib.pyplot as plt\n",
    "import pandas as pd\n",
    "import datetime\n",
    "import glob as glob\n",
    "import time\n",
    "from datetime import date\n",
    "import io\n",
    "import json\n"
   ]
  },
  {
   "cell_type": "code",
   "execution_count": 2,
   "metadata": {},
   "outputs": [],
   "source": [
    "def get_netcdf_profiles(netcdf_name):\n",
    "\n",
    "    dsprof=xr.open_dataset(netcdf_name)\n",
    "    depth=dsprof['depth_en4']\n",
    "    temp_en4=dsprof['temp_profileEN4']\n",
    "    salt_en4=dsprof['salt_profileEN4']\n",
    "    mean_temp_model=dsprof['mean_temp_model']\n",
    "    mean_salt_model=dsprof['mean_salt_model']\n",
    "\n",
    "    return depth,temp_en4,salt_en4,mean_temp_model,mean_salt_model"
   ]
  },
  {
   "cell_type": "code",
   "execution_count": null,
   "metadata": {},
   "outputs": [],
   "source": [
    "def map_profiles_from_jsonfile(all_lat1,all_lon1,all_lat2,all_lon2,all_lat3,all_lon3,reg):\n",
    "    \n",
    "    if reg == 'EU':\n",
    "        fig, ax = plt.subplots(1,1,figsize=(10,15))\n",
    "        latmin,latmax,lonmin,lonmax=(32.6,65.6,-17,10)\n",
    "        maskfile='/store/colombo/EU36/EU36-I/EU36.L75_mesh_mask.nc'\n",
    "\n",
    "    if reg == 'GS':\n",
    "        fig, ax = plt.subplots(1,1,figsize=(15,10))\n",
    "        latmin,latmax,lonmin,lonmax=(27,48,-81,-35)\n",
    "        maskfile='/scratch/cnt0024/hmg2840/albert7a/GS36.L75/GS36.L75-I/GS36.L75-MAA007_mesh_mask.nc'\n",
    "\n",
    "\n",
    "    mask=xr.open_dataset(maskfile)\n",
    "    tmask=mask.tmask[0,0]\n",
    "    navlat= mask['nav_lat']\n",
    "    navlon= mask['nav_lon']\n",
    "    ax = plt.subplot(111,projection=ccrs.PlateCarree(central_longitude=0))\n",
    "    ax.set_extent((lonmin, lonmax, latmin, latmax))\n",
    "    ax.contour(navlon,navlat,tmask,alpha=0.5,linewidth=0.000001,antialiased=True,colors='black')\n",
    "    gl = ax.gridlines(draw_labels=True, linestyle=':', color='black',\n",
    "                      alpha=0.5)\n",
    "    gl.xlabels_top = False\n",
    "    gl.ylabels_right = False\n",
    "    gl.xformatter = LONGITUDE_FORMATTER\n",
    "    gl.yformatter = LATITUDE_FORMATTER\n",
    "    ax.tick_params('both',labelsize=22)\n",
    "\n",
    "    all_lon=0*all_lon1\n",
    "    all_lat=0*all_lat1\n",
    "    all_lon12=0*all_lon1\n",
    "    all_lat12=0*all_lat1\n",
    "    all_lon23=0*all_lon1\n",
    "    all_lat23=0*all_lat1\n",
    "    all_lon13=0*all_lon1\n",
    "    all_lat13=0*all_lat1\n",
    "    all_lon_only1=1*all_lon1\n",
    "    all_lat_only1=1*all_lat1\n",
    "    all_lon_only2=1*all_lon2\n",
    "    all_lat_only2=1*all_lat2\n",
    "    all_lon_only3=1*all_lon3\n",
    "    all_lat_only3=1*all_lat3\n",
    "    \n",
    "    for k in np.arange(len(all_lon1)):\n",
    "        if all_lon1[k]!= 0:\n",
    "            if all_lon1[k] in all_lon2 and all_lat1[k] in all_lat2 and all_lon1[k] in all_lon2 and all_lat1[k] in all_lat2:\n",
    "                all_lon[k]=all_lon1[k]\n",
    "                all_lat[k]=all_lat1[k]\n",
    "                all_lon_only1[k]=0\n",
    "                all_lat_only1[k]=0\n",
    "                all_lon_only2[k]=0\n",
    "                all_lat_only2[k]=0\n",
    "                all_lon_only3[k]=0\n",
    "                all_lat_only3[k]=0\n",
    "            if all_lon1[k] in all_lon2 and all_lat1[k] in all_lat2:\n",
    "                all_lon12[k]=all_lon1[k]\n",
    "                all_lat12[k]=all_lat1[k]\n",
    "                all_lon_only1[k]=0\n",
    "                all_lat_only1[k]=0\n",
    "                all_lon_only2[k]=0\n",
    "                all_lat_only2[k]=0\n",
    "            if all_lon1[k] in all_lon3 and all_lat1[k] in all_lat3:\n",
    "                all_lon13[k]=all_lon1[k]\n",
    "                all_lat13[k]=all_lat1[k]\n",
    "                all_lon_only1[k]=0\n",
    "                all_lat_only1[k]=0\n",
    "                all_lon_only3[k]=0\n",
    "                all_lat_only3[k]=0\n",
    "        if all_lon1[k]== 0 and all_lon2[k]!=0:\n",
    "            if all_lon2[k] in all_lon3 and all_lat2[k] in all_lat3:\n",
    "                all_lon23[k]=all_lon2[k]\n",
    "                all_lat23[k]=all_lat2[k]\n",
    "                all_lon_only2[k]=0\n",
    "                all_lat_only2[k]=0\n",
    "                all_lon_only3[k]=0\n",
    "                all_lat_only3[k]=0\n",
    "                \n",
    "    plt.scatter(all_lon, all_lat, c='k', linewidth='0', s=18, label='all simus');\n",
    "    plt.scatter(all_lon12, all_lat12, c='m', linewidth='0', s=18, label='75 and 150surf');\n",
    "    plt.scatter(all_lon13, all_lat13, c='brown', linewidth='0', s=18, label='75 and 150arctan');\n",
    "    plt.scatter(all_lon23, all_lat23, c='gold', linewidth='0', s=18, label='150 surf and arctan');\n",
    "    plt.scatter(all_lon1, all_lat1, c='r', linewidth='0', s=18, label='75 only');\n",
    "    plt.scatter(all_lon2, all_lat2, c='b', linewidth='0', s=18, label='150surf only');\n",
    "    plt.scatter(all_lon3, all_lat3, c='g', linewidth='0', s=18, label='150arctan only');\n",
    "    plt.title('EN4 profiles in '+reg+' region in 2012-2013 dep>1000', size=20);\n",
    "    plt.savefig('profiles_'+reg+'_period_NATL60_over1000m_all_simus.png')\n"
   ]
  },
  {
   "cell_type": "code",
   "execution_count": 4,
   "metadata": {},
   "outputs": [],
   "source": [
    "def concat_lat_lon_dep1000m(reg,case):\n",
    "\n",
    "    if reg == 'EU':\n",
    "        config='EU36'\n",
    "    if reg == 'GS':\n",
    "        config='GS36'\n",
    "        \n",
    "    namezone='NATL60-CJM165_'+reg+'_y2012-2013'\n",
    "    jsonfile='/scratch/cnt0024/hmg2840/albert7a/EN4/profiles_files/NATL60-CJM165_'+reg+'_y2012-2013/NATL60-CJM165_'+reg+'_y2012-2013_final.json'\n",
    "    dirn='/scratch/cnt0024/hmg2840/albert7a/EN4/profiles_files/NATL60-CJM165_'+reg+'_y2012-2013/'+config+'-'+case+'/'    \n",
    "\n",
    "    sourcefile=open(jsonfile,'rU',encoding='utf-8')\n",
    "    infos=json.load(sourcefile)\n",
    "    nb_profilesEN4=len(infos)\n",
    "    list_profiles=infos.keys()\n",
    "\n",
    "    all_lat=np.zeros((nb_profilesEN4))\n",
    "    all_lon=np.zeros((nb_profilesEN4))\n",
    "    nb=0\n",
    "    for prof in np.arange(nb_profilesEN4):\n",
    "        reference =  str(list(list_profiles)[prof])\n",
    "        reference_profile=reference[-16:-1]\n",
    "        outname=dirn+\"/profiles_EN4-\"+reference_profile+\"_\"+config+\"-\"+case+\"_TS_vert-stand.nc\"\n",
    "        if os.path.exists(outname):\n",
    "            depth,temp_en4,salt_en4,mean_temp_model,mean_salt_model = get_netcdf_profiles(outname)\n",
    "            ien4t=np.where(np.isnan(temp_en4)==True)\n",
    "            ien4s=np.where(np.isnan(salt_en4)==True)\n",
    "            imodt=np.where(np.isnan(mean_temp_model)==True)\n",
    "            imods=np.where(np.isnan(mean_salt_model)==True)\n",
    "            if len(imodt[:][0])>0:\n",
    "                dep_modt=depth[np.min(imodt[:][0])].values\n",
    "            else:\n",
    "                dep_modt=2000\n",
    "            if len(imods[:][0])>0:\n",
    "                dep_mods=depth[np.min(imods[:][0])].values\n",
    "            else:\n",
    "                dep_mods=2000\n",
    "            if len(ien4t[:][0]) >0: \n",
    "                dept=depth[np.min(ien4t[:][0])].values\n",
    "            else:\n",
    "                dept=2000\n",
    "            \n",
    "            if len(ien4s[:][0]) >0:\n",
    "                deps=depth[np.min(ien4s[:][0])].values\n",
    "            else:\n",
    "                deps=2000\n",
    "                \n",
    "            if dept>1000 and deps>1000:\n",
    "                if dept == 2000:\n",
    "                    ecart=110\n",
    "                else:\n",
    "                    ecart=10\n",
    "                if np.abs(dept-dep_modt)<ecart and np.abs(deps-dep_mods)<ecart:\n",
    "                    nb=nb+1\n",
    "                    lat_prof = infos[reference]['latitude']\n",
    "                    lon_prof = infos[reference]['longitude']\n",
    "                    all_lat[prof]=lat_prof\n",
    "                    all_lon[prof]=lon_prof\n",
    "    return all_lat,all_lon,nb\n",
    "    \n"
   ]
  },
  {
   "cell_type": "code",
   "execution_count": 5,
   "metadata": {},
   "outputs": [
    {
     "name": "stderr",
     "output_type": "stream",
     "text": [
      "/scratch/cnt0024/hmg2840/albert7a/anaconda3/lib/python3.7/site-packages/ipykernel_launcher.py:12: DeprecationWarning: 'U' mode is deprecated\n",
      "  if sys.path[0] == '':\n"
     ]
    },
    {
     "name": "stdout",
     "output_type": "stream",
     "text": [
      "900\n"
     ]
    }
   ],
   "source": [
    "all_lat_GS1,all_lon_GS1,nb_GS1=concat_lat_lon_dep1000m('GS','MPC001')\n",
    "print(nb_GS1)\n"
   ]
  },
  {
   "cell_type": "code",
   "execution_count": 6,
   "metadata": {},
   "outputs": [
    {
     "name": "stderr",
     "output_type": "stream",
     "text": [
      "/scratch/cnt0024/hmg2840/albert7a/anaconda3/lib/python3.7/site-packages/ipykernel_launcher.py:12: DeprecationWarning: 'U' mode is deprecated\n",
      "  if sys.path[0] == '':\n"
     ]
    },
    {
     "name": "stdout",
     "output_type": "stream",
     "text": [
      "1554\n"
     ]
    }
   ],
   "source": [
    "all_lat_GS2,all_lon_GS2,nb_GS2=concat_lat_lon_dep1000m('GS','MPC002')\n",
    "print(nb_GS2)\n"
   ]
  },
  {
   "cell_type": "code",
   "execution_count": 7,
   "metadata": {},
   "outputs": [
    {
     "name": "stderr",
     "output_type": "stream",
     "text": [
      "/scratch/cnt0024/hmg2840/albert7a/anaconda3/lib/python3.7/site-packages/ipykernel_launcher.py:12: DeprecationWarning: 'U' mode is deprecated\n",
      "  if sys.path[0] == '':\n"
     ]
    },
    {
     "name": "stdout",
     "output_type": "stream",
     "text": [
      "2015\n"
     ]
    }
   ],
   "source": [
    "all_lat_GS3,all_lon_GS3,nb_GS3=concat_lat_lon_dep1000m('GS','MPC003')\n",
    "print(nb_GS3)\n"
   ]
  },
  {
   "cell_type": "code",
   "execution_count": null,
   "metadata": {},
   "outputs": [],
   "source": [
    "map_profiles_from_jsonfile(all_lat_GS1,all_lon_GS1,all_lat_GS2,all_lon_GS2,all_lat_GS3,all_lon_GS3,'GS')\n",
    "    "
   ]
  },
  {
   "cell_type": "code",
   "execution_count": 10,
   "metadata": {},
   "outputs": [
    {
     "name": "stderr",
     "output_type": "stream",
     "text": [
      "/scratch/cnt0024/hmg2840/albert7a/anaconda3/lib/python3.7/site-packages/ipykernel_launcher.py:12: DeprecationWarning: 'U' mode is deprecated\n",
      "  if sys.path[0] == '':\n"
     ]
    },
    {
     "name": "stdout",
     "output_type": "stream",
     "text": [
      "509\n"
     ]
    }
   ],
   "source": [
    "all_lat_EU1,all_lon_EU1,nb_EU1=concat_lat_lon_dep1000m('EU','MPC001')\n",
    "print(nb_EU1)\n"
   ]
  },
  {
   "cell_type": "code",
   "execution_count": null,
   "metadata": {},
   "outputs": [
    {
     "name": "stderr",
     "output_type": "stream",
     "text": [
      "/scratch/cnt0024/hmg2840/albert7a/anaconda3/lib/python3.7/site-packages/ipykernel_launcher.py:12: DeprecationWarning: 'U' mode is deprecated\n",
      "  if sys.path[0] == '':\n"
     ]
    }
   ],
   "source": [
    "all_lat_EU2,all_lon_EU2,nb_EU2=concat_lat_lon_dep1000m('EU','MPC002')\n",
    "print(nb_EU2)\n"
   ]
  },
  {
   "cell_type": "code",
   "execution_count": null,
   "metadata": {},
   "outputs": [],
   "source": [
    "all_lat_EU3,all_lon_EU3,nb_EU3=concat_lat_lon_dep1000m('EU','MPC003')\n",
    "print(nb_EU3)\n"
   ]
  },
  {
   "cell_type": "code",
   "execution_count": null,
   "metadata": {},
   "outputs": [],
   "source": [
    "map_profiles_from_jsonfile(all_lat_EU1,all_lon_EU1,all_lat_EU2,all_lon_EU2,all_lat_EU3,all_lon_EU3,'EU')\n",
    "    "
   ]
  }
 ],
 "metadata": {
  "kernelspec": {
   "display_name": "Python 3",
   "language": "python",
   "name": "python3"
  },
  "language_info": {
   "codemirror_mode": {
    "name": "ipython",
    "version": 3
   },
   "file_extension": ".py",
   "mimetype": "text/x-python",
   "name": "python",
   "nbconvert_exporter": "python",
   "pygments_lexer": "ipython3",
   "version": "3.7.3"
  }
 },
 "nbformat": 4,
 "nbformat_minor": 2
}
