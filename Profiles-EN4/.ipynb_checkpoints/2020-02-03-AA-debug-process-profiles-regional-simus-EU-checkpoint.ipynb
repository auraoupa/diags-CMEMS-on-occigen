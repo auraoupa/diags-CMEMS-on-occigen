{
 "cells": [
  {
   "cell_type": "markdown",
   "metadata": {},
   "source": [
    "# Le problème est : \n",
    "\n",
    "```\n",
    "Traceback (most recent call last):\n",
    "  File \"/scratch/cnt0024/hmg2840/albert7a/DEV/git/diags-CMEMS-on-occigen/Profiles-EN4/2020-01-29-AA-process-profiles-natl60.py\", line 391, in <module>\n",
    "    sys.exit(main() or 0)\n",
    "  File \"/scratch/cnt0024/hmg2840/albert7a/DEV/git/diags-CMEMS-on-occigen/Profiles-EN4/2020-01-29-AA-process-profiles-natl60.py\", line 380, in main\n",
    "    process(jsonfile,infos,prof,dsN,latN,lonN,timN,region,namezone)\n",
    "  File \"/scratch/cnt0024/hmg2840/albert7a/DEV/git/diags-CMEMS-on-occigen/Profiles-EN4/2020-01-29-AA-process-profiles-natl60.py\", line 51, in process\n",
    "    profil_temp_model_mean,profil_temp_model_percent10,profil_temp_model_percent90,profil_salt_model_mean,profil_salt_model_percent10,profil_salt_model_percent90,observation_dep,obsred_temp,obsred_salt,dep_level,model_dep,obsred_dep,observation_lat,observation_lon,observation_time = model_mean_percent_profile(file_prof,prof_prof,dsN,latN,lonN,timN)\n",
    "  File \"/scratch/cnt0024/hmg2840/albert7a/DEV/git/diags-CMEMS-on-occigen/Profiles-EN4/2020-01-29-AA-process-profiles-natl60.py\", line 141, in model_mean_percent_profile\n",
    "    model_lonBOX=lonN[np.min(indxBOX[0]):np.max(indxBOX[0]):step,np.min(indxBOX[1]):np.max(indxBOX[1]):step]\n",
    "  File \"<__array_function__ internals>\", line 6, in amin\n",
    "  File \"/scratch/cnt0024/hmg2840/albert7a/anaconda3/lib/python3.7/site-packages/numpy/core/fromnumeric.py\", line 2746, in amin\n",
    "    keepdims=keepdims, initial=initial, where=where)\n",
    "  File \"/scratch/cnt0024/hmg2840/albert7a/anaconda3/lib/python3.7/site-packages/numpy/core/fromnumeric.py\", line 90, in _wrapreduction\n",
    "    return ufunc.reduce(obj, axis, dtype, out, **passkwargs)\n",
    "ValueError: zero-size array to reduction operation minimum which has no identity\n",
    "```"
   ]
  },
  {
   "cell_type": "code",
   "execution_count": 1,
   "metadata": {},
   "outputs": [],
   "source": [
    "import warnings\n",
    "warnings.filterwarnings('ignore')\n",
    "\n",
    "\n",
    "## imports\n",
    "\n",
    "import numpy as np\n",
    "import dask\n",
    "import xarray as xr\n",
    "from netCDF4 import Dataset\n",
    "import matplotlib.pyplot as plt\n",
    "import pandas as pd\n",
    "import datetime\n",
    "import glob as glob\n",
    "import matplotlib.gridspec as gridspec\n",
    "import time\n",
    "from dask.diagnostics import ProgressBar\n",
    "from datetime import date\n",
    "import yaml\n",
    "import io\n",
    "import json\n",
    "import os\n",
    "import sys\n",
    "\n"
   ]
  },
  {
   "cell_type": "code",
   "execution_count": 2,
   "metadata": {},
   "outputs": [],
   "source": [
    "def process(jsonfile,infos,prof,dsN,latN,lonN,timN,config,case,namezone):\n",
    "        ''' Make all the steps needed to create the final netcdf files for one profile\n",
    "        '''\n",
    "        list_profiles = infos.keys()\n",
    "        reference =  str(list(list_profiles)[prof])\n",
    "        print('Processing profile ', reference)\n",
    "        lat_prof = infos[list(list_profiles)[prof]]['latitude']\n",
    "        lon_prof = infos[list(list_profiles)[prof]]['longitude']\n",
    "        date_prof = infos[list(list_profiles)[prof]]['date']\n",
    "        file_prof = infos[list(list_profiles)[prof]]['file']\n",
    "        prof_prof = infos[list(list_profiles)[prof]]['profile no']\n",
    "\n",
    "        check=check_prof_boundaries(dsN,latN,lonN,timN,lat_prof,lon_prof,date_prof)\n",
    "        if check == 0.:\n",
    "                profil_temp_model_mean,profil_temp_model_percent10,profil_temp_model_percent90,profil_salt_model_mean,profil_salt_model_percent10,profil_salt_model_percent90,observation_dep,obsred_temp,obsred_salt,dep_level,model_dep,obsred_dep,observation_lat,observation_lon,observation_time = model_mean_percent_profile(file_prof,prof_prof,dsN,latN,lonN,timN)\n",
    "                create_netcdf_profile(jsonfile,reference,prof_prof,observation_lat,observation_lon,observation_time,profil_temp_model_mean,profil_temp_model_percent10,profil_temp_model_percent90,profil_salt_model_mean,profil_salt_model_percent10,profil_salt_model_percent90,observation_dep,obsred_temp,obsred_salt,dep_level,model_dep,obsred_dep,config,case,namezone)\n",
    "\n"
   ]
  },
  {
   "cell_type": "code",
   "execution_count": 3,
   "metadata": {},
   "outputs": [],
   "source": [
    "def open_model(config,case):\n",
    "        print('Opening data')\n",
    "        tfiles=\"/store/colombo/\"+config+\"/\"+config+\"-\"+case+\"-S/1d/2012/\"+config+\"-\"+case+\"_y20??m??d??.1d_gridT.nc\"\n",
    "\n",
    "        ##Open NATL60 files to get boundaries of domain\n",
    "\n",
    "        dsN = xr.open_mfdataset(tfiles,decode_times=False, chunks={'deptht':1 ,'time_counter':10})\n",
    "\n",
    "        latN = dsN.nav_lat\n",
    "        lonN = dsN.nav_lon\n",
    "        timN = dsN.time_counter\n",
    "        return dsN,latN,lonN,timN\n",
    "\n"
   ]
  },
  {
   "cell_type": "code",
   "execution_count": 4,
   "metadata": {},
   "outputs": [],
   "source": [
    "def check_prof_boundaries(dsN,latN,lonN,timN,lat_prof,lon_prof,date_prof):\n",
    "        ''' Check if the selected profile falls within model boundaries\n",
    "        '''\n",
    "\n",
    "        lamin=np.nanmin(latN.values)\n",
    "        lamax=np.nanmax(latN.values)\n",
    "        lomin=np.nanmin(lonN.values)\n",
    "        lomax=np.nanmax(lonN.values)\n",
    "\n",
    "        if (lamin < lat_prof < lamax) & (lomin < lon_prof < lomax) :\n",
    "                check=0.\n",
    "                print(\"selected profile falls within model boundaries, the program is proceeding\")\n",
    "        else:\n",
    "                check=1.\n",
    "                print(\"selected profile does not fall within model boundaries, the program is stopping\")\n",
    "        return check\n"
   ]
  },
  {
   "cell_type": "code",
   "execution_count": 5,
   "metadata": {},
   "outputs": [],
   "source": [
    "def model_mean_percent_profile(fileEN4,ref_prof,dsN,latN,lonN,timN):\n",
    "        #select NATL60 data at the closest depth and within 0.25 and 15days near the location and date of the ARGO profile\n",
    "        diren4=\"/scratch/cnt0024/hmg2840/albert7a/EN4/\"\n",
    "        tfileEN4=diren4+fileEN4\n",
    "\n",
    "        dsen4=xr.open_dataset(tfileEN4)\n",
    "\n",
    "        laten4=dsen4['LATITUDE'][ref_prof]\n",
    "        lonen4=dsen4['LONGITUDE'][ref_prof]\n",
    "        dayen4=dsen4['JULD'][ref_prof]\n",
    "\n",
    "        dateen4= pd.to_datetime(str(dayen4.values))\n",
    "        ten4 = datetime.datetime(int(dateen4.strftime('%Y')),int(dateen4.strftime('%m')),int(dateen4.strftime('%d')),int(dateen4.strftime('%H')),int(dateen4.strftime('%M')))\n",
    "        tsecen4=(ten4-datetime.datetime(1900,1,1,0,0)).total_seconds()\n",
    "\n",
    "        observation_lon=lonen4\n",
    "        observation_lat=laten4\n",
    "        observation_time=tsecen4\n",
    "\n",
    "        tempen4=dsen4['POTM_CORRECTED'][ref_prof]\n",
    "        salten4=dsen4['PSAL_CORRECTED'][ref_prof]\n",
    "        depen4=dsen4['DEPH_CORRECTED'][ref_prof]\n",
    "\n",
    "        observation_dep=depen4\n",
    "        observation_temp=tempen4\n",
    "        observation_salt=salten4\n",
    "\n",
    "        depN = dsN.deptht\n",
    "        tempN=dsN.votemper\n",
    "        saltN=dsN.vosaline\n",
    "\n",
    "        #get the number of useful levels in EN4 profile\n",
    "        dep_level=np.zeros(1)\n",
    "\n",
    "        for k in np.arange(len(observation_dep)):\n",
    "                if not np.isnan(observation_dep[k]):\n",
    "                        dep_level[0]=k\n",
    "\n",
    "        #get the corresponding model level\n",
    "        model_level=np.zeros(int(dep_level[0]))\n",
    "        model_dep=np.zeros(int(dep_level[0]))\n",
    "        obsred_dep=np.zeros(int(dep_level[0]))\n",
    "        obsred_temp=np.zeros(int(dep_level[0]))\n",
    "        obsred_salt=np.zeros(int(dep_level[0]))\n",
    "        for z in np.arange(int(dep_level[0])):\n",
    "                obsred_dep[int(z)]=observation_dep[int(z)]\n",
    "                obsred_temp[int(z)]=observation_temp[int(z)]\n",
    "                obsred_salt[int(z)]=observation_salt[int(z)]\n",
    "                diff_dep=0*depN.values\n",
    "                for k in np.arange(len(depN.values)):\n",
    "                        diff_dep[k]=depN.values[k]-obsred_dep[int(z)]\n",
    "                lev=np.where(np.abs(diff_dep)==np.min(np.abs(diff_dep)))\n",
    "                model_level[z]=lev[0]\n",
    "                model_dep[z]=depN.values[lev[0]]\n",
    "\n",
    "        #Coarse box in which EN4 profile is contained\n",
    "        step=1\n",
    "        indxBOX=np.where((lonN>observation_lon-1)&(lonN<observation_lon+1)&(latN>observation_lat-1)&(latN<observation_lat+1))\n",
    "        model_lonBOX=lonN[np.min(indxBOX[0]):np.max(indxBOX[0]):step,np.min(indxBOX[1]):np.max(indxBOX[1]):step]\n",
    "        model_latBOX=latN[np.min(indxBOX[0]):np.max(indxBOX[0]):step,np.min(indxBOX[1]):np.max(indxBOX[1]):step]\n",
    "        model_lonBOX_array=model_lonBOX.values\n",
    "        model_latBOX_array=model_latBOX.values\n",
    "        t01012013 = datetime.datetime(2013,1,1,0,0)\n",
    "        tsec01012013=(t01012013-datetime.datetime(1900,1,1,0,0)).total_seconds()\n",
    "        if tsecen4 > tsec01012013:\n",
    "                tsecen4=tsecen4-365*24*3600\n",
    "        else:\n",
    "                tsecen4=tsecen4\n",
    "        indtBOX=np.where((timN.values < tsecen4 + 15*24*3600) & (timN.values > tsecen4 - 15*24*3600) )\n",
    "        model_tBOX=timN[indtBOX[0][0]:indtBOX[0][-1]]\n",
    "        t_dim=np.arange(len(model_tBOX))\n",
    "        x_dim=np.arange(model_lonBOX_array.shape[1])\n",
    "        y_dim=np.arange(model_lonBOX_array.shape[0])\n",
    "        def profile_mean_percent(k):\n",
    "\n",
    "                #decoupage grossier autour de la position du profile ARGO pour un niveau vertical\n",
    "\n",
    "                model_tempBOX=tempN[indtBOX[0][0]:indtBOX[0][-1],k,np.min(indxBOX[0]):np.max(indxBOX[0]):step,np.min(indxBOX[1]):np.max(indxBOX[1]):step]\n",
    "                model_saltBOX=saltN[indtBOX[0][0]:indtBOX[0][-1],k,np.min(indxBOX[0]):np.max(indxBOX[0]):step,np.min(indxBOX[1]):np.max(indxBOX[1]):step]\n",
    "\n",
    "                model_tempBOX_array=model_tempBOX.values\n",
    "                model_saltBOX_array=model_saltBOX.values\n",
    "                model_tBOX_array=model_tBOX.values\n",
    "\n",
    "                # construction d'un nouveau xarray\n",
    "                d = {}\n",
    "                d['time_counter'] = ('time_counter',t_dim)\n",
    "                d['y'] = ('y',y_dim)\n",
    "                d['x'] = ('x',x_dim)\n",
    "                d['nav_lat'] = (['y','x'],model_latBOX_array)\n",
    "                d['nav_lon'] = (['y','x'],model_lonBOX_array)\n",
    "\n",
    "                d['votemper'] = (['time_counter','y','x'], model_tempBOX_array)\n",
    "                d['vosaline'] = (['time_counter','y','x'], model_saltBOX_array)\n",
    "                d['time_counter'] = (['time_counter'], model_tBOX_array)\n",
    "                dset = xr.Dataset(d)\n",
    "\n",
    "                latB = dset.nav_lat\n",
    "                lonB = dset.nav_lon\n",
    "                model_temperatureB = dset.votemper\n",
    "                model_salinityB = dset.vosaline\n",
    "                model_timeB = dset.time_counter\n",
    "\n",
    "                # selection plus fine des profils\n",
    "\n",
    "                lon_stacked = lonB.stack(profile=('x', 'y'))\n",
    "                lat_stacked = latB.stack(profile=('x', 'y'))\n",
    "\n",
    "                distance_threshold = 0.25\n",
    "                square_distance_to_observation = (lon_stacked - observation_lon)**2 + (lat_stacked-observation_lat)**2\n",
    "                is_close_to_observation = square_distance_to_observation < distance_threshold**2\n",
    "\n",
    "                model_temperature_stacked = model_temperatureB.stack(profile=('x', 'y'))\n",
    "                model_salinity_stacked = model_salinityB.stack(profile=('x', 'y'))\n",
    "\n",
    "                model_temperature_near_observation = model_temperature_stacked.where(is_close_to_observation,drop=True)\n",
    "                model_salinity_near_observation = model_salinity_stacked.where(is_close_to_observation, drop=True)\n",
    "                lat_near_observation = lat_stacked.where(is_close_to_observation, drop=True)\n",
    "                lon_near_observation = lon_stacked.where(is_close_to_observation, drop=True)\n",
    "\n",
    "                model_temp_dask=dask.array.from_array(model_temperature_near_observation,chunks=(100,100))\n",
    "                model_temp_dask_concat=dask.array.concatenate(model_temp_dask)\n",
    "                model_salt_dask=dask.array.from_array(model_salinity_near_observation,chunks=(100,100))\n",
    "                model_salt_dask_concat=dask.array.concatenate(model_salt_dask)\n",
    "                temp_model_mean = model_temp_dask_concat.mean().compute()\n",
    "                temp_percentile_10= np.percentile(model_temp_dask_concat,10)\n",
    "                temp_percentile_90= np.percentile(model_temp_dask_concat,90)\n",
    "                salt_model_mean = model_salt_dask_concat.mean().compute()\n",
    "                salt_percentile_10= np.percentile(model_salt_dask_concat,10)\n",
    "                salt_percentile_90= np.percentile(model_salt_dask_concat,90)\n",
    "\n",
    "                return lat_near_observation,lon_near_observation,temp_model_mean,temp_percentile_10,temp_percentile_90,salt_model_mean,salt_percentile_10,salt_percentile_90\n",
    "\n",
    "        profil_temp_model_mean=np.zeros(int(dep_level[0]))\n",
    "        profil_temp_model_percent10=np.zeros(int(dep_level[0]))\n",
    "        profil_temp_model_percent90=np.zeros(int(dep_level[0]))\n",
    "        profil_salt_model_mean=np.zeros(int(dep_level[0]))\n",
    "        profil_salt_model_percent10=np.zeros(int(dep_level[0]))\n",
    "        profil_salt_model_percent90=np.zeros(int(dep_level[0]))\n",
    "\n",
    "\n",
    "        for z in np.arange(dep_level[0]):\n",
    "                lat_near_observation,lon_near_observation,temp_model_mean,temp_percentile_10,temp_percentile_90,salt_model_mean,salt_percentile_10,salt_percentile_90=profile_mean_percent(int(model_level[int(z)]))\n",
    "                profil_temp_model_mean[int(z)]=temp_model_mean\n",
    "                profil_temp_model_percent10[int(z)]=temp_percentile_10\n",
    "                profil_temp_model_percent90[int(z)]=temp_percentile_90\n",
    "                profil_salt_model_mean[int(z)]=salt_model_mean\n",
    "                profil_salt_model_percent10[int(z)]=salt_percentile_10\n",
    "                profil_salt_model_percent90[int(z)]=salt_percentile_90\n",
    "\n",
    "        return profil_temp_model_mean,profil_temp_model_percent10,profil_temp_model_percent90,profil_salt_model_mean,profil_salt_model_percent10,profil_salt_model_percent90,observation_dep,obsred_temp,obsred_salt,dep_level,model_dep,obsred_dep,observation_lat,observation_lon,observation_time\n",
    "\n"
   ]
  },
  {
   "cell_type": "code",
   "execution_count": 6,
   "metadata": {},
   "outputs": [],
   "source": [
    "def create_netcdf_profile(jsonfile,reference,ref_prof,observation_lat,observation_lon,observation_time,profil_temp_model_mean,profil_temp_model_percent10,profil_temp_model_percent90,profil_salt_model_mean,profil_salt_model_percent10,profil_salt_model_percent90,observation_dep,obsred_temp,obsred_salt,dep_level,model_dep,obsred_dep,config,case,namezone):\n",
    "\n",
    "        reference_profile=reference[-16:-1]\n",
    "        dirname=\"/scratch/cnt0024/hmg2840/albert7a/EN4/profiles_files/\"+namezone+\"/\"+config+\"-\"+case\n",
    "        if not os.path.exists(dirname):\n",
    "                os.mkdir(dirname)\n",
    "\n",
    "        outname=\"/scratch/cnt0024/hmg2840/albert7a/EN4/profiles_files/\"+namezone+\"/\"+config+\"-\"+case+\"/profiles_EN4-\"+reference_profile+\"_\"+config+\"-\"+case+\"_TS.nc\"\n",
    "        print('output file is '+outname)\n",
    "        dsout=Dataset(outname,'w')\n",
    "\n",
    "        today=date.today()\n",
    "        dsout.description = \"This file contains one profile of temperature and salinity from EN4 dataset and the mean and 10 and 90 percentile of NATL60-CJM165 data within a 0.25deg circle around the location of the profile and 15 days before and after it has been sampled. This file has been created \"+str(today.day)+\"/\"+str(today.month)+\"/\"+str(today.year)\n",
    "        \n",
    "        depth=dsout.createDimension('depth',dep_level[0])\n",
    "        x=dsout.createDimension('x',1)\n",
    "        y=dsout.createDimension('y',1)\n",
    "        lat = dsout.createVariable('latitude_profileEN4', 'f8', ('y','x'))\n",
    "        lat.standart_name=\"latitude_profileEN4\"\n",
    "        lat.long_name = \"Latitude of selected EN4 profile\"\n",
    "        lat.units = \"degrees_north\"\n",
    "\n",
    "        lon = dsout.createVariable('longitude_profileEN4', 'f8', ('y','x'))\n",
    "        lon.standart_name=\"longitude_profileEN4\"\n",
    "        lon.long_name = \"Longitude of selected EN4 profile\"\n",
    "        lon.units = \"degrees_east\"\n",
    "\n",
    "        time = dsout.createVariable('time_profileEN4', 'f8', ('y','x'))\n",
    "        time.standart_name=\"time_profileEN4\"\n",
    "        time.timeg_name = \"Time in seconds from 1-1-1958 of selected EN4 profile\"\n",
    "        time.units = \"seconds\"\n",
    "\n",
    "        depth_en4 = dsout.createVariable('depth_en4', 'f8', ('depth'),fill_value=0.)\n",
    "        depth_en4.units = \"m\"\n",
    "        depth_en4.valid_min = 0.\n",
    "        depth_en4.valid_max = 8000.\n",
    "        depth_en4.long_name = \"Depth\"\n",
    "\n",
    "        depth_model = dsout.createVariable('depth_model', 'f8', ('depth'),fill_value=0.)\n",
    "        depth_model.units = \"m\"\n",
    "        depth_model.valid_min = 0.\n",
    "        depth_model.valid_max = 8000.\n",
    "        depth_model.long_name = \"Depth\"\n",
    "\n",
    "        temp_en4 = dsout.createVariable('temp_profileEN4', 'f8', ('depth'),fill_value=0.)\n",
    "        temp_en4.units = \"degC\"\n",
    "        temp_en4.valid_min = -10.\n",
    "        temp_en4.valid_max = 40.\n",
    "        temp_en4.long_name = \"Temperature profile of the selected EN4 profile\"\n",
    "        salt_en4 = dsout.createVariable('salt_profileEN4', 'f8', ('depth'),fill_value=0.)\n",
    "        salt_en4.units = \"PSU\"\n",
    "        salt_en4.valid_min = 20.\n",
    "        salt_en4.valid_max = 40.\n",
    "        salt_en4.long_name = \"Salinity profile of the selected EN4 profile\"\n",
    "\n",
    "        mean_temp_model = dsout.createVariable('mean_temp_model', 'f8', ('depth'),fill_value=0.)\n",
    "        mean_temp_model.units = \"degC\"\n",
    "        mean_temp_model.valid_min = -10.\n",
    "        mean_temp_model.valid_max = 40.\n",
    "        mean_temp_model.long_name = \"Mean Temperature profile of the model\"\n",
    "\n",
    "        mean_salt_model = dsout.createVariable('mean_salt_model', 'f8', ('depth'),fill_value=0.)\n",
    "        mean_salt_model.units = \"PSU\"\n",
    "        mean_salt_model.valid_min = 20.\n",
    "        mean_salt_model.valid_max = 40.\n",
    "        mean_salt_model.long_name = \"Mean Salinity profile of the model\"\n",
    "\n",
    "        percent10_temp_model = dsout.createVariable('percent10_temp_model', 'f8', ('depth'),fill_value=0.)\n",
    "        percent10_temp_model.units = \"degC\"\n",
    "        percent10_temp_model.valid_min = -10.\n",
    "        percent10_temp_model.valid_max = 40.\n",
    "        percent10_temp_model.long_name = \"Percent 10 Temperature profile of the model\"\n",
    "\n",
    "        percent10_salt_model = dsout.createVariable('percent10_salt_model', 'f8', ('depth'),fill_value=0.)\n",
    "        percent10_salt_model.units = \"PSU\"\n",
    "        percent10_salt_model.valid_min = 20.\n",
    "        percent10_salt_model.valid_max = 40.\n",
    "        percent10_salt_model.long_name = \"Percent 10 Salinity profile of the model\"\n",
    "\n",
    "        percent90_temp_model = dsout.createVariable('percent90_temp_model', 'f8', ('depth'),fill_value=0.)\n",
    "        percent90_temp_model.units = \"degC\"\n",
    "        percent90_temp_model.valid_min = -90.\n",
    "        percent90_temp_model.valid_max = 40.\n",
    "        percent90_temp_model.long_name = \"Percent 90 Temperature profile of the model\"\n",
    "\n",
    "        percent90_salt_model = dsout.createVariable('percent90_salt_model', 'f8', ('depth'),fill_value=0.)\n",
    "        percent90_salt_model.units = \"PSU\"\n",
    "        percent90_salt_model.valid_min = 20.\n",
    "        percent90_salt_model.valid_max = 40.\n",
    "        percent90_salt_model.long_name = \"Percent 90 Salinity profile of the model\"\n",
    "\n",
    "\n",
    "        lat[:]=observation_lat\n",
    "        lon[:]=observation_lon\n",
    "        time[:]=observation_time\n",
    "        depth_en4[:]=obsred_dep\n",
    "        depth_model[:]=model_dep\n",
    "        temp_en4[:]=obsred_temp\n",
    "        salt_en4[:]=obsred_salt\n",
    "        mean_temp_model[:]=profil_temp_model_mean\n",
    "        mean_salt_model[:]=profil_salt_model_mean\n",
    "        percent10_temp_model[:]=profil_temp_model_percent10\n",
    "        percent10_salt_model[:]=profil_salt_model_percent10\n",
    "        percent90_temp_model[:]=profil_temp_model_percent90\n",
    "        percent90_salt_model[:]=profil_salt_model_percent90\n",
    "        dsout.close()  # close the new file\n"
   ]
  },
  {
   "cell_type": "code",
   "execution_count": 11,
   "metadata": {},
   "outputs": [
    {
     "name": "stdout",
     "output_type": "stream",
     "text": [
      "03/02/20 15:17\n",
      "Opening data\n",
      "03/02/20 15:17\n",
      "dealing with profile A20121001-03280\n",
      "/scratch/cnt0024/hmg2840/albert7a/EN4/profiles_files/NATL60-CJM165_EU_y2012-2013/EU36-MPC001//profiles_EN4-A20121001-03280_NATL60-CJM165_TS.nc does not exist; lets process\n",
      "Processing profile  b' A20121001-03280'\n",
      "selected profile falls within model boundaries, the program is proceeding\n"
     ]
    },
    {
     "ename": "ValueError",
     "evalue": "zero-size array to reduction operation minimum which has no identity",
     "output_type": "error",
     "traceback": [
      "\u001b[0;31m---------------------------------------------------------------------------\u001b[0m",
      "\u001b[0;31mValueError\u001b[0m                                Traceback (most recent call last)",
      "\u001b[0;32m<ipython-input-11-d8d49cc3961c>\u001b[0m in \u001b[0;36m<module>\u001b[0;34m\u001b[0m\n\u001b[1;32m     22\u001b[0m \u001b[0;32mif\u001b[0m \u001b[0;32mnot\u001b[0m \u001b[0mos\u001b[0m\u001b[0;34m.\u001b[0m\u001b[0mpath\u001b[0m\u001b[0;34m.\u001b[0m\u001b[0mexists\u001b[0m\u001b[0;34m(\u001b[0m\u001b[0moutname\u001b[0m\u001b[0;34m)\u001b[0m\u001b[0;34m:\u001b[0m\u001b[0;34m\u001b[0m\u001b[0;34m\u001b[0m\u001b[0m\n\u001b[1;32m     23\u001b[0m     \u001b[0mprint\u001b[0m\u001b[0;34m(\u001b[0m\u001b[0moutname\u001b[0m\u001b[0;34m+\u001b[0m\u001b[0;34m\" does not exist; lets process\"\u001b[0m\u001b[0;34m)\u001b[0m\u001b[0;34m\u001b[0m\u001b[0;34m\u001b[0m\u001b[0m\n\u001b[0;32m---> 24\u001b[0;31m     \u001b[0mprocess\u001b[0m\u001b[0;34m(\u001b[0m\u001b[0mjsonfile\u001b[0m\u001b[0;34m,\u001b[0m\u001b[0minfos\u001b[0m\u001b[0;34m,\u001b[0m\u001b[0mprof\u001b[0m\u001b[0;34m,\u001b[0m\u001b[0mdsN\u001b[0m\u001b[0;34m,\u001b[0m\u001b[0mlatN\u001b[0m\u001b[0;34m,\u001b[0m\u001b[0mlonN\u001b[0m\u001b[0;34m,\u001b[0m\u001b[0mtimN\u001b[0m\u001b[0;34m,\u001b[0m\u001b[0mconfig\u001b[0m\u001b[0;34m,\u001b[0m\u001b[0mcase\u001b[0m\u001b[0;34m,\u001b[0m\u001b[0mnamezone\u001b[0m\u001b[0;34m)\u001b[0m\u001b[0;34m\u001b[0m\u001b[0;34m\u001b[0m\u001b[0m\n\u001b[0m\u001b[1;32m     25\u001b[0m \u001b[0;32melse\u001b[0m\u001b[0;34m:\u001b[0m\u001b[0;34m\u001b[0m\u001b[0;34m\u001b[0m\u001b[0m\n\u001b[1;32m     26\u001b[0m     \u001b[0mprint\u001b[0m\u001b[0;34m(\u001b[0m\u001b[0moutname\u001b[0m\u001b[0;34m+\u001b[0m\u001b[0;34m\" already exists\"\u001b[0m\u001b[0;34m)\u001b[0m\u001b[0;34m\u001b[0m\u001b[0;34m\u001b[0m\u001b[0m\n",
      "\u001b[0;32m<ipython-input-2-6013b156f308>\u001b[0m in \u001b[0;36mprocess\u001b[0;34m(jsonfile, infos, prof, dsN, latN, lonN, timN, config, case, namezone)\u001b[0m\n\u001b[1;32m     13\u001b[0m         \u001b[0mcheck\u001b[0m\u001b[0;34m=\u001b[0m\u001b[0mcheck_prof_boundaries\u001b[0m\u001b[0;34m(\u001b[0m\u001b[0mdsN\u001b[0m\u001b[0;34m,\u001b[0m\u001b[0mlatN\u001b[0m\u001b[0;34m,\u001b[0m\u001b[0mlonN\u001b[0m\u001b[0;34m,\u001b[0m\u001b[0mtimN\u001b[0m\u001b[0;34m,\u001b[0m\u001b[0mlat_prof\u001b[0m\u001b[0;34m,\u001b[0m\u001b[0mlon_prof\u001b[0m\u001b[0;34m,\u001b[0m\u001b[0mdate_prof\u001b[0m\u001b[0;34m)\u001b[0m\u001b[0;34m\u001b[0m\u001b[0;34m\u001b[0m\u001b[0m\n\u001b[1;32m     14\u001b[0m         \u001b[0;32mif\u001b[0m \u001b[0mcheck\u001b[0m \u001b[0;34m==\u001b[0m \u001b[0;36m0.\u001b[0m\u001b[0;34m:\u001b[0m\u001b[0;34m\u001b[0m\u001b[0;34m\u001b[0m\u001b[0m\n\u001b[0;32m---> 15\u001b[0;31m                 \u001b[0mprofil_temp_model_mean\u001b[0m\u001b[0;34m,\u001b[0m\u001b[0mprofil_temp_model_percent10\u001b[0m\u001b[0;34m,\u001b[0m\u001b[0mprofil_temp_model_percent90\u001b[0m\u001b[0;34m,\u001b[0m\u001b[0mprofil_salt_model_mean\u001b[0m\u001b[0;34m,\u001b[0m\u001b[0mprofil_salt_model_percent10\u001b[0m\u001b[0;34m,\u001b[0m\u001b[0mprofil_salt_model_percent90\u001b[0m\u001b[0;34m,\u001b[0m\u001b[0mobservation_dep\u001b[0m\u001b[0;34m,\u001b[0m\u001b[0mobsred_temp\u001b[0m\u001b[0;34m,\u001b[0m\u001b[0mobsred_salt\u001b[0m\u001b[0;34m,\u001b[0m\u001b[0mdep_level\u001b[0m\u001b[0;34m,\u001b[0m\u001b[0mmodel_dep\u001b[0m\u001b[0;34m,\u001b[0m\u001b[0mobsred_dep\u001b[0m\u001b[0;34m,\u001b[0m\u001b[0mobservation_lat\u001b[0m\u001b[0;34m,\u001b[0m\u001b[0mobservation_lon\u001b[0m\u001b[0;34m,\u001b[0m\u001b[0mobservation_time\u001b[0m \u001b[0;34m=\u001b[0m \u001b[0mmodel_mean_percent_profile\u001b[0m\u001b[0;34m(\u001b[0m\u001b[0mfile_prof\u001b[0m\u001b[0;34m,\u001b[0m\u001b[0mprof_prof\u001b[0m\u001b[0;34m,\u001b[0m\u001b[0mdsN\u001b[0m\u001b[0;34m,\u001b[0m\u001b[0mlatN\u001b[0m\u001b[0;34m,\u001b[0m\u001b[0mlonN\u001b[0m\u001b[0;34m,\u001b[0m\u001b[0mtimN\u001b[0m\u001b[0;34m)\u001b[0m\u001b[0;34m\u001b[0m\u001b[0;34m\u001b[0m\u001b[0m\n\u001b[0m\u001b[1;32m     16\u001b[0m                 \u001b[0mcreate_netcdf_profile\u001b[0m\u001b[0;34m(\u001b[0m\u001b[0mjsonfile\u001b[0m\u001b[0;34m,\u001b[0m\u001b[0mreference\u001b[0m\u001b[0;34m,\u001b[0m\u001b[0mprof_prof\u001b[0m\u001b[0;34m,\u001b[0m\u001b[0mobservation_lat\u001b[0m\u001b[0;34m,\u001b[0m\u001b[0mobservation_lon\u001b[0m\u001b[0;34m,\u001b[0m\u001b[0mobservation_time\u001b[0m\u001b[0;34m,\u001b[0m\u001b[0mprofil_temp_model_mean\u001b[0m\u001b[0;34m,\u001b[0m\u001b[0mprofil_temp_model_percent10\u001b[0m\u001b[0;34m,\u001b[0m\u001b[0mprofil_temp_model_percent90\u001b[0m\u001b[0;34m,\u001b[0m\u001b[0mprofil_salt_model_mean\u001b[0m\u001b[0;34m,\u001b[0m\u001b[0mprofil_salt_model_percent10\u001b[0m\u001b[0;34m,\u001b[0m\u001b[0mprofil_salt_model_percent90\u001b[0m\u001b[0;34m,\u001b[0m\u001b[0mobservation_dep\u001b[0m\u001b[0;34m,\u001b[0m\u001b[0mobsred_temp\u001b[0m\u001b[0;34m,\u001b[0m\u001b[0mobsred_salt\u001b[0m\u001b[0;34m,\u001b[0m\u001b[0mdep_level\u001b[0m\u001b[0;34m,\u001b[0m\u001b[0mmodel_dep\u001b[0m\u001b[0;34m,\u001b[0m\u001b[0mobsred_dep\u001b[0m\u001b[0;34m,\u001b[0m\u001b[0mconfig\u001b[0m\u001b[0;34m,\u001b[0m\u001b[0mcase\u001b[0m\u001b[0;34m,\u001b[0m\u001b[0mnamezone\u001b[0m\u001b[0;34m)\u001b[0m\u001b[0;34m\u001b[0m\u001b[0;34m\u001b[0m\u001b[0m\n\u001b[1;32m     17\u001b[0m \u001b[0;34m\u001b[0m\u001b[0m\n",
      "\u001b[0;32m<ipython-input-5-f7134ab3aaa0>\u001b[0m in \u001b[0;36mmodel_mean_percent_profile\u001b[0;34m(fileEN4, ref_prof, dsN, latN, lonN, timN)\u001b[0m\n\u001b[1;32m     57\u001b[0m         \u001b[0mstep\u001b[0m\u001b[0;34m=\u001b[0m\u001b[0;36m1\u001b[0m\u001b[0;34m\u001b[0m\u001b[0;34m\u001b[0m\u001b[0m\n\u001b[1;32m     58\u001b[0m         \u001b[0mindxBOX\u001b[0m\u001b[0;34m=\u001b[0m\u001b[0mnp\u001b[0m\u001b[0;34m.\u001b[0m\u001b[0mwhere\u001b[0m\u001b[0;34m(\u001b[0m\u001b[0;34m(\u001b[0m\u001b[0mlonN\u001b[0m\u001b[0;34m>\u001b[0m\u001b[0mobservation_lon\u001b[0m\u001b[0;34m-\u001b[0m\u001b[0;36m1\u001b[0m\u001b[0;34m)\u001b[0m\u001b[0;34m&\u001b[0m\u001b[0;34m(\u001b[0m\u001b[0mlonN\u001b[0m\u001b[0;34m<\u001b[0m\u001b[0mobservation_lon\u001b[0m\u001b[0;34m+\u001b[0m\u001b[0;36m1\u001b[0m\u001b[0;34m)\u001b[0m\u001b[0;34m&\u001b[0m\u001b[0;34m(\u001b[0m\u001b[0mlatN\u001b[0m\u001b[0;34m>\u001b[0m\u001b[0mobservation_lat\u001b[0m\u001b[0;34m-\u001b[0m\u001b[0;36m1\u001b[0m\u001b[0;34m)\u001b[0m\u001b[0;34m&\u001b[0m\u001b[0;34m(\u001b[0m\u001b[0mlatN\u001b[0m\u001b[0;34m<\u001b[0m\u001b[0mobservation_lat\u001b[0m\u001b[0;34m+\u001b[0m\u001b[0;36m1\u001b[0m\u001b[0;34m)\u001b[0m\u001b[0;34m)\u001b[0m\u001b[0;34m\u001b[0m\u001b[0;34m\u001b[0m\u001b[0m\n\u001b[0;32m---> 59\u001b[0;31m         \u001b[0mmodel_lonBOX\u001b[0m\u001b[0;34m=\u001b[0m\u001b[0mlonN\u001b[0m\u001b[0;34m[\u001b[0m\u001b[0mnp\u001b[0m\u001b[0;34m.\u001b[0m\u001b[0mmin\u001b[0m\u001b[0;34m(\u001b[0m\u001b[0mindxBOX\u001b[0m\u001b[0;34m[\u001b[0m\u001b[0;36m0\u001b[0m\u001b[0;34m]\u001b[0m\u001b[0;34m)\u001b[0m\u001b[0;34m:\u001b[0m\u001b[0mnp\u001b[0m\u001b[0;34m.\u001b[0m\u001b[0mmax\u001b[0m\u001b[0;34m(\u001b[0m\u001b[0mindxBOX\u001b[0m\u001b[0;34m[\u001b[0m\u001b[0;36m0\u001b[0m\u001b[0;34m]\u001b[0m\u001b[0;34m)\u001b[0m\u001b[0;34m:\u001b[0m\u001b[0mstep\u001b[0m\u001b[0;34m,\u001b[0m\u001b[0mnp\u001b[0m\u001b[0;34m.\u001b[0m\u001b[0mmin\u001b[0m\u001b[0;34m(\u001b[0m\u001b[0mindxBOX\u001b[0m\u001b[0;34m[\u001b[0m\u001b[0;36m1\u001b[0m\u001b[0;34m]\u001b[0m\u001b[0;34m)\u001b[0m\u001b[0;34m:\u001b[0m\u001b[0mnp\u001b[0m\u001b[0;34m.\u001b[0m\u001b[0mmax\u001b[0m\u001b[0;34m(\u001b[0m\u001b[0mindxBOX\u001b[0m\u001b[0;34m[\u001b[0m\u001b[0;36m1\u001b[0m\u001b[0;34m]\u001b[0m\u001b[0;34m)\u001b[0m\u001b[0;34m:\u001b[0m\u001b[0mstep\u001b[0m\u001b[0;34m]\u001b[0m\u001b[0;34m\u001b[0m\u001b[0;34m\u001b[0m\u001b[0m\n\u001b[0m\u001b[1;32m     60\u001b[0m         \u001b[0mmodel_latBOX\u001b[0m\u001b[0;34m=\u001b[0m\u001b[0mlatN\u001b[0m\u001b[0;34m[\u001b[0m\u001b[0mnp\u001b[0m\u001b[0;34m.\u001b[0m\u001b[0mmin\u001b[0m\u001b[0;34m(\u001b[0m\u001b[0mindxBOX\u001b[0m\u001b[0;34m[\u001b[0m\u001b[0;36m0\u001b[0m\u001b[0;34m]\u001b[0m\u001b[0;34m)\u001b[0m\u001b[0;34m:\u001b[0m\u001b[0mnp\u001b[0m\u001b[0;34m.\u001b[0m\u001b[0mmax\u001b[0m\u001b[0;34m(\u001b[0m\u001b[0mindxBOX\u001b[0m\u001b[0;34m[\u001b[0m\u001b[0;36m0\u001b[0m\u001b[0;34m]\u001b[0m\u001b[0;34m)\u001b[0m\u001b[0;34m:\u001b[0m\u001b[0mstep\u001b[0m\u001b[0;34m,\u001b[0m\u001b[0mnp\u001b[0m\u001b[0;34m.\u001b[0m\u001b[0mmin\u001b[0m\u001b[0;34m(\u001b[0m\u001b[0mindxBOX\u001b[0m\u001b[0;34m[\u001b[0m\u001b[0;36m1\u001b[0m\u001b[0;34m]\u001b[0m\u001b[0;34m)\u001b[0m\u001b[0;34m:\u001b[0m\u001b[0mnp\u001b[0m\u001b[0;34m.\u001b[0m\u001b[0mmax\u001b[0m\u001b[0;34m(\u001b[0m\u001b[0mindxBOX\u001b[0m\u001b[0;34m[\u001b[0m\u001b[0;36m1\u001b[0m\u001b[0;34m]\u001b[0m\u001b[0;34m)\u001b[0m\u001b[0;34m:\u001b[0m\u001b[0mstep\u001b[0m\u001b[0;34m]\u001b[0m\u001b[0;34m\u001b[0m\u001b[0;34m\u001b[0m\u001b[0m\n\u001b[1;32m     61\u001b[0m         \u001b[0mmodel_lonBOX_array\u001b[0m\u001b[0;34m=\u001b[0m\u001b[0mmodel_lonBOX\u001b[0m\u001b[0;34m.\u001b[0m\u001b[0mvalues\u001b[0m\u001b[0;34m\u001b[0m\u001b[0;34m\u001b[0m\u001b[0m\n",
      "\u001b[0;32m<__array_function__ internals>\u001b[0m in \u001b[0;36mamin\u001b[0;34m(*args, **kwargs)\u001b[0m\n",
      "\u001b[0;32m/scratch/cnt0024/hmg2840/albert7a/anaconda3/lib/python3.7/site-packages/numpy/core/fromnumeric.py\u001b[0m in \u001b[0;36mamin\u001b[0;34m(a, axis, out, keepdims, initial, where)\u001b[0m\n\u001b[1;32m   2744\u001b[0m     \"\"\"\n\u001b[1;32m   2745\u001b[0m     return _wrapreduction(a, np.minimum, 'min', axis, None, out,\n\u001b[0;32m-> 2746\u001b[0;31m                           keepdims=keepdims, initial=initial, where=where)\n\u001b[0m\u001b[1;32m   2747\u001b[0m \u001b[0;34m\u001b[0m\u001b[0m\n\u001b[1;32m   2748\u001b[0m \u001b[0;34m\u001b[0m\u001b[0m\n",
      "\u001b[0;32m/scratch/cnt0024/hmg2840/albert7a/anaconda3/lib/python3.7/site-packages/numpy/core/fromnumeric.py\u001b[0m in \u001b[0;36m_wrapreduction\u001b[0;34m(obj, ufunc, method, axis, dtype, out, **kwargs)\u001b[0m\n\u001b[1;32m     88\u001b[0m                 \u001b[0;32mreturn\u001b[0m \u001b[0mreduction\u001b[0m\u001b[0;34m(\u001b[0m\u001b[0maxis\u001b[0m\u001b[0;34m=\u001b[0m\u001b[0maxis\u001b[0m\u001b[0;34m,\u001b[0m \u001b[0mout\u001b[0m\u001b[0;34m=\u001b[0m\u001b[0mout\u001b[0m\u001b[0;34m,\u001b[0m \u001b[0;34m**\u001b[0m\u001b[0mpasskwargs\u001b[0m\u001b[0;34m)\u001b[0m\u001b[0;34m\u001b[0m\u001b[0;34m\u001b[0m\u001b[0m\n\u001b[1;32m     89\u001b[0m \u001b[0;34m\u001b[0m\u001b[0m\n\u001b[0;32m---> 90\u001b[0;31m     \u001b[0;32mreturn\u001b[0m \u001b[0mufunc\u001b[0m\u001b[0;34m.\u001b[0m\u001b[0mreduce\u001b[0m\u001b[0;34m(\u001b[0m\u001b[0mobj\u001b[0m\u001b[0;34m,\u001b[0m \u001b[0maxis\u001b[0m\u001b[0;34m,\u001b[0m \u001b[0mdtype\u001b[0m\u001b[0;34m,\u001b[0m \u001b[0mout\u001b[0m\u001b[0;34m,\u001b[0m \u001b[0;34m**\u001b[0m\u001b[0mpasskwargs\u001b[0m\u001b[0;34m)\u001b[0m\u001b[0;34m\u001b[0m\u001b[0;34m\u001b[0m\u001b[0m\n\u001b[0m\u001b[1;32m     91\u001b[0m \u001b[0;34m\u001b[0m\u001b[0m\n\u001b[1;32m     92\u001b[0m \u001b[0;34m\u001b[0m\u001b[0m\n",
      "\u001b[0;31mValueError\u001b[0m: zero-size array to reduction operation minimum which has no identity"
     ]
    }
   ],
   "source": [
    "        jsonfile = '/scratch/cnt0024/hmg2840/albert7a/EN4/profiles_files/NATL60-CJM165_EU_y2012-2013/NATL60-CJM165_EU_y2012-2013_1.json'\n",
    "        dirn = '/scratch/cnt0024/hmg2840/albert7a/EN4/profiles_files/NATL60-CJM165_EU_y2012-2013/EU36-MPC001/'\n",
    "        config = 'EU36'\n",
    "        case = 'MPC001'\n",
    "        namezone = 'NATL60-CJM165_EU_y2012-2013'\n",
    "\n",
    "        sourcefile=open(jsonfile,'rU')\n",
    "        infos=json.load(sourcefile)\n",
    "        nb_profilesEN4=len(infos)\n",
    "\n",
    "        print(time.strftime('%d/%m/%y %H:%M',time.localtime()))\n",
    "        dsN,latN,lonN,timN = open_model(config,case)\n",
    "        print(time.strftime('%d/%m/%y %H:%M',time.localtime()))\n",
    "\n",
    "        prof=4\n",
    "        list_profiles = infos.keys()\n",
    "        reference = str(list(list_profiles)[prof])\n",
    "        reference_profile=reference[-16:-1]\n",
    "        print(\"dealing with profile \"+reference_profile)\n",
    "        outname=dirn+\"/profiles_EN4-\"+reference_profile+\"_NATL60-CJM165_TS.nc\"\n",
    "\n",
    "        if not os.path.exists(outname):\n",
    "            print(outname+\" does not exist; lets process\")\n",
    "            process(jsonfile,infos,prof,dsN,latN,lonN,timN,config,case,namezone)\n",
    "        else:\n",
    "            print(outname+\" already exists\")\n",
    "\n",
    "        print(time.strftime('%d/%m/%y %H:%M',time.localtime()))\n"
   ]
  },
  {
   "cell_type": "code",
   "execution_count": 9,
   "metadata": {},
   "outputs": [
    {
     "name": "stdout",
     "output_type": "stream",
     "text": [
      "03/02/20 15:33\n",
      "Opening data\n",
      "03/02/20 15:33\n"
     ]
    }
   ],
   "source": [
    "        jsonfile = '/scratch/cnt0024/hmg2840/albert7a/EN4/profiles_files/NATL60-CJM165_EU_y2012-2013/NATL60-CJM165_EU_y2012-2013_1.json'\n",
    "        dirn = '/scratch/cnt0024/hmg2840/albert7a/EN4/profiles_files/NATL60-CJM165_EU_y2012-2013/EU36-MPC001/'\n",
    "        config = 'EU36'\n",
    "        case = 'MPC001'\n",
    "        namezone = 'NATL60-CJM165_EU_y2012-2013'\n",
    "\n",
    "        sourcefile=open(jsonfile,'rU')\n",
    "        infos=json.load(sourcefile)\n",
    "        nb_profilesEN4=len(infos)\n",
    "\n",
    "        print(time.strftime('%d/%m/%y %H:%M',time.localtime()))\n",
    "        dsN,latN,lonN,timN = open_model(config,case)\n",
    "        print(time.strftime('%d/%m/%y %H:%M',time.localtime()))\n",
    "\n",
    "        prof=4"
   ]
  },
  {
   "cell_type": "code",
   "execution_count": 10,
   "metadata": {},
   "outputs": [
    {
     "name": "stdout",
     "output_type": "stream",
     "text": [
      "dealing with profile A20121001-03280\n"
     ]
    }
   ],
   "source": [
    "                list_profiles = infos.keys()\n",
    "                reference = str(list(list_profiles)[prof])\n",
    "                reference_profile=reference[-16:-1]\n",
    "                print(\"dealing with profile \"+reference_profile)\n",
    "                outname=dirn+\"/profiles_EN4-\"+reference_profile+\"_NATL60-CJM165_TS.nc\"\n"
   ]
  },
  {
   "cell_type": "code",
   "execution_count": 11,
   "metadata": {},
   "outputs": [
    {
     "name": "stdout",
     "output_type": "stream",
     "text": [
      "Processing profile  b' A20121001-03280'\n"
     ]
    }
   ],
   "source": [
    "        list_profiles = infos.keys()\n",
    "        reference =  str(list(list_profiles)[prof])\n",
    "        print('Processing profile ', reference)\n",
    "        lat_prof = infos[list(list_profiles)[prof]]['latitude']\n",
    "        lon_prof = infos[list(list_profiles)[prof]]['longitude']\n",
    "        date_prof = infos[list(list_profiles)[prof]]['date']\n",
    "        file_prof = infos[list(list_profiles)[prof]]['file']\n",
    "        prof_prof = infos[list(list_profiles)[prof]]['profile no']\n",
    "\n"
   ]
  },
  {
   "cell_type": "code",
   "execution_count": 12,
   "metadata": {},
   "outputs": [
    {
     "name": "stdout",
     "output_type": "stream",
     "text": [
      "selected profile falls within model boundaries, the program is proceeding\n"
     ]
    }
   ],
   "source": [
    "check=check_prof_boundaries(dsN,latN,lonN,timN,lat_prof,lon_prof,date_prof)"
   ]
  },
  {
   "cell_type": "code",
   "execution_count": 13,
   "metadata": {},
   "outputs": [],
   "source": [
    "fileEN4=file_prof\n",
    "ref_prof=prof_prof\n"
   ]
  },
  {
   "cell_type": "code",
   "execution_count": 14,
   "metadata": {},
   "outputs": [],
   "source": [
    "        diren4=\"/scratch/cnt0024/hmg2840/albert7a/EN4/\"\n",
    "        tfileEN4=diren4+fileEN4\n",
    "\n",
    "        dsen4=xr.open_dataset(tfileEN4)\n",
    "\n",
    "        laten4=dsen4['LATITUDE'][ref_prof]\n",
    "        lonen4=dsen4['LONGITUDE'][ref_prof]\n",
    "        dayen4=dsen4['JULD'][ref_prof]\n",
    "\n",
    "        dateen4= pd.to_datetime(str(dayen4.values))\n",
    "        ten4 = datetime.datetime(int(dateen4.strftime('%Y')),int(dateen4.strftime('%m')),int(dateen4.strftime('%d')),int(dateen4.strftime('%H')),int(dateen4.strftime('%M')))\n",
    "        tsecen4=(ten4-datetime.datetime(1900,1,1,0,0)).total_seconds()\n",
    "\n",
    "        observation_lon=lonen4\n",
    "        observation_lat=laten4\n",
    "        observation_time=tsecen4\n",
    "\n",
    "        tempen4=dsen4['POTM_CORRECTED'][ref_prof]\n",
    "        salten4=dsen4['PSAL_CORRECTED'][ref_prof]\n",
    "        depen4=dsen4['DEPH_CORRECTED'][ref_prof]\n",
    "\n",
    "        observation_dep=depen4\n",
    "        observation_temp=tempen4\n",
    "        observation_salt=salten4\n",
    "\n",
    "        depN = dsN.deptht\n",
    "        tempN=dsN.votemper\n",
    "        saltN=dsN.vosaline\n",
    "\n",
    "        #get the number of useful levels in EN4 profile\n",
    "        dep_level=np.zeros(1)\n",
    "\n",
    "        for k in np.arange(len(observation_dep)):\n",
    "                if not np.isnan(observation_dep[k]):\n",
    "                        dep_level[0]=k\n",
    "\n",
    "        #get the corresponding model level\n",
    "        model_level=np.zeros(int(dep_level[0]))\n",
    "        model_dep=np.zeros(int(dep_level[0]))\n",
    "        obsred_dep=np.zeros(int(dep_level[0]))\n",
    "        obsred_temp=np.zeros(int(dep_level[0]))\n",
    "        obsred_salt=np.zeros(int(dep_level[0]))\n",
    "        for z in np.arange(int(dep_level[0])):\n",
    "                obsred_dep[int(z)]=observation_dep[int(z)]\n",
    "                obsred_temp[int(z)]=observation_temp[int(z)]\n",
    "                obsred_salt[int(z)]=observation_salt[int(z)]\n",
    "                diff_dep=0*depN.values\n",
    "                for k in np.arange(len(depN.values)):\n",
    "                        diff_dep[k]=depN.values[k]-obsred_dep[int(z)]\n",
    "                lev=np.where(np.abs(diff_dep)==np.min(np.abs(diff_dep)))\n",
    "                model_level[z]=lev[0]\n",
    "                model_dep[z]=depN.values[lev[0]]\n",
    "\n",
    "        #Coarse box in which EN4 profile is contained\n",
    "        step=1\n"
   ]
  },
  {
   "cell_type": "code",
   "execution_count": 15,
   "metadata": {},
   "outputs": [],
   "source": [
    "        indxBOX=np.where((lonN>observation_lon-1)&(lonN<observation_lon+1)&(latN>observation_lat-1)&(latN<observation_lat+1))\n"
   ]
  },
  {
   "cell_type": "code",
   "execution_count": 16,
   "metadata": {},
   "outputs": [
    {
     "name": "stdout",
     "output_type": "stream",
     "text": [
      "(array([], dtype=int64), array([], dtype=int64))\n"
     ]
    }
   ],
   "source": [
    "print(indxBOX)"
   ]
  },
  {
   "cell_type": "code",
   "execution_count": 17,
   "metadata": {},
   "outputs": [
    {
     "name": "stdout",
     "output_type": "stream",
     "text": [
      "5.495 41.433\n"
     ]
    }
   ],
   "source": [
    "print(observation_lon.values,observation_lat.values)"
   ]
  },
  {
   "cell_type": "code",
   "execution_count": 18,
   "metadata": {},
   "outputs": [
    {
     "name": "stdout",
     "output_type": "stream",
     "text": [
      "-17.154057\n"
     ]
    }
   ],
   "source": [
    "print(np.nanmin(lonN))"
   ]
  },
  {
   "cell_type": "code",
   "execution_count": 19,
   "metadata": {},
   "outputs": [
    {
     "name": "stdout",
     "output_type": "stream",
     "text": [
      "9.120378\n"
     ]
    }
   ],
   "source": [
    "print(np.nanmax(lonN))"
   ]
  },
  {
   "cell_type": "code",
   "execution_count": 20,
   "metadata": {},
   "outputs": [
    {
     "name": "stdout",
     "output_type": "stream",
     "text": [
      "-1.0\n"
     ]
    }
   ],
   "source": [
    "print(np.nanmin(latN))"
   ]
  },
  {
   "cell_type": "code",
   "execution_count": 21,
   "metadata": {},
   "outputs": [
    {
     "name": "stdout",
     "output_type": "stream",
     "text": [
      "65.58027\n"
     ]
    }
   ],
   "source": [
    "print(np.nanmax(latN))"
   ]
  },
  {
   "cell_type": "code",
   "execution_count": 22,
   "metadata": {},
   "outputs": [
    {
     "data": {
      "text/plain": [
       "(1718, 732)"
      ]
     },
     "execution_count": 22,
     "metadata": {},
     "output_type": "execute_result"
    }
   ],
   "source": [
    "latN.shape"
   ]
  },
  {
   "cell_type": "code",
   "execution_count": 23,
   "metadata": {},
   "outputs": [],
   "source": [
    "indxBOX=np.where((lonN>observation_lon-1))"
   ]
  },
  {
   "cell_type": "code",
   "execution_count": 26,
   "metadata": {},
   "outputs": [
    {
     "name": "stdout",
     "output_type": "stream",
     "text": [
      "54114\n"
     ]
    }
   ],
   "source": [
    "print(len(indxBOX[0]))"
   ]
  },
  {
   "cell_type": "code",
   "execution_count": 27,
   "metadata": {},
   "outputs": [
    {
     "name": "stdout",
     "output_type": "stream",
     "text": [
      "1243715\n"
     ]
    }
   ],
   "source": [
    "indxBOX=np.where((lonN<observation_lon+1))\n",
    "print(len(indxBOX[0]))"
   ]
  },
  {
   "cell_type": "code",
   "execution_count": 28,
   "metadata": {},
   "outputs": [
    {
     "name": "stdout",
     "output_type": "stream",
     "text": [
      "864585\n"
     ]
    }
   ],
   "source": [
    "indxBOX=np.where((latN>observation_lat-1))\n",
    "print(len(indxBOX[0]))"
   ]
  },
  {
   "cell_type": "code",
   "execution_count": 29,
   "metadata": {},
   "outputs": [
    {
     "name": "stdout",
     "output_type": "stream",
     "text": [
      "432403\n"
     ]
    }
   ],
   "source": [
    "indxBOX=np.where((latN<observation_lat+1))\n",
    "print(len(indxBOX[0]))"
   ]
  },
  {
   "cell_type": "code",
   "execution_count": null,
   "metadata": {},
   "outputs": [],
   "source": [
    "        model_lonBOX=lonN[np.min(indxBOX[0]):np.max(indxBOX[0]):step,np.min(indxBOX[1]):np.max(indxBOX[1]):step]\n",
    "        model_latBOX=latN[np.min(indxBOX[0]):np.max(indxBOX[0]):step,np.min(indxBOX[1]):np.max(indxBOX[1]):step]\n",
    "        model_lonBOX_array=model_lonBOX.values\n",
    "        model_latBOX_array=model_latBOX.values\n"
   ]
  },
  {
   "cell_type": "code",
   "execution_count": null,
   "metadata": {},
   "outputs": [],
   "source": [
    "        indtBOX=np.where((timN.values < tsecen4 + 15*24*3600) & (timN.values > tsecen4 - 15*24*3600) )\n"
   ]
  },
  {
   "cell_type": "code",
   "execution_count": 18,
   "metadata": {},
   "outputs": [
    {
     "name": "stdout",
     "output_type": "stream",
     "text": [
      "[1.7183664e+09 1.7184528e+09 1.7185392e+09 1.7186256e+09 1.7187120e+09\n",
      " 1.7187984e+09 1.7188848e+09 1.7189712e+09 1.7190576e+09 1.7191440e+09\n",
      " 1.7192304e+09 1.7193168e+09 1.7194032e+09 1.7194896e+09 1.7195760e+09\n",
      " 1.7196624e+09 1.7197488e+09 1.7198352e+09 1.7199216e+09 1.7200080e+09\n",
      " 1.7200944e+09 1.7201808e+09 1.7202672e+09 1.7203536e+09 1.7204400e+09\n",
      " 1.7205264e+09 1.7206128e+09 1.7206992e+09 1.7207856e+09 1.7208720e+09\n",
      " 1.7209584e+09 1.7210448e+09 1.7211312e+09 1.7212176e+09 1.7213040e+09\n",
      " 1.7213904e+09 1.7214768e+09 1.7215632e+09 1.7216496e+09 1.7217360e+09\n",
      " 1.7218224e+09 1.7219088e+09 1.7219952e+09 1.7220816e+09 1.7221680e+09\n",
      " 1.7222544e+09 1.7223408e+09 1.7224272e+09 1.7225136e+09 1.7226000e+09\n",
      " 1.7226864e+09 1.7227728e+09 1.7228592e+09 1.7229456e+09 1.7230320e+09\n",
      " 1.7231184e+09 1.7232048e+09 1.7232912e+09 1.7233776e+09 1.7234640e+09\n",
      " 1.7235504e+09 1.7236368e+09 1.7237232e+09 1.7238096e+09 1.7238960e+09\n",
      " 1.7239824e+09 1.7240688e+09 1.7241552e+09 1.7242416e+09 1.7243280e+09\n",
      " 1.7244144e+09 1.7245008e+09 1.7245872e+09 1.7246736e+09 1.7247600e+09\n",
      " 1.7248464e+09 1.7249328e+09 1.7250192e+09 1.7251056e+09 1.7251920e+09\n",
      " 1.7252784e+09 1.7253648e+09 1.7254512e+09 1.7255376e+09 1.7256240e+09\n",
      " 1.7257104e+09 1.7257968e+09 1.7258832e+09 1.7259696e+09 1.7260560e+09\n",
      " 1.7261424e+09 1.7262288e+09 1.7263152e+09 1.7264016e+09 1.7264880e+09\n",
      " 1.7265744e+09 1.7266608e+09 1.7267472e+09 1.7268336e+09 1.7269200e+09\n",
      " 1.7270064e+09 1.7270928e+09 1.7271792e+09 1.7272656e+09 1.7273520e+09\n",
      " 1.7274384e+09 1.7275248e+09 1.7276112e+09 1.7276976e+09 1.7277840e+09\n",
      " 1.7278704e+09 1.7279568e+09 1.7280432e+09 1.7281296e+09 1.7282160e+09\n",
      " 1.7283024e+09 1.7283888e+09 1.7284752e+09 1.7285616e+09 1.7286480e+09\n",
      " 1.7287344e+09 1.7288208e+09 1.7289072e+09 1.7289936e+09 1.7290800e+09\n",
      " 1.7291664e+09 1.7292528e+09 1.7293392e+09 1.7294256e+09 1.7295120e+09\n",
      " 1.7295984e+09 1.7296848e+09 1.7297712e+09 1.7298576e+09 1.7299440e+09\n",
      " 1.7300304e+09 1.7301168e+09 1.7302032e+09 1.7302896e+09 1.7303760e+09\n",
      " 1.7304624e+09 1.7305488e+09 1.7306352e+09 1.7307216e+09 1.7308080e+09\n",
      " 1.7308944e+09 1.7309808e+09 1.7310672e+09 1.7311536e+09 1.7312400e+09\n",
      " 1.7313264e+09 1.7314128e+09 1.7314992e+09 1.7315856e+09 1.7316720e+09\n",
      " 1.7317584e+09 1.7318448e+09 1.7319312e+09 1.7320176e+09 1.7321040e+09\n",
      " 1.7321904e+09 1.7322768e+09 1.7323632e+09 1.7324496e+09 1.7325360e+09\n",
      " 1.7326224e+09 1.7327088e+09 1.7327952e+09 1.7328816e+09 1.7329680e+09\n",
      " 1.7330544e+09 1.7331408e+09 1.7332272e+09 1.7333136e+09 1.7334000e+09\n",
      " 1.7334864e+09 1.7335728e+09 1.7336592e+09 1.7337456e+09 1.7338320e+09\n",
      " 1.7339184e+09 1.7340048e+09 1.7340912e+09 1.7341776e+09 1.7342640e+09\n",
      " 1.7343504e+09 1.7344368e+09 1.7345232e+09 1.7346096e+09 1.7346960e+09\n",
      " 1.7347824e+09 1.7348688e+09 1.7349552e+09 1.7350416e+09 1.7351280e+09\n",
      " 1.7352144e+09 1.7353008e+09 1.7353872e+09 1.7354736e+09 1.7355600e+09\n",
      " 1.7356464e+09 1.7357328e+09 1.7358192e+09 1.7359056e+09 1.7359920e+09\n",
      " 1.7360784e+09 1.7361648e+09 1.7362512e+09 1.7363376e+09 1.7364240e+09\n",
      " 1.7365104e+09 1.7365968e+09 1.7366832e+09 1.7367696e+09 1.7368560e+09\n",
      " 1.7369424e+09 1.7370288e+09 1.7371152e+09 1.7372016e+09 1.7372880e+09\n",
      " 1.7373744e+09 1.7374608e+09 1.7375472e+09 1.7376336e+09 1.7377200e+09\n",
      " 1.7378064e+09 1.7378928e+09 1.7379792e+09 1.7380656e+09 1.7381520e+09\n",
      " 1.7382384e+09 1.7383248e+09 1.7384112e+09 1.7384976e+09 1.7385840e+09\n",
      " 1.7386704e+09 1.7387568e+09 1.7388432e+09 1.7389296e+09 1.7390160e+09\n",
      " 1.7391024e+09 1.7391888e+09 1.7392752e+09 1.7393616e+09 1.7394480e+09\n",
      " 1.7395344e+09 1.7396208e+09 1.7397072e+09 1.7397936e+09 1.7398800e+09\n",
      " 1.7399664e+09 1.7400528e+09 1.7401392e+09 1.7402256e+09 1.7403120e+09\n",
      " 1.7403984e+09 1.7404848e+09 1.7405712e+09 1.7406576e+09 1.7407440e+09\n",
      " 1.7408304e+09 1.7409168e+09 1.7410032e+09 1.7410896e+09 1.7411760e+09\n",
      " 1.7412624e+09 1.7413488e+09 1.7414352e+09 1.7415216e+09 1.7416080e+09\n",
      " 1.7416944e+09 1.7417808e+09 1.7418672e+09 1.7419536e+09 1.7420400e+09\n",
      " 1.7421264e+09 1.7422128e+09 1.7422992e+09 1.7423856e+09 1.7424720e+09\n",
      " 1.7425584e+09 1.7426448e+09 1.7427312e+09 1.7428176e+09 1.7429040e+09\n",
      " 1.7429904e+09 1.7430768e+09 1.7431632e+09 1.7432496e+09 1.7433360e+09\n",
      " 1.7434224e+09 1.7435088e+09 1.7435952e+09 1.7436816e+09 1.7437680e+09\n",
      " 1.7438544e+09 1.7439408e+09 1.7440272e+09 1.7441136e+09 1.7442000e+09\n",
      " 1.7442864e+09 1.7443728e+09 1.7444592e+09 1.7445456e+09 1.7446320e+09\n",
      " 1.7447184e+09 1.7448048e+09 1.7448912e+09 1.7449776e+09 1.7450640e+09\n",
      " 1.7451504e+09 1.7452368e+09 1.7453232e+09 1.7454096e+09 1.7454960e+09\n",
      " 1.7455824e+09 1.7456688e+09 1.7457552e+09 1.7458416e+09 1.7459280e+09\n",
      " 1.7460144e+09 1.7461008e+09 1.7461872e+09 1.7462736e+09 1.7463600e+09\n",
      " 1.7464464e+09 1.7465328e+09 1.7466192e+09 1.7467056e+09 1.7467920e+09\n",
      " 1.7468784e+09 1.7469648e+09 1.7470512e+09 1.7471376e+09 1.7472240e+09\n",
      " 1.7473104e+09 1.7473968e+09 1.7474832e+09 1.7475696e+09 1.7476560e+09\n",
      " 1.7477424e+09 1.7478288e+09 1.7479152e+09 1.7480016e+09 1.7480880e+09\n",
      " 1.7481744e+09 1.7482608e+09 1.7483472e+09 1.7484336e+09 1.7485200e+09\n",
      " 1.7486064e+09 1.7486928e+09 1.7487792e+09 1.7488656e+09 1.7489520e+09\n",
      " 1.7490384e+09 1.7491248e+09 1.7492112e+09 1.7492976e+09 1.7493840e+09\n",
      " 1.7494704e+09 1.7495568e+09 1.7496432e+09 1.7497296e+09 1.7498160e+09\n",
      " 1.7499024e+09 1.7499888e+09 1.7500752e+09 1.7501616e+09 1.7502480e+09\n",
      " 1.7503344e+09 1.7504208e+09 1.7505072e+09 1.7505936e+09 1.7506800e+09\n",
      " 1.7507664e+09 1.7508528e+09 1.7509392e+09 1.7510256e+09 1.7511120e+09\n",
      " 1.7511984e+09 1.7512848e+09 1.7513712e+09 1.7514576e+09 1.7515440e+09\n",
      " 1.7516304e+09 1.7517168e+09 1.7518032e+09 1.7518896e+09 1.7519760e+09\n",
      " 1.7520624e+09 1.7521488e+09 1.7522352e+09 1.7523216e+09 1.7524080e+09\n",
      " 1.7524944e+09 1.7525808e+09 1.7526672e+09 1.7527536e+09 1.7528400e+09\n",
      " 1.7529264e+09 1.7530128e+09 1.7530992e+09 1.7531856e+09 1.7532720e+09\n",
      " 1.7533584e+09 1.7534448e+09 1.7535312e+09 1.7536176e+09 1.7537040e+09\n",
      " 1.7537904e+09 1.7538768e+09 1.7539632e+09 1.7540496e+09 1.7541360e+09\n",
      " 1.7542224e+09 1.7543088e+09 1.7543952e+09 1.7544816e+09 1.7545680e+09\n",
      " 1.7546544e+09 1.7547408e+09 1.7548272e+09 1.7549136e+09 1.7550000e+09\n",
      " 1.7550864e+09 1.7551728e+09 1.7552592e+09 1.7553456e+09 1.7554320e+09\n",
      " 1.7555184e+09 1.7556048e+09 1.7556912e+09 1.7557776e+09 1.7558640e+09\n",
      " 1.7559504e+09 1.7560368e+09 1.7561232e+09 1.7562096e+09 1.7562960e+09\n",
      " 1.7563824e+09 1.7564688e+09 1.7565552e+09 1.7566416e+09 1.7567280e+09\n",
      " 1.7568144e+09 1.7569008e+09 1.7569872e+09 1.7570736e+09 1.7571600e+09\n",
      " 1.7572464e+09 1.7573328e+09 1.7574192e+09 1.7575056e+09 1.7575920e+09\n",
      " 1.7576784e+09 1.7577648e+09 1.7578512e+09 1.7579376e+09 1.7580240e+09\n",
      " 1.7581104e+09 1.7581968e+09 1.7582832e+09 1.7583696e+09 1.7584560e+09\n",
      " 1.7585424e+09 1.7586288e+09 1.7587152e+09 1.7588016e+09 1.7588880e+09\n",
      " 1.7589744e+09 1.7590608e+09 1.7591472e+09 1.7592336e+09 1.7593200e+09]\n"
     ]
    }
   ],
   "source": [
    "print(timN.values)"
   ]
  },
  {
   "cell_type": "code",
   "execution_count": 15,
   "metadata": {},
   "outputs": [
    {
     "name": "stdout",
     "output_type": "stream",
     "text": [
      "3558109980.0\n"
     ]
    }
   ],
   "source": [
    "print(tsecen4)"
   ]
  },
  {
   "cell_type": "code",
   "execution_count": 16,
   "metadata": {},
   "outputs": [
    {
     "name": "stdout",
     "output_type": "stream",
     "text": [
      "(array([], dtype=int64),)\n"
     ]
    }
   ],
   "source": [
    "print(indtBOX)"
   ]
  },
  {
   "cell_type": "code",
   "execution_count": 17,
   "metadata": {},
   "outputs": [
    {
     "ename": "IndexError",
     "evalue": "index 0 is out of bounds for axis 0 with size 0",
     "output_type": "error",
     "traceback": [
      "\u001b[0;31m---------------------------------------------------------------------------\u001b[0m",
      "\u001b[0;31mIndexError\u001b[0m                                Traceback (most recent call last)",
      "\u001b[0;32m<ipython-input-17-c41342bfc511>\u001b[0m in \u001b[0;36m<module>\u001b[0;34m\u001b[0m\n\u001b[0;32m----> 1\u001b[0;31m \u001b[0mmodel_tBOX\u001b[0m\u001b[0;34m=\u001b[0m\u001b[0mtimN\u001b[0m\u001b[0;34m[\u001b[0m\u001b[0mindtBOX\u001b[0m\u001b[0;34m[\u001b[0m\u001b[0;36m0\u001b[0m\u001b[0;34m]\u001b[0m\u001b[0;34m[\u001b[0m\u001b[0;36m0\u001b[0m\u001b[0;34m]\u001b[0m\u001b[0;34m:\u001b[0m\u001b[0mindtBOX\u001b[0m\u001b[0;34m[\u001b[0m\u001b[0;36m0\u001b[0m\u001b[0;34m]\u001b[0m\u001b[0;34m[\u001b[0m\u001b[0;34m-\u001b[0m\u001b[0;36m1\u001b[0m\u001b[0;34m]\u001b[0m\u001b[0;34m]\u001b[0m\u001b[0;34m\u001b[0m\u001b[0;34m\u001b[0m\u001b[0m\n\u001b[0m",
      "\u001b[0;31mIndexError\u001b[0m: index 0 is out of bounds for axis 0 with size 0"
     ]
    }
   ],
   "source": [
    "        model_tBOX=timN[indtBOX[0][0]:indtBOX[0][-1]]\n"
   ]
  },
  {
   "cell_type": "code",
   "execution_count": null,
   "metadata": {},
   "outputs": [],
   "source": []
  }
 ],
 "metadata": {
  "kernelspec": {
   "display_name": "Python 3",
   "language": "python",
   "name": "python3"
  },
  "language_info": {
   "codemirror_mode": {
    "name": "ipython",
    "version": 3
   },
   "file_extension": ".py",
   "mimetype": "text/x-python",
   "name": "python",
   "nbconvert_exporter": "python",
   "pygments_lexer": "ipython3",
   "version": "3.7.3"
  }
 },
 "nbformat": 4,
 "nbformat_minor": 2
}
