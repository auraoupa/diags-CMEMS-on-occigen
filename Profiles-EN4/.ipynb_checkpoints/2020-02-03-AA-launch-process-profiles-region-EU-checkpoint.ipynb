{
 "cells": [
  {
   "cell_type": "code",
   "execution_count": 2,
   "metadata": {},
   "outputs": [],
   "source": [
    "import sys\n",
    "sys.path.insert(0,\"/scratch/cnt0024/hmg2840/albert7a/DEV/git/diags-CMEMS-on-occigen/Profiles-EN4/\")\n",
    "\n",
    "import ppreg"
   ]
  },
  {
   "cell_type": "code",
   "execution_count": 5,
   "metadata": {},
   "outputs": [],
   "source": [
    "import json\n",
    "import time\n",
    "import os\n",
    "import numpy as np"
   ]
  },
  {
   "cell_type": "code",
   "execution_count": 6,
   "metadata": {},
   "outputs": [
    {
     "name": "stdout",
     "output_type": "stream",
     "text": [
      "03/02/20 15:14\n",
      "Opening data\n",
      "03/02/20 15:14\n",
      "dealing with profile A20121001-03180\n",
      "/scratch/cnt0024/hmg2840/albert7a/EN4/profiles_files/NATL60-CJM165_EU_y2012-2013/EU36-MPC001//profiles_EN4-A20121001-03180_EU36-MPC001_TS.nc already exists\n",
      "dealing with profile A20121001-03183\n",
      "/scratch/cnt0024/hmg2840/albert7a/EN4/profiles_files/NATL60-CJM165_EU_y2012-2013/EU36-MPC001//profiles_EN4-A20121001-03183_EU36-MPC001_TS.nc already exists\n",
      "dealing with profile A20121001-03275\n",
      "/scratch/cnt0024/hmg2840/albert7a/EN4/profiles_files/NATL60-CJM165_EU_y2012-2013/EU36-MPC001//profiles_EN4-A20121001-03275_EU36-MPC001_TS.nc already exists\n",
      "dealing with profile A20121001-03276\n",
      "/scratch/cnt0024/hmg2840/albert7a/EN4/profiles_files/NATL60-CJM165_EU_y2012-2013/EU36-MPC001//profiles_EN4-A20121001-03276_EU36-MPC001_TS.nc already exists\n",
      "dealing with profile A20121001-03280\n",
      "/scratch/cnt0024/hmg2840/albert7a/EN4/profiles_files/NATL60-CJM165_EU_y2012-2013/EU36-MPC001//profiles_EN4-A20121001-03280_EU36-MPC001_TS.nc does not exist; lets process\n",
      "Processing profile  b' A20121001-03280'\n",
      "selected profile falls within model boundaries, the program is proceeding\n"
     ]
    },
    {
     "ename": "ValueError",
     "evalue": "zero-size array to reduction operation minimum which has no identity",
     "output_type": "error",
     "traceback": [
      "\u001b[0;31m---------------------------------------------------------------------------\u001b[0m",
      "\u001b[0;31mValueError\u001b[0m                                Traceback (most recent call last)",
      "\u001b[0;32m<ipython-input-6-894bb9aed8ca>\u001b[0m in \u001b[0;36m<module>\u001b[0;34m\u001b[0m\n\u001b[1;32m     22\u001b[0m     \u001b[0;32mif\u001b[0m \u001b[0;32mnot\u001b[0m \u001b[0mos\u001b[0m\u001b[0;34m.\u001b[0m\u001b[0mpath\u001b[0m\u001b[0;34m.\u001b[0m\u001b[0mexists\u001b[0m\u001b[0;34m(\u001b[0m\u001b[0moutname\u001b[0m\u001b[0;34m)\u001b[0m\u001b[0;34m:\u001b[0m\u001b[0;34m\u001b[0m\u001b[0;34m\u001b[0m\u001b[0m\n\u001b[1;32m     23\u001b[0m         \u001b[0mprint\u001b[0m\u001b[0;34m(\u001b[0m\u001b[0moutname\u001b[0m\u001b[0;34m+\u001b[0m\u001b[0;34m\" does not exist; lets process\"\u001b[0m\u001b[0;34m)\u001b[0m\u001b[0;34m\u001b[0m\u001b[0;34m\u001b[0m\u001b[0m\n\u001b[0;32m---> 24\u001b[0;31m         \u001b[0mppreg\u001b[0m\u001b[0;34m.\u001b[0m\u001b[0mprocess\u001b[0m\u001b[0;34m(\u001b[0m\u001b[0mjsonfile\u001b[0m\u001b[0;34m,\u001b[0m\u001b[0minfos\u001b[0m\u001b[0;34m,\u001b[0m\u001b[0mprof\u001b[0m\u001b[0;34m,\u001b[0m\u001b[0mdsN\u001b[0m\u001b[0;34m,\u001b[0m\u001b[0mlatN\u001b[0m\u001b[0;34m,\u001b[0m\u001b[0mlonN\u001b[0m\u001b[0;34m,\u001b[0m\u001b[0mtimN\u001b[0m\u001b[0;34m,\u001b[0m\u001b[0mconfig\u001b[0m\u001b[0;34m,\u001b[0m\u001b[0mcase\u001b[0m\u001b[0;34m,\u001b[0m\u001b[0mnamezone\u001b[0m\u001b[0;34m)\u001b[0m\u001b[0;34m\u001b[0m\u001b[0;34m\u001b[0m\u001b[0m\n\u001b[0m\u001b[1;32m     25\u001b[0m     \u001b[0;32melse\u001b[0m\u001b[0;34m:\u001b[0m\u001b[0;34m\u001b[0m\u001b[0;34m\u001b[0m\u001b[0m\n\u001b[1;32m     26\u001b[0m         \u001b[0mprint\u001b[0m\u001b[0;34m(\u001b[0m\u001b[0moutname\u001b[0m\u001b[0;34m+\u001b[0m\u001b[0;34m\" already exists\"\u001b[0m\u001b[0;34m)\u001b[0m\u001b[0;34m\u001b[0m\u001b[0;34m\u001b[0m\u001b[0m\n",
      "\u001b[0;32m/scratch/cnt0024/hmg2840/albert7a/DEV/git/diags-CMEMS-on-occigen/Profiles-EN4/ppreg.py\u001b[0m in \u001b[0;36mprocess\u001b[0;34m(jsonfile, infos, prof, dsN, latN, lonN, timN, config, case, namezone)\u001b[0m\n\u001b[1;32m     53\u001b[0m         \u001b[0mcheck\u001b[0m\u001b[0;34m=\u001b[0m\u001b[0mcheck_prof_boundaries\u001b[0m\u001b[0;34m(\u001b[0m\u001b[0mdsN\u001b[0m\u001b[0;34m,\u001b[0m\u001b[0mlatN\u001b[0m\u001b[0;34m,\u001b[0m\u001b[0mlonN\u001b[0m\u001b[0;34m,\u001b[0m\u001b[0mtimN\u001b[0m\u001b[0;34m,\u001b[0m\u001b[0mlat_prof\u001b[0m\u001b[0;34m,\u001b[0m\u001b[0mlon_prof\u001b[0m\u001b[0;34m,\u001b[0m\u001b[0mdate_prof\u001b[0m\u001b[0;34m)\u001b[0m\u001b[0;34m\u001b[0m\u001b[0;34m\u001b[0m\u001b[0m\n\u001b[1;32m     54\u001b[0m         \u001b[0;32mif\u001b[0m \u001b[0mcheck\u001b[0m \u001b[0;34m==\u001b[0m \u001b[0;36m0.\u001b[0m\u001b[0;34m:\u001b[0m\u001b[0;34m\u001b[0m\u001b[0;34m\u001b[0m\u001b[0m\n\u001b[0;32m---> 55\u001b[0;31m                 \u001b[0mprofil_temp_model_mean\u001b[0m\u001b[0;34m,\u001b[0m\u001b[0mprofil_temp_model_percent10\u001b[0m\u001b[0;34m,\u001b[0m\u001b[0mprofil_temp_model_percent90\u001b[0m\u001b[0;34m,\u001b[0m\u001b[0mprofil_salt_model_mean\u001b[0m\u001b[0;34m,\u001b[0m\u001b[0mprofil_salt_model_percent10\u001b[0m\u001b[0;34m,\u001b[0m\u001b[0mprofil_salt_model_percent90\u001b[0m\u001b[0;34m,\u001b[0m\u001b[0mobservation_dep\u001b[0m\u001b[0;34m,\u001b[0m\u001b[0mobsred_temp\u001b[0m\u001b[0;34m,\u001b[0m\u001b[0mobsred_salt\u001b[0m\u001b[0;34m,\u001b[0m\u001b[0mdep_level\u001b[0m\u001b[0;34m,\u001b[0m\u001b[0mmodel_dep\u001b[0m\u001b[0;34m,\u001b[0m\u001b[0mobsred_dep\u001b[0m\u001b[0;34m,\u001b[0m\u001b[0mobservation_lat\u001b[0m\u001b[0;34m,\u001b[0m\u001b[0mobservation_lon\u001b[0m\u001b[0;34m,\u001b[0m\u001b[0mobservation_time\u001b[0m \u001b[0;34m=\u001b[0m \u001b[0mmodel_mean_percent_profile\u001b[0m\u001b[0;34m(\u001b[0m\u001b[0mfile_prof\u001b[0m\u001b[0;34m,\u001b[0m\u001b[0mprof_prof\u001b[0m\u001b[0;34m,\u001b[0m\u001b[0mdsN\u001b[0m\u001b[0;34m,\u001b[0m\u001b[0mlatN\u001b[0m\u001b[0;34m,\u001b[0m\u001b[0mlonN\u001b[0m\u001b[0;34m,\u001b[0m\u001b[0mtimN\u001b[0m\u001b[0;34m)\u001b[0m\u001b[0;34m\u001b[0m\u001b[0;34m\u001b[0m\u001b[0m\n\u001b[0m\u001b[1;32m     56\u001b[0m                 \u001b[0mcreate_netcdf_profile\u001b[0m\u001b[0;34m(\u001b[0m\u001b[0mjsonfile\u001b[0m\u001b[0;34m,\u001b[0m\u001b[0mreference\u001b[0m\u001b[0;34m,\u001b[0m\u001b[0mprof_prof\u001b[0m\u001b[0;34m,\u001b[0m\u001b[0mobservation_lat\u001b[0m\u001b[0;34m,\u001b[0m\u001b[0mobservation_lon\u001b[0m\u001b[0;34m,\u001b[0m\u001b[0mobservation_time\u001b[0m\u001b[0;34m,\u001b[0m\u001b[0mprofil_temp_model_mean\u001b[0m\u001b[0;34m,\u001b[0m\u001b[0mprofil_temp_model_percent10\u001b[0m\u001b[0;34m,\u001b[0m\u001b[0mprofil_temp_model_percent90\u001b[0m\u001b[0;34m,\u001b[0m\u001b[0mprofil_salt_model_mean\u001b[0m\u001b[0;34m,\u001b[0m\u001b[0mprofil_salt_model_percent10\u001b[0m\u001b[0;34m,\u001b[0m\u001b[0mprofil_salt_model_percent90\u001b[0m\u001b[0;34m,\u001b[0m\u001b[0mobservation_dep\u001b[0m\u001b[0;34m,\u001b[0m\u001b[0mobsred_temp\u001b[0m\u001b[0;34m,\u001b[0m\u001b[0mobsred_salt\u001b[0m\u001b[0;34m,\u001b[0m\u001b[0mdep_level\u001b[0m\u001b[0;34m,\u001b[0m\u001b[0mmodel_dep\u001b[0m\u001b[0;34m,\u001b[0m\u001b[0mobsred_dep\u001b[0m\u001b[0;34m,\u001b[0m\u001b[0mconfig\u001b[0m\u001b[0;34m,\u001b[0m\u001b[0mcase\u001b[0m\u001b[0;34m,\u001b[0m\u001b[0mnamezone\u001b[0m\u001b[0;34m)\u001b[0m\u001b[0;34m\u001b[0m\u001b[0;34m\u001b[0m\u001b[0m\n\u001b[1;32m     57\u001b[0m \u001b[0;34m\u001b[0m\u001b[0m\n",
      "\u001b[0;32m/scratch/cnt0024/hmg2840/albert7a/DEV/git/diags-CMEMS-on-occigen/Profiles-EN4/ppreg.py\u001b[0m in \u001b[0;36mmodel_mean_percent_profile\u001b[0;34m(fileEN4, ref_prof, dsN, latN, lonN, timN)\u001b[0m\n\u001b[1;32m    145\u001b[0m         \u001b[0mstep\u001b[0m\u001b[0;34m=\u001b[0m\u001b[0;36m1\u001b[0m\u001b[0;34m\u001b[0m\u001b[0;34m\u001b[0m\u001b[0m\n\u001b[1;32m    146\u001b[0m         \u001b[0mindxBOX\u001b[0m\u001b[0;34m=\u001b[0m\u001b[0mnp\u001b[0m\u001b[0;34m.\u001b[0m\u001b[0mwhere\u001b[0m\u001b[0;34m(\u001b[0m\u001b[0;34m(\u001b[0m\u001b[0mlonN\u001b[0m\u001b[0;34m>\u001b[0m\u001b[0mobservation_lon\u001b[0m\u001b[0;34m-\u001b[0m\u001b[0;36m1\u001b[0m\u001b[0;34m)\u001b[0m\u001b[0;34m&\u001b[0m\u001b[0;34m(\u001b[0m\u001b[0mlonN\u001b[0m\u001b[0;34m<\u001b[0m\u001b[0mobservation_lon\u001b[0m\u001b[0;34m+\u001b[0m\u001b[0;36m1\u001b[0m\u001b[0;34m)\u001b[0m\u001b[0;34m&\u001b[0m\u001b[0;34m(\u001b[0m\u001b[0mlatN\u001b[0m\u001b[0;34m>\u001b[0m\u001b[0mobservation_lat\u001b[0m\u001b[0;34m-\u001b[0m\u001b[0;36m1\u001b[0m\u001b[0;34m)\u001b[0m\u001b[0;34m&\u001b[0m\u001b[0;34m(\u001b[0m\u001b[0mlatN\u001b[0m\u001b[0;34m<\u001b[0m\u001b[0mobservation_lat\u001b[0m\u001b[0;34m+\u001b[0m\u001b[0;36m1\u001b[0m\u001b[0;34m)\u001b[0m\u001b[0;34m)\u001b[0m\u001b[0;34m\u001b[0m\u001b[0;34m\u001b[0m\u001b[0m\n\u001b[0;32m--> 147\u001b[0;31m         \u001b[0mmodel_lonBOX\u001b[0m\u001b[0;34m=\u001b[0m\u001b[0mlonN\u001b[0m\u001b[0;34m[\u001b[0m\u001b[0mnp\u001b[0m\u001b[0;34m.\u001b[0m\u001b[0mmin\u001b[0m\u001b[0;34m(\u001b[0m\u001b[0mindxBOX\u001b[0m\u001b[0;34m[\u001b[0m\u001b[0;36m0\u001b[0m\u001b[0;34m]\u001b[0m\u001b[0;34m)\u001b[0m\u001b[0;34m:\u001b[0m\u001b[0mnp\u001b[0m\u001b[0;34m.\u001b[0m\u001b[0mmax\u001b[0m\u001b[0;34m(\u001b[0m\u001b[0mindxBOX\u001b[0m\u001b[0;34m[\u001b[0m\u001b[0;36m0\u001b[0m\u001b[0;34m]\u001b[0m\u001b[0;34m)\u001b[0m\u001b[0;34m:\u001b[0m\u001b[0mstep\u001b[0m\u001b[0;34m,\u001b[0m\u001b[0mnp\u001b[0m\u001b[0;34m.\u001b[0m\u001b[0mmin\u001b[0m\u001b[0;34m(\u001b[0m\u001b[0mindxBOX\u001b[0m\u001b[0;34m[\u001b[0m\u001b[0;36m1\u001b[0m\u001b[0;34m]\u001b[0m\u001b[0;34m)\u001b[0m\u001b[0;34m:\u001b[0m\u001b[0mnp\u001b[0m\u001b[0;34m.\u001b[0m\u001b[0mmax\u001b[0m\u001b[0;34m(\u001b[0m\u001b[0mindxBOX\u001b[0m\u001b[0;34m[\u001b[0m\u001b[0;36m1\u001b[0m\u001b[0;34m]\u001b[0m\u001b[0;34m)\u001b[0m\u001b[0;34m:\u001b[0m\u001b[0mstep\u001b[0m\u001b[0;34m]\u001b[0m\u001b[0;34m\u001b[0m\u001b[0;34m\u001b[0m\u001b[0m\n\u001b[0m\u001b[1;32m    148\u001b[0m         \u001b[0mmodel_latBOX\u001b[0m\u001b[0;34m=\u001b[0m\u001b[0mlatN\u001b[0m\u001b[0;34m[\u001b[0m\u001b[0mnp\u001b[0m\u001b[0;34m.\u001b[0m\u001b[0mmin\u001b[0m\u001b[0;34m(\u001b[0m\u001b[0mindxBOX\u001b[0m\u001b[0;34m[\u001b[0m\u001b[0;36m0\u001b[0m\u001b[0;34m]\u001b[0m\u001b[0;34m)\u001b[0m\u001b[0;34m:\u001b[0m\u001b[0mnp\u001b[0m\u001b[0;34m.\u001b[0m\u001b[0mmax\u001b[0m\u001b[0;34m(\u001b[0m\u001b[0mindxBOX\u001b[0m\u001b[0;34m[\u001b[0m\u001b[0;36m0\u001b[0m\u001b[0;34m]\u001b[0m\u001b[0;34m)\u001b[0m\u001b[0;34m:\u001b[0m\u001b[0mstep\u001b[0m\u001b[0;34m,\u001b[0m\u001b[0mnp\u001b[0m\u001b[0;34m.\u001b[0m\u001b[0mmin\u001b[0m\u001b[0;34m(\u001b[0m\u001b[0mindxBOX\u001b[0m\u001b[0;34m[\u001b[0m\u001b[0;36m1\u001b[0m\u001b[0;34m]\u001b[0m\u001b[0;34m)\u001b[0m\u001b[0;34m:\u001b[0m\u001b[0mnp\u001b[0m\u001b[0;34m.\u001b[0m\u001b[0mmax\u001b[0m\u001b[0;34m(\u001b[0m\u001b[0mindxBOX\u001b[0m\u001b[0;34m[\u001b[0m\u001b[0;36m1\u001b[0m\u001b[0;34m]\u001b[0m\u001b[0;34m)\u001b[0m\u001b[0;34m:\u001b[0m\u001b[0mstep\u001b[0m\u001b[0;34m]\u001b[0m\u001b[0;34m\u001b[0m\u001b[0;34m\u001b[0m\u001b[0m\n\u001b[1;32m    149\u001b[0m         \u001b[0mmodel_lonBOX_array\u001b[0m\u001b[0;34m=\u001b[0m\u001b[0mmodel_lonBOX\u001b[0m\u001b[0;34m.\u001b[0m\u001b[0mvalues\u001b[0m\u001b[0;34m\u001b[0m\u001b[0;34m\u001b[0m\u001b[0m\n",
      "\u001b[0;32m<__array_function__ internals>\u001b[0m in \u001b[0;36mamin\u001b[0;34m(*args, **kwargs)\u001b[0m\n",
      "\u001b[0;32m/scratch/cnt0024/hmg2840/albert7a/anaconda3/lib/python3.7/site-packages/numpy/core/fromnumeric.py\u001b[0m in \u001b[0;36mamin\u001b[0;34m(a, axis, out, keepdims, initial, where)\u001b[0m\n\u001b[1;32m   2744\u001b[0m     \"\"\"\n\u001b[1;32m   2745\u001b[0m     return _wrapreduction(a, np.minimum, 'min', axis, None, out,\n\u001b[0;32m-> 2746\u001b[0;31m                           keepdims=keepdims, initial=initial, where=where)\n\u001b[0m\u001b[1;32m   2747\u001b[0m \u001b[0;34m\u001b[0m\u001b[0m\n\u001b[1;32m   2748\u001b[0m \u001b[0;34m\u001b[0m\u001b[0m\n",
      "\u001b[0;32m/scratch/cnt0024/hmg2840/albert7a/anaconda3/lib/python3.7/site-packages/numpy/core/fromnumeric.py\u001b[0m in \u001b[0;36m_wrapreduction\u001b[0;34m(obj, ufunc, method, axis, dtype, out, **kwargs)\u001b[0m\n\u001b[1;32m     88\u001b[0m                 \u001b[0;32mreturn\u001b[0m \u001b[0mreduction\u001b[0m\u001b[0;34m(\u001b[0m\u001b[0maxis\u001b[0m\u001b[0;34m=\u001b[0m\u001b[0maxis\u001b[0m\u001b[0;34m,\u001b[0m \u001b[0mout\u001b[0m\u001b[0;34m=\u001b[0m\u001b[0mout\u001b[0m\u001b[0;34m,\u001b[0m \u001b[0;34m**\u001b[0m\u001b[0mpasskwargs\u001b[0m\u001b[0;34m)\u001b[0m\u001b[0;34m\u001b[0m\u001b[0;34m\u001b[0m\u001b[0m\n\u001b[1;32m     89\u001b[0m \u001b[0;34m\u001b[0m\u001b[0m\n\u001b[0;32m---> 90\u001b[0;31m     \u001b[0;32mreturn\u001b[0m \u001b[0mufunc\u001b[0m\u001b[0;34m.\u001b[0m\u001b[0mreduce\u001b[0m\u001b[0;34m(\u001b[0m\u001b[0mobj\u001b[0m\u001b[0;34m,\u001b[0m \u001b[0maxis\u001b[0m\u001b[0;34m,\u001b[0m \u001b[0mdtype\u001b[0m\u001b[0;34m,\u001b[0m \u001b[0mout\u001b[0m\u001b[0;34m,\u001b[0m \u001b[0;34m**\u001b[0m\u001b[0mpasskwargs\u001b[0m\u001b[0;34m)\u001b[0m\u001b[0;34m\u001b[0m\u001b[0;34m\u001b[0m\u001b[0m\n\u001b[0m\u001b[1;32m     91\u001b[0m \u001b[0;34m\u001b[0m\u001b[0m\n\u001b[1;32m     92\u001b[0m \u001b[0;34m\u001b[0m\u001b[0m\n",
      "\u001b[0;31mValueError\u001b[0m: zero-size array to reduction operation minimum which has no identity"
     ]
    }
   ],
   "source": [
    "jsonfile = '/scratch/cnt0024/hmg2840/albert7a/EN4/profiles_files/NATL60-CJM165_EU_y2012-2013/NATL60-CJM165_EU_y2012-2013_1.json'\n",
    "dirn = '/scratch/cnt0024/hmg2840/albert7a/EN4/profiles_files/NATL60-CJM165_EU_y2012-2013/EU36-MPC001/'\n",
    "config = 'EU36'\n",
    "case = 'MPC001'\n",
    "namezone = 'NATL60-CJM165_EU_y2012-2013'\n",
    "\n",
    "sourcefile=open(jsonfile,'rU')\n",
    "infos=json.load(sourcefile)\n",
    "nb_profilesEN4=len(infos)\n",
    "\n",
    "print(time.strftime('%d/%m/%y %H:%M',time.localtime()))\n",
    "dsN,latN,lonN,timN = ppreg.open_model(config,case)\n",
    "print(time.strftime('%d/%m/%y %H:%M',time.localtime()))\n",
    "\n",
    "for prof in np.arange(nb_profilesEN4):\n",
    "    list_profiles = infos.keys()\n",
    "    reference = str(list(list_profiles)[prof])\n",
    "    reference_profile=reference[-16:-1]\n",
    "    print(\"dealing with profile \"+reference_profile)\n",
    "    outname=dirn+\"/profiles_EN4-\"+reference_profile+\"_\"+config+\"-\"+case+\"_TS.nc\"\n",
    "\n",
    "    if not os.path.exists(outname):\n",
    "        print(outname+\" does not exist; lets process\")\n",
    "        ppreg.process(jsonfile,infos,prof,dsN,latN,lonN,timN,config,case,namezone)\n",
    "    else:\n",
    "        print(outname+\" already exists\")\n",
    "\n",
    "    \n",
    "print(time.strftime('%d/%m/%y %H:%M',time.localtime()))\n"
   ]
  },
  {
   "cell_type": "code",
   "execution_count": null,
   "metadata": {},
   "outputs": [],
   "source": []
  }
 ],
 "metadata": {
  "kernelspec": {
   "display_name": "Python 3",
   "language": "python",
   "name": "python3"
  },
  "language_info": {
   "codemirror_mode": {
    "name": "ipython",
    "version": 3
   },
   "file_extension": ".py",
   "mimetype": "text/x-python",
   "name": "python",
   "nbconvert_exporter": "python",
   "pygments_lexer": "ipython3",
   "version": "3.7.3"
  }
 },
 "nbformat": 4,
 "nbformat_minor": 2
}
