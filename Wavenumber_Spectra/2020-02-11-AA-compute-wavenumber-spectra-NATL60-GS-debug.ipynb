{
 "cells": [
  {
   "cell_type": "code",
   "execution_count": 1,
   "metadata": {},
   "outputs": [
    {
     "name": "stderr",
     "output_type": "stream",
     "text": [
      "/scratch/cnt0024/hmg2840/albert7a/anaconda3/lib/python3.7/site-packages/dask/config.py:168: YAMLLoadWarning: calling yaml.load() without Loader=... is deprecated, as the default Loader is unsafe. Please read https://msg.pyyaml.org/load for full details.\n",
      "  data = yaml.load(f.read()) or {}\n"
     ]
    },
    {
     "data": {
      "application/javascript": [
       "IPython.notebook.set_autosave_interval(60000)"
      ]
     },
     "metadata": {},
     "output_type": "display_data"
    },
    {
     "name": "stdout",
     "output_type": "stream",
     "text": [
      "Autosaving every 60 seconds\n"
     ]
    }
   ],
   "source": [
    "import sys\n",
    "import xarray as xr\n",
    "import numpy as np\n",
    "import numpy.ma as ma\n",
    "import matplotlib.pyplot as plt\n",
    "import matplotlib.ticker as mticker\n",
    "import glob\n",
    "from netCDF4 import Dataset\n",
    "import cartopy.crs as ccrs\n",
    "import os\n",
    "\n",
    "import warnings\n",
    "warnings.filterwarnings('ignore')\n",
    "\n",
    "%matplotlib inline\n",
    "%autosave 60"
   ]
  },
  {
   "cell_type": "code",
   "execution_count": 2,
   "metadata": {},
   "outputs": [],
   "source": [
    "sys.path.insert(0,\"/scratch/cnt0024/hmg2840/albert7a/DEV/git/powerspec/powerspec\")\n",
    "import powerspec as pp"
   ]
  },
  {
   "cell_type": "code",
   "execution_count": 3,
   "metadata": {},
   "outputs": [],
   "source": [
    "sys.path.insert(0,\"/scratch/cnt0024/hmg2840/albert7a/DEV/git/diags-CMEMS-on-occigen/common-lib/\")\n",
    "import GriddedData\n",
    "import WavenumberSpectrum as ws\n"
   ]
  },
  {
   "cell_type": "code",
   "execution_count": 4,
   "metadata": {},
   "outputs": [],
   "source": [
    "# Some functions that allow us to compute spectra in boxes\n",
    "\n",
    "##########################################\n",
    "def get_values_in_box(imin,imax,jmin,jmax,data):\n",
    "    values = data[:,jmin:jmax+1,imin:imax+1]\n",
    "    values = ma.masked_invalid(values)\n",
    "    return values\n",
    "\n",
    "\n",
    "##########################################\n",
    "def compute_spec_for_box(imin,imax,jmin,jmax,data,Mth,navlon,navlat,name,WaveSpecResult,param):\n",
    "    var = get_values_in_box(imin,imax,jmin,jmax,data)\n",
    "    pspec,kspec = compute_spec(var,navlon,navlat)\n",
    "    np.savez(WaveSpecResult+'WaveSpec_'+name+'_'+param+'_'+Mth, kspec=kspec ,pspec=pspec)\n",
    "\n",
    "##########################################\n",
    "def compute_spec(data,navlon,navlat):\n",
    "    days = len(data)\n",
    "    mth_pspec = []\n",
    "    for it in np.arange(0,days):\n",
    "        arr = data[it]\n",
    "        datab = arr.squeeze()\n",
    "        pspec,kstep = pp.wavenumber_spectra(datab,navlon,navlat)\n",
    "        mth_pspec.append(pspec)\n",
    "    mthly_pspec = np.array(mth_pspec)\n",
    "    mean_mthly_pspec = mthly_pspec.mean(axis=0)\n",
    "    return kstep,mean_mthly_pspec"
   ]
  },
  {
   "cell_type": "code",
   "execution_count": 48,
   "metadata": {},
   "outputs": [],
   "source": [
    "def compute_kespec(box):\n",
    "    YrMth  = ['2012m10','2012m11','2012m12','2013m01','2013m02','2013m03','2013m04','2013m05','2013m06','2013m07','2013m08','2013m09']\n",
    "    # Folders containing U and V spectral\n",
    "    u_database = '/scratch/cnt0024/hmg2840/albert7a/NATL60-spec/NATL60GS-Uspec/'\n",
    "    v_database = '/scratch/cnt0024/hmg2840/albert7a/NATL60-spec/NATL60GS-Vspec/'    # Folders to contain computed KE spectral\n",
    "    KEspecFolder = '/scratch/cnt0024/hmg2840/albert7a/NATL60-spec/NATL60GS-KEspec/'    \n",
    "    !mkdir -p $KEspecFolder\n",
    "    u_filenames = sorted(glob.glob(u_database + 'WaveSpec_'+str(box)+'_Uspec_*.npz'))\n",
    "    v_filenames = sorted(glob.glob(v_database + 'WaveSpec_'+str(box)+'_Vspec_*.npz'))\n",
    "    for i in range(len(u_filenames)):\n",
    "        if not os.path.exists(KEspecFolder+'WaveSpec_'+str(box)+'_KEspec_'+YrMth[i]+'.npz'):\n",
    "            print(KEspecFolder+'WaveSpec_'+str(box)+'_KEspec_'+YrMth[i]+'.npz')\n",
    "            uspec = np.load(u_filenames[i])['pspec']\n",
    "            vspec = np.load(v_filenames[i])['pspec']\n",
    "            kspec = np.load(u_filenames[i])['kspec']\n",
    "            KEspec = 0.5*(uspec + vspec)\n",
    "            print(KEspecFolder+'WaveSpec_'+str(box)+'_KEspec_'+YrMth[i]+'.npz')\n",
    "            np.savez(KEspecFolder+'WaveSpec_'+str(box)+'_KEspec_'+YrMth[i]+'.npz',kspec = kspec,KEspec = KEspec)"
   ]
  },
  {
   "cell_type": "code",
   "execution_count": 49,
   "metadata": {},
   "outputs": [
    {
     "name": "stdout",
     "output_type": "stream",
     "text": [
      "/scratch/cnt0024/hmg2840/albert7a/NATL60-spec/NATL60GS-KEspec/WaveSpec_box1_KEspec_2013m04.npz\n"
     ]
    },
    {
     "ename": "ValueError",
     "evalue": "operands could not be broadcast together with shapes (323,) (321,) ",
     "output_type": "error",
     "traceback": [
      "\u001b[0;31m---------------------------------------------------------------------------\u001b[0m",
      "\u001b[0;31mValueError\u001b[0m                                Traceback (most recent call last)",
      "\u001b[0;32m<ipython-input-49-5809ec0041b1>\u001b[0m in \u001b[0;36m<module>\u001b[0;34m\u001b[0m\n\u001b[0;32m----> 1\u001b[0;31m \u001b[0mcompute_kespec\u001b[0m\u001b[0;34m(\u001b[0m\u001b[0;34m'box1'\u001b[0m\u001b[0;34m)\u001b[0m\u001b[0;34m\u001b[0m\u001b[0;34m\u001b[0m\u001b[0m\n\u001b[0m",
      "\u001b[0;32m<ipython-input-48-2f7a95787284>\u001b[0m in \u001b[0;36mcompute_kespec\u001b[0;34m(box)\u001b[0m\n\u001b[1;32m     14\u001b[0m             \u001b[0mvspec\u001b[0m \u001b[0;34m=\u001b[0m \u001b[0mnp\u001b[0m\u001b[0;34m.\u001b[0m\u001b[0mload\u001b[0m\u001b[0;34m(\u001b[0m\u001b[0mv_filenames\u001b[0m\u001b[0;34m[\u001b[0m\u001b[0mi\u001b[0m\u001b[0;34m]\u001b[0m\u001b[0;34m)\u001b[0m\u001b[0;34m[\u001b[0m\u001b[0;34m'pspec'\u001b[0m\u001b[0;34m]\u001b[0m\u001b[0;34m\u001b[0m\u001b[0;34m\u001b[0m\u001b[0m\n\u001b[1;32m     15\u001b[0m             \u001b[0mkspec\u001b[0m \u001b[0;34m=\u001b[0m \u001b[0mnp\u001b[0m\u001b[0;34m.\u001b[0m\u001b[0mload\u001b[0m\u001b[0;34m(\u001b[0m\u001b[0mu_filenames\u001b[0m\u001b[0;34m[\u001b[0m\u001b[0mi\u001b[0m\u001b[0;34m]\u001b[0m\u001b[0;34m)\u001b[0m\u001b[0;34m[\u001b[0m\u001b[0;34m'kspec'\u001b[0m\u001b[0;34m]\u001b[0m\u001b[0;34m\u001b[0m\u001b[0;34m\u001b[0m\u001b[0m\n\u001b[0;32m---> 16\u001b[0;31m             \u001b[0mKEspec\u001b[0m \u001b[0;34m=\u001b[0m \u001b[0;36m0.5\u001b[0m\u001b[0;34m*\u001b[0m\u001b[0;34m(\u001b[0m\u001b[0muspec\u001b[0m \u001b[0;34m+\u001b[0m \u001b[0mvspec\u001b[0m\u001b[0;34m)\u001b[0m\u001b[0;34m\u001b[0m\u001b[0;34m\u001b[0m\u001b[0m\n\u001b[0m\u001b[1;32m     17\u001b[0m             \u001b[0mprint\u001b[0m\u001b[0;34m(\u001b[0m\u001b[0mKEspecFolder\u001b[0m\u001b[0;34m+\u001b[0m\u001b[0;34m'WaveSpec_'\u001b[0m\u001b[0;34m+\u001b[0m\u001b[0mstr\u001b[0m\u001b[0;34m(\u001b[0m\u001b[0mbox\u001b[0m\u001b[0;34m)\u001b[0m\u001b[0;34m+\u001b[0m\u001b[0;34m'_KEspec_'\u001b[0m\u001b[0;34m+\u001b[0m\u001b[0mYrMth\u001b[0m\u001b[0;34m[\u001b[0m\u001b[0mi\u001b[0m\u001b[0;34m]\u001b[0m\u001b[0;34m+\u001b[0m\u001b[0;34m'.npz'\u001b[0m\u001b[0;34m)\u001b[0m\u001b[0;34m\u001b[0m\u001b[0;34m\u001b[0m\u001b[0m\n\u001b[1;32m     18\u001b[0m             \u001b[0mnp\u001b[0m\u001b[0;34m.\u001b[0m\u001b[0msavez\u001b[0m\u001b[0;34m(\u001b[0m\u001b[0mKEspecFolder\u001b[0m\u001b[0;34m+\u001b[0m\u001b[0;34m'WaveSpec_'\u001b[0m\u001b[0;34m+\u001b[0m\u001b[0mstr\u001b[0m\u001b[0;34m(\u001b[0m\u001b[0mbox\u001b[0m\u001b[0;34m)\u001b[0m\u001b[0;34m+\u001b[0m\u001b[0;34m'_KEspec_'\u001b[0m\u001b[0;34m+\u001b[0m\u001b[0mYrMth\u001b[0m\u001b[0;34m[\u001b[0m\u001b[0mi\u001b[0m\u001b[0;34m]\u001b[0m\u001b[0;34m+\u001b[0m\u001b[0;34m'.npz'\u001b[0m\u001b[0;34m,\u001b[0m\u001b[0mkspec\u001b[0m \u001b[0;34m=\u001b[0m \u001b[0mkspec\u001b[0m\u001b[0;34m,\u001b[0m\u001b[0mKEspec\u001b[0m \u001b[0;34m=\u001b[0m \u001b[0mKEspec\u001b[0m\u001b[0;34m)\u001b[0m\u001b[0;34m\u001b[0m\u001b[0;34m\u001b[0m\u001b[0m\n",
      "\u001b[0;31mValueError\u001b[0m: operands could not be broadcast together with shapes (323,) (321,) "
     ]
    }
   ],
   "source": [
    "compute_kespec('box1')"
   ]
  },
  {
   "cell_type": "code",
   "execution_count": 52,
   "metadata": {},
   "outputs": [],
   "source": [
    "box='box1'"
   ]
  },
  {
   "cell_type": "code",
   "execution_count": 50,
   "metadata": {},
   "outputs": [],
   "source": [
    "i=3"
   ]
  },
  {
   "cell_type": "code",
   "execution_count": 53,
   "metadata": {},
   "outputs": [],
   "source": [
    "    YrMth  = ['2012m10','2012m11','2012m12','2013m01','2013m02','2013m03','2013m04','2013m05','2013m06','2013m07','2013m08','2013m09']\n",
    "    # Folders containing U and V spectral\n",
    "    u_database = '/scratch/cnt0024/hmg2840/albert7a/NATL60-spec/NATL60GS-Uspec/'\n",
    "    v_database = '/scratch/cnt0024/hmg2840/albert7a/NATL60-spec/NATL60GS-Vspec/'    # Folders to contain computed KE spectral\n",
    "    KEspecFolder = '/scratch/cnt0024/hmg2840/albert7a/NATL60-spec/NATL60GS-KEspec/'    \n",
    "    !mkdir -p $KEspecFolder\n",
    "    u_filenames = sorted(glob.glob(u_database + 'WaveSpec_'+str(box)+'_Uspec_*.npz'))\n",
    "    v_filenames = sorted(glob.glob(v_database + 'WaveSpec_'+str(box)+'_Vspec_*.npz'))\n"
   ]
  },
  {
   "cell_type": "code",
   "execution_count": 54,
   "metadata": {},
   "outputs": [],
   "source": [
    "            uspec = np.load(u_filenames[i])['pspec']\n",
    "            vspec = np.load(v_filenames[i])['pspec']\n"
   ]
  },
  {
   "cell_type": "code",
   "execution_count": 55,
   "metadata": {},
   "outputs": [
    {
     "data": {
      "text/plain": [
       "(323,)"
      ]
     },
     "execution_count": 55,
     "metadata": {},
     "output_type": "execute_result"
    }
   ],
   "source": [
    "uspec.shape"
   ]
  },
  {
   "cell_type": "code",
   "execution_count": 56,
   "metadata": {},
   "outputs": [
    {
     "data": {
      "text/plain": [
       "(321,)"
      ]
     },
     "execution_count": 56,
     "metadata": {},
     "output_type": "execute_result"
    }
   ],
   "source": [
    "vspec.shape"
   ]
  },
  {
   "cell_type": "code",
   "execution_count": 57,
   "metadata": {},
   "outputs": [],
   "source": [
    "        imin=688\n",
    "        imax=1296\n",
    "        jmin=235\n",
    "        jmax=1004\n"
   ]
  },
  {
   "cell_type": "code",
   "execution_count": 89,
   "metadata": {},
   "outputs": [],
   "source": [
    "    param='Uspec'\n",
    "    varname = 'vozocrtx'\n",
    "    WaveSpecResult = '/scratch/cnt0024/hmg2840/albert7a/NATL60-spec/NATL60GS-'+str(param)+'/'\n",
    "    !mkdir -p $WaveSpecResult\n",
    "    YrMth  = ['2012m10','2012m11','2012m12','2013m01','2013m02','2013m03','2013m04','2013m05','2013m06','2013m07','2013m08','2013m09']\n",
    "\n"
   ]
  },
  {
   "cell_type": "code",
   "execution_count": 90,
   "metadata": {},
   "outputs": [],
   "source": [
    "ii=3"
   ]
  },
  {
   "cell_type": "code",
   "execution_count": 109,
   "metadata": {},
   "outputs": [
    {
     "name": "stdout",
     "output_type": "stream",
     "text": [
      "/scratch/cnt0024/hmg2840/albert7a/NATL60/NATL60-CJM165-S/1d/GS/NATL60GS-CJM165_y2013m01d??.1d_gridUsurf.nc\n"
     ]
    }
   ],
   "source": [
    "            filename='/scratch/cnt0024/hmg2840/albert7a/NATL60/NATL60-CJM165-S/1d/GS/NATL60GS-CJM165_y'+str(YrMth[ii])+'d??.1d_gridUsurf.nc'\n",
    "            print(filename)\n",
    "            ds = xr.open_mfdataset(filename,chunks={'x':500,'y':500,'time_counter':1})\n",
    "            data = ds[varname]\n",
    "            if len(ds.nav_lon.dims) == 3:\n",
    "                navlon=ds.nav_lon[0,imin:imax+1,jmin:jmax+1]\n",
    "                navlat=ds.nav_lat[0,imin:imax+1,jmin:jmax+1]\n",
    "            if len(ds.nav_lon.dims) == 2:\n",
    "                navlon=ds.nav_lon[imin:imax+1,jmin:jmax+1]\n",
    "                navlat=ds.nav_lat[imin:imax+1,jmin:jmax+1]\n"
   ]
  },
  {
   "cell_type": "code",
   "execution_count": 100,
   "metadata": {},
   "outputs": [],
   "source": [
    "    var = get_values_in_box(imin,imax,jmin,jmax,data)\n"
   ]
  },
  {
   "cell_type": "code",
   "execution_count": 101,
   "metadata": {},
   "outputs": [],
   "source": [
    "    days = len(var)\n",
    "    mth_pspec = []\n"
   ]
  },
  {
   "cell_type": "code",
   "execution_count": 102,
   "metadata": {},
   "outputs": [
    {
     "name": "stdout",
     "output_type": "stream",
     "text": [
      "31\n"
     ]
    }
   ],
   "source": [
    "print(days)\n"
   ]
  },
  {
   "cell_type": "code",
   "execution_count": 103,
   "metadata": {},
   "outputs": [],
   "source": [
    "it=0"
   ]
  },
  {
   "cell_type": "code",
   "execution_count": 104,
   "metadata": {},
   "outputs": [],
   "source": [
    "        arr = var[it]\n",
    "        datab = arr.squeeze()\n"
   ]
  },
  {
   "cell_type": "code",
   "execution_count": 105,
   "metadata": {},
   "outputs": [
    {
     "data": {
      "text/plain": [
       "(770, 609)"
      ]
     },
     "execution_count": 105,
     "metadata": {},
     "output_type": "execute_result"
    }
   ],
   "source": [
    "datab.shape"
   ]
  },
  {
   "cell_type": "code",
   "execution_count": 106,
   "metadata": {},
   "outputs": [],
   "source": [
    "        pspec,kstep = pp.wavenumber_spectra(datab,navlon,navlat)\n"
   ]
  },
  {
   "cell_type": "code",
   "execution_count": 107,
   "metadata": {},
   "outputs": [
    {
     "data": {
      "text/plain": [
       "(323,)"
      ]
     },
     "execution_count": 107,
     "metadata": {},
     "output_type": "execute_result"
    }
   ],
   "source": [
    "pspec.shape"
   ]
  },
  {
   "cell_type": "code",
   "execution_count": 69,
   "metadata": {},
   "outputs": [
    {
     "data": {
      "text/plain": [
       "array([1.10129854e-06, 2.20259708e-06, 3.30389562e-06, 4.40519416e-06,\n",
       "       5.50649271e-06, 6.60779125e-06, 7.70908979e-06, 8.81038833e-06,\n",
       "       9.91168687e-06, 1.10129854e-05, 1.21142840e-05, 1.32155825e-05,\n",
       "       1.43168810e-05, 1.54181796e-05, 1.65194781e-05, 1.76207767e-05,\n",
       "       1.87220752e-05, 1.98233737e-05, 2.09246723e-05, 2.20259708e-05,\n",
       "       2.31272694e-05, 2.42285679e-05, 2.53298664e-05, 2.64311650e-05,\n",
       "       2.75324635e-05, 2.86337621e-05, 2.97350606e-05, 3.08363592e-05,\n",
       "       3.19376577e-05, 3.30389562e-05, 3.41402548e-05, 3.52415533e-05,\n",
       "       3.63428519e-05, 3.74441504e-05, 3.85454489e-05, 3.96467475e-05,\n",
       "       4.07480460e-05, 4.18493446e-05, 4.29506431e-05, 4.40519416e-05,\n",
       "       4.51532402e-05, 4.62545387e-05, 4.73558373e-05, 4.84571358e-05,\n",
       "       4.95584343e-05, 5.06597329e-05, 5.17610314e-05, 5.28623300e-05,\n",
       "       5.39636285e-05, 5.50649271e-05, 5.61662256e-05, 5.72675241e-05,\n",
       "       5.83688227e-05, 5.94701212e-05, 6.05714198e-05, 6.16727183e-05,\n",
       "       6.27740168e-05, 6.38753154e-05, 6.49766139e-05, 6.60779125e-05,\n",
       "       6.71792110e-05, 6.82805095e-05, 6.93818081e-05, 7.04831066e-05,\n",
       "       7.15844052e-05, 7.26857037e-05, 7.37870023e-05, 7.48883008e-05,\n",
       "       7.59895993e-05, 7.70908979e-05, 7.81921964e-05, 7.92934950e-05,\n",
       "       8.03947935e-05, 8.14960920e-05, 8.25973906e-05, 8.36986891e-05,\n",
       "       8.47999877e-05, 8.59012862e-05, 8.70025847e-05, 8.81038833e-05,\n",
       "       8.92051818e-05, 9.03064804e-05, 9.14077789e-05, 9.25090775e-05,\n",
       "       9.36103760e-05, 9.47116745e-05, 9.58129731e-05, 9.69142716e-05,\n",
       "       9.80155702e-05, 9.91168687e-05, 1.00218167e-04, 1.01319466e-04,\n",
       "       1.02420764e-04, 1.03522063e-04, 1.04623361e-04, 1.05724660e-04,\n",
       "       1.06825958e-04, 1.07927257e-04, 1.09028556e-04, 1.10129854e-04,\n",
       "       1.11231153e-04, 1.12332451e-04, 1.13433750e-04, 1.14535048e-04,\n",
       "       1.15636347e-04, 1.16737645e-04, 1.17838944e-04, 1.18940242e-04,\n",
       "       1.20041541e-04, 1.21142840e-04, 1.22244138e-04, 1.23345437e-04,\n",
       "       1.24446735e-04, 1.25548034e-04, 1.26649332e-04, 1.27750631e-04,\n",
       "       1.28851929e-04, 1.29953228e-04, 1.31054526e-04, 1.32155825e-04,\n",
       "       1.33257123e-04, 1.34358422e-04, 1.35459721e-04, 1.36561019e-04,\n",
       "       1.37662318e-04, 1.38763616e-04, 1.39864915e-04, 1.40966213e-04,\n",
       "       1.42067512e-04, 1.43168810e-04, 1.44270109e-04, 1.45371407e-04,\n",
       "       1.46472706e-04, 1.47574005e-04, 1.48675303e-04, 1.49776602e-04,\n",
       "       1.50877900e-04, 1.51979199e-04, 1.53080497e-04, 1.54181796e-04,\n",
       "       1.55283094e-04, 1.56384393e-04, 1.57485691e-04, 1.58586990e-04,\n",
       "       1.59688288e-04, 1.60789587e-04, 1.61890886e-04, 1.62992184e-04,\n",
       "       1.64093483e-04, 1.65194781e-04, 1.66296080e-04, 1.67397378e-04,\n",
       "       1.68498677e-04, 1.69599975e-04, 1.70701274e-04, 1.71802572e-04,\n",
       "       1.72903871e-04, 1.74005169e-04, 1.75106468e-04, 1.76207767e-04,\n",
       "       1.77309065e-04, 1.78410364e-04, 1.79511662e-04, 1.80612961e-04,\n",
       "       1.81714259e-04, 1.82815558e-04, 1.83916856e-04, 1.85018155e-04,\n",
       "       1.86119453e-04, 1.87220752e-04, 1.88322051e-04, 1.89423349e-04,\n",
       "       1.90524648e-04, 1.91625946e-04, 1.92727245e-04, 1.93828543e-04,\n",
       "       1.94929842e-04, 1.96031140e-04, 1.97132439e-04, 1.98233737e-04,\n",
       "       1.99335036e-04, 2.00436334e-04, 2.01537633e-04, 2.02638932e-04,\n",
       "       2.03740230e-04, 2.04841529e-04, 2.05942827e-04, 2.07044126e-04,\n",
       "       2.08145424e-04, 2.09246723e-04, 2.10348021e-04, 2.11449320e-04,\n",
       "       2.12550618e-04, 2.13651917e-04, 2.14753216e-04, 2.15854514e-04,\n",
       "       2.16955813e-04, 2.18057111e-04, 2.19158410e-04, 2.20259708e-04,\n",
       "       2.21361007e-04, 2.22462305e-04, 2.23563604e-04, 2.24664902e-04,\n",
       "       2.25766201e-04, 2.26867499e-04, 2.27968798e-04, 2.29070097e-04,\n",
       "       2.30171395e-04, 2.31272694e-04, 2.32373992e-04, 2.33475291e-04,\n",
       "       2.34576589e-04, 2.35677888e-04, 2.36779186e-04, 2.37880485e-04,\n",
       "       2.38981783e-04, 2.40083082e-04, 2.41184381e-04, 2.42285679e-04,\n",
       "       2.43386978e-04, 2.44488276e-04, 2.45589575e-04, 2.46690873e-04,\n",
       "       2.47792172e-04, 2.48893470e-04, 2.49994769e-04, 2.51096067e-04,\n",
       "       2.52197366e-04, 2.53298664e-04, 2.54399963e-04, 2.55501262e-04,\n",
       "       2.56602560e-04, 2.57703859e-04, 2.58805157e-04, 2.59906456e-04,\n",
       "       2.61007754e-04, 2.62109053e-04, 2.63210351e-04, 2.64311650e-04,\n",
       "       2.65412948e-04, 2.66514247e-04, 2.67615545e-04, 2.68716844e-04,\n",
       "       2.69818143e-04, 2.70919441e-04, 2.72020740e-04, 2.73122038e-04,\n",
       "       2.74223337e-04, 2.75324635e-04, 2.76425934e-04, 2.77527232e-04,\n",
       "       2.78628531e-04, 2.79729829e-04, 2.80831128e-04, 2.81932427e-04,\n",
       "       2.83033725e-04, 2.84135024e-04, 2.85236322e-04, 2.86337621e-04,\n",
       "       2.87438919e-04, 2.88540218e-04, 2.89641516e-04, 2.90742815e-04,\n",
       "       2.91844113e-04, 2.92945412e-04, 2.94046710e-04, 2.95148009e-04,\n",
       "       2.96249308e-04, 2.97350606e-04, 2.98451905e-04, 2.99553203e-04,\n",
       "       3.00654502e-04, 3.01755800e-04, 3.02857099e-04, 3.03958397e-04,\n",
       "       3.05059696e-04, 3.06160994e-04, 3.07262293e-04, 3.08363592e-04,\n",
       "       3.09464890e-04, 3.10566189e-04, 3.11667487e-04, 3.12768786e-04,\n",
       "       3.13870084e-04, 3.14971383e-04, 3.16072681e-04, 3.17173980e-04,\n",
       "       3.18275278e-04, 3.19376577e-04, 3.20477875e-04, 3.21579174e-04,\n",
       "       3.22680473e-04, 3.23781771e-04, 3.24883070e-04, 3.25984368e-04,\n",
       "       3.27085667e-04, 3.28186965e-04, 3.29288264e-04, 3.30389562e-04,\n",
       "       3.31490861e-04, 3.32592159e-04, 3.33693458e-04, 3.34794756e-04,\n",
       "       3.35896055e-04, 3.36997354e-04, 3.38098652e-04, 3.39199951e-04,\n",
       "       3.40301249e-04, 3.41402548e-04, 3.42503846e-04, 3.43605145e-04,\n",
       "       3.44706443e-04, 3.45807742e-04, 3.46909040e-04, 3.48010339e-04,\n",
       "       3.49111638e-04, 3.50212936e-04, 3.51314235e-04, 3.52415533e-04,\n",
       "       3.53516832e-04, 3.54618130e-04, 3.55719429e-04])"
      ]
     },
     "execution_count": 69,
     "metadata": {},
     "output_type": "execute_result"
    }
   ],
   "source": [
    "pspec"
   ]
  },
  {
   "cell_type": "code",
   "execution_count": 70,
   "metadata": {},
   "outputs": [
    {
     "data": {
      "text/plain": [
       "(323,)"
      ]
     },
     "execution_count": 70,
     "metadata": {},
     "output_type": "execute_result"
    }
   ],
   "source": [
    "kstep.shape"
   ]
  },
  {
   "cell_type": "code",
   "execution_count": 71,
   "metadata": {},
   "outputs": [
    {
     "data": {
      "text/plain": [
       "array([2.46922098e+01, 4.38128257e+02, 9.21572367e+02, 9.44442324e+02,\n",
       "       6.87919506e+02, 4.58993847e+02, 3.78902763e+02, 3.28743683e+02,\n",
       "       2.45674544e+02, 2.19620957e+02, 1.56227426e+02, 1.07299464e+02,\n",
       "       1.15630862e+02, 1.11058289e+02, 9.09702040e+01, 5.97053724e+01,\n",
       "       5.89044591e+01, 4.42636310e+01, 3.89739579e+01, 2.66598784e+01,\n",
       "       2.31868879e+01, 3.01067684e+01, 1.74979579e+01, 1.48196861e+01,\n",
       "       1.58574944e+01, 1.11339401e+01, 1.29853441e+01, 1.15601788e+01,\n",
       "       8.61458213e+00, 8.64177789e+00, 8.16184942e+00, 5.62157930e+00,\n",
       "       7.39321413e+00, 6.78441640e+00, 5.07583235e+00, 4.73072299e+00,\n",
       "       5.77807129e+00, 4.92373440e+00, 4.51412863e+00, 4.65624610e+00,\n",
       "       4.20031218e+00, 3.66004702e+00, 2.66025496e+00, 3.39265920e+00,\n",
       "       2.35552455e+00, 3.27040709e+00, 2.67233006e+00, 2.26322460e+00,\n",
       "       2.16913436e+00, 2.03238403e+00, 1.46868007e+00, 1.80462929e+00,\n",
       "       1.57699512e+00, 1.34547986e+00, 1.42847151e+00, 1.24230739e+00,\n",
       "       1.27649426e+00, 1.10407121e+00, 9.45618050e-01, 1.13541321e+00,\n",
       "       7.25829574e-01, 7.44515387e-01, 9.60181900e-01, 8.07637760e-01,\n",
       "       7.71966707e-01, 8.02722916e-01, 7.73428709e-01, 6.71089066e-01,\n",
       "       6.08209881e-01, 7.60309228e-01, 5.91236265e-01, 4.98228053e-01,\n",
       "       5.49462051e-01, 5.24784674e-01, 4.34484467e-01, 4.09879453e-01,\n",
       "       4.33673634e-01, 4.21014552e-01, 3.46801227e-01, 3.39450191e-01,\n",
       "       2.80689650e-01, 2.92163340e-01, 2.80876194e-01, 2.63371727e-01,\n",
       "       2.54604632e-01, 2.39863403e-01, 2.12751366e-01, 2.78972887e-01,\n",
       "       2.08965079e-01, 1.99952389e-01, 2.02246463e-01, 2.00972174e-01,\n",
       "       1.96407862e-01, 1.90619905e-01, 1.68928111e-01, 1.78833226e-01,\n",
       "       1.62720641e-01, 1.46541286e-01, 1.55968327e-01, 1.43379481e-01,\n",
       "       1.34068809e-01, 1.33414000e-01, 1.10752049e-01, 1.26745766e-01,\n",
       "       1.17156308e-01, 1.11202811e-01, 1.21738064e-01, 8.96603721e-02,\n",
       "       9.39961419e-02, 9.21315670e-02, 8.90460011e-02, 7.85341518e-02,\n",
       "       7.62237749e-02, 7.51632707e-02, 7.44068934e-02, 6.21818717e-02,\n",
       "       5.83273409e-02, 5.77181446e-02, 6.26231256e-02, 5.55520976e-02,\n",
       "       5.44034704e-02, 5.12319551e-02, 4.84956042e-02, 4.61744236e-02,\n",
       "       4.90229717e-02, 5.06081222e-02, 4.69691254e-02, 4.29405810e-02,\n",
       "       4.05596034e-02, 3.81359742e-02, 3.64700830e-02, 3.85613336e-02,\n",
       "       3.62600686e-02, 3.52467483e-02, 3.40252588e-02, 3.09086071e-02,\n",
       "       3.36159733e-02, 3.10297353e-02, 2.71910897e-02, 2.87882777e-02,\n",
       "       2.86989764e-02, 2.68672498e-02, 2.42392918e-02, 2.46672102e-02,\n",
       "       2.25970336e-02, 2.46889726e-02, 2.19537513e-02, 2.16604367e-02,\n",
       "       2.00726579e-02, 1.80590257e-02, 1.74648757e-02, 1.83349610e-02,\n",
       "       1.75255941e-02, 1.66457612e-02, 1.84563706e-02, 1.60595281e-02,\n",
       "       1.49361188e-02, 1.54502883e-02, 1.44047951e-02, 1.57026796e-02,\n",
       "       1.52694923e-02, 1.24927371e-02, 1.31270694e-02, 1.36946478e-02,\n",
       "       1.27753746e-02, 1.35989384e-02, 1.27200336e-02, 1.17440083e-02,\n",
       "       1.24207346e-02, 1.15193765e-02, 1.05333479e-02, 9.56822148e-03,\n",
       "       9.22363288e-03, 9.44544308e-03, 8.86668450e-03, 7.90014633e-03,\n",
       "       7.22929653e-03, 7.35419810e-03, 7.41567067e-03, 7.26741894e-03,\n",
       "       7.38424957e-03, 7.35559151e-03, 6.88460880e-03, 7.33825978e-03,\n",
       "       6.94816617e-03, 6.81365395e-03, 6.83858670e-03, 5.84992671e-03,\n",
       "       5.73901401e-03, 5.56728692e-03, 5.08562972e-03, 4.79605022e-03,\n",
       "       4.43549770e-03, 4.46702004e-03, 4.85367874e-03, 4.65890940e-03,\n",
       "       4.60514526e-03, 4.78549124e-03, 4.28732015e-03, 4.55598471e-03,\n",
       "       4.46577401e-03, 4.34050031e-03, 4.13817988e-03, 4.20390423e-03,\n",
       "       4.41063973e-03, 3.82119614e-03, 3.99968381e-03, 3.53543234e-03,\n",
       "       3.82696204e-03, 3.98106809e-03, 3.80723094e-03, 3.84623801e-03,\n",
       "       3.33610396e-03, 3.16309737e-03, 3.02079497e-03, 3.02621515e-03,\n",
       "       2.91566889e-03, 2.89292477e-03, 2.80237799e-03, 2.77333395e-03,\n",
       "       2.92923528e-03, 2.69424907e-03, 2.67764573e-03, 2.52589633e-03,\n",
       "       2.61281543e-03, 2.42682974e-03, 2.32941628e-03, 2.24344800e-03,\n",
       "       2.25209579e-03, 2.23736269e-03, 2.17803316e-03, 2.19032539e-03,\n",
       "       2.20261188e-03, 2.14116382e-03, 2.13998539e-03, 2.10159692e-03,\n",
       "       1.97054175e-03, 1.94019794e-03, 1.85873436e-03, 1.90189985e-03,\n",
       "       1.80704336e-03, 1.65357989e-03, 1.73438366e-03, 1.63384509e-03,\n",
       "       1.63189641e-03, 1.58477064e-03, 1.61492188e-03, 1.47521931e-03,\n",
       "       1.41675620e-03, 1.43498821e-03, 1.36595247e-03, 1.33351181e-03,\n",
       "       1.29989389e-03, 1.20766603e-03, 1.29813930e-03, 1.28569020e-03,\n",
       "       1.33522125e-03, 1.34371537e-03, 1.31297532e-03, 1.26070124e-03,\n",
       "       1.22431761e-03, 1.26941191e-03, 1.22600464e-03, 1.21753840e-03,\n",
       "       1.17782327e-03, 1.12965393e-03, 1.13152257e-03, 1.09930522e-03,\n",
       "       1.07776814e-03, 1.09664318e-03, 1.11289874e-03, 1.06511432e-03,\n",
       "       1.00748056e-03, 9.82051258e-04, 9.29114192e-04, 9.21342542e-04,\n",
       "       9.34302142e-04, 8.36775059e-04, 8.34303142e-04, 7.94728951e-04,\n",
       "       8.25362887e-04, 8.38155498e-04, 8.39593936e-04, 8.25851224e-04,\n",
       "       8.67655805e-04, 8.75379832e-04, 7.95677386e-04, 8.38470656e-04,\n",
       "       8.29555795e-04, 7.77987925e-04, 7.50983184e-04, 7.17491623e-04,\n",
       "       6.88980592e-04, 6.98438929e-04, 6.79112976e-04, 6.57032666e-04,\n",
       "       6.86078552e-04, 7.03092754e-04, 6.71495114e-04, 6.88108843e-04,\n",
       "       6.70941772e-04, 6.50488342e-04, 6.51790235e-04, 5.97288520e-04,\n",
       "       6.21926467e-04, 5.73114740e-04, 5.79933417e-04, 5.81212843e-04,\n",
       "       5.98783986e-04, 5.94443728e-04, 5.98625389e-04, 6.25275985e-04,\n",
       "       5.98970927e-04, 6.17516365e-04, 6.20456187e-04, 5.87245805e-04,\n",
       "       5.82043281e-04, 5.47189036e-04, 5.24746117e-04, 5.15665985e-04,\n",
       "       4.97771886e-04, 4.92373267e-04, 5.09952482e-04])"
      ]
     },
     "execution_count": 71,
     "metadata": {},
     "output_type": "execute_result"
    }
   ],
   "source": [
    "kstep"
   ]
  },
  {
   "cell_type": "code",
   "execution_count": 110,
   "metadata": {},
   "outputs": [
    {
     "name": "stdout",
     "output_type": "stream",
     "text": [
      "/scratch/cnt0024/hmg2840/albert7a/NATL60/NATL60-CJM165-S/1d/GS/NATL60GS-CJM165_y2013m01d??.1d_gridVsurf.nc\n",
      "(323,)\n"
     ]
    }
   ],
   "source": [
    "ii=3\n",
    "filename='/scratch/cnt0024/hmg2840/albert7a/NATL60/NATL60-CJM165-S/1d/GS/NATL60GS-CJM165_y'+str(YrMth[ii])+'d??.1d_gridVsurf.nc'\n",
    "print(filename)\n",
    "ds = xr.open_mfdataset(filename,chunks={'x':500,'y':500,'time_counter':1})\n",
    "data = ds['vomecrty']\n",
    "if len(ds.nav_lon.dims) == 3:\n",
    "    navlon=ds.nav_lon[0,imin:imax+1,jmin:jmax+1]\n",
    "    navlat=ds.nav_lat[0,imin:imax+1,jmin:jmax+1]\n",
    "if len(ds.nav_lon.dims) == 2:\n",
    "    navlon=ds.nav_lon[imin:imax+1,jmin:jmax+1]\n",
    "    navlat=ds.nav_lat[imin:imax+1,jmin:jmax+1]\n",
    "var = get_values_in_box(imin,imax,jmin,jmax,data)\n",
    "it=0\n",
    "arr = var[it]\n",
    "datab = arr.squeeze()\n",
    "pspec,kstep = pp.wavenumber_spectra(datab,navlon,navlat)\n",
    "print(pspec.shape)"
   ]
  },
  {
   "cell_type": "code",
   "execution_count": 74,
   "metadata": {},
   "outputs": [
    {
     "name": "stdout",
     "output_type": "stream",
     "text": [
      "0   (323,)\n",
      "1   (323,)\n",
      "2   (323,)\n",
      "3   (323,)\n",
      "4   (323,)\n",
      "5   (323,)\n",
      "6   (323,)\n",
      "7   (323,)\n",
      "8   (323,)\n",
      "9   (323,)\n",
      "10   (323,)\n",
      "11   (323,)\n",
      "12   (323,)\n",
      "13   (323,)\n",
      "14   (323,)\n",
      "15   (323,)\n",
      "16   (323,)\n",
      "17   (323,)\n",
      "18   (323,)\n",
      "19   (323,)\n",
      "20   (323,)\n",
      "21   (323,)\n",
      "22   (323,)\n",
      "23   (323,)\n",
      "24   (323,)\n",
      "25   (323,)\n",
      "26   (323,)\n",
      "27   (323,)\n",
      "28   (323,)\n",
      "29   (323,)\n"
     ]
    }
   ],
   "source": [
    "for it in np.arange(0,days):\n",
    "    arr = var[it]\n",
    "    datab = arr.squeeze()\n",
    "    pspec,kstep = pp.wavenumber_spectra(datab,navlon,navlat)\n",
    "    print(it,' ',pspec.shape)"
   ]
  },
  {
   "cell_type": "code",
   "execution_count": 111,
   "metadata": {},
   "outputs": [],
   "source": [
    "def check_size(box):\n",
    "    YrMth  = ['2013m01','2013m02','2013m03','2013m04','2013m05','2013m06','2013m07','2013m08','2013m09','2012m10','2012m11','2012m12']\n",
    "    # Folders containing U and V spectral\n",
    "    u_database = '/scratch/cnt0024/hmg2840/albert7a/NATL60-spec/NATL60GS-Uspec/'\n",
    "    v_database = '/scratch/cnt0024/hmg2840/albert7a/NATL60-spec/NATL60GS-Vspec/'    # Folders to contain computed KE spectral\n",
    "    KEspecFolder = '/scratch/cnt0024/hmg2840/albert7a/NATL60-spec/NATL60GS-KEspec/'    \n",
    "    !mkdir -p $KEspecFolder\n",
    "    u_filenames = sorted(glob.glob(u_database + 'WaveSpec_'+str(box)+'_Uspec_*.npz'))\n",
    "    v_filenames = sorted(glob.glob(v_database + 'WaveSpec_'+str(box)+'_Vspec_*.npz'))\n",
    "    for i in range(len(u_filenames)):\n",
    "        print('i = ',i)\n",
    "        print(u_filenames[i])\n",
    "        uspec = np.load(u_filenames[i])['pspec']\n",
    "        print(v_filenames[i])\n",
    "        vspec = np.load(v_filenames[i])['pspec']\n",
    "        print('uspec : ',uspec.shape)\n",
    "        print('vspec : ',vspec.shape)"
   ]
  },
  {
   "cell_type": "code",
   "execution_count": 113,
   "metadata": {},
   "outputs": [
    {
     "name": "stdout",
     "output_type": "stream",
     "text": [
      "i =  0\n",
      "/scratch/cnt0024/hmg2840/albert7a/NATL60-spec/NATL60GS-Uspec/WaveSpec_box1_Uspec_2012m10.npz\n",
      "/scratch/cnt0024/hmg2840/albert7a/NATL60-spec/NATL60GS-Vspec/WaveSpec_box1_Vspec_2012m10.npz\n",
      "uspec :  (321,)\n",
      "vspec :  (321,)\n",
      "i =  1\n",
      "/scratch/cnt0024/hmg2840/albert7a/NATL60-spec/NATL60GS-Uspec/WaveSpec_box1_Uspec_2012m11.npz\n",
      "/scratch/cnt0024/hmg2840/albert7a/NATL60-spec/NATL60GS-Vspec/WaveSpec_box1_Vspec_2012m11.npz\n",
      "uspec :  (321,)\n",
      "vspec :  (321,)\n",
      "i =  2\n",
      "/scratch/cnt0024/hmg2840/albert7a/NATL60-spec/NATL60GS-Uspec/WaveSpec_box1_Uspec_2012m12.npz\n",
      "/scratch/cnt0024/hmg2840/albert7a/NATL60-spec/NATL60GS-Vspec/WaveSpec_box1_Vspec_2012m12.npz\n",
      "uspec :  (321,)\n",
      "vspec :  (321,)\n",
      "i =  3\n",
      "/scratch/cnt0024/hmg2840/albert7a/NATL60-spec/NATL60GS-Uspec/WaveSpec_box1_Uspec_2013m01.npz\n",
      "/scratch/cnt0024/hmg2840/albert7a/NATL60-spec/NATL60GS-Vspec/WaveSpec_box1_Vspec_2013m01.npz\n",
      "uspec :  (323,)\n",
      "vspec :  (321,)\n",
      "i =  4\n",
      "/scratch/cnt0024/hmg2840/albert7a/NATL60-spec/NATL60GS-Uspec/WaveSpec_box1_Uspec_2013m02.npz\n",
      "/scratch/cnt0024/hmg2840/albert7a/NATL60-spec/NATL60GS-Vspec/WaveSpec_box1_Vspec_2013m02.npz\n",
      "uspec :  (323,)\n",
      "vspec :  (321,)\n",
      "i =  5\n",
      "/scratch/cnt0024/hmg2840/albert7a/NATL60-spec/NATL60GS-Uspec/WaveSpec_box1_Uspec_2013m03.npz\n",
      "/scratch/cnt0024/hmg2840/albert7a/NATL60-spec/NATL60GS-Vspec/WaveSpec_box1_Vspec_2013m03.npz\n",
      "uspec :  (321,)\n",
      "vspec :  (321,)\n",
      "i =  6\n",
      "/scratch/cnt0024/hmg2840/albert7a/NATL60-spec/NATL60GS-Uspec/WaveSpec_box1_Uspec_2013m04.npz\n",
      "/scratch/cnt0024/hmg2840/albert7a/NATL60-spec/NATL60GS-Vspec/WaveSpec_box1_Vspec_2013m04.npz\n",
      "uspec :  (321,)\n",
      "vspec :  (323,)\n",
      "i =  7\n",
      "/scratch/cnt0024/hmg2840/albert7a/NATL60-spec/NATL60GS-Uspec/WaveSpec_box1_Uspec_2013m05.npz\n",
      "/scratch/cnt0024/hmg2840/albert7a/NATL60-spec/NATL60GS-Vspec/WaveSpec_box1_Vspec_2013m05.npz\n",
      "uspec :  (321,)\n",
      "vspec :  (321,)\n",
      "i =  8\n",
      "/scratch/cnt0024/hmg2840/albert7a/NATL60-spec/NATL60GS-Uspec/WaveSpec_box1_Uspec_2013m06.npz\n",
      "/scratch/cnt0024/hmg2840/albert7a/NATL60-spec/NATL60GS-Vspec/WaveSpec_box1_Vspec_2013m06.npz\n",
      "uspec :  (321,)\n",
      "vspec :  (321,)\n",
      "i =  9\n",
      "/scratch/cnt0024/hmg2840/albert7a/NATL60-spec/NATL60GS-Uspec/WaveSpec_box1_Uspec_2013m07.npz\n",
      "/scratch/cnt0024/hmg2840/albert7a/NATL60-spec/NATL60GS-Vspec/WaveSpec_box1_Vspec_2013m07.npz\n",
      "uspec :  (321,)\n",
      "vspec :  (321,)\n",
      "i =  10\n",
      "/scratch/cnt0024/hmg2840/albert7a/NATL60-spec/NATL60GS-Uspec/WaveSpec_box1_Uspec_2013m08.npz\n",
      "/scratch/cnt0024/hmg2840/albert7a/NATL60-spec/NATL60GS-Vspec/WaveSpec_box1_Vspec_2013m08.npz\n",
      "uspec :  (321,)\n",
      "vspec :  (321,)\n",
      "i =  11\n",
      "/scratch/cnt0024/hmg2840/albert7a/NATL60-spec/NATL60GS-Uspec/WaveSpec_box1_Uspec_2013m09.npz\n",
      "/scratch/cnt0024/hmg2840/albert7a/NATL60-spec/NATL60GS-Vspec/WaveSpec_box1_Vspec_2013m09.npz\n",
      "uspec :  (321,)\n",
      "vspec :  (321,)\n"
     ]
    }
   ],
   "source": [
    "check_size('box1')"
   ]
  },
  {
   "cell_type": "code",
   "execution_count": 81,
   "metadata": {},
   "outputs": [
    {
     "name": "stdout",
     "output_type": "stream",
     "text": [
      "(323,)\n"
     ]
    }
   ],
   "source": [
    "    param='Vspec'\n",
    "    varname = 'vomecrty'\n",
    "    WaveSpecResult = '/scratch/cnt0024/hmg2840/albert7a/NATL60-spec/NATL60GS-'+str(param)+'/'\n",
    "    !mkdir -p $WaveSpecResult\n",
    "    YrMth  = ['2013m01','2013m02','2013m03','2013m04','2013m05','2013m06','2013m07','2013m08','2013m09','2012m10','2012m11','2012m12']\n",
    "\n",
    "    ii=3\n",
    "    Mth = YrMth[ii]\n",
    "\n",
    "    filename='/scratch/cnt0024/hmg2840/albert7a/NATL60/NATL60-CJM165-S/1d/GS/NATL60GS-CJM165_y'+str(YrMth[ii])+'d??.1d_gridVsurf.nc'\n",
    "    ds = xr.open_mfdataset(filename,chunks={'x':500,'y':500,'time_counter':1})\n",
    "    data = ds[varname]\n",
    "    if len(ds.nav_lon.dims) == 3:\n",
    "        navlon=ds.nav_lon[0,imin:imax+1,jmin:jmax+1]\n",
    "        navlat=ds.nav_lat[0,imin:imax+1,jmin:jmax+1]\n",
    "    if len(ds.nav_lon.dims) == 2:\n",
    "        navlon=ds.nav_lon[imin:imax+1,jmin:jmax+1]\n",
    "        navlat=ds.nav_lat[imin:imax+1,jmin:jmax+1]\n",
    "    var = get_values_in_box(imin,imax,jmin,jmax,data)\n",
    "    pspec,kspec = compute_spec(var,navlon,navlat)\n",
    "    print(pspec.shape)"
   ]
  },
  {
   "cell_type": "code",
   "execution_count": 83,
   "metadata": {},
   "outputs": [],
   "source": [
    "    name=box\n",
    "    np.savez(WaveSpecResult+'WaveSpec_'+name+'_'+param+'_'+Mth, kspec=kspec ,pspec=pspec)\n"
   ]
  },
  {
   "cell_type": "code",
   "execution_count": 85,
   "metadata": {},
   "outputs": [
    {
     "name": "stdout",
     "output_type": "stream",
     "text": [
      "/scratch/cnt0024/hmg2840/albert7a/NATL60-spec/NATL60GS-Vspec/WaveSpec_box1_Vspec_2013m04\n"
     ]
    }
   ],
   "source": [
    "print(WaveSpecResult+'WaveSpec_'+name+'_'+param+'_'+Mth)"
   ]
  },
  {
   "cell_type": "code",
   "execution_count": 86,
   "metadata": {},
   "outputs": [],
   "source": [
    "    v_filenames = sorted(glob.glob(v_database + 'WaveSpec_'+str(box)+'_Vspec_*.npz'))\n"
   ]
  },
  {
   "cell_type": "code",
   "execution_count": 87,
   "metadata": {},
   "outputs": [
    {
     "name": "stdout",
     "output_type": "stream",
     "text": [
      "/scratch/cnt0024/hmg2840/albert7a/NATL60-spec/NATL60GS-Vspec/WaveSpec_box1_Vspec_2013m01.npz\n",
      "uspec :  (323,)\n",
      "vspec :  (321,)\n"
     ]
    }
   ],
   "source": [
    "        i=3\n",
    "        print(v_filenames[i])\n",
    "        uspec = np.load(u_filenames[i])['pspec']\n",
    "        vspec = np.load(v_filenames[i])['pspec']\n",
    "        print('uspec : ',uspec.shape)\n",
    "        print('vspec : ',vspec.shape)"
   ]
  },
  {
   "cell_type": "code",
   "execution_count": 88,
   "metadata": {},
   "outputs": [
    {
     "name": "stdout",
     "output_type": "stream",
     "text": [
      "['/scratch/cnt0024/hmg2840/albert7a/NATL60-spec/NATL60GS-Uspec/WaveSpec_box1_Uspec_2012m10.npz', '/scratch/cnt0024/hmg2840/albert7a/NATL60-spec/NATL60GS-Uspec/WaveSpec_box1_Uspec_2012m11.npz', '/scratch/cnt0024/hmg2840/albert7a/NATL60-spec/NATL60GS-Uspec/WaveSpec_box1_Uspec_2012m12.npz', '/scratch/cnt0024/hmg2840/albert7a/NATL60-spec/NATL60GS-Uspec/WaveSpec_box1_Uspec_2013m01.npz', '/scratch/cnt0024/hmg2840/albert7a/NATL60-spec/NATL60GS-Uspec/WaveSpec_box1_Uspec_2013m02.npz', '/scratch/cnt0024/hmg2840/albert7a/NATL60-spec/NATL60GS-Uspec/WaveSpec_box1_Uspec_2013m03.npz', '/scratch/cnt0024/hmg2840/albert7a/NATL60-spec/NATL60GS-Uspec/WaveSpec_box1_Uspec_2013m04.npz', '/scratch/cnt0024/hmg2840/albert7a/NATL60-spec/NATL60GS-Uspec/WaveSpec_box1_Uspec_2013m05.npz', '/scratch/cnt0024/hmg2840/albert7a/NATL60-spec/NATL60GS-Uspec/WaveSpec_box1_Uspec_2013m06.npz', '/scratch/cnt0024/hmg2840/albert7a/NATL60-spec/NATL60GS-Uspec/WaveSpec_box1_Uspec_2013m07.npz', '/scratch/cnt0024/hmg2840/albert7a/NATL60-spec/NATL60GS-Uspec/WaveSpec_box1_Uspec_2013m08.npz', '/scratch/cnt0024/hmg2840/albert7a/NATL60-spec/NATL60GS-Uspec/WaveSpec_box1_Uspec_2013m09.npz']\n"
     ]
    }
   ],
   "source": [
    "print(u_filenames)"
   ]
  },
  {
   "cell_type": "code",
   "execution_count": null,
   "metadata": {},
   "outputs": [],
   "source": []
  }
 ],
 "metadata": {
  "kernelspec": {
   "display_name": "Python 3",
   "language": "python",
   "name": "python3"
  },
  "language_info": {
   "codemirror_mode": {
    "name": "ipython",
    "version": 3
   },
   "file_extension": ".py",
   "mimetype": "text/x-python",
   "name": "python",
   "nbconvert_exporter": "python",
   "pygments_lexer": "ipython3",
   "version": "3.7.3"
  }
 },
 "nbformat": 4,
 "nbformat_minor": 2
}
