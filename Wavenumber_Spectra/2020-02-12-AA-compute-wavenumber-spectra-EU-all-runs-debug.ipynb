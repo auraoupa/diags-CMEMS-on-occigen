{
 "cells": [
  {
   "cell_type": "markdown",
   "metadata": {},
   "source": [
    "## 4 boites en EU :\n",
    "  \n",
    "  - box1 : 75 256 98 326\n",
    "  - box2 : 70 253 324 568\n",
    "  - box3 : 60 245 563 826\n",
    "  - box4 : 21 208 1089 1391\n"
   ]
  },
  {
   "cell_type": "code",
   "execution_count": 1,
   "metadata": {},
   "outputs": [
    {
     "name": "stderr",
     "output_type": "stream",
     "text": [
      "/scratch/cnt0024/hmg2840/albert7a/anaconda3/lib/python3.7/site-packages/dask/config.py:168: YAMLLoadWarning: calling yaml.load() without Loader=... is deprecated, as the default Loader is unsafe. Please read https://msg.pyyaml.org/load for full details.\n",
      "  data = yaml.load(f.read()) or {}\n"
     ]
    },
    {
     "data": {
      "application/javascript": [
       "IPython.notebook.set_autosave_interval(60000)"
      ]
     },
     "metadata": {},
     "output_type": "display_data"
    },
    {
     "name": "stdout",
     "output_type": "stream",
     "text": [
      "Autosaving every 60 seconds\n"
     ]
    }
   ],
   "source": [
    "import sys\n",
    "import xarray as xr\n",
    "import numpy as np\n",
    "import numpy.ma as ma\n",
    "import matplotlib.pyplot as plt\n",
    "import matplotlib.ticker as mticker\n",
    "import glob\n",
    "from netCDF4 import Dataset\n",
    "import cartopy.crs as ccrs\n",
    "import os\n",
    "\n",
    "import warnings\n",
    "warnings.filterwarnings('ignore')\n",
    "\n",
    "%matplotlib inline\n",
    "%autosave 60"
   ]
  },
  {
   "cell_type": "code",
   "execution_count": 2,
   "metadata": {},
   "outputs": [],
   "source": [
    "sys.path.insert(0,\"/scratch/cnt0024/hmg2840/albert7a/DEV/git/powerspec/powerspec\")\n",
    "import powerspec as pp"
   ]
  },
  {
   "cell_type": "code",
   "execution_count": 3,
   "metadata": {},
   "outputs": [],
   "source": [
    "sys.path.insert(0,\"/scratch/cnt0024/hmg2840/albert7a/DEV/git/diags-CMEMS-on-occigen/common-lib/\")\n",
    "import GriddedData\n",
    "import WavenumberSpectrum as ws\n"
   ]
  },
  {
   "cell_type": "code",
   "execution_count": 4,
   "metadata": {},
   "outputs": [],
   "source": [
    "# Some functions that allow us to compute spectra in boxes\n",
    "\n",
    "##########################################\n",
    "def get_values_in_box(imin,imax,jmin,jmax,data):\n",
    "    values = data[:,0,jmin:jmax+1,imin:imax+1]\n",
    "    values = ma.masked_invalid(values)\n",
    "    return values\n",
    "\n",
    "\n",
    "##########################################\n",
    "def compute_spec_for_box(imin,imax,jmin,jmax,data,Mth,navlon,navlat,name,WaveSpecResult,param):\n",
    "    var = get_values_in_box(imin,imax,jmin,jmax,data)\n",
    "    pspec,kspec = compute_spec(var,navlon,navlat)\n",
    "    np.savez(WaveSpecResult+'WaveSpec_'+name+'_'+param+'_'+Mth, kspec=kspec ,pspec=pspec)\n",
    "\n",
    "##########################################\n",
    "def compute_spec(data,navlon,navlat):\n",
    "    days = len(data)\n",
    "    mth_pspec = []\n",
    "    for it in np.arange(0,days):\n",
    "        arr = data[it]\n",
    "        datab = arr.squeeze()\n",
    "        pspec,kstep = pp.wavenumber_spectra(datab,navlon,navlat)\n",
    "        mth_pspec.append(pspec)\n",
    "    mthly_pspec = np.array(mth_pspec)\n",
    "    mean_mthly_pspec = mthly_pspec.mean(axis=0)\n",
    "    return kstep,mean_mthly_pspec"
   ]
  },
  {
   "cell_type": "code",
   "execution_count": 5,
   "metadata": {},
   "outputs": [],
   "source": [
    "def compute_uspec(case,box):\n",
    "    \n",
    "    if box == 'box1':\n",
    "        imin=75\n",
    "        imax=256\n",
    "        jmin=98\n",
    "        jmax=326\n",
    "    if box == 'box2':\n",
    "        imin=70\n",
    "        imax=253\n",
    "        jmin=324\n",
    "        jmax=568\n",
    "    if box == 'box3':\n",
    "        imin=60\n",
    "        imax=245\n",
    "        jmin=563\n",
    "        jmax=826\n",
    "    if box == 'box4':\n",
    "        imin=21\n",
    "        imax=208\n",
    "        jmin=1089\n",
    "        jmax=1391\n",
    "\n",
    "    param='Uspec'\n",
    "    varname = 'vozocrtx'\n",
    "    WaveSpecResult = '/scratch/cnt0024/hmg2840/albert7a/EU36-spec/EU36-'+str(case)+'-'+str(param)+'/'\n",
    "    !mkdir -p $WaveSpecResult\n",
    "    YrMth  = ['2012m01','2012m02','2012m03','2012m04','2012m05','2012m06','2012m07','2012m08','2012m09','2012m10','2012m11','2012m12']\n",
    "\n",
    "    for ii in np.arange(12):\n",
    "        Mth = YrMth[ii]\n",
    "        if not os.path.exists(WaveSpecResult+'WaveSpec_'+str(box)+'_'+param+'_'+Mth+'.npz'):\n",
    "            print(WaveSpecResult+'WaveSpec_'+str(box)+'_'+param+'_'+Mth+'.npz')\n",
    "            filename='/store/colombo/EU36/EU36-'+str(case)+'-S/1d/2012/EU36-'+str(case)+'_y'+str(YrMth[ii])+'d??.1d_gridU.nc'\n",
    "            ds = xr.open_mfdataset(filename,chunks={'x':500,'y':500,'time_counter':1})\n",
    "            data = ds[varname]\n",
    "            if len(ds.nav_lon.dims) == 3:\n",
    "                navlon=ds.nav_lon[0,imin:imax+1,jmin:jmax+1]\n",
    "                navlat=ds.nav_lat[0,imin:imax+1,jmin:jmax+1]\n",
    "            if len(ds.nav_lon.dims) == 2:\n",
    "                navlon=ds.nav_lon[imin:imax+1,jmin:jmax+1]\n",
    "                navlat=ds.nav_lat[imin:imax+1,jmin:jmax+1]\n",
    "            compute_spec_for_box(imin,imax,jmin,jmax,data,Mth,navlon,navlat,box,WaveSpecResult,param)\n"
   ]
  },
  {
   "cell_type": "code",
   "execution_count": 6,
   "metadata": {},
   "outputs": [],
   "source": [
    "def compute_vspec(case,box):\n",
    "    \n",
    "    if box == 'box1':\n",
    "        imin=75\n",
    "        imax=256\n",
    "        jmin=98\n",
    "        jmax=326\n",
    "    if box == 'box2':\n",
    "        imin=70\n",
    "        imax=253\n",
    "        jmin=324\n",
    "        jmax=568\n",
    "    if box == 'box3':\n",
    "        imin=60\n",
    "        imax=245\n",
    "        jmin=563\n",
    "        jmax=826\n",
    "    if box == 'box4':\n",
    "        imin=21\n",
    "        imax=208\n",
    "        jmin=1089\n",
    "        jmax=1391\n",
    "\n",
    "    param='Vspec'\n",
    "    varname = 'vomecrty'\n",
    "    WaveSpecResult = '/scratch/cnt0024/hmg2840/albert7a/EU36-spec/EU36-'+str(case)+'-'+str(param)+'/'\n",
    "    !mkdir -p $WaveSpecResult\n",
    "    YrMth  = ['2012m01','2012m02','2012m03','2012m04','2012m05','2012m06','2012m07','2012m08','2012m09','2012m10','2012m11','2012m12']\n",
    "\n",
    "    for ii in np.arange(12):\n",
    "        Mth = YrMth[ii]\n",
    "        if not os.path.exists(WaveSpecResult+'WaveSpec_'+str(box)+'_'+param+'_'+Mth+'.npz'):\n",
    "            print(WaveSpecResult+'WaveSpec_'+str(box)+'_'+param+'_'+Mth+'.npz')\n",
    "            filename='/store/colombo/EU36/EU36-'+str(case)+'-S/1d/2012/EU36-'+str(case)+'_y'+str(YrMth[ii])+'d??.1d_gridV.nc'\n",
    "            ds = xr.open_mfdataset(filename,chunks={'x':500,'y':500,'time_counter':1})\n",
    "            data = ds[varname]\n",
    "            if len(ds.nav_lon.dims) == 3:\n",
    "                navlon=ds.nav_lon[0,imin:imax+1,jmin:jmax+1]\n",
    "                navlat=ds.nav_lat[0,imin:imax+1,jmin:jmax+1]\n",
    "            if len(ds.nav_lon.dims) == 2:\n",
    "                navlon=ds.nav_lon[imin:imax+1,jmin:jmax+1]\n",
    "                navlat=ds.nav_lat[imin:imax+1,jmin:jmax+1]\n",
    "            compute_spec_for_box(imin,imax,jmin,jmax,data,Mth,navlon,navlat,box,WaveSpecResult,param)\n"
   ]
  },
  {
   "cell_type": "code",
   "execution_count": 7,
   "metadata": {},
   "outputs": [],
   "source": [
    "def compute_kespec(case,box):\n",
    "    YrMth  = ['2012m01','2012m02','2012m03','2012m04','2012m05','2012m06','2012m07','2012m08','2012m09','2012m10','2012m11','2012m12']\n",
    "    # Folders containing U and V spectral\n",
    "    u_database = '/scratch/cnt0024/hmg2840/albert7a/EU36-spec/EU36-'+str(case)+'-Uspec/'\n",
    "    v_database = '/scratch/cnt0024/hmg2840/albert7a/EU36-spec/EU36-'+str(case)+'-Vspec/'\n",
    "    # Folders to contain computed KE spectral\n",
    "    KEspecFolder = '/scratch/cnt0024/hmg2840/albert7a/EU36-spec/EU36-'+str(case)+'-KEspec/'\n",
    "    !mkdir -p $KEspecFolder\n",
    "    u_filenames = sorted(glob.glob(u_database + 'WaveSpec_'+str(box)+'_Uspec_*.npz'))\n",
    "    v_filenames = sorted(glob.glob(v_database + 'WaveSpec_'+str(box)+'_Vspec_*.npz'))\n",
    "    for i in range(len(u_filenames)):\n",
    "        if not os.path.exists(KEspecFolder+'WaveSpec_'+str(box)+'_KEspec_'+YrMth[i]+'.npz'):\n",
    "            uspec = np.load(u_filenames[i])['pspec']\n",
    "            vspec = np.load(v_filenames[i])['pspec']\n",
    "            kspec = np.load(u_filenames[i])['kspec']\n",
    "            KEspec = 0.5*(uspec + vspec)\n",
    "            print(KEspecFolder+'WaveSpec_'+str(box)+'_KEspec_'+YrMth[i]+'.npz')\n",
    "            np.savez(KEspecFolder+'WaveSpec_'+str(box)+'_KEspec_'+YrMth[i]+'.npz',kspec = kspec,KEspec = KEspec)"
   ]
  },
  {
   "cell_type": "code",
   "execution_count": 8,
   "metadata": {},
   "outputs": [],
   "source": [
    "box='box3'\n",
    "case='MPC001'"
   ]
  },
  {
   "cell_type": "code",
   "execution_count": 9,
   "metadata": {},
   "outputs": [],
   "source": [
    "    if box == 'box3':\n",
    "        imin=60\n",
    "        imax=245\n",
    "        jmin=563\n",
    "        jmax=826\n",
    "    if box == 'box4':\n",
    "        imin=21\n",
    "        imax=208\n",
    "        jmin=1089\n",
    "        jmax=1391\n",
    "\n",
    "    param='Uspec'\n",
    "    varname = 'vozocrtx'\n",
    "    WaveSpecResult = '/scratch/cnt0024/hmg2840/albert7a/EU36-spec/EU36-'+str(case)+'-'+str(param)+'/'\n",
    "    !mkdir -p $WaveSpecResult\n",
    "    YrMth  = ['2012m01','2012m02','2012m03','2012m04','2012m05','2012m06','2012m07','2012m08','2012m09','2012m10','2012m11','2012m12']\n",
    "\n"
   ]
  },
  {
   "cell_type": "code",
   "execution_count": 10,
   "metadata": {},
   "outputs": [],
   "source": [
    "        ii=0\n",
    "        Mth = YrMth[ii]\n"
   ]
  },
  {
   "cell_type": "code",
   "execution_count": 11,
   "metadata": {},
   "outputs": [],
   "source": [
    "            filename='/store/colombo/EU36/EU36-'+str(case)+'-S/1d/2012/EU36-'+str(case)+'_y'+str(YrMth[ii])+'d??.1d_gridU.nc'\n",
    "            ds = xr.open_mfdataset(filename,chunks={'x':500,'y':500,'time_counter':1})\n",
    "            data = ds[varname]\n",
    "            if len(ds.nav_lon.dims) == 3:\n",
    "                navlon=ds.nav_lon[0,imin:imax+1,jmin:jmax+1]\n",
    "                navlat=ds.nav_lat[0,imin:imax+1,jmin:jmax+1]\n",
    "            if len(ds.nav_lon.dims) == 2:\n",
    "                navlon=ds.nav_lon[imin:imax+1,jmin:jmax+1]\n",
    "                navlat=ds.nav_lat[imin:imax+1,jmin:jmax+1]\n"
   ]
  },
  {
   "cell_type": "code",
   "execution_count": 12,
   "metadata": {},
   "outputs": [],
   "source": [
    "    var = get_values_in_box(imin,imax,jmin,jmax,data)\n"
   ]
  },
  {
   "cell_type": "code",
   "execution_count": 13,
   "metadata": {},
   "outputs": [],
   "source": [
    "    days = len(var)\n",
    "    mth_pspec = []\n"
   ]
  },
  {
   "cell_type": "code",
   "execution_count": 15,
   "metadata": {},
   "outputs": [
    {
     "data": {
      "text/plain": [
       "(264, 186)"
      ]
     },
     "execution_count": 15,
     "metadata": {},
     "output_type": "execute_result"
    }
   ],
   "source": [
    "datab.shape"
   ]
  },
  {
   "cell_type": "code",
   "execution_count": 16,
   "metadata": {},
   "outputs": [
    {
     "data": {
      "text/plain": [
       "(186, 169)"
      ]
     },
     "execution_count": 16,
     "metadata": {},
     "output_type": "execute_result"
    }
   ],
   "source": [
    "navlon.shape"
   ]
  },
  {
   "cell_type": "code",
   "execution_count": 17,
   "metadata": {},
   "outputs": [
    {
     "data": {
      "text/plain": [
       "(186, 169)"
      ]
     },
     "execution_count": 17,
     "metadata": {},
     "output_type": "execute_result"
    }
   ],
   "source": [
    "navlat.shape"
   ]
  },
  {
   "cell_type": "code",
   "execution_count": 20,
   "metadata": {},
   "outputs": [
    {
     "data": {
      "text/html": [
       "<pre>&lt;xarray.DataArray &#x27;nav_lat&#x27; (y: 1718, x: 732)&gt;\n",
       "dask.array&lt;where, shape=(1718, 732), dtype=float32, chunksize=(500, 500)&gt;\n",
       "Coordinates:\n",
       "    nav_lat  (y, x) float32 dask.array&lt;chunksize=(500, 500), meta=np.ndarray&gt;\n",
       "    nav_lon  (y, x) float32 dask.array&lt;chunksize=(500, 500), meta=np.ndarray&gt;\n",
       "Dimensions without coordinates: y, x\n",
       "Attributes:\n",
       "    standard_name:  latitude\n",
       "    long_name:      Latitude\n",
       "    units:          degrees_north</pre>"
      ],
      "text/plain": [
       "<xarray.DataArray 'nav_lat' (y: 1718, x: 732)>\n",
       "dask.array<where, shape=(1718, 732), dtype=float32, chunksize=(500, 500)>\n",
       "Coordinates:\n",
       "    nav_lat  (y, x) float32 dask.array<chunksize=(500, 500), meta=np.ndarray>\n",
       "    nav_lon  (y, x) float32 dask.array<chunksize=(500, 500), meta=np.ndarray>\n",
       "Dimensions without coordinates: y, x\n",
       "Attributes:\n",
       "    standard_name:  latitude\n",
       "    long_name:      Latitude\n",
       "    units:          degrees_north"
      ]
     },
     "execution_count": 20,
     "metadata": {},
     "output_type": "execute_result"
    }
   ],
   "source": [
    "ds.nav_lat"
   ]
  },
  {
   "cell_type": "code",
   "execution_count": 21,
   "metadata": {},
   "outputs": [
    {
     "data": {
      "text/plain": [
       "2"
      ]
     },
     "execution_count": 21,
     "metadata": {},
     "output_type": "execute_result"
    }
   ],
   "source": [
    "len(ds.nav_lon.dims)"
   ]
  },
  {
   "cell_type": "code",
   "execution_count": 22,
   "metadata": {},
   "outputs": [
    {
     "name": "stdout",
     "output_type": "stream",
     "text": [
      "60 245 563 826\n"
     ]
    }
   ],
   "source": [
    "print(imin,imax,jmin,jmax)"
   ]
  },
  {
   "cell_type": "code",
   "execution_count": 25,
   "metadata": {},
   "outputs": [],
   "source": [
    "                navlon=ds.nav_lon[jmin:jmax+1,imin:imax+1]\n",
    "                navlat=ds.nav_lat[jmin:jmax+1,imin:imax+1]\n"
   ]
  },
  {
   "cell_type": "code",
   "execution_count": 26,
   "metadata": {},
   "outputs": [
    {
     "data": {
      "text/plain": [
       "(264, 186)"
      ]
     },
     "execution_count": 26,
     "metadata": {},
     "output_type": "execute_result"
    }
   ],
   "source": [
    "navlon.shape"
   ]
  },
  {
   "cell_type": "code",
   "execution_count": null,
   "metadata": {},
   "outputs": [],
   "source": []
  },
  {
   "cell_type": "code",
   "execution_count": 14,
   "metadata": {},
   "outputs": [
    {
     "ename": "ZeroDivisionError",
     "evalue": "float division by zero",
     "output_type": "error",
     "traceback": [
      "\u001b[0;31m---------------------------------------------------------------------------\u001b[0m",
      "\u001b[0;31mZeroDivisionError\u001b[0m                         Traceback (most recent call last)",
      "\u001b[0;32m<ipython-input-14-c5a8413633c4>\u001b[0m in \u001b[0;36m<module>\u001b[0;34m\u001b[0m\n\u001b[1;32m      2\u001b[0m \u001b[0marr\u001b[0m \u001b[0;34m=\u001b[0m \u001b[0mvar\u001b[0m\u001b[0;34m[\u001b[0m\u001b[0mit\u001b[0m\u001b[0;34m]\u001b[0m\u001b[0;34m\u001b[0m\u001b[0;34m\u001b[0m\u001b[0m\n\u001b[1;32m      3\u001b[0m \u001b[0mdatab\u001b[0m \u001b[0;34m=\u001b[0m \u001b[0marr\u001b[0m\u001b[0;34m.\u001b[0m\u001b[0msqueeze\u001b[0m\u001b[0;34m(\u001b[0m\u001b[0;34m)\u001b[0m\u001b[0;34m\u001b[0m\u001b[0;34m\u001b[0m\u001b[0m\n\u001b[0;32m----> 4\u001b[0;31m \u001b[0mpspec\u001b[0m\u001b[0;34m,\u001b[0m\u001b[0mkstep\u001b[0m \u001b[0;34m=\u001b[0m \u001b[0mpp\u001b[0m\u001b[0;34m.\u001b[0m\u001b[0mwavenumber_spectra\u001b[0m\u001b[0;34m(\u001b[0m\u001b[0mdatab\u001b[0m\u001b[0;34m,\u001b[0m\u001b[0mnavlon\u001b[0m\u001b[0;34m,\u001b[0m\u001b[0mnavlat\u001b[0m\u001b[0;34m)\u001b[0m\u001b[0;34m\u001b[0m\u001b[0;34m\u001b[0m\u001b[0m\n\u001b[0m",
      "\u001b[0;32m/scratch/cnt0024/hmg2840/albert7a/DEV/git/powerspec/powerspec/powerspec.py\u001b[0m in \u001b[0;36mwavenumber_spectra\u001b[0;34m(data, navlon, navlat, window, detrend)\u001b[0m\n\u001b[1;32m    233\u001b[0m     \u001b[0mNj\u001b[0m\u001b[0;34m,\u001b[0m\u001b[0mNi\u001b[0m \u001b[0;34m=\u001b[0m \u001b[0mdata\u001b[0m\u001b[0;34m.\u001b[0m\u001b[0mshape\u001b[0m                                                      \u001b[0;31m# Get data shape\u001b[0m\u001b[0;34m\u001b[0m\u001b[0;34m\u001b[0m\u001b[0m\n\u001b[1;32m    234\u001b[0m     \u001b[0mdata\u001b[0m\u001b[0;34m,\u001b[0m\u001b[0mx\u001b[0m\u001b[0;34m,\u001b[0m\u001b[0my\u001b[0m \u001b[0;34m=\u001b[0m \u001b[0mpreprocess_data\u001b[0m\u001b[0;34m(\u001b[0m\u001b[0mdata\u001b[0m\u001b[0;34m,\u001b[0m\u001b[0mdetrend\u001b[0m\u001b[0;34m,\u001b[0m\u001b[0mwindow\u001b[0m\u001b[0;34m,\u001b[0m\u001b[0mnavlon\u001b[0m\u001b[0;34m,\u001b[0m\u001b[0mnavlat\u001b[0m\u001b[0;34m)\u001b[0m           \u001b[0;31m# Remove NaN, Detrend, apply windowing\u001b[0m\u001b[0;34m\u001b[0m\u001b[0;34m\u001b[0m\u001b[0m\n\u001b[0;32m--> 235\u001b[0;31m     \u001b[0mwavenumber\u001b[0m\u001b[0;34m,\u001b[0m\u001b[0mwavenumber_2D\u001b[0m\u001b[0;34m,\u001b[0m\u001b[0mkx\u001b[0m\u001b[0;34m,\u001b[0m\u001b[0mky\u001b[0m\u001b[0;34m,\u001b[0m\u001b[0mdx\u001b[0m\u001b[0;34m,\u001b[0m\u001b[0mdy\u001b[0m \u001b[0;34m=\u001b[0m \u001b[0m_wavenumber_vector\u001b[0m\u001b[0;34m(\u001b[0m\u001b[0mx\u001b[0m\u001b[0;34m,\u001b[0m\u001b[0my\u001b[0m\u001b[0;34m,\u001b[0m\u001b[0mNi\u001b[0m\u001b[0;34m,\u001b[0m\u001b[0mNj\u001b[0m\u001b[0;34m)\u001b[0m    \u001b[0;31m# Get wavenumber\u001b[0m\u001b[0;34m\u001b[0m\u001b[0;34m\u001b[0m\u001b[0m\n\u001b[0m\u001b[1;32m    236\u001b[0m     \u001b[0mspec_2D\u001b[0m \u001b[0;34m=\u001b[0m \u001b[0m_get_2D_psd\u001b[0m\u001b[0;34m(\u001b[0m\u001b[0mdata\u001b[0m\u001b[0;34m,\u001b[0m\u001b[0mdx\u001b[0m\u001b[0;34m,\u001b[0m\u001b[0mdy\u001b[0m\u001b[0;34m,\u001b[0m\u001b[0mNi\u001b[0m\u001b[0;34m,\u001b[0m\u001b[0mNj\u001b[0m\u001b[0;34m)\u001b[0m                                 \u001b[0;31m# Estimate 2D spectra\u001b[0m\u001b[0;34m\u001b[0m\u001b[0;34m\u001b[0m\u001b[0m\n\u001b[1;32m    237\u001b[0m     \u001b[0mpsd\u001b[0m \u001b[0;34m=\u001b[0m \u001b[0m_get_1D_psd\u001b[0m\u001b[0;34m(\u001b[0m\u001b[0mwavenumber_2D\u001b[0m\u001b[0;34m,\u001b[0m\u001b[0mwavenumber\u001b[0m\u001b[0;34m,\u001b[0m\u001b[0mspec_2D\u001b[0m\u001b[0;34m)\u001b[0m \u001b[0;31m# Average 2D spectra to 1D spectra : isotropic wavenumber spectra density\u001b[0m\u001b[0;34m\u001b[0m\u001b[0;34m\u001b[0m\u001b[0m\n",
      "\u001b[0;32m/scratch/cnt0024/hmg2840/albert7a/DEV/git/powerspec/powerspec/powerspec.py\u001b[0m in \u001b[0;36m_wavenumber_vector\u001b[0;34m(x, y, Ni, Nj)\u001b[0m\n\u001b[1;32m    110\u001b[0m     \u001b[0mdy\u001b[0m\u001b[0;34m=\u001b[0m\u001b[0mnp\u001b[0m\u001b[0;34m.\u001b[0m\u001b[0mint\u001b[0m\u001b[0;34m(\u001b[0m\u001b[0mnp\u001b[0m\u001b[0;34m.\u001b[0m\u001b[0mceil\u001b[0m\u001b[0;34m(\u001b[0m\u001b[0my1dreg\u001b[0m\u001b[0;34m[\u001b[0m\u001b[0;36m1\u001b[0m\u001b[0;34m]\u001b[0m\u001b[0;34m-\u001b[0m\u001b[0my1dreg\u001b[0m\u001b[0;34m[\u001b[0m\u001b[0;36m0\u001b[0m\u001b[0;34m]\u001b[0m\u001b[0;34m)\u001b[0m\u001b[0;34m)\u001b[0m\u001b[0;34m\u001b[0m\u001b[0;34m\u001b[0m\u001b[0m\n\u001b[1;32m    111\u001b[0m \u001b[0;34m\u001b[0m\u001b[0m\n\u001b[0;32m--> 112\u001b[0;31m     \u001b[0mkx\u001b[0m \u001b[0;34m=\u001b[0m \u001b[0mnp\u001b[0m\u001b[0;34m.\u001b[0m\u001b[0mfft\u001b[0m\u001b[0;34m.\u001b[0m\u001b[0mfftfreq\u001b[0m\u001b[0;34m(\u001b[0m\u001b[0mNi\u001b[0m\u001b[0;34m,\u001b[0m\u001b[0mdx\u001b[0m\u001b[0;34m)\u001b[0m \u001b[0;31m# two sided\u001b[0m\u001b[0;34m\u001b[0m\u001b[0;34m\u001b[0m\u001b[0m\n\u001b[0m\u001b[1;32m    113\u001b[0m     \u001b[0mky\u001b[0m \u001b[0;34m=\u001b[0m \u001b[0mnp\u001b[0m\u001b[0;34m.\u001b[0m\u001b[0mfft\u001b[0m\u001b[0;34m.\u001b[0m\u001b[0mfftfreq\u001b[0m\u001b[0;34m(\u001b[0m\u001b[0mNj\u001b[0m\u001b[0;34m,\u001b[0m\u001b[0mdy\u001b[0m\u001b[0;34m)\u001b[0m\u001b[0;34m\u001b[0m\u001b[0;34m\u001b[0m\u001b[0m\n\u001b[1;32m    114\u001b[0m     \u001b[0mKmax\u001b[0m \u001b[0;34m=\u001b[0m \u001b[0mmax\u001b[0m\u001b[0;34m(\u001b[0m\u001b[0mkx\u001b[0m\u001b[0;34m.\u001b[0m\u001b[0mmax\u001b[0m\u001b[0;34m(\u001b[0m\u001b[0;34m)\u001b[0m\u001b[0;34m,\u001b[0m \u001b[0mky\u001b[0m\u001b[0;34m.\u001b[0m\u001b[0mmax\u001b[0m\u001b[0;34m(\u001b[0m\u001b[0;34m)\u001b[0m\u001b[0;34m)\u001b[0m\u001b[0;34m\u001b[0m\u001b[0;34m\u001b[0m\u001b[0m\n",
      "\u001b[0;32m/scratch/cnt0024/hmg2840/albert7a/anaconda3/lib/python3.7/site-packages/numpy/fft/helper.py\u001b[0m in \u001b[0;36mfftfreq\u001b[0;34m(n, d)\u001b[0m\n\u001b[1;32m    163\u001b[0m     \u001b[0;32mif\u001b[0m \u001b[0;32mnot\u001b[0m \u001b[0misinstance\u001b[0m\u001b[0;34m(\u001b[0m\u001b[0mn\u001b[0m\u001b[0;34m,\u001b[0m \u001b[0minteger_types\u001b[0m\u001b[0;34m)\u001b[0m\u001b[0;34m:\u001b[0m\u001b[0;34m\u001b[0m\u001b[0;34m\u001b[0m\u001b[0m\n\u001b[1;32m    164\u001b[0m         \u001b[0;32mraise\u001b[0m \u001b[0mValueError\u001b[0m\u001b[0;34m(\u001b[0m\u001b[0;34m\"n should be an integer\"\u001b[0m\u001b[0;34m)\u001b[0m\u001b[0;34m\u001b[0m\u001b[0;34m\u001b[0m\u001b[0m\n\u001b[0;32m--> 165\u001b[0;31m     \u001b[0mval\u001b[0m \u001b[0;34m=\u001b[0m \u001b[0;36m1.0\u001b[0m \u001b[0;34m/\u001b[0m \u001b[0;34m(\u001b[0m\u001b[0mn\u001b[0m \u001b[0;34m*\u001b[0m \u001b[0md\u001b[0m\u001b[0;34m)\u001b[0m\u001b[0;34m\u001b[0m\u001b[0;34m\u001b[0m\u001b[0m\n\u001b[0m\u001b[1;32m    166\u001b[0m     \u001b[0mresults\u001b[0m \u001b[0;34m=\u001b[0m \u001b[0mempty\u001b[0m\u001b[0;34m(\u001b[0m\u001b[0mn\u001b[0m\u001b[0;34m,\u001b[0m \u001b[0mint\u001b[0m\u001b[0;34m)\u001b[0m\u001b[0;34m\u001b[0m\u001b[0;34m\u001b[0m\u001b[0m\n\u001b[1;32m    167\u001b[0m     \u001b[0mN\u001b[0m \u001b[0;34m=\u001b[0m \u001b[0;34m(\u001b[0m\u001b[0mn\u001b[0m\u001b[0;34m-\u001b[0m\u001b[0;36m1\u001b[0m\u001b[0;34m)\u001b[0m\u001b[0;34m//\u001b[0m\u001b[0;36m2\u001b[0m \u001b[0;34m+\u001b[0m \u001b[0;36m1\u001b[0m\u001b[0;34m\u001b[0m\u001b[0;34m\u001b[0m\u001b[0m\n",
      "\u001b[0;31mZeroDivisionError\u001b[0m: float division by zero"
     ]
    }
   ],
   "source": [
    "        it=0\n",
    "        arr = var[it]\n",
    "        datab = arr.squeeze()\n",
    "        pspec,kstep = pp.wavenumber_spectra(datab,navlon,navlat)\n"
   ]
  },
  {
   "cell_type": "code",
   "execution_count": null,
   "metadata": {},
   "outputs": [],
   "source": []
  }
 ],
 "metadata": {
  "kernelspec": {
   "display_name": "Python 3",
   "language": "python",
   "name": "python3"
  },
  "language_info": {
   "codemirror_mode": {
    "name": "ipython",
    "version": 3
   },
   "file_extension": ".py",
   "mimetype": "text/x-python",
   "name": "python",
   "nbconvert_exporter": "python",
   "pygments_lexer": "ipython3",
   "version": "3.7.3"
  }
 },
 "nbformat": 4,
 "nbformat_minor": 2
}
