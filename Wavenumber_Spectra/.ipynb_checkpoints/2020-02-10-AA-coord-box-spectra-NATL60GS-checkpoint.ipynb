{
 "cells": [
  {
   "cell_type": "markdown",
   "metadata": {},
   "source": [
    "## 3 boites en GS :\n",
    "\n",
    "  - box1 : 376 740 124 585\n",
    "  - box2 : 736 1099 123 574\n",
    "  - box3 : 1096 1457 122 565"
   ]
  },
  {
   "cell_type": "markdown",
   "metadata": {},
   "source": [
    "## 4 boites en EU :\n",
    "  \n",
    "  - box1 : 75 256 98 326\n",
    "  - box2 : 70 253 324 568\n",
    "  - box3 : 60 245 563 826\n",
    "  - box4 : 21 208 1089 1391\n"
   ]
  },
  {
   "cell_type": "code",
   "execution_count": 1,
   "metadata": {},
   "outputs": [
    {
     "name": "stderr",
     "output_type": "stream",
     "text": [
      "/scratch/cnt0024/hmg2840/albert7a/anaconda3/lib/python3.7/site-packages/dask/config.py:168: YAMLLoadWarning: calling yaml.load() without Loader=... is deprecated, as the default Loader is unsafe. Please read https://msg.pyyaml.org/load for full details.\n",
      "  data = yaml.load(f.read()) or {}\n"
     ]
    },
    {
     "data": {
      "application/javascript": [
       "IPython.notebook.set_autosave_interval(60000)"
      ]
     },
     "metadata": {},
     "output_type": "display_data"
    },
    {
     "name": "stdout",
     "output_type": "stream",
     "text": [
      "Autosaving every 60 seconds\n"
     ]
    }
   ],
   "source": [
    "import sys\n",
    "import xarray as xr\n",
    "import numpy as np\n",
    "import numpy.ma as ma\n",
    "import matplotlib.pyplot as plt\n",
    "import matplotlib.ticker as mticker\n",
    "import glob\n",
    "from netCDF4 import Dataset\n",
    "import cartopy.crs as ccrs\n",
    "import os\n",
    "\n",
    "import warnings\n",
    "warnings.filterwarnings('ignore')\n",
    "\n",
    "%matplotlib inline\n",
    "%autosave 60"
   ]
  },
  {
   "cell_type": "code",
   "execution_count": 2,
   "metadata": {},
   "outputs": [],
   "source": [
    "sys.path.insert(0,\"/scratch/cnt0024/hmg2840/albert7a/DEV/git/powerspec/powerspec\")\n",
    "import powerspec as pp"
   ]
  },
  {
   "cell_type": "code",
   "execution_count": 3,
   "metadata": {},
   "outputs": [],
   "source": [
    "sys.path.insert(0,\"/scratch/cnt0024/hmg2840/albert7a/DEV/git/diags-CMEMS-on-occigen/common-lib/\")\n",
    "import GriddedData\n",
    "import WavenumberSpectrum as ws\n"
   ]
  },
  {
   "cell_type": "code",
   "execution_count": 4,
   "metadata": {},
   "outputs": [],
   "source": [
    "# Datasets of daily surface meridional and zonal velocities\n",
    "\n",
    "fileu = sorted(glob.glob(\"/store/colombo/GS36/GS36-MPC001-S/1d/2012/GS36-MPC001_y2012m??d??.1d_gridU.nc\"))\n",
    "filev = sorted(glob.glob(\"/store/colombo/GS36/GS36-MPC001-S/1d/2012/GS36-MPC001_y2012m??d??.1d_gridV.nc\"))"
   ]
  },
  {
   "cell_type": "code",
   "execution_count": 5,
   "metadata": {},
   "outputs": [],
   "source": [
    "# Some functions that allow us to compute spectra in boxes\n",
    "\n",
    "##########################################\n",
    "def get_values_in_box(imin,imax,jmin,jmax,data):\n",
    "    values = data[:,0,jmin:jmax+1,imin:imax+1]\n",
    "    values = ma.masked_invalid(values)\n",
    "    return values\n",
    "\n",
    "\n",
    "##########################################\n",
    "def compute_spec_for_box(imin,imax,jmin,jmax,data,Mth,navlon,navlat,name):\n",
    "    var = get_values_in_box(imin,imax,jmin,jmax,data)\n",
    "    kspec,pspec = compute_spec(var,navlon,navlat)\n",
    "    np.savez(WaveSpecResult+'WaveSpec_'+name+'_'+param+'_'+Mth, kspec=kspec ,pspec=pspec)\n",
    "\n",
    "##########################################\n",
    "def compute_spec(data,navlon,navlat):\n",
    "    days = len(data)\n",
    "    mth_pspec = []\n",
    "    for it in np.arange(0,days):\n",
    "        arr = data[it]\n",
    "        datab = arr.squeeze()\n",
    "        pspec,kstep = pp.wavenumber_spectra(datab,navlon,navlat)\n",
    "        mth_pspec.append(pspec)\n",
    "    mthly_pspec = np.array(mth_pspec)\n",
    "    mean_mthly_pspec = mthly_pspec.mean(axis=0)\n",
    "    return kstep,mean_mthly_pspec"
   ]
  },
  {
   "cell_type": "code",
   "execution_count": 6,
   "metadata": {},
   "outputs": [],
   "source": [
    "# Implementation for surface zonal velocities U\n",
    "\n",
    "imin=376\n",
    "imax=740\n",
    "jmin=124\n",
    "jmax=585\n",
    "\n",
    "param='Uspec'\n",
    "varname = 'vozocrtx'\n",
    "filenames = fileu\n",
    "WaveSpecResult = '/scratch/cnt0024/hmg2840/albert7a/GS36-spec/GS36-MPC001-'+str(param)+'/'\n",
    "YrMth  = ['2012m01','2012m02','2012m03','2012m04','2012m05','2012m06','2012m07','2012m08','2012m09','2012m10','2012m11','2012m12']\n",
    "\n",
    "for ii in np.arange(12):\n",
    "    Mth = YrMth[ii]\n",
    "    if not os.path.exists(WaveSpecResult+'WaveSpec_box1_'+param+'_'+Mth+'.npz'):\n",
    "        filename=\"/store/colombo/GS36/GS36-MPC001-S/1d/2012/GS36-MPC001_y\"+str(YrMth[ii])+\"d??.1d_gridU.nc\"\n",
    "        ds = xr.open_mfdataset(filename,chunks={'x':500,'y':500,'time_counter':1})\n",
    "        data = ds[varname]\n",
    "        navlon=ds.nav_lon[imin:imax+1,jmin:jmax+1]\n",
    "        navlat=ds.nav_lat[imin:imax+1,jmin:jmax+1]\n",
    "        compute_spec_for_box(imin,imax,jmin,jmax,data,Mth,navlon,navlat,'box1')\n"
   ]
  },
  {
   "cell_type": "code",
   "execution_count": null,
   "metadata": {},
   "outputs": [],
   "source": [
    "# Implementation for surface zonal velocities U\n",
    "\n",
    "imin=376\n",
    "imax=740\n",
    "jmin=124\n",
    "jmax=585\n",
    "\n",
    "param='Vspec'\n",
    "varname = 'vomecrty'\n",
    "filenames = fileu\n",
    "WaveSpecResult = '/scratch/cnt0024/hmg2840/albert7a/GS36-spec/GS36-MPC001-'+str(param)+'/'\n",
    "YrMth  = ['2012m01','2012m02','2012m03','2012m04','2012m05','2012m06','2012m07','2012m08','2012m09','2012m10','2012m11','2012m12']\n",
    "\n",
    "for ii in np.arange(12):\n",
    "    Mth = YrMth[ii]\n",
    "    if not os.path.exists(WaveSpecResult+'WaveSpec_box1_'+param+'_'+Mth+'.npz'):\n",
    "        filename=\"/store/colombo/GS36/GS36-MPC001-S/1d/2012/GS36-MPC001_y\"+str(YrMth[ii])+\"d??.1d_gridV.nc\"\n",
    "        ds = xr.open_mfdataset(filename,chunks={'x':500,'y':500,'time_counter':1})\n",
    "        data = ds[varname]\n",
    "        navlon=ds.nav_lon[imin:imax+1,jmin:jmax+1]\n",
    "        navlat=ds.nav_lat[imin:imax+1,jmin:jmax+1]\n",
    "        compute_spec_for_box(imin,imax,jmin,jmax,data,Mth,navlon,navlat,'box1')\n"
   ]
  },
  {
   "cell_type": "code",
   "execution_count": null,
   "metadata": {},
   "outputs": [],
   "source": [
    "# Folders containing U and V spectral\n",
    "u_database = '/scratch/cnt0024/hmg2840/albert7a/GS36-spec/GS36-MPC001-Uspec/'\n",
    "v_database = '/scratch/cnt0024/hmg2840/albert7a/GS36-spec/GS36-MPC001-Vspec/'"
   ]
  },
  {
   "cell_type": "code",
   "execution_count": null,
   "metadata": {},
   "outputs": [],
   "source": [
    "# Folders to contain computed KE spectral\n",
    "KEspecFolder = '/scratch/cnt0024/hmg2840/albert7a/GS36-spec/GS36-MPC001-KEspec/'"
   ]
  },
  {
   "cell_type": "code",
   "execution_count": null,
   "metadata": {},
   "outputs": [],
   "source": [
    "    u_filenames = sorted(glob.glob(u_database + 'WaveSpec_box1_Uspec_*.npz'))\n",
    "    v_filenames = sorted(glob.glob(v_database + 'WaveSpec_box1_Vspec_*.npz'))\n",
    "    for i in range(len(u_filenames)):\n",
    "        uspec = np.load(u_filenames[i])['pspec']\n",
    "        vspec = np.load(v_filenames[i])['pspec']\n",
    "        kspec = np.load(u_filenames[i])['kspec']\n",
    "        KEspec = 0.5*(uspec + vspec)\n",
    "        np.savez(KEspecFolder+'WaveSpec_box1_KEspec_'+YrMth[i]+'.npz',kspec = kspec,KEspec = KEspec)"
   ]
  },
  {
   "cell_type": "code",
   "execution_count": null,
   "metadata": {},
   "outputs": [],
   "source": [
    "# Some functions to make the plots\n",
    "\n",
    "def mean_pspec(filenames,i,j):\n",
    "    ''' Compute mean spectrum'''\n",
    "    _pspec = []\n",
    "    for filename in filenames:\n",
    "        spec = np.load(filename)\n",
    "        kspec = spec['kspec'];\n",
    "        pspec = spec['KEspec'];\n",
    "        _pspec.append(pspec) \n",
    "    pspec_ar = np.array(_pspec)\n",
    "    mean_pspec = pspec_ar[i:j].mean(axis=0)\n",
    "    return kspec,mean_pspec\n",
    "\n",
    "def comp_slope(database,i,j):\n",
    "    ''' Compute slope of avearged spectrum'''\n",
    "    slope_10_100 = []\n",
    "    slope_70_250 = []\n",
    "    for box in boxes:\n",
    "        filenames = sorted(glob.glob(database + 'KEspec/WaveSpec_'+box.name+'_KEspec_*.npz'))\n",
    "        kpsec,pspec = mean_pspec(filenames,i,j)\n",
    "        m1 = pp.get_slope(kpsec,pspec,10*1E3,100*1E3)\n",
    "        m2 = pp.get_slope(kpsec,pspec,70*1E3,250*1E3)\n",
    "        slope_10_100.append(m1)\n",
    "        slope_70_250.append(m2)\n",
    "    slope_10_100_arr = np.array(slope_10_100)\n",
    "    slope_70_250_arr = np.array(slope_70_250)\n",
    "    return slope_10_100_arr,slope_70_250_arr"
   ]
  },
  {
   "cell_type": "code",
   "execution_count": null,
   "metadata": {},
   "outputs": [],
   "source": [
    "# Final Plots\n",
    "\n",
    "fig, axs = plt.subplots(1,1, figsize=(18, 18))\n",
    "title = 'Annual Mean of KE spectrum : GS36-MPC001'\n",
    "plt.suptitle(title,size = 25,y=1.05)\n",
    "\n",
    "# - general slope\n",
    "k = np.array([1E-6,1E-3])\n",
    "s3 = k**-3/1.e11\n",
    "s2 = k**-2/1.e7\n",
    "s53 = k**(-5./3.)/1.e5\n",
    "\n",
    "GS36_filenames = sorted(glob.glob('/scratch/cnt0024/hmg2840/albert7a/GS36-spec/GS36-MPC001-KEspec/WaveSpec_box1_KEspec_*.npz'))\n",
    "GS36_kpsec,GS36_pspec = mean_pspec(GS36_filenames,0,12)\n",
    "axs[i].loglog(GS36_kpsec,GS36_pspec,'r',linewidth=2.0,label='GS36-MPC001')\n",
    "axs[i].loglog(k,s3,'k-',label=r'$k^{-3}$')\n",
    "axs[i].loglog(k,s2,'k-.',label=r'$k^{-2}$')\n",
    "axs[i].loglog(k,s53,'k--',label=r'$k^{-5/3}$')\n",
    "axs[i].set_xlim(1E-6,1E-3)\n",
    "axs[i].set_ylim(1E-4,1E5)\n",
    "axs[i].set_title('box 1',size=15)\n",
    "axs[i].legend()\n",
    "axs[i].grid(True)\n",
    "fig.tight_layout()"
   ]
  }
 ],
 "metadata": {
  "kernelspec": {
   "display_name": "Python 3",
   "language": "python",
   "name": "python3"
  },
  "language_info": {
   "codemirror_mode": {
    "name": "ipython",
    "version": 3
   },
   "file_extension": ".py",
   "mimetype": "text/x-python",
   "name": "python",
   "nbconvert_exporter": "python",
   "pygments_lexer": "ipython3",
   "version": "3.7.3"
  }
 },
 "nbformat": 4,
 "nbformat_minor": 2
}
