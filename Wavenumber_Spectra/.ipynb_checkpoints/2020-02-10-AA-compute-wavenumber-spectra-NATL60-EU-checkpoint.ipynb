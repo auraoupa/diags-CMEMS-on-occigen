{
 "cells": [
  {
   "cell_type": "code",
   "execution_count": 9,
   "metadata": {},
   "outputs": [
    {
     "data": {
      "application/javascript": [
       "IPython.notebook.set_autosave_interval(60000)"
      ]
     },
     "metadata": {},
     "output_type": "display_data"
    },
    {
     "name": "stdout",
     "output_type": "stream",
     "text": [
      "Autosaving every 60 seconds\n"
     ]
    }
   ],
   "source": [
    "import sys\n",
    "import xarray as xr\n",
    "import numpy as np\n",
    "import numpy.ma as ma\n",
    "import matplotlib.pyplot as plt\n",
    "import matplotlib.ticker as mticker\n",
    "import glob\n",
    "from netCDF4 import Dataset\n",
    "import cartopy.crs as ccrs\n",
    "import os\n",
    "\n",
    "import warnings\n",
    "warnings.filterwarnings('ignore')\n",
    "\n",
    "%matplotlib inline\n",
    "%autosave 60"
   ]
  },
  {
   "cell_type": "code",
   "execution_count": 2,
   "metadata": {},
   "outputs": [],
   "source": [
    "sys.path.insert(0,\"/scratch/cnt0024/hmg2840/albert7a/DEV/git/powerspec/powerspec\")\n",
    "import powerspec as pp"
   ]
  },
  {
   "cell_type": "code",
   "execution_count": 3,
   "metadata": {},
   "outputs": [],
   "source": [
    "sys.path.insert(0,\"/scratch/cnt0024/hmg2840/albert7a/DEV/git/diags-CMEMS-on-occigen/common-lib/\")\n",
    "import GriddedData\n",
    "import WavenumberSpectrum as ws\n"
   ]
  },
  {
   "cell_type": "code",
   "execution_count": 20,
   "metadata": {},
   "outputs": [],
   "source": [
    "# Some functions that allow us to compute spectra in boxes\n",
    "\n",
    "##########################################\n",
    "def get_values_in_box(imin,imax,jmin,jmax,data):\n",
    "    values = data[:,jmin:jmax+1,imin:imax+1]\n",
    "    values = ma.masked_invalid(values)\n",
    "    return values\n",
    "\n",
    "\n",
    "##########################################\n",
    "def compute_spec_for_box(imin,imax,jmin,jmax,data,Mth,navlon,navlat,name,WaveSpecResult,param):\n",
    "    var = get_values_in_box(imin,imax,jmin,jmax,data)\n",
    "    pspec,kspec = compute_spec(var,navlon,navlat)\n",
    "    np.savez(WaveSpecResult+'WaveSpec_'+name+'_'+param+'_'+Mth, kspec=kspec ,pspec=pspec)\n",
    "\n",
    "##########################################\n",
    "def compute_spec(data,navlon,navlat):\n",
    "    days = len(data)\n",
    "    mth_pspec = []\n",
    "    for it in np.arange(0,days):\n",
    "        arr = data[it]\n",
    "        datab = arr.squeeze()\n",
    "        pspec,kstep = pp.wavenumber_spectra(datab,navlon,navlat)\n",
    "        mth_pspec.append(pspec)\n",
    "    mthly_pspec = np.array(mth_pspec)\n",
    "    mean_mthly_pspec = mthly_pspec.mean(axis=0)\n",
    "    return kstep,mean_mthly_pspec"
   ]
  },
  {
   "cell_type": "code",
   "execution_count": 25,
   "metadata": {},
   "outputs": [],
   "source": [
    "def compute_uspec_gs(box):\n",
    "    \n",
    "    if box == 'box1':\n",
    "        imin=688\n",
    "        imax=1296\n",
    "        jmin=235\n",
    "        jmax=1004\n",
    "    if box == 'box2':\n",
    "        imin=1288\n",
    "        imax=1894\n",
    "        jmin=234\n",
    "        jmax=986\n",
    "    if box == 'box3':\n",
    "        imin=1888\n",
    "        imax=2491\n",
    "        jmin=232\n",
    "        jmax=971\n",
    "\n",
    "    param='Uspec'\n",
    "    varname = 'vozocrtx'\n",
    "    WaveSpecResult = '/scratch/cnt0024/hmg2840/albert7a/NATL60-spec/NATL60GS-'+str(param)+'/'\n",
    "    !mkdir -p $WaveSpecResult\n",
    "    YrMth  = ['2013m01','2013m02','2013m03','2013m04','2013m05','2013m06','2013m07','2013m08','2013m09','2012m10','2012m11','2012m12']\n",
    "\n",
    "    for ii in np.arange(12):\n",
    "        Mth = YrMth[ii]\n",
    "        if not os.path.exists(WaveSpecResult+'WaveSpec_'+str(box)+'_'+param+'_'+Mth+'.npz'):\n",
    "            print(WaveSpecResult+'WaveSpec_'+str(box)+'_'+param+'_'+Mth+'.npz')\n",
    "            filename='/scratch/cnt0024/hmg2840/albert7a/NATL60/NATL60-CJM165-S/1d/GS/NATL60GS-CJM165_y'+str(YrMth[ii])+'d??.1d_gridUsurf.nc'\n",
    "            ds = xr.open_mfdataset(filename,chunks={'x':500,'y':500,'time_counter':1})\n",
    "            data = ds[varname]\n",
    "            if len(ds.nav_lon.dims) == 3:\n",
    "                navlon=ds.nav_lon[0,imin:imax+1,jmin:jmax+1]\n",
    "                navlat=ds.nav_lat[0,imin:imax+1,jmin:jmax+1]\n",
    "            if len(ds.nav_lon.dims) == 2:\n",
    "                navlon=ds.nav_lon[imin:imax+1,jmin:jmax+1]\n",
    "                navlat=ds.nav_lat[imin:imax+1,jmin:jmax+1]\n",
    "                \n",
    "            compute_spec_for_box(imin,imax,jmin,jmax,data,Mth,navlon,navlat,box,WaveSpecResult,param)\n"
   ]
  },
  {
   "cell_type": "code",
   "execution_count": 26,
   "metadata": {},
   "outputs": [],
   "source": [
    "def compute_vspec_gs(box):\n",
    "    \n",
    "    if box == 'box1':\n",
    "        imin=688\n",
    "        imax=1296\n",
    "        jmin=235\n",
    "        jmax=1004\n",
    "    if box == 'box2':\n",
    "        imin=1288\n",
    "        imax=1894\n",
    "        jmin=234\n",
    "        jmax=986\n",
    "    if box == 'box3':\n",
    "        imin=1888\n",
    "        imax=2491\n",
    "        jmin=232\n",
    "        jmax=971\n",
    "\n",
    "    param='Vspec'\n",
    "    varname = 'vomecrty'\n",
    "    WaveSpecResult = '/scratch/cnt0024/hmg2840/albert7a/NATL60-spec/NATL60GS-'+str(param)+'/'\n",
    "    !mkdir -p $WaveSpecResult\n",
    "    YrMth  = ['2013m01','2013m02','2013m03','2013m04','2013m05','2013m06','2013m07','2013m08','2013m09','2012m10','2012m11','2012m12']\n",
    "\n",
    "    for ii in np.arange(12):\n",
    "        Mth = YrMth[ii]\n",
    "        if not os.path.exists(WaveSpecResult+'WaveSpec_'+str(box)+'_'+param+'_'+Mth+'.npz'):\n",
    "            print(WaveSpecResult+'WaveSpec_'+str(box)+'_'+param+'_'+Mth+'.npz')\n",
    "            filename='/scratch/cnt0024/hmg2840/albert7a/NATL60/NATL60-CJM165-S/1d/GS/NATL60GS-CJM165_y'+str(YrMth[ii])+'d??.1d_gridVsurf.nc'\n",
    "            ds = xr.open_mfdataset(filename,chunks={'x':500,'y':500,'time_counter':1})\n",
    "            data = ds[varname]\n",
    "            if len(ds.nav_lon.dims) == 3:\n",
    "                navlon=ds.nav_lon[0,imin:imax+1,jmin:jmax+1]\n",
    "                navlat=ds.nav_lat[0,imin:imax+1,jmin:jmax+1]\n",
    "            if len(ds.nav_lon.dims) == 2:\n",
    "                navlon=ds.nav_lon[imin:imax+1,jmin:jmax+1]\n",
    "                navlat=ds.nav_lat[imin:imax+1,jmin:jmax+1]\n",
    "            compute_spec_for_box(imin,imax,jmin,jmax,data,Mth,navlon,navlat,box,WaveSpecResult,param)\n"
   ]
  },
  {
   "cell_type": "code",
   "execution_count": null,
   "metadata": {},
   "outputs": [
    {
     "name": "stdout",
     "output_type": "stream",
     "text": [
      "/scratch/cnt0024/hmg2840/albert7a/NATL60-spec/NATL60GS-Uspec/WaveSpec_box1_Uspec_2013m02.npz\n"
     ]
    }
   ],
   "source": [
    "compute_uspec_gs('box1')\n",
    "compute_vspec_gs('box1')\n"
   ]
  },
  {
   "cell_type": "code",
   "execution_count": null,
   "metadata": {},
   "outputs": [],
   "source": [
    "def compute_kespec(box):\n",
    "    YrMth  = ['2013m01','2013m02','2013m03','2013m04','2013m05','2013m06','2013m07','2013m08','2013m09','2012m10','2012m11','2012m12']\n",
    "    # Folders containing U and V spectral\n",
    "    u_database = '/scratch/cnt0024/hmg2840/albert7a/NATL60-spec/NATL60GS-Uspec/'\n",
    "    v_database = '/scratch/cnt0024/hmg2840/albert7a/NATL60-spec/NATL60GS-Vspec/'    # Folders to contain computed KE spectral\n",
    "    KEspecFolder = '/scratch/cnt0024/hmg2840/albert7a/NATL60-spec/NATL60GS-KEspec/'    \n",
    "    !mkdir -p $KEspecFolder\n",
    "    u_filenames = sorted(glob.glob(u_database + 'WaveSpec_'+str(box)+'_Uspec_*.npz'))\n",
    "    v_filenames = sorted(glob.glob(v_database + 'WaveSpec_'+str(box)+'_Vspec_*.npz'))\n",
    "    for i in range(len(u_filenames)):\n",
    "        if not os.path.exists(KEspecFolder+'WaveSpec_'+str(box)+'_KEspec_'+YrMth[i]+'.npz'):\n",
    "            uspec = np.load(u_filenames[i])['pspec']\n",
    "            vspec = np.load(v_filenames[i])['pspec']\n",
    "            kspec = np.load(u_filenames[i])['kspec']\n",
    "            KEspec = 0.5*(uspec + vspec)\n",
    "            print(KEspecFolder+'WaveSpec_'+str(box)+'_KEspec_'+YrMth[i]+'.npz')\n",
    "            np.savez(KEspecFolder+'WaveSpec_'+str(box)+'_KEspec_'+YrMth[i]+'.npz',kspec = kspec,KEspec = KEspec)"
   ]
  },
  {
   "cell_type": "code",
   "execution_count": null,
   "metadata": {},
   "outputs": [],
   "source": [
    "compute_kespec('box1')"
   ]
  }
 ],
 "metadata": {
  "kernelspec": {
   "display_name": "Python 3",
   "language": "python",
   "name": "python3"
  },
  "language_info": {
   "codemirror_mode": {
    "name": "ipython",
    "version": 3
   },
   "file_extension": ".py",
   "mimetype": "text/x-python",
   "name": "python",
   "nbconvert_exporter": "python",
   "pygments_lexer": "ipython3",
   "version": "3.7.3"
  }
 },
 "nbformat": 4,
 "nbformat_minor": 2
}
