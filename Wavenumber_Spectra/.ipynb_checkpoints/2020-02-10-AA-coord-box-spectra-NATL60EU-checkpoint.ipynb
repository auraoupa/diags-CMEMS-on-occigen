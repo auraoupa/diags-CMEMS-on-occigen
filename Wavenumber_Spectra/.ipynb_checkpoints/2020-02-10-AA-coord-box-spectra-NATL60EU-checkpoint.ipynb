{
 "cells": [
  {
   "cell_type": "code",
   "execution_count": 1,
   "metadata": {},
   "outputs": [
    {
     "name": "stderr",
     "output_type": "stream",
     "text": [
      "/scratch/cnt0024/hmg2840/albert7a/anaconda3/lib/python3.7/site-packages/dask/config.py:168: YAMLLoadWarning: calling yaml.load() without Loader=... is deprecated, as the default Loader is unsafe. Please read https://msg.pyyaml.org/load for full details.\n",
      "  data = yaml.load(f.read()) or {}\n"
     ]
    },
    {
     "data": {
      "application/javascript": [
       "IPython.notebook.set_autosave_interval(60000)"
      ]
     },
     "metadata": {},
     "output_type": "display_data"
    },
    {
     "name": "stdout",
     "output_type": "stream",
     "text": [
      "Autosaving every 60 seconds\n"
     ]
    }
   ],
   "source": [
    "import sys\n",
    "import xarray as xr\n",
    "import numpy as np\n",
    "import numpy.ma as ma\n",
    "import matplotlib.pyplot as plt\n",
    "import matplotlib.ticker as mticker\n",
    "import glob\n",
    "from netCDF4 import Dataset\n",
    "import cartopy.crs as ccrs\n",
    "\n",
    "import warnings\n",
    "warnings.filterwarnings('ignore')\n",
    "\n",
    "%matplotlib inline\n",
    "%autosave 60"
   ]
  },
  {
   "cell_type": "code",
   "execution_count": 2,
   "metadata": {},
   "outputs": [
    {
     "name": "stdout",
     "output_type": "stream",
     "text": [
      "GS box1  688 1296 235 1004\n",
      "GS box2  1288 1894 234 986\n",
      "GS box3  1888 2491 232 971\n",
      "EU box1  3982 4284 588 967\n",
      "EU box2  3973 4278 963 1371\n",
      "EU box3  3956 4266 1362 1801\n",
      "EU box4  3892 4205 2239 2744\n"
     ]
    }
   ],
   "source": [
    "gridfile='/store/molines/NATL60/NATL60-I/NATL60_coordinates_v4.nc'\n",
    "ds=xr.open_dataset(gridfile,chunks={'x':500,'y':500})\n",
    "\n",
    "nav_lon=ds.nav_lon\n",
    "nav_lat=ds.nav_lat\n",
    "\n",
    "lonmin=-70\n",
    "lonmax=-60\n",
    "latmin=30\n",
    "latmax=40\n",
    "\n",
    "domain = (lonmin<nav_lon) * (nav_lon<lonmax) * (latmin<nav_lat) * (nav_lat<latmax)\n",
    "where = np.where(domain)\n",
    "\n",
    "jmin = np.min(where[0])\n",
    "jmax = np.max(where[0])\n",
    "imin = np.min(where[1])\n",
    "imax = np.max(where[1])\n",
    "\n",
    "print('GS box1 ',imin,imax,jmin,jmax)\n",
    "\n",
    "lonmin=-60\n",
    "lonmax=-50\n",
    "latmin=30\n",
    "latmax=40\n",
    "\n",
    "domain = (lonmin<nav_lon) * (nav_lon<lonmax) * (latmin<nav_lat) * (nav_lat<latmax)\n",
    "where = np.where(domain)\n",
    "\n",
    "jmin = np.min(where[0])\n",
    "jmax = np.max(where[0])\n",
    "imin = np.min(where[1])\n",
    "imax = np.max(where[1])\n",
    "\n",
    "print('GS box2 ',imin,imax,jmin,jmax)\n",
    "\n",
    "lonmin=-50\n",
    "lonmax=-40\n",
    "latmin=30\n",
    "latmax=40\n",
    "\n",
    "domain = (lonmin<nav_lon) * (nav_lon<lonmax) * (latmin<nav_lat) * (nav_lat<latmax)\n",
    "where = np.where(domain)\n",
    "\n",
    "jmin = np.min(where[0])\n",
    "jmax = np.max(where[0])\n",
    "imin = np.min(where[1])\n",
    "imax = np.max(where[1])\n",
    "\n",
    "print('GS box3 ',imin,imax,jmin,jmax)\n",
    "\n",
    "lonmin=-15\n",
    "lonmax=-10\n",
    "latmin=35\n",
    "latmax=40\n",
    "\n",
    "domain = (lonmin<nav_lon) * (nav_lon<lonmax) * (latmin<nav_lat) * (nav_lat<latmax)\n",
    "where = np.where(domain)\n",
    "\n",
    "jmin = np.min(where[0])\n",
    "jmax = np.max(where[0])\n",
    "imin = np.min(where[1])\n",
    "imax = np.max(where[1])\n",
    "\n",
    "print('EU box1 ',imin,imax,jmin,jmax)\n",
    "\n",
    "lonmin=-15\n",
    "lonmax=-10\n",
    "latmin=40\n",
    "latmax=45\n",
    "\n",
    "domain = (lonmin<nav_lon) * (nav_lon<lonmax) * (latmin<nav_lat) * (nav_lat<latmax)\n",
    "where = np.where(domain)\n",
    "\n",
    "jmin = np.min(where[0])\n",
    "jmax = np.max(where[0])\n",
    "imin = np.min(where[1])\n",
    "imax = np.max(where[1])\n",
    "\n",
    "print('EU box2 ',imin,imax,jmin,jmax)\n",
    "\n",
    "lonmin=-15\n",
    "lonmax=-10\n",
    "latmin=45\n",
    "latmax=50\n",
    "\n",
    "domain = (lonmin<nav_lon) * (nav_lon<lonmax) * (latmin<nav_lat) * (nav_lat<latmax)\n",
    "where = np.where(domain)\n",
    "\n",
    "jmin = np.min(where[0])\n",
    "jmax = np.max(where[0])\n",
    "imin = np.min(where[1])\n",
    "imax = np.max(where[1])\n",
    "\n",
    "print('EU box3 ',imin,imax,jmin,jmax)\n",
    "\n",
    "lonmin=-15\n",
    "lonmax=-10\n",
    "latmin=55\n",
    "latmax=60\n",
    "\n",
    "domain = (lonmin<nav_lon) * (nav_lon<lonmax) * (latmin<nav_lat) * (nav_lat<latmax)\n",
    "where = np.where(domain)\n",
    "\n",
    "jmin = np.min(where[0])\n",
    "jmax = np.max(where[0])\n",
    "imin = np.min(where[1])\n",
    "imax = np.max(where[1])\n",
    "\n",
    "print('EU box4 ',imin,imax,jmin,jmax)\n"
   ]
  }
 ],
 "metadata": {
  "kernelspec": {
   "display_name": "Python 3",
   "language": "python",
   "name": "python3"
  },
  "language_info": {
   "codemirror_mode": {
    "name": "ipython",
    "version": 3
   },
   "file_extension": ".py",
   "mimetype": "text/x-python",
   "name": "python",
   "nbconvert_exporter": "python",
   "pygments_lexer": "ipython3",
   "version": "3.7.3"
  }
 },
 "nbformat": 4,
 "nbformat_minor": 2
}
