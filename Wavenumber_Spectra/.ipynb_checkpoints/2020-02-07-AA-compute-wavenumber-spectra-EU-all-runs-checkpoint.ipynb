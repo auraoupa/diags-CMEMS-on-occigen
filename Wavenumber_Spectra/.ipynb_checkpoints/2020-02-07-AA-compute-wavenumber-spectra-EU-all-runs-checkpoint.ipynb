{
 "cells": [
  {
   "cell_type": "markdown",
   "metadata": {},
   "source": [
    "## 3 boites en GS :\n",
    "\n",
    "  - box1 : 376 740 124 585\n",
    "  - box2 : 736 1099 123 574\n",
    "  - box3 : 1096 1457 122 565"
   ]
  },
  {
   "cell_type": "code",
   "execution_count": 1,
   "metadata": {},
   "outputs": [
    {
     "name": "stderr",
     "output_type": "stream",
     "text": [
      "/scratch/cnt0024/hmg2840/albert7a/anaconda3/lib/python3.7/site-packages/dask/config.py:168: YAMLLoadWarning: calling yaml.load() without Loader=... is deprecated, as the default Loader is unsafe. Please read https://msg.pyyaml.org/load for full details.\n",
      "  data = yaml.load(f.read()) or {}\n"
     ]
    },
    {
     "data": {
      "application/javascript": [
       "IPython.notebook.set_autosave_interval(60000)"
      ]
     },
     "metadata": {},
     "output_type": "display_data"
    },
    {
     "name": "stdout",
     "output_type": "stream",
     "text": [
      "Autosaving every 60 seconds\n"
     ]
    }
   ],
   "source": [
    "import sys\n",
    "import xarray as xr\n",
    "import numpy as np\n",
    "import numpy.ma as ma\n",
    "import matplotlib.pyplot as plt\n",
    "import matplotlib.ticker as mticker\n",
    "import glob\n",
    "from netCDF4 import Dataset\n",
    "import cartopy.crs as ccrs\n",
    "import os\n",
    "\n",
    "import warnings\n",
    "warnings.filterwarnings('ignore')\n",
    "\n",
    "%matplotlib inline\n",
    "%autosave 60"
   ]
  },
  {
   "cell_type": "code",
   "execution_count": 2,
   "metadata": {},
   "outputs": [],
   "source": [
    "sys.path.insert(0,\"/scratch/cnt0024/hmg2840/albert7a/DEV/git/powerspec/powerspec\")\n",
    "import powerspec as pp"
   ]
  },
  {
   "cell_type": "code",
   "execution_count": 3,
   "metadata": {},
   "outputs": [],
   "source": [
    "sys.path.insert(0,\"/scratch/cnt0024/hmg2840/albert7a/DEV/git/diags-CMEMS-on-occigen/common-lib/\")\n",
    "import GriddedData\n",
    "import WavenumberSpectrum as ws\n"
   ]
  },
  {
   "cell_type": "code",
   "execution_count": 4,
   "metadata": {},
   "outputs": [],
   "source": [
    "# Some functions that allow us to compute spectra in boxes\n",
    "\n",
    "##########################################\n",
    "def get_values_in_box(imin,imax,jmin,jmax,data):\n",
    "    values = data[:,0,jmin:jmax+1,imin:imax+1]\n",
    "    values = ma.masked_invalid(values)\n",
    "    return values\n",
    "\n",
    "\n",
    "##########################################\n",
    "def compute_spec_for_box(imin,imax,jmin,jmax,data,Mth,navlon,navlat,name):\n",
    "    var = get_values_in_box(imin,imax,jmin,jmax,data)\n",
    "    pspec,kspec = compute_spec(var,navlon,navlat)\n",
    "    np.savez(WaveSpecResult+'WaveSpec_'+name+'_'+param+'_'+Mth, kspec=kspec ,pspec=pspec)\n",
    "\n",
    "##########################################\n",
    "def compute_spec(data,navlon,navlat):\n",
    "    days = len(data)\n",
    "    mth_pspec = []\n",
    "    for it in np.arange(0,days):\n",
    "        arr = data[it]\n",
    "        datab = arr.squeeze()\n",
    "        pspec,kstep = pp.wavenumber_spectra(datab,navlon,navlat)\n",
    "        mth_pspec.append(pspec)\n",
    "    mthly_pspec = np.array(mth_pspec)\n",
    "    mean_mthly_pspec = mthly_pspec.mean(axis=0)\n",
    "    return kstep,mean_mthly_pspec"
   ]
  },
  {
   "cell_type": "code",
   "execution_count": 12,
   "metadata": {},
   "outputs": [],
   "source": [
    "def compute_uspec(case,box):\n",
    "    \n",
    "    if box == 'box1':\n",
    "        imin=376\n",
    "        imax=740\n",
    "        jmin=124\n",
    "        jmax=585\n",
    "    if box == 'box2':\n",
    "        imin=736\n",
    "        imax=1099\n",
    "        jmin=123\n",
    "        jmax=574\n",
    "    if box == 'box3':\n",
    "        imin=1096\n",
    "        imax=1457\n",
    "        jmin=122\n",
    "        jmax=565\n",
    "\n",
    "    param='Uspec'\n",
    "    varname = 'vozocrtx'\n",
    "    WaveSpecResult = '/scratch/cnt0024/hmg2840/albert7a/GS36-spec/GS36-'+str(case)+'-'+str(param)+'/'\n",
    "    !mkdir -p $WaveSpecResult\n",
    "    YrMth  = ['2012m01','2012m02','2012m03','2012m04','2012m05','2012m06','2012m07','2012m08','2012m09','2012m10','2012m11','2012m12']\n",
    "\n",
    "    for ii in np.arange(12):\n",
    "        Mth = YrMth[ii]\n",
    "        if not os.path.exists(WaveSpecResult+'WaveSpec_'+str(box)+'_'+param+'_'+Mth+'.npz'):\n",
    "            print(WaveSpecResult+'WaveSpec_'+str(box)+'_'+param+'_'+Mth+'.npz')\n",
    "            filename='/store/colombo/GS36/GS36-'+str(case)+'-S/1d/2012/GS36-'+str(case)+'_y'+str(YrMth[ii])+'d??.1d_gridU.nc'\n",
    "            ds = xr.open_mfdataset(filename,chunks={'x':500,'y':500,'time_counter':1})\n",
    "            data = ds[varname]\n",
    "            navlon=ds.nav_lon[imin:imax+1,jmin:jmax+1]\n",
    "            navlat=ds.nav_lat[imin:imax+1,jmin:jmax+1]\n",
    "            compute_spec_for_box(imin,imax,jmin,jmax,data,Mth,navlon,navlat,box)\n"
   ]
  },
  {
   "cell_type": "code",
   "execution_count": 13,
   "metadata": {},
   "outputs": [],
   "source": [
    "def compute_vspec(case,box):\n",
    "    \n",
    "    if box == 'box1':\n",
    "        imin=376\n",
    "        imax=740\n",
    "        jmin=124\n",
    "        jmax=585\n",
    "    if box == 'box2':\n",
    "        imin=736\n",
    "        imax=1099\n",
    "        jmin=123\n",
    "        jmax=574\n",
    "    if box == 'box3':\n",
    "        imin=1096\n",
    "        imax=1457\n",
    "        jmin=122\n",
    "        jmax=565\n",
    "\n",
    "    param='Vspec'\n",
    "    varname = 'vomecrty'\n",
    "    WaveSpecResult = '/scratch/cnt0024/hmg2840/albert7a/GS36-spec/GS36-'+str(case)+'-'+str(param)+'/'\n",
    "    !mkdir -p $WaveSpecResult\n",
    "    YrMth  = ['2012m01','2012m02','2012m03','2012m04','2012m05','2012m06','2012m07','2012m08','2012m09','2012m10','2012m11','2012m12']\n",
    "\n",
    "    for ii in np.arange(12):\n",
    "        Mth = YrMth[ii]\n",
    "        if not os.path.exists(WaveSpecResult+'WaveSpec_'+str(box)+'_'+param+'_'+Mth+'.npz'):\n",
    "            print(WaveSpecResult+'WaveSpec_'+str(box)+'_'+param+'_'+Mth+'.npz')\n",
    "            filename='/store/colombo/GS36/GS36-'+str(case)+'-S/1d/2012/GS36-'+str(case)+'_y'+str(YrMth[ii])+'d??.1d_gridV.nc'\n",
    "            ds = xr.open_mfdataset(filename,chunks={'x':500,'y':500,'time_counter':1})\n",
    "            data = ds[varname]\n",
    "            navlon=ds.nav_lon[imin:imax+1,jmin:jmax+1]\n",
    "            navlat=ds.nav_lat[imin:imax+1,jmin:jmax+1]\n",
    "            compute_spec_for_box(imin,imax,jmin,jmax,data,Mth,navlon,navlat,box)\n"
   ]
  },
  {
   "cell_type": "code",
   "execution_count": 14,
   "metadata": {},
   "outputs": [],
   "source": [
    "def compute_kespec(case,box):\n",
    "    # Folders containing U and V spectral\n",
    "    u_database = '/scratch/cnt0024/hmg2840/albert7a/GS36-spec/GS36-'+str(case)+'-Uspec/'\n",
    "    v_database = '/scratch/cnt0024/hmg2840/albert7a/GS36-spec/GS36-'+str(case)+'-Vspec/'\n",
    "    # Folders to contain computed KE spectral\n",
    "    KEspecFolder = '/scratch/cnt0024/hmg2840/albert7a/GS36-spec/GS36-'+str(case)+'-KEspec/'\n",
    "    !mkdir -p $KEspecFolder\n",
    "    u_filenames = sorted(glob.glob(u_database + 'WaveSpec_'+str(box)+'_Uspec_*.npz'))\n",
    "    v_filenames = sorted(glob.glob(v_database + 'WaveSpec_'+str(box)+'_Vspec_*.npz'))\n",
    "    for i in range(len(u_filenames)):\n",
    "        uspec = np.load(u_filenames[i])['pspec']\n",
    "        vspec = np.load(v_filenames[i])['pspec']\n",
    "        kspec = np.load(u_filenames[i])['kspec']\n",
    "        KEspec = 0.5*(uspec + vspec)\n",
    "        print(KEspecFolder+'WaveSpec_'+str(box)+'_KEspec_'+YrMth[i]+'.npz')\n",
    "        np.savez(KEspecFolder+'WaveSpec_'+str(box)+'_KEspec_'+YrMth[i]+'.npz',kspec = kspec,KEspec = KEspec)"
   ]
  },
  {
   "cell_type": "code",
   "execution_count": null,
   "metadata": {},
   "outputs": [
    {
     "name": "stdout",
     "output_type": "stream",
     "text": [
      "/scratch/cnt0024/hmg2840/albert7a/GS36-spec/GS36-MPC002-Uspec/WaveSpec_box1_Uspec_2012m01.npz\n"
     ]
    }
   ],
   "source": [
    "case='MPC002'\n",
    "compute_uspec(case,'box1')\n",
    "compute_uspec(case,'box1')\n",
    "compute_kespec(case,'box1')\n"
   ]
  },
  {
   "cell_type": "code",
   "execution_count": null,
   "metadata": {},
   "outputs": [],
   "source": []
  }
 ],
 "metadata": {
  "kernelspec": {
   "display_name": "Python 3",
   "language": "python",
   "name": "python3"
  },
  "language_info": {
   "codemirror_mode": {
    "name": "ipython",
    "version": 3
   },
   "file_extension": ".py",
   "mimetype": "text/x-python",
   "name": "python",
   "nbconvert_exporter": "python",
   "pygments_lexer": "ipython3",
   "version": "3.7.3"
  }
 },
 "nbformat": 4,
 "nbformat_minor": 2
}
