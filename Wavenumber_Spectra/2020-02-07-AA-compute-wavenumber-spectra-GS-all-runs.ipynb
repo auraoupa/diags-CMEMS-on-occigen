{
 "cells": [
  {
   "cell_type": "markdown",
   "metadata": {},
   "source": [
    "## 3 boites en GS :\n",
    "\n",
    "  - box1 : 376 740 124 585\n",
    "  - box2 : 736 1099 123 574\n",
    "  - box3 : 1096 1457 122 565"
   ]
  },
  {
   "cell_type": "code",
   "execution_count": 14,
   "metadata": {},
   "outputs": [
    {
     "data": {
      "application/javascript": [
       "IPython.notebook.set_autosave_interval(60000)"
      ]
     },
     "metadata": {},
     "output_type": "display_data"
    },
    {
     "name": "stdout",
     "output_type": "stream",
     "text": [
      "Autosaving every 60 seconds\n"
     ]
    }
   ],
   "source": [
    "import sys\n",
    "import xarray as xr\n",
    "import numpy as np\n",
    "import numpy.ma as ma\n",
    "import matplotlib.pyplot as plt\n",
    "import matplotlib.ticker as mticker\n",
    "import glob\n",
    "from netCDF4 import Dataset\n",
    "import cartopy.crs as ccrs\n",
    "import os\n",
    "import glob\n",
    "\n",
    "import warnings\n",
    "warnings.filterwarnings('ignore')\n",
    "\n",
    "%matplotlib inline\n",
    "%autosave 60"
   ]
  },
  {
   "cell_type": "code",
   "execution_count": 15,
   "metadata": {},
   "outputs": [],
   "source": [
    "sys.path.insert(0,\"/scratch/cnt0024/hmg2840/albert7a/DEV/git/powerspec/powerspec\")\n",
    "import powerspec as pp"
   ]
  },
  {
   "cell_type": "code",
   "execution_count": 16,
   "metadata": {},
   "outputs": [],
   "source": [
    "sys.path.insert(0,\"/scratch/cnt0024/hmg2840/albert7a/DEV/git/diags-CMEMS-on-occigen/common-lib/\")\n",
    "import GriddedData\n",
    "import WavenumberSpectrum as ws\n"
   ]
  },
  {
   "cell_type": "code",
   "execution_count": 17,
   "metadata": {},
   "outputs": [],
   "source": [
    "# Some functions that allow us to compute spectra in boxes\n",
    "\n",
    "##########################################\n",
    "def get_values_in_box(imin,imax,jmin,jmax,data):\n",
    "    values = data[:,0,jmin:jmax+1,imin:imax+1]\n",
    "    values = ma.masked_invalid(values)\n",
    "    return values\n",
    "\n",
    "\n",
    "##########################################\n",
    "def compute_spec_for_box(imin,imax,jmin,jmax,data,Mth,navlon,navlat,name,WaveSpecResult,param):\n",
    "    var = get_values_in_box(imin,imax,jmin,jmax,data)\n",
    "    pspec,kspec = compute_spec(var,navlon,navlat)\n",
    "    np.savez(WaveSpecResult+'WaveSpec_'+name+'_'+param+'_'+Mth, kspec=kspec ,pspec=pspec)\n",
    "\n",
    "##########################################\n",
    "def compute_spec(data,navlon,navlat):\n",
    "    days = len(data)\n",
    "    mth_pspec = []\n",
    "    for it in np.arange(0,days):\n",
    "        arr = data[it]\n",
    "        datab = arr.squeeze()\n",
    "        pspec,kstep = pp.wavenumber_spectra(datab,navlon,navlat)\n",
    "        mth_pspec.append(pspec)\n",
    "    mthly_pspec = np.array(mth_pspec)\n",
    "    mean_mthly_pspec = mthly_pspec.mean(axis=0)\n",
    "    return kstep,mean_mthly_pspec"
   ]
  },
  {
   "cell_type": "code",
   "execution_count": 18,
   "metadata": {},
   "outputs": [],
   "source": [
    "def compute_uspec(case,box):\n",
    "    \n",
    "    if box == 'box1':\n",
    "        imin=376\n",
    "        imax=740\n",
    "        jmin=124\n",
    "        jmax=585\n",
    "    if box == 'box2':\n",
    "        imin=736\n",
    "        imax=1099\n",
    "        jmin=123\n",
    "        jmax=574\n",
    "    if box == 'box3':\n",
    "        imin=1096\n",
    "        imax=1457\n",
    "        jmin=122\n",
    "        jmax=565\n",
    "\n",
    "    param='Uspec'\n",
    "    varname = 'vozocrtx'\n",
    "    WaveSpecResult = '/scratch/cnt0024/hmg2840/albert7a/GS36-spec/GS36-'+str(case)+'-'+str(param)+'/'\n",
    "    !mkdir -p $WaveSpecResult\n",
    "    YrMth  = ['2012m01','2012m02','2012m03','2012m04','2012m05','2012m06','2012m07','2012m08','2012m09','2012m10','2012m11','2012m12']\n",
    "\n",
    "    for ii in np.arange(12):\n",
    "        Mth = YrMth[ii]\n",
    "        if not os.path.exists(WaveSpecResult+'WaveSpec_'+str(box)+'_'+param+'_'+Mth+'.npz'):\n",
    "            print(WaveSpecResult+'WaveSpec_'+str(box)+'_'+param+'_'+Mth+'.npz')\n",
    "            filename='/store/colombo/GS36/GS36-'+str(case)+'-S/1d/2012/GS36-'+str(case)+'_y'+str(YrMth[ii])+'d??.1d_gridU.nc'\n",
    "            ds = xr.open_mfdataset(filename,chunks={'x':500,'y':500,'time_counter':1})\n",
    "            data = ds[varname]\n",
    "            navlon=ds.nav_lon[imin:imax+1,jmin:jmax+1]\n",
    "            navlat=ds.nav_lat[imin:imax+1,jmin:jmax+1]\n",
    "            compute_spec_for_box(imin,imax,jmin,jmax,data,Mth,navlon,navlat,box,WaveSpecResult,param)\n"
   ]
  },
  {
   "cell_type": "code",
   "execution_count": 19,
   "metadata": {},
   "outputs": [],
   "source": [
    "def compute_vspec(case,box):\n",
    "    \n",
    "    if box == 'box1':\n",
    "        imin=376\n",
    "        imax=740\n",
    "        jmin=124\n",
    "        jmax=585\n",
    "    if box == 'box2':\n",
    "        imin=736\n",
    "        imax=1099\n",
    "        jmin=123\n",
    "        jmax=574\n",
    "    if box == 'box3':\n",
    "        imin=1096\n",
    "        imax=1457\n",
    "        jmin=122\n",
    "        jmax=565\n",
    "\n",
    "    param='Vspec'\n",
    "    varname = 'vomecrty'\n",
    "    WaveSpecResult = '/scratch/cnt0024/hmg2840/albert7a/GS36-spec/GS36-'+str(case)+'-'+str(param)+'/'\n",
    "    !mkdir -p $WaveSpecResult\n",
    "    YrMth  = ['2012m01','2012m02','2012m03','2012m04','2012m05','2012m06','2012m07','2012m08','2012m09','2012m10','2012m11','2012m12']\n",
    "\n",
    "    for ii in np.arange(12):\n",
    "        Mth = YrMth[ii]\n",
    "        if not os.path.exists(WaveSpecResult+'WaveSpec_'+str(box)+'_'+param+'_'+Mth+'.npz'):\n",
    "            print(WaveSpecResult+'WaveSpec_'+str(box)+'_'+param+'_'+Mth+'.npz')\n",
    "            filename='/store/colombo/GS36/GS36-'+str(case)+'-S/1d/2012/GS36-'+str(case)+'_y'+str(YrMth[ii])+'d??.1d_gridV.nc'\n",
    "            ds = xr.open_mfdataset(filename,chunks={'x':500,'y':500,'time_counter':1})\n",
    "            data = ds[varname]\n",
    "            navlon=ds.nav_lon[imin:imax+1,jmin:jmax+1]\n",
    "            navlat=ds.nav_lat[imin:imax+1,jmin:jmax+1]\n",
    "            compute_spec_for_box(imin,imax,jmin,jmax,data,Mth,navlon,navlat,box,WaveSpecResult,param)\n"
   ]
  },
  {
   "cell_type": "code",
   "execution_count": 20,
   "metadata": {},
   "outputs": [],
   "source": [
    "def compute_kespec(case,box):\n",
    "    YrMth  = ['2012m01','2012m02','2012m03','2012m04','2012m05','2012m06','2012m07','2012m08','2012m09','2012m10','2012m11','2012m12']\n",
    "    # Folders containing U and V spectral\n",
    "    u_database = '/scratch/cnt0024/hmg2840/albert7a/GS36-spec/GS36-'+str(case)+'-Uspec/'\n",
    "    v_database = '/scratch/cnt0024/hmg2840/albert7a/GS36-spec/GS36-'+str(case)+'-Vspec/'\n",
    "    # Folders to contain computed KE spectral\n",
    "    KEspecFolder = '/scratch/cnt0024/hmg2840/albert7a/GS36-spec/GS36-'+str(case)+'-KEspec/'\n",
    "    !mkdir -p $KEspecFolder\n",
    "    u_filenames = sorted(glob.glob(u_database + 'WaveSpec_'+str(box)+'_Uspec_*.npz'))\n",
    "    v_filenames = sorted(glob.glob(v_database + 'WaveSpec_'+str(box)+'_Vspec_*.npz'))\n",
    "    for i in range(len(u_filenames)):\n",
    "        if not os.path.exists(KEspecFolder+'WaveSpec_'+str(box)+'_KEspec_'+YrMth[i]+'.npz'):\n",
    "            uspec = np.load(u_filenames[i])['pspec']\n",
    "            vspec = np.load(v_filenames[i])['pspec']\n",
    "            kspec = np.load(u_filenames[i])['kspec']\n",
    "            KEspec = 0.5*(uspec + vspec)\n",
    "            print(KEspecFolder+'WaveSpec_'+str(box)+'_KEspec_'+YrMth[i]+'.npz')\n",
    "            np.savez(KEspecFolder+'WaveSpec_'+str(box)+'_KEspec_'+YrMth[i]+'.npz',kspec = kspec,KEspec = KEspec)"
   ]
  },
  {
   "cell_type": "code",
   "execution_count": 21,
   "metadata": {},
   "outputs": [],
   "source": [
    "def check_size(case,box):\n",
    "    print(case)\n",
    "    YrMth  = ['2012m01','2012m02','2012m03','2012m04','2012m05','2012m06','2012m07','2012m08','2012m09','2012m10','2012m11','2012m12']\n",
    "    # Folders containing U and V spectral\n",
    "    u_database = '/scratch/cnt0024/hmg2840/albert7a/GS36-spec/GS36-'+str(case)+'-Uspec/'\n",
    "    v_database = '/scratch/cnt0024/hmg2840/albert7a/GS36-spec/GS36-'+str(case)+'-Vspec/'\n",
    "    # Folders to contain computed KE spectral\n",
    "    KEspecFolder = '/scratch/cnt0024/hmg2840/albert7a/GS36-spec/GS36-'+str(case)+'-KEspec/'\n",
    "    !mkdir -p $KEspecFolder\n",
    "    u_filenames = sorted(glob.glob(u_database + 'WaveSpec_'+str(box)+'_Uspec_*.npz'))\n",
    "    v_filenames = sorted(glob.glob(v_database + 'WaveSpec_'+str(box)+'_Vspec_*.npz'))\n",
    "    for i in range(len(u_filenames)):\n",
    "        print(YrMth[i])\n",
    "        uspec = np.load(u_filenames[i])['pspec']\n",
    "        print('size uspec = ',uspec.shape)\n",
    "        vspec = np.load(v_filenames[i])['pspec']\n",
    "        print('size vspec = ',vspec.shape)\n"
   ]
  },
  {
   "cell_type": "code",
   "execution_count": 22,
   "metadata": {},
   "outputs": [],
   "source": [
    "for case in ['MPC001','MPC002','MPC003']:\n",
    "    compute_uspec(case,'box1')\n",
    "    compute_vspec(case,'box1')\n",
    "    compute_kespec(case,'box1')\n"
   ]
  },
  {
   "cell_type": "code",
   "execution_count": 23,
   "metadata": {},
   "outputs": [
    {
     "name": "stdout",
     "output_type": "stream",
     "text": [
      "MPC001\n",
      "2012m01\n",
      "size uspec =  (202,)\n",
      "size vspec =  (203,)\n",
      "2012m02\n",
      "size uspec =  (202,)\n",
      "size vspec =  (203,)\n",
      "2012m03\n",
      "size uspec =  (202,)\n",
      "size vspec =  (203,)\n",
      "2012m04\n",
      "size uspec =  (202,)\n",
      "size vspec =  (203,)\n",
      "2012m05\n",
      "size uspec =  (202,)\n",
      "size vspec =  (203,)\n",
      "2012m06\n",
      "size uspec =  (202,)\n",
      "size vspec =  (203,)\n",
      "2012m07\n",
      "size uspec =  (202,)\n",
      "size vspec =  (203,)\n",
      "2012m08\n",
      "size uspec =  (202,)\n",
      "size vspec =  (203,)\n",
      "2012m09\n",
      "size uspec =  (202,)\n",
      "size vspec =  (203,)\n",
      "2012m10\n",
      "size uspec =  (202,)\n",
      "size vspec =  (203,)\n",
      "2012m11\n",
      "size uspec =  (202,)\n",
      "size vspec =  (203,)\n",
      "MPC002\n",
      "MPC003\n"
     ]
    }
   ],
   "source": [
    "for case in ['MPC001','MPC002','MPC003']:\n",
    "    check_size(case,'box2')\n"
   ]
  },
  {
   "cell_type": "code",
   "execution_count": 24,
   "metadata": {},
   "outputs": [
    {
     "name": "stdout",
     "output_type": "stream",
     "text": [
      "/scratch/cnt0024/hmg2840/albert7a/GS36-spec/GS36-MPC001-Uspec/WaveSpec_box2_Uspec_2012m01.npz\n",
      "/scratch/cnt0024/hmg2840/albert7a/GS36-spec/GS36-MPC001-Vspec/WaveSpec_box2_Vspec_2012m01.npz\n"
     ]
    },
    {
     "ename": "ValueError",
     "evalue": "operands could not be broadcast together with shapes (202,) (203,) ",
     "output_type": "error",
     "traceback": [
      "\u001b[0;31m---------------------------------------------------------------------------\u001b[0m",
      "\u001b[0;31mValueError\u001b[0m                                Traceback (most recent call last)",
      "\u001b[0;32m<ipython-input-24-3a0739f785f8>\u001b[0m in \u001b[0;36m<module>\u001b[0;34m\u001b[0m\n\u001b[1;32m      2\u001b[0m     \u001b[0mcompute_uspec\u001b[0m\u001b[0;34m(\u001b[0m\u001b[0mcase\u001b[0m\u001b[0;34m,\u001b[0m\u001b[0;34m'box2'\u001b[0m\u001b[0;34m)\u001b[0m\u001b[0;34m\u001b[0m\u001b[0;34m\u001b[0m\u001b[0m\n\u001b[1;32m      3\u001b[0m     \u001b[0mcompute_vspec\u001b[0m\u001b[0;34m(\u001b[0m\u001b[0mcase\u001b[0m\u001b[0;34m,\u001b[0m\u001b[0;34m'box2'\u001b[0m\u001b[0;34m)\u001b[0m\u001b[0;34m\u001b[0m\u001b[0;34m\u001b[0m\u001b[0m\n\u001b[0;32m----> 4\u001b[0;31m     \u001b[0mcompute_kespec\u001b[0m\u001b[0;34m(\u001b[0m\u001b[0mcase\u001b[0m\u001b[0;34m,\u001b[0m\u001b[0;34m'box2'\u001b[0m\u001b[0;34m)\u001b[0m\u001b[0;34m\u001b[0m\u001b[0;34m\u001b[0m\u001b[0m\n\u001b[0m",
      "\u001b[0;32m<ipython-input-20-5f05146cf5f2>\u001b[0m in \u001b[0;36mcompute_kespec\u001b[0;34m(case, box)\u001b[0m\n\u001b[1;32m     14\u001b[0m             \u001b[0mvspec\u001b[0m \u001b[0;34m=\u001b[0m \u001b[0mnp\u001b[0m\u001b[0;34m.\u001b[0m\u001b[0mload\u001b[0m\u001b[0;34m(\u001b[0m\u001b[0mv_filenames\u001b[0m\u001b[0;34m[\u001b[0m\u001b[0mi\u001b[0m\u001b[0;34m]\u001b[0m\u001b[0;34m)\u001b[0m\u001b[0;34m[\u001b[0m\u001b[0;34m'pspec'\u001b[0m\u001b[0;34m]\u001b[0m\u001b[0;34m\u001b[0m\u001b[0;34m\u001b[0m\u001b[0m\n\u001b[1;32m     15\u001b[0m             \u001b[0mkspec\u001b[0m \u001b[0;34m=\u001b[0m \u001b[0mnp\u001b[0m\u001b[0;34m.\u001b[0m\u001b[0mload\u001b[0m\u001b[0;34m(\u001b[0m\u001b[0mu_filenames\u001b[0m\u001b[0;34m[\u001b[0m\u001b[0mi\u001b[0m\u001b[0;34m]\u001b[0m\u001b[0;34m)\u001b[0m\u001b[0;34m[\u001b[0m\u001b[0;34m'kspec'\u001b[0m\u001b[0;34m]\u001b[0m\u001b[0;34m\u001b[0m\u001b[0;34m\u001b[0m\u001b[0m\n\u001b[0;32m---> 16\u001b[0;31m             \u001b[0mKEspec\u001b[0m \u001b[0;34m=\u001b[0m \u001b[0;36m0.5\u001b[0m\u001b[0;34m*\u001b[0m\u001b[0;34m(\u001b[0m\u001b[0muspec\u001b[0m \u001b[0;34m+\u001b[0m \u001b[0mvspec\u001b[0m\u001b[0;34m)\u001b[0m\u001b[0;34m\u001b[0m\u001b[0;34m\u001b[0m\u001b[0m\n\u001b[0m\u001b[1;32m     17\u001b[0m             \u001b[0mprint\u001b[0m\u001b[0;34m(\u001b[0m\u001b[0mKEspecFolder\u001b[0m\u001b[0;34m+\u001b[0m\u001b[0;34m'WaveSpec_'\u001b[0m\u001b[0;34m+\u001b[0m\u001b[0mstr\u001b[0m\u001b[0;34m(\u001b[0m\u001b[0mbox\u001b[0m\u001b[0;34m)\u001b[0m\u001b[0;34m+\u001b[0m\u001b[0;34m'_KEspec_'\u001b[0m\u001b[0;34m+\u001b[0m\u001b[0mYrMth\u001b[0m\u001b[0;34m[\u001b[0m\u001b[0mi\u001b[0m\u001b[0;34m]\u001b[0m\u001b[0;34m+\u001b[0m\u001b[0;34m'.npz'\u001b[0m\u001b[0;34m)\u001b[0m\u001b[0;34m\u001b[0m\u001b[0;34m\u001b[0m\u001b[0m\n\u001b[1;32m     18\u001b[0m             \u001b[0mnp\u001b[0m\u001b[0;34m.\u001b[0m\u001b[0msavez\u001b[0m\u001b[0;34m(\u001b[0m\u001b[0mKEspecFolder\u001b[0m\u001b[0;34m+\u001b[0m\u001b[0;34m'WaveSpec_'\u001b[0m\u001b[0;34m+\u001b[0m\u001b[0mstr\u001b[0m\u001b[0;34m(\u001b[0m\u001b[0mbox\u001b[0m\u001b[0;34m)\u001b[0m\u001b[0;34m+\u001b[0m\u001b[0;34m'_KEspec_'\u001b[0m\u001b[0;34m+\u001b[0m\u001b[0mYrMth\u001b[0m\u001b[0;34m[\u001b[0m\u001b[0mi\u001b[0m\u001b[0;34m]\u001b[0m\u001b[0;34m+\u001b[0m\u001b[0;34m'.npz'\u001b[0m\u001b[0;34m,\u001b[0m\u001b[0mkspec\u001b[0m \u001b[0;34m=\u001b[0m \u001b[0mkspec\u001b[0m\u001b[0;34m,\u001b[0m\u001b[0mKEspec\u001b[0m \u001b[0;34m=\u001b[0m \u001b[0mKEspec\u001b[0m\u001b[0;34m)\u001b[0m\u001b[0;34m\u001b[0m\u001b[0;34m\u001b[0m\u001b[0m\n",
      "\u001b[0;31mValueError\u001b[0m: operands could not be broadcast together with shapes (202,) (203,) "
     ]
    }
   ],
   "source": [
    "for case in ['MPC001','MPC002','MPC003']:\n",
    "    compute_uspec(case,'box2')\n",
    "    compute_vspec(case,'box2')\n",
    "    compute_kespec(case,'box2')\n"
   ]
  },
  {
   "cell_type": "code",
   "execution_count": null,
   "metadata": {},
   "outputs": [],
   "source": [
    "for case in ['MPC001','MPC002','MPC003']:\n",
    "    compute_uspec(case,'box3')\n",
    "    compute_vspec(case,'box3')\n",
    "    compute_kespec(case,'box3')\n"
   ]
  }
 ],
 "metadata": {
  "kernelspec": {
   "display_name": "Python 3",
   "language": "python",
   "name": "python3"
  },
  "language_info": {
   "codemirror_mode": {
    "name": "ipython",
    "version": 3
   },
   "file_extension": ".py",
   "mimetype": "text/x-python",
   "name": "python",
   "nbconvert_exporter": "python",
   "pygments_lexer": "ipython3",
   "version": "3.7.3"
  }
 },
 "nbformat": 4,
 "nbformat_minor": 2
}
