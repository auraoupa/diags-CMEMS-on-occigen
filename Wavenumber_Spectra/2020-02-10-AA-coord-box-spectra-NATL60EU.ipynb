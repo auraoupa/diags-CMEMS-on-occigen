{
 "cells": [
  {
   "cell_type": "code",
   "execution_count": 3,
   "metadata": {},
   "outputs": [
    {
     "data": {
      "application/javascript": [
       "IPython.notebook.set_autosave_interval(60000)"
      ]
     },
     "metadata": {},
     "output_type": "display_data"
    },
    {
     "name": "stdout",
     "output_type": "stream",
     "text": [
      "Autosaving every 60 seconds\n"
     ]
    }
   ],
   "source": [
    "import sys\n",
    "import xarray as xr\n",
    "import numpy as np\n",
    "import numpy.ma as ma\n",
    "import matplotlib.pyplot as plt\n",
    "import matplotlib.ticker as mticker\n",
    "import glob\n",
    "from netCDF4 import Dataset\n",
    "import cartopy.crs as ccrs\n",
    "\n",
    "import warnings\n",
    "warnings.filterwarnings('ignore')\n",
    "\n",
    "%matplotlib inline\n",
    "%autosave 60"
   ]
  },
  {
   "cell_type": "code",
   "execution_count": 4,
   "metadata": {},
   "outputs": [
    {
     "name": "stdout",
     "output_type": "stream",
     "text": [
      "EU box1  125 427 165 544\n",
      "EU box2  116 421 540 948\n",
      "EU box3  99 409 939 1378\n",
      "EU box4  35 348 1816 2321\n"
     ]
    }
   ],
   "source": [
    "gridfile='/scratch/cnt0024/hmg2840/albert7a/NATL60/NATL60-CJM165-S/1d/EU/NATL60EU-CJM165_y2013m10d01.1d_gridT.nc'\n",
    "ds=xr.open_dataset(gridfile,chunks={'x':500,'y':500})\n",
    "\n",
    "nav_lon=ds.nav_lon\n",
    "nav_lat=ds.nav_lat\n",
    "\n",
    "\n",
    "lonmin=-15\n",
    "lonmax=-10\n",
    "latmin=35\n",
    "latmax=40\n",
    "\n",
    "domain = (lonmin<nav_lon) * (nav_lon<lonmax) * (latmin<nav_lat) * (nav_lat<latmax)\n",
    "where = np.where(domain)\n",
    "\n",
    "jmin = np.min(where[0])\n",
    "jmax = np.max(where[0])\n",
    "imin = np.min(where[1])\n",
    "imax = np.max(where[1])\n",
    "\n",
    "print('EU box1 ',imin,imax,jmin,jmax)\n",
    "\n",
    "lonmin=-15\n",
    "lonmax=-10\n",
    "latmin=40\n",
    "latmax=45\n",
    "\n",
    "domain = (lonmin<nav_lon) * (nav_lon<lonmax) * (latmin<nav_lat) * (nav_lat<latmax)\n",
    "where = np.where(domain)\n",
    "\n",
    "jmin = np.min(where[0])\n",
    "jmax = np.max(where[0])\n",
    "imin = np.min(where[1])\n",
    "imax = np.max(where[1])\n",
    "\n",
    "print('EU box2 ',imin,imax,jmin,jmax)\n",
    "\n",
    "lonmin=-15\n",
    "lonmax=-10\n",
    "latmin=45\n",
    "latmax=50\n",
    "\n",
    "domain = (lonmin<nav_lon) * (nav_lon<lonmax) * (latmin<nav_lat) * (nav_lat<latmax)\n",
    "where = np.where(domain)\n",
    "\n",
    "jmin = np.min(where[0])\n",
    "jmax = np.max(where[0])\n",
    "imin = np.min(where[1])\n",
    "imax = np.max(where[1])\n",
    "\n",
    "print('EU box3 ',imin,imax,jmin,jmax)\n",
    "\n",
    "lonmin=-15\n",
    "lonmax=-10\n",
    "latmin=55\n",
    "latmax=60\n",
    "\n",
    "domain = (lonmin<nav_lon) * (nav_lon<lonmax) * (latmin<nav_lat) * (nav_lat<latmax)\n",
    "where = np.where(domain)\n",
    "\n",
    "jmin = np.min(where[0])\n",
    "jmax = np.max(where[0])\n",
    "imin = np.min(where[1])\n",
    "imax = np.max(where[1])\n",
    "\n",
    "print('EU box4 ',imin,imax,jmin,jmax)\n"
   ]
  },
  {
   "cell_type": "code",
   "execution_count": null,
   "metadata": {},
   "outputs": [],
   "source": []
  }
 ],
 "metadata": {
  "kernelspec": {
   "display_name": "Python 3",
   "language": "python",
   "name": "python3"
  },
  "language_info": {
   "codemirror_mode": {
    "name": "ipython",
    "version": 3
   },
   "file_extension": ".py",
   "mimetype": "text/x-python",
   "name": "python",
   "nbconvert_exporter": "python",
   "pygments_lexer": "ipython3",
   "version": "3.7.3"
  }
 },
 "nbformat": 4,
 "nbformat_minor": 2
}
